{
  "nbformat": 4,
  "nbformat_minor": 0,
  "metadata": {
    "colab": {
      "name": "Kaggle_data_importig_directly_Classification_NN_for_jigsaw_toxitic_classification.ipynb",
      "version": "0.3.2",
      "provenance": [],
      "collapsed_sections": []
    },
    "kernelspec": {
      "name": "python3",
      "display_name": "Python 3"
    }
  },
  "cells": [
    {
      "cell_type": "markdown",
      "metadata": {
        "id": "QHFXJsIPyOqR",
        "colab_type": "text"
      },
      "source": [
        "Can you help detect toxic comments ― and minimize unintended model bias? That's your challenge in this competition.\n",
        "\n",
        "The Conversation AI team, a research initiative founded by Jigsaw and Google (both part of Alphabet), builds technology to protect voices in conversation. A main area of focus is machine learning models that can identify toxicity in online conversations, where toxicity is defined as anything rude, disrespectful or otherwise likely to make someone leave a discussion.\n",
        "\n",
        "Last year, in the Toxic Comment Classification Challenge, you built multi-headed models to recognize toxicity and several subtypes of toxicity. This year's competition is a related challenge: building toxicity models that operate fairly across a diverse range of conversations.\n",
        "\n",
        "Here’s the background: When the Conversation AI team first built toxicity models, they found that the models incorrectly learned to associate the names of frequently attacked identities with toxicity. Models predicted a high likelihood of toxicity for comments containing those identities (e.g. \"gay\"), even when those comments were not actually toxic (such as \"I am a gay woman\"). This happens because training data was pulled from available sources where unfortunately, certain identities are overwhelmingly referred to in offensive ways. Training a model from data with these imbalances risks simply mirroring those biases back to users.\n",
        "\n",
        "In this competition, you're challenged to build a model that recognizes toxicity and minimizes this type of unintended bias with respect to mentions of identities. You'll be using a dataset labeled for identity mentions and optimizing a metric designed to measure unintended bias. Develop strategies to reduce unintended bias in machine learning models, and you'll help the Conversation AI team, and the entire industry, build models that work well for a wide range of conversations.\n",
        "\n",
        "Disclaimer: The dataset for this competition contains text that may be considered profane, vulgar, or offensive.\n",
        "\n",
        "Acknowledgments\n",
        "The Conversation AI team would like to thank Civil Comments for making this dataset available publicly and the Online Hate Index Research Project at D-Lab, University of California, Berkeley, whose labeling survey/instrument informed the dataset labeling. We'd also like to thank everyone who has contributed to Conversation AI's research, especially those who took part in our last competition, the success of which led to the creation of this challenge.\n",
        "\n",
        "This is a Kernels-only competition. Refer to Kernels Requirements for details.\n"
      ]
    },
    {
      "cell_type": "code",
      "metadata": {
        "id": "rEQSnYAJcrGJ",
        "colab_type": "code",
        "outputId": "bcf00d68-0292-4f51-b09c-86386d876a75",
        "colab": {
          "base_uri": "https://localhost:8080/",
          "height": 34
        }
      },
      "source": [
        "import numpy as np # linear algebra\n",
        "import pandas as pd # data processing, CSV file I/O (e.g. pd.read_csv)\n",
        "from sklearn.preprocessing import StandardScaler # Used for scaling of data\n",
        "from sklearn.model_selection import train_test_split\n",
        "from keras.models import Sequential\n",
        "from keras.layers import Dense, Dropout\n",
        "from keras import metrics\n",
        "from sklearn import preprocessing\n",
        "import seaborn as sns\n",
        "import matplotlib.pyplot as plt\n",
        "from keras import backend as K\n",
        "from keras.wrappers.scikit_learn import KerasRegressor\n",
        "from sklearn.metrics import mean_squared_error\n",
        "from math import sqrt\n"
      ],
      "execution_count": 0,
      "outputs": [
        {
          "output_type": "stream",
          "text": [
            "Using TensorFlow backend.\n"
          ],
          "name": "stderr"
        }
      ]
    },
    {
      "cell_type": "code",
      "metadata": {
        "id": "5CZPubKCnKJP",
        "colab_type": "code",
        "colab": {}
      },
      "source": [
        "#!pip install kaggle --upgrade"
      ],
      "execution_count": 0,
      "outputs": []
    },
    {
      "cell_type": "code",
      "metadata": {
        "id": "0wR2P6G2nvVg",
        "colab_type": "code",
        "colab": {}
      },
      "source": [
        "#!pip install -U -q kaggle\n",
        "#!mkdir -p ~/.kaggle"
      ],
      "execution_count": 0,
      "outputs": []
    },
    {
      "cell_type": "code",
      "metadata": {
        "id": "KOFKOYqFoqF2",
        "colab_type": "code",
        "colab": {}
      },
      "source": [
        "!pip install -U -q kaggle"
      ],
      "execution_count": 0,
      "outputs": []
    },
    {
      "cell_type": "code",
      "metadata": {
        "id": "c6pji2LfYIqL",
        "colab_type": "code",
        "outputId": "e20832ef-c2d3-42eb-b5ea-e1dabfa37e0b",
        "colab": {
          "base_uri": "https://localhost:8080/",
          "height": 363
        }
      },
      "source": [
        "from google.colab import files\n",
        "files.upload()"
      ],
      "execution_count": 0,
      "outputs": [
        {
          "output_type": "display_data",
          "data": {
            "text/html": [
              "\n",
              "     <input type=\"file\" id=\"files-6533c95c-9bad-4779-bfa4-6ee17c2aabc6\" name=\"files[]\" multiple disabled />\n",
              "     <output id=\"result-6533c95c-9bad-4779-bfa4-6ee17c2aabc6\">\n",
              "      Upload widget is only available when the cell has been executed in the\n",
              "      current browser session. Please rerun this cell to enable.\n",
              "      </output>\n",
              "      <script src=\"/nbextensions/google.colab/files.js\"></script> "
            ],
            "text/plain": [
              "<IPython.core.display.HTML object>"
            ]
          },
          "metadata": {
            "tags": []
          }
        },
        {
          "output_type": "error",
          "ename": "MessageError",
          "evalue": "ignored",
          "traceback": [
            "\u001b[0;31m---------------------------------------------------------------------------\u001b[0m",
            "\u001b[0;31mMessageError\u001b[0m                              Traceback (most recent call last)",
            "\u001b[0;32m<ipython-input-4-5c2e8a8d365b>\u001b[0m in \u001b[0;36m<module>\u001b[0;34m()\u001b[0m\n\u001b[1;32m      1\u001b[0m \u001b[0;32mfrom\u001b[0m \u001b[0mgoogle\u001b[0m\u001b[0;34m.\u001b[0m\u001b[0mcolab\u001b[0m \u001b[0;32mimport\u001b[0m \u001b[0mfiles\u001b[0m\u001b[0;34m\u001b[0m\u001b[0;34m\u001b[0m\u001b[0m\n\u001b[0;32m----> 2\u001b[0;31m \u001b[0mfiles\u001b[0m\u001b[0;34m.\u001b[0m\u001b[0mupload\u001b[0m\u001b[0;34m(\u001b[0m\u001b[0;34m)\u001b[0m\u001b[0;34m\u001b[0m\u001b[0;34m\u001b[0m\u001b[0m\n\u001b[0m",
            "\u001b[0;32m/usr/local/lib/python3.6/dist-packages/google/colab/files.py\u001b[0m in \u001b[0;36mupload\u001b[0;34m()\u001b[0m\n\u001b[1;32m     62\u001b[0m   result = _output.eval_js(\n\u001b[1;32m     63\u001b[0m       'google.colab._files._uploadFiles(\"{input_id}\", \"{output_id}\")'.format(\n\u001b[0;32m---> 64\u001b[0;31m           input_id=input_id, output_id=output_id))\n\u001b[0m\u001b[1;32m     65\u001b[0m   \u001b[0mfiles\u001b[0m \u001b[0;34m=\u001b[0m \u001b[0m_collections\u001b[0m\u001b[0;34m.\u001b[0m\u001b[0mdefaultdict\u001b[0m\u001b[0;34m(\u001b[0m\u001b[0m_six\u001b[0m\u001b[0;34m.\u001b[0m\u001b[0mbinary_type\u001b[0m\u001b[0;34m)\u001b[0m\u001b[0;34m\u001b[0m\u001b[0;34m\u001b[0m\u001b[0m\n\u001b[1;32m     66\u001b[0m   \u001b[0;31m# Mapping from original filename to filename as saved locally.\u001b[0m\u001b[0;34m\u001b[0m\u001b[0;34m\u001b[0m\u001b[0;34m\u001b[0m\u001b[0m\n",
            "\u001b[0;32m/usr/local/lib/python3.6/dist-packages/google/colab/output/_js.py\u001b[0m in \u001b[0;36meval_js\u001b[0;34m(script, ignore_result)\u001b[0m\n\u001b[1;32m     37\u001b[0m   \u001b[0;32mif\u001b[0m \u001b[0mignore_result\u001b[0m\u001b[0;34m:\u001b[0m\u001b[0;34m\u001b[0m\u001b[0;34m\u001b[0m\u001b[0m\n\u001b[1;32m     38\u001b[0m     \u001b[0;32mreturn\u001b[0m\u001b[0;34m\u001b[0m\u001b[0;34m\u001b[0m\u001b[0m\n\u001b[0;32m---> 39\u001b[0;31m   \u001b[0;32mreturn\u001b[0m \u001b[0m_message\u001b[0m\u001b[0;34m.\u001b[0m\u001b[0mread_reply_from_input\u001b[0m\u001b[0;34m(\u001b[0m\u001b[0mrequest_id\u001b[0m\u001b[0;34m)\u001b[0m\u001b[0;34m\u001b[0m\u001b[0;34m\u001b[0m\u001b[0m\n\u001b[0m\u001b[1;32m     40\u001b[0m \u001b[0;34m\u001b[0m\u001b[0m\n\u001b[1;32m     41\u001b[0m \u001b[0;34m\u001b[0m\u001b[0m\n",
            "\u001b[0;32m/usr/local/lib/python3.6/dist-packages/google/colab/_message.py\u001b[0m in \u001b[0;36mread_reply_from_input\u001b[0;34m(message_id, timeout_sec)\u001b[0m\n\u001b[1;32m    104\u001b[0m         reply.get('colab_msg_id') == message_id):\n\u001b[1;32m    105\u001b[0m       \u001b[0;32mif\u001b[0m \u001b[0;34m'error'\u001b[0m \u001b[0;32min\u001b[0m \u001b[0mreply\u001b[0m\u001b[0;34m:\u001b[0m\u001b[0;34m\u001b[0m\u001b[0;34m\u001b[0m\u001b[0m\n\u001b[0;32m--> 106\u001b[0;31m         \u001b[0;32mraise\u001b[0m \u001b[0mMessageError\u001b[0m\u001b[0;34m(\u001b[0m\u001b[0mreply\u001b[0m\u001b[0;34m[\u001b[0m\u001b[0;34m'error'\u001b[0m\u001b[0;34m]\u001b[0m\u001b[0;34m)\u001b[0m\u001b[0;34m\u001b[0m\u001b[0;34m\u001b[0m\u001b[0m\n\u001b[0m\u001b[1;32m    107\u001b[0m       \u001b[0;32mreturn\u001b[0m \u001b[0mreply\u001b[0m\u001b[0;34m.\u001b[0m\u001b[0mget\u001b[0m\u001b[0;34m(\u001b[0m\u001b[0;34m'data'\u001b[0m\u001b[0;34m,\u001b[0m \u001b[0;32mNone\u001b[0m\u001b[0;34m)\u001b[0m\u001b[0;34m\u001b[0m\u001b[0;34m\u001b[0m\u001b[0m\n\u001b[1;32m    108\u001b[0m \u001b[0;34m\u001b[0m\u001b[0m\n",
            "\u001b[0;31mMessageError\u001b[0m: TypeError: Cannot read property '_uploadFiles' of undefined"
          ]
        }
      ]
    },
    {
      "cell_type": "code",
      "metadata": {
        "id": "fLVl-3c2o4L_",
        "colab_type": "code",
        "colab": {}
      },
      "source": [
        "!cp kaggle.json ~/.kaggle/"
      ],
      "execution_count": 0,
      "outputs": []
    },
    {
      "cell_type": "code",
      "metadata": {
        "id": "Um5IfEMnZFFD",
        "colab_type": "code",
        "colab": {}
      },
      "source": [
        "!chmod 600 /root/.kaggle/kaggle.json"
      ],
      "execution_count": 0,
      "outputs": []
    },
    {
      "cell_type": "code",
      "metadata": {
        "id": "b07rHg0xZAAM",
        "colab_type": "code",
        "outputId": "23b542c0-aeda-4f68-cb7c-616a77acfd84",
        "colab": {
          "base_uri": "https://localhost:8080/",
          "height": 411
        }
      },
      "source": [
        "!kaggle datasets list"
      ],
      "execution_count": 0,
      "outputs": [
        {
          "output_type": "stream",
          "text": [
            "ref                                                     title                                              size  lastUpdated          downloadCount  \n",
            "------------------------------------------------------  ------------------------------------------------  -----  -------------------  -------------  \n",
            "himanshupoddar/zomato-bangalore-restaurants             Zomato Bangalore Restaurants                       88MB  2019-03-31 09:48:43           4383  \n",
            "thegurus/spanish-high-speed-rail-system-ticket-pricing  Spanish High Speed Rail tickets pricing - Renfe    27MB  2019-05-10 06:50:30           1119  \n",
            "crisparada/brazilian-cities                             Brazilian Cities                                  935KB  2019-05-24 20:49:21           1777  \n",
            "chicago/chicago-copa-cases                              Chicago COPA Cases                                  3MB  2019-04-05 00:00:32           1765  \n",
            "taniaj/australian-election-2019-tweets                  Australian Election 2019 Tweets                    29MB  2019-05-21 09:41:38            743  \n",
            "PromptCloudHQ/world-happiness-report-2019               World Happiness Report 2019                         4KB  2019-03-20 09:39:07           4481  \n",
            "brittabettendorf/berlin-airbnb-data                     Berlin Airbnb Data                                 89MB  2019-03-05 09:23:00           1475  \n",
            "romainpessia/artificial-lunar-rocky-landscape-dataset   Artificial Lunar Landscape Dataset                  5GB  2019-06-12 05:59:07            384  \n",
            "snocco/missing-migrants-project                         Missing Migrants Project                          253KB  2019-04-07 16:57:48            624  \n",
            "alvarob96/spanish-stocks-historical-data                Spanish Stocks Historical Data from 2000 to 2019    1MB  2019-06-07 16:08:00            395  \n",
            "se18m502/bee-hive-metrics                               Beehive Metrics                                    30MB  2019-05-31 12:25:25            619  \n",
            "austinreese/craigslist-carstrucks-data                  Craigslist Cars+Trucks Data                       349MB  2019-06-09 17:34:57           1078  \n",
            "cityofLA/los-angeles-traffic-collision-data             Los Angeles Traffic Collision Data                 23MB  2019-06-21 22:42:51           1514  \n",
            "gqfiddler/scotus-opinions                               SCOTUS Opinions                                   216MB  2018-11-05 22:20:10            273  \n",
            "jlesuffleur/granddebat                                  Le Grand Débat National                           388MB  2019-03-28 21:20:52            128  \n",
            "mfekadu/darpa-timit-acousticphonetic-continuous-speech  DARPA TIMIT Acoustic-Phonetic Continuous Speech   826MB  2019-06-05 02:01:06            104  \n",
            "robseidl/tennis-atp-tour-australian-open-final-2019     Tennis ATP Tour Australian Open Final 2019         27KB  2019-03-02 20:52:43            591  \n",
            "leomauro/smmnet                                         SMMnet                                            105MB  2019-05-13 17:26:55            186  \n",
            "sfinspiredu/synchrotron-data-set                        Synchrotron Data Set                               10KB  2019-05-27 19:54:29            387  \n",
            "inIT-OWL/versatileproductionsystem                      Versatile Production System                       398KB  2018-09-12 13:32:32            357  \n"
          ],
          "name": "stdout"
        }
      ]
    },
    {
      "cell_type": "code",
      "metadata": {
        "id": "op9r_7ulpoRW",
        "colab_type": "code",
        "outputId": "b8f38056-4536-41ed-f4a9-2602d4da9d91",
        "colab": {
          "base_uri": "https://localhost:8080/",
          "height": 153
        }
      },
      "source": [
        "\n",
        "!kaggle competitions download -c jigsaw-unintended-bias-in-toxicity-classification"
      ],
      "execution_count": 0,
      "outputs": [
        {
          "output_type": "stream",
          "text": [
            "Traceback (most recent call last):\n",
            "  File \"/usr/local/bin/kaggle\", line 6, in <module>\n",
            "    from kaggle.cli import main\n",
            "  File \"/usr/local/lib/python2.7/dist-packages/kaggle/__init__.py\", line 23, in <module>\n",
            "    api.authenticate()\n",
            "  File \"/usr/local/lib/python2.7/dist-packages/kaggle/api/kaggle_api_extended.py\", line 146, in authenticate\n",
            "    self.config_file, self.config_dir))\n",
            "IOError: Could not find kaggle.json. Make sure it's located in /root/.kaggle. Or use the environment method.\n"
          ],
          "name": "stdout"
        }
      ]
    },
    {
      "cell_type": "code",
      "metadata": {
        "id": "kPR_xVRXpt5J",
        "colab_type": "code",
        "outputId": "761327f6-9ebd-4509-b020-3b6a555afa9b",
        "colab": {
          "base_uri": "https://localhost:8080/",
          "height": 51
        }
      },
      "source": [
        "!ls"
      ],
      "execution_count": 0,
      "outputs": [
        {
          "output_type": "stream",
          "text": [
            "kaggle.json  sample_submission.csv.zip\ttrain.csv.zip\n",
            "sample_data  test.csv.zip\n"
          ],
          "name": "stdout"
        }
      ]
    },
    {
      "cell_type": "code",
      "metadata": {
        "id": "87GFr-Nvp72q",
        "colab_type": "code",
        "colab": {}
      },
      "source": [
        "\n",
        "\n",
        "\n",
        "\n",
        "\n",
        "\n",
        "\n",
        "\n",
        "\n",
        "\n",
        "\n",
        "\n",
        "\n",
        "import pandas as pd\n",
        "#submisson = pd.read_csv('/content/sample_submission.csv.zip', compression='zip', header=0, sep=',', quotechar='\"')\n"
      ],
      "execution_count": 0,
      "outputs": []
    },
    {
      "cell_type": "code",
      "metadata": {
        "id": "2Hn8opqop7qg",
        "colab_type": "code",
        "colab": {}
      },
      "source": [
        "import pandas as pd\n",
        "#train = pd.read_csv('/content/train.csv.zip', compression='zip', header=0, sep=',', quotechar='\"')\n"
      ],
      "execution_count": 0,
      "outputs": []
    },
    {
      "cell_type": "code",
      "metadata": {
        "id": "-yqjtzhap7kM",
        "colab_type": "code",
        "colab": {}
      },
      "source": [
        "import pandas as pd\n",
        "#test = pd.read_csv('/content/test.csv.zip', compression='zip', header=0, sep=',', quotechar='\"')\n"
      ],
      "execution_count": 0,
      "outputs": []
    },
    {
      "cell_type": "code",
      "metadata": {
        "id": "UwDBXkBgqble",
        "colab_type": "code",
        "colab": {}
      },
      "source": [
        "#test.head()"
      ],
      "execution_count": 0,
      "outputs": []
    },
    {
      "cell_type": "code",
      "metadata": {
        "id": "YDeUp678qvs7",
        "colab_type": "code",
        "colab": {}
      },
      "source": [
        "#train.head()"
      ],
      "execution_count": 0,
      "outputs": []
    },
    {
      "cell_type": "code",
      "metadata": {
        "id": "3vNegpjyq1t2",
        "colab_type": "code",
        "colab": {}
      },
      "source": [
        "#type(test)"
      ],
      "execution_count": 0,
      "outputs": []
    },
    {
      "cell_type": "code",
      "metadata": {
        "id": "MQHWMKIvq5cA",
        "colab_type": "code",
        "colab": {}
      },
      "source": [
        "#type(train)"
      ],
      "execution_count": 0,
      "outputs": []
    },
    {
      "cell_type": "code",
      "metadata": {
        "id": "LeQ00KArmmKo",
        "colab_type": "code",
        "colab": {}
      },
      "source": [
        "#data_train.info()"
      ],
      "execution_count": 0,
      "outputs": []
    },
    {
      "cell_type": "code",
      "metadata": {
        "id": "ibs0ozT8qPx5",
        "colab_type": "code",
        "outputId": "c6ab6e37-9cf5-4ee1-fac5-37d1c59a91b9",
        "colab": {
          "base_uri": "https://localhost:8080/",
          "height": 462
        }
      },
      "source": [
        "\n"
      ],
      "execution_count": 0,
      "outputs": [
        {
          "output_type": "execute_result",
          "data": {
            "text/html": [
              "<div>\n",
              "<style scoped>\n",
              "    .dataframe tbody tr th:only-of-type {\n",
              "        vertical-align: middle;\n",
              "    }\n",
              "\n",
              "    .dataframe tbody tr th {\n",
              "        vertical-align: top;\n",
              "    }\n",
              "\n",
              "    .dataframe thead th {\n",
              "        text-align: right;\n",
              "    }\n",
              "</style>\n",
              "<table border=\"1\" class=\"dataframe\">\n",
              "  <thead>\n",
              "    <tr style=\"text-align: right;\">\n",
              "      <th></th>\n",
              "      <th>id</th>\n",
              "      <th>target</th>\n",
              "      <th>comment_text</th>\n",
              "      <th>severe_toxicity</th>\n",
              "      <th>obscene</th>\n",
              "      <th>identity_attack</th>\n",
              "      <th>insult</th>\n",
              "      <th>threat</th>\n",
              "      <th>asian</th>\n",
              "      <th>atheist</th>\n",
              "      <th>bisexual</th>\n",
              "      <th>black</th>\n",
              "      <th>buddhist</th>\n",
              "      <th>christian</th>\n",
              "      <th>female</th>\n",
              "      <th>heterosexual</th>\n",
              "      <th>hindu</th>\n",
              "      <th>homosexual_gay_or_lesbian</th>\n",
              "      <th>intellectual_or_learning_disability</th>\n",
              "      <th>jewish</th>\n",
              "      <th>latino</th>\n",
              "      <th>male</th>\n",
              "      <th>muslim</th>\n",
              "      <th>other_disability</th>\n",
              "      <th>other_gender</th>\n",
              "      <th>other_race_or_ethnicity</th>\n",
              "      <th>other_religion</th>\n",
              "      <th>other_sexual_orientation</th>\n",
              "      <th>physical_disability</th>\n",
              "      <th>psychiatric_or_mental_illness</th>\n",
              "      <th>transgender</th>\n",
              "      <th>white</th>\n",
              "      <th>created_date</th>\n",
              "      <th>publication_id</th>\n",
              "      <th>parent_id</th>\n",
              "      <th>article_id</th>\n",
              "      <th>rating</th>\n",
              "      <th>funny</th>\n",
              "      <th>wow</th>\n",
              "      <th>sad</th>\n",
              "      <th>likes</th>\n",
              "      <th>disagree</th>\n",
              "      <th>sexual_explicit</th>\n",
              "      <th>identity_annotator_count</th>\n",
              "      <th>toxicity_annotator_count</th>\n",
              "    </tr>\n",
              "  </thead>\n",
              "  <tbody>\n",
              "    <tr>\n",
              "      <th>0</th>\n",
              "      <td>59848</td>\n",
              "      <td>0.000000</td>\n",
              "      <td>This is so cool. It's like, 'would you want yo...</td>\n",
              "      <td>0.000000</td>\n",
              "      <td>0.0</td>\n",
              "      <td>0.000000</td>\n",
              "      <td>0.00000</td>\n",
              "      <td>0.0</td>\n",
              "      <td>NaN</td>\n",
              "      <td>NaN</td>\n",
              "      <td>NaN</td>\n",
              "      <td>NaN</td>\n",
              "      <td>NaN</td>\n",
              "      <td>NaN</td>\n",
              "      <td>NaN</td>\n",
              "      <td>NaN</td>\n",
              "      <td>NaN</td>\n",
              "      <td>NaN</td>\n",
              "      <td>NaN</td>\n",
              "      <td>NaN</td>\n",
              "      <td>NaN</td>\n",
              "      <td>NaN</td>\n",
              "      <td>NaN</td>\n",
              "      <td>NaN</td>\n",
              "      <td>NaN</td>\n",
              "      <td>NaN</td>\n",
              "      <td>NaN</td>\n",
              "      <td>NaN</td>\n",
              "      <td>NaN</td>\n",
              "      <td>NaN</td>\n",
              "      <td>NaN</td>\n",
              "      <td>NaN</td>\n",
              "      <td>2015-09-29 10:50:41.987077+00</td>\n",
              "      <td>2</td>\n",
              "      <td>NaN</td>\n",
              "      <td>2006</td>\n",
              "      <td>rejected</td>\n",
              "      <td>0</td>\n",
              "      <td>0</td>\n",
              "      <td>0</td>\n",
              "      <td>0</td>\n",
              "      <td>0</td>\n",
              "      <td>0.0</td>\n",
              "      <td>0</td>\n",
              "      <td>4</td>\n",
              "    </tr>\n",
              "    <tr>\n",
              "      <th>1</th>\n",
              "      <td>59849</td>\n",
              "      <td>0.000000</td>\n",
              "      <td>Thank you!! This would make my life a lot less...</td>\n",
              "      <td>0.000000</td>\n",
              "      <td>0.0</td>\n",
              "      <td>0.000000</td>\n",
              "      <td>0.00000</td>\n",
              "      <td>0.0</td>\n",
              "      <td>NaN</td>\n",
              "      <td>NaN</td>\n",
              "      <td>NaN</td>\n",
              "      <td>NaN</td>\n",
              "      <td>NaN</td>\n",
              "      <td>NaN</td>\n",
              "      <td>NaN</td>\n",
              "      <td>NaN</td>\n",
              "      <td>NaN</td>\n",
              "      <td>NaN</td>\n",
              "      <td>NaN</td>\n",
              "      <td>NaN</td>\n",
              "      <td>NaN</td>\n",
              "      <td>NaN</td>\n",
              "      <td>NaN</td>\n",
              "      <td>NaN</td>\n",
              "      <td>NaN</td>\n",
              "      <td>NaN</td>\n",
              "      <td>NaN</td>\n",
              "      <td>NaN</td>\n",
              "      <td>NaN</td>\n",
              "      <td>NaN</td>\n",
              "      <td>NaN</td>\n",
              "      <td>NaN</td>\n",
              "      <td>2015-09-29 10:50:42.870083+00</td>\n",
              "      <td>2</td>\n",
              "      <td>NaN</td>\n",
              "      <td>2006</td>\n",
              "      <td>rejected</td>\n",
              "      <td>0</td>\n",
              "      <td>0</td>\n",
              "      <td>0</td>\n",
              "      <td>0</td>\n",
              "      <td>0</td>\n",
              "      <td>0.0</td>\n",
              "      <td>0</td>\n",
              "      <td>4</td>\n",
              "    </tr>\n",
              "    <tr>\n",
              "      <th>2</th>\n",
              "      <td>59852</td>\n",
              "      <td>0.000000</td>\n",
              "      <td>This is such an urgent design problem; kudos t...</td>\n",
              "      <td>0.000000</td>\n",
              "      <td>0.0</td>\n",
              "      <td>0.000000</td>\n",
              "      <td>0.00000</td>\n",
              "      <td>0.0</td>\n",
              "      <td>NaN</td>\n",
              "      <td>NaN</td>\n",
              "      <td>NaN</td>\n",
              "      <td>NaN</td>\n",
              "      <td>NaN</td>\n",
              "      <td>NaN</td>\n",
              "      <td>NaN</td>\n",
              "      <td>NaN</td>\n",
              "      <td>NaN</td>\n",
              "      <td>NaN</td>\n",
              "      <td>NaN</td>\n",
              "      <td>NaN</td>\n",
              "      <td>NaN</td>\n",
              "      <td>NaN</td>\n",
              "      <td>NaN</td>\n",
              "      <td>NaN</td>\n",
              "      <td>NaN</td>\n",
              "      <td>NaN</td>\n",
              "      <td>NaN</td>\n",
              "      <td>NaN</td>\n",
              "      <td>NaN</td>\n",
              "      <td>NaN</td>\n",
              "      <td>NaN</td>\n",
              "      <td>NaN</td>\n",
              "      <td>2015-09-29 10:50:45.222647+00</td>\n",
              "      <td>2</td>\n",
              "      <td>NaN</td>\n",
              "      <td>2006</td>\n",
              "      <td>rejected</td>\n",
              "      <td>0</td>\n",
              "      <td>0</td>\n",
              "      <td>0</td>\n",
              "      <td>0</td>\n",
              "      <td>0</td>\n",
              "      <td>0.0</td>\n",
              "      <td>0</td>\n",
              "      <td>4</td>\n",
              "    </tr>\n",
              "    <tr>\n",
              "      <th>3</th>\n",
              "      <td>59855</td>\n",
              "      <td>0.000000</td>\n",
              "      <td>Is this something I'll be able to install on m...</td>\n",
              "      <td>0.000000</td>\n",
              "      <td>0.0</td>\n",
              "      <td>0.000000</td>\n",
              "      <td>0.00000</td>\n",
              "      <td>0.0</td>\n",
              "      <td>NaN</td>\n",
              "      <td>NaN</td>\n",
              "      <td>NaN</td>\n",
              "      <td>NaN</td>\n",
              "      <td>NaN</td>\n",
              "      <td>NaN</td>\n",
              "      <td>NaN</td>\n",
              "      <td>NaN</td>\n",
              "      <td>NaN</td>\n",
              "      <td>NaN</td>\n",
              "      <td>NaN</td>\n",
              "      <td>NaN</td>\n",
              "      <td>NaN</td>\n",
              "      <td>NaN</td>\n",
              "      <td>NaN</td>\n",
              "      <td>NaN</td>\n",
              "      <td>NaN</td>\n",
              "      <td>NaN</td>\n",
              "      <td>NaN</td>\n",
              "      <td>NaN</td>\n",
              "      <td>NaN</td>\n",
              "      <td>NaN</td>\n",
              "      <td>NaN</td>\n",
              "      <td>NaN</td>\n",
              "      <td>2015-09-29 10:50:47.601894+00</td>\n",
              "      <td>2</td>\n",
              "      <td>NaN</td>\n",
              "      <td>2006</td>\n",
              "      <td>rejected</td>\n",
              "      <td>0</td>\n",
              "      <td>0</td>\n",
              "      <td>0</td>\n",
              "      <td>0</td>\n",
              "      <td>0</td>\n",
              "      <td>0.0</td>\n",
              "      <td>0</td>\n",
              "      <td>4</td>\n",
              "    </tr>\n",
              "    <tr>\n",
              "      <th>4</th>\n",
              "      <td>59856</td>\n",
              "      <td>0.893617</td>\n",
              "      <td>haha you guys are a bunch of losers.</td>\n",
              "      <td>0.021277</td>\n",
              "      <td>0.0</td>\n",
              "      <td>0.021277</td>\n",
              "      <td>0.87234</td>\n",
              "      <td>0.0</td>\n",
              "      <td>0.0</td>\n",
              "      <td>0.0</td>\n",
              "      <td>0.0</td>\n",
              "      <td>0.0</td>\n",
              "      <td>0.0</td>\n",
              "      <td>0.0</td>\n",
              "      <td>0.0</td>\n",
              "      <td>0.0</td>\n",
              "      <td>0.0</td>\n",
              "      <td>0.0</td>\n",
              "      <td>0.25</td>\n",
              "      <td>0.0</td>\n",
              "      <td>0.0</td>\n",
              "      <td>0.0</td>\n",
              "      <td>0.0</td>\n",
              "      <td>0.0</td>\n",
              "      <td>0.0</td>\n",
              "      <td>0.0</td>\n",
              "      <td>0.0</td>\n",
              "      <td>0.0</td>\n",
              "      <td>0.0</td>\n",
              "      <td>0.0</td>\n",
              "      <td>0.0</td>\n",
              "      <td>0.0</td>\n",
              "      <td>2015-09-29 10:50:48.488476+00</td>\n",
              "      <td>2</td>\n",
              "      <td>NaN</td>\n",
              "      <td>2006</td>\n",
              "      <td>rejected</td>\n",
              "      <td>0</td>\n",
              "      <td>0</td>\n",
              "      <td>0</td>\n",
              "      <td>1</td>\n",
              "      <td>0</td>\n",
              "      <td>0.0</td>\n",
              "      <td>4</td>\n",
              "      <td>47</td>\n",
              "    </tr>\n",
              "  </tbody>\n",
              "</table>\n",
              "</div>"
            ],
            "text/plain": [
              "      id    target  ... identity_annotator_count  toxicity_annotator_count\n",
              "0  59848  0.000000  ...                        0                         4\n",
              "1  59849  0.000000  ...                        0                         4\n",
              "2  59852  0.000000  ...                        0                         4\n",
              "3  59855  0.000000  ...                        0                         4\n",
              "4  59856  0.893617  ...                        4                        47\n",
              "\n",
              "[5 rows x 45 columns]"
            ]
          },
          "metadata": {
            "tags": []
          },
          "execution_count": 15
        }
      ]
    },
    {
      "cell_type": "code",
      "metadata": {
        "id": "9GS-6NV9qPW2",
        "colab_type": "code",
        "outputId": "8709054e-a274-4ef8-a495-1d6d52f738c4",
        "colab": {
          "base_uri": "https://localhost:8080/",
          "height": 204
        }
      },
      "source": [
        "\n",
        "from zipfile import ZipFile\n",
        "zip_file = ZipFile('/content/test.csv.zip')\n",
        "data_test=pd.read_csv(zip_file.open('test.csv'))\n",
        "data_test.head()"
      ],
      "execution_count": 0,
      "outputs": [
        {
          "output_type": "execute_result",
          "data": {
            "text/html": [
              "<div>\n",
              "<style scoped>\n",
              "    .dataframe tbody tr th:only-of-type {\n",
              "        vertical-align: middle;\n",
              "    }\n",
              "\n",
              "    .dataframe tbody tr th {\n",
              "        vertical-align: top;\n",
              "    }\n",
              "\n",
              "    .dataframe thead th {\n",
              "        text-align: right;\n",
              "    }\n",
              "</style>\n",
              "<table border=\"1\" class=\"dataframe\">\n",
              "  <thead>\n",
              "    <tr style=\"text-align: right;\">\n",
              "      <th></th>\n",
              "      <th>id</th>\n",
              "      <th>comment_text</th>\n",
              "    </tr>\n",
              "  </thead>\n",
              "  <tbody>\n",
              "    <tr>\n",
              "      <th>0</th>\n",
              "      <td>7000000</td>\n",
              "      <td>Jeff Sessions is another one of Trump's Orwell...</td>\n",
              "    </tr>\n",
              "    <tr>\n",
              "      <th>1</th>\n",
              "      <td>7000001</td>\n",
              "      <td>I actually inspected the infrastructure on Gra...</td>\n",
              "    </tr>\n",
              "    <tr>\n",
              "      <th>2</th>\n",
              "      <td>7000002</td>\n",
              "      <td>No it won't . That's just wishful thinking on ...</td>\n",
              "    </tr>\n",
              "    <tr>\n",
              "      <th>3</th>\n",
              "      <td>7000003</td>\n",
              "      <td>Instead of wringing our hands and nibbling the...</td>\n",
              "    </tr>\n",
              "    <tr>\n",
              "      <th>4</th>\n",
              "      <td>7000004</td>\n",
              "      <td>how many of you commenters have garbage piled ...</td>\n",
              "    </tr>\n",
              "  </tbody>\n",
              "</table>\n",
              "</div>"
            ],
            "text/plain": [
              "        id                                       comment_text\n",
              "0  7000000  Jeff Sessions is another one of Trump's Orwell...\n",
              "1  7000001  I actually inspected the infrastructure on Gra...\n",
              "2  7000002  No it won't . That's just wishful thinking on ...\n",
              "3  7000003  Instead of wringing our hands and nibbling the...\n",
              "4  7000004  how many of you commenters have garbage piled ..."
            ]
          },
          "metadata": {
            "tags": []
          },
          "execution_count": 16
        }
      ]
    },
    {
      "cell_type": "code",
      "metadata": {
        "id": "GEGdOQC7rMqg",
        "colab_type": "code",
        "outputId": "7f51748a-e6b2-4e37-8f9d-6360ddaea958",
        "colab": {
          "base_uri": "https://localhost:8080/",
          "height": 204
        }
      },
      "source": [
        "from zipfile import ZipFile\n",
        "zip_file = ZipFile('/content/sample_submission.csv.zip')\n",
        "data_submission=pd.read_csv(zip_file.open('sample_submission.csv'))\n",
        "data_submission.head()"
      ],
      "execution_count": 0,
      "outputs": [
        {
          "output_type": "execute_result",
          "data": {
            "text/html": [
              "<div>\n",
              "<style scoped>\n",
              "    .dataframe tbody tr th:only-of-type {\n",
              "        vertical-align: middle;\n",
              "    }\n",
              "\n",
              "    .dataframe tbody tr th {\n",
              "        vertical-align: top;\n",
              "    }\n",
              "\n",
              "    .dataframe thead th {\n",
              "        text-align: right;\n",
              "    }\n",
              "</style>\n",
              "<table border=\"1\" class=\"dataframe\">\n",
              "  <thead>\n",
              "    <tr style=\"text-align: right;\">\n",
              "      <th></th>\n",
              "      <th>id</th>\n",
              "      <th>prediction</th>\n",
              "    </tr>\n",
              "  </thead>\n",
              "  <tbody>\n",
              "    <tr>\n",
              "      <th>0</th>\n",
              "      <td>7000000</td>\n",
              "      <td>0.0</td>\n",
              "    </tr>\n",
              "    <tr>\n",
              "      <th>1</th>\n",
              "      <td>7000001</td>\n",
              "      <td>0.0</td>\n",
              "    </tr>\n",
              "    <tr>\n",
              "      <th>2</th>\n",
              "      <td>7000002</td>\n",
              "      <td>0.0</td>\n",
              "    </tr>\n",
              "    <tr>\n",
              "      <th>3</th>\n",
              "      <td>7000003</td>\n",
              "      <td>0.0</td>\n",
              "    </tr>\n",
              "    <tr>\n",
              "      <th>4</th>\n",
              "      <td>7000004</td>\n",
              "      <td>0.0</td>\n",
              "    </tr>\n",
              "  </tbody>\n",
              "</table>\n",
              "</div>"
            ],
            "text/plain": [
              "        id  prediction\n",
              "0  7000000         0.0\n",
              "1  7000001         0.0\n",
              "2  7000002         0.0\n",
              "3  7000003         0.0\n",
              "4  7000004         0.0"
            ]
          },
          "metadata": {
            "tags": []
          },
          "execution_count": 17
        }
      ]
    },
    {
      "cell_type": "code",
      "metadata": {
        "id": "L7XCs4PUDX0H",
        "colab_type": "code",
        "colab": {}
      },
      "source": [
        "#}#dataset.head(2)"
      ],
      "execution_count": 0,
      "outputs": []
    },
    {
      "cell_type": "code",
      "metadata": {
        "id": "4Q9i-ZJItkb5",
        "colab_type": "code",
        "colab": {}
      },
      "source": [
        "\n",
        "#corpus = data_train.loc[:, [\"comment_text\"]]\n"
      ],
      "execution_count": 0,
      "outputs": []
    },
    {
      "cell_type": "code",
      "metadata": {
        "id": "3dHsdMdl0bYs",
        "colab_type": "code",
        "colab": {}
      },
      "source": [
        "#type(corpus)\n",
        "#data_train[\"comment_text\"]"
      ],
      "execution_count": 0,
      "outputs": []
    },
    {
      "cell_type": "code",
      "metadata": {
        "id": "TzqIrdMX0pPI",
        "colab_type": "code",
        "colab": {}
      },
      "source": [
        "#corpus1=corpus.values.tolist()"
      ],
      "execution_count": 0,
      "outputs": []
    },
    {
      "cell_type": "code",
      "metadata": {
        "id": "OxPi6dOq0sq2",
        "colab_type": "code",
        "colab": {}
      },
      "source": [
        "#type(corpus1)"
      ],
      "execution_count": 0,
      "outputs": []
    },
    {
      "cell_type": "code",
      "metadata": {
        "id": "1tj55LOl2fWr",
        "colab_type": "code",
        "colab": {}
      },
      "source": [
        "#import itertools\n"
      ],
      "execution_count": 0,
      "outputs": []
    },
    {
      "cell_type": "code",
      "metadata": {
        "id": "YX0n3zHE0unB",
        "colab_type": "code",
        "colab": {}
      },
      "source": [
        "#corpus1=list(itertools.chain(*corpus1))"
      ],
      "execution_count": 0,
      "outputs": []
    },
    {
      "cell_type": "code",
      "metadata": {
        "id": "vXooOT1HCZRh",
        "colab_type": "code",
        "colab": {}
      },
      "source": [
        "\n",
        "\n",
        "#from sklearn.feature_extraction import text\n",
        "#from sklearn.feature_extraction.text import TfidfVectorizer\n"
      ],
      "execution_count": 0,
      "outputs": []
    },
    {
      "cell_type": "code",
      "metadata": {
        "id": "q8WPImNNCj7U",
        "colab_type": "code",
        "colab": {}
      },
      "source": [
        "import re\n",
        "data_train[\"comment_text\"]=[re.sub('[0-9!`@#$%^&*\"{\"|\"}\"<>.?/*+-_;:]+', '', _) for _ in data_train[\"comment_text\"]]"
      ],
      "execution_count": 0,
      "outputs": []
    },
    {
      "cell_type": "code",
      "metadata": {
        "id": "D8jg_WObnbh9",
        "colab_type": "code",
        "outputId": "f5082569-4ca1-410f-cf59-08a9aa085594",
        "colab": {
          "base_uri": "https://localhost:8080/",
          "height": 68
        }
      },
      "source": [
        "import nltk\n",
        "nltk.download('stopwords')"
      ],
      "execution_count": 0,
      "outputs": [
        {
          "output_type": "stream",
          "text": [
            "[nltk_data] Downloading package stopwords to /root/nltk_data...\n",
            "[nltk_data]   Unzipping corpora/stopwords.zip.\n"
          ],
          "name": "stdout"
        },
        {
          "output_type": "execute_result",
          "data": {
            "text/plain": [
              "True"
            ]
          },
          "metadata": {
            "tags": []
          },
          "execution_count": 30
        }
      ]
    },
    {
      "cell_type": "code",
      "metadata": {
        "id": "C03BescMmXfm",
        "colab_type": "code",
        "colab": {}
      },
      "source": [
        "from nltk.corpus import stopwords\n",
        "\n",
        "\n",
        "\n",
        "data_train[\"comment_text\"]=data_train[\"comment_text\"].apply(lambda x: ' '.join([word for word in x.split() if word not in (stop)]))\n",
        "\n",
        "\n",
        "\n",
        "data_train[\"comment_text\"]=data_train[\"comment_text\"].str.replace('\\d+', '')\n",
        "\n",
        "data_train[\"comment_text\"]=data_train[\"comment_text\"].str.replace('\\([^()]*\\)', '')\n",
        "\n",
        "data_train[\"comment_text\"]=data_train[\"comment_text\"].str.replace('[!@#$%^&*(),.?\":{}|<>]', '')\n",
        "\n",
        "data_train[\"comment_text\"]=data_train[\"comment_text\"].str.replace('[+]', '')\n",
        "\n",
        "data_train[\"comment_text\"]=data_train[\"comment_text\"].str.replace('[-]', '')\n",
        "\n",
        "\n",
        "data_train[\"comment_text\"] = data_train[\"comment_text\"].str.replace('[^\\w\\s]','')\n",
        "\n",
        "\n",
        "from sklearn.feature_extraction.text import TfidfVectorizer\n",
        "import pandas as pd\n",
        "\n",
        "\n",
        "tfidf=TfidfVectorizer(min_df=2,max_df=0.5,ngram_range=(1,2))\n",
        "\n",
        "\n",
        "features=tfidf.fit(data_train[\"comment_text\"])\n",
        "\n",
        "measures=features.transform(data_train[\"comment_text\"])\n",
        "\n",
        "\n",
        "df=pd.DataFrame(\n",
        "        measures.todense(),\n",
        "        columns=tfidf.get_feature_names()\n",
        "        )\n",
        "\n"
      ],
      "execution_count": 0,
      "outputs": []
    },
    {
      "cell_type": "code",
      "metadata": {
        "id": "Ob6LMgSDmXcj",
        "colab_type": "code",
        "colab": {}
      },
      "source": [
        ""
      ],
      "execution_count": 0,
      "outputs": []
    },
    {
      "cell_type": "code",
      "metadata": {
        "id": "WiwJLzkKmXaW",
        "colab_type": "code",
        "colab": {}
      },
      "source": [
        ""
      ],
      "execution_count": 0,
      "outputs": []
    },
    {
      "cell_type": "code",
      "metadata": {
        "id": "KbOqb4oemXYL",
        "colab_type": "code",
        "colab": {}
      },
      "source": [
        ""
      ],
      "execution_count": 0,
      "outputs": []
    },
    {
      "cell_type": "code",
      "metadata": {
        "id": "kkqVeMgRmXWC",
        "colab_type": "code",
        "colab": {}
      },
      "source": [
        ""
      ],
      "execution_count": 0,
      "outputs": []
    },
    {
      "cell_type": "code",
      "metadata": {
        "id": "2xXlyYS4tkZw",
        "colab_type": "code",
        "colab": {}
      },
      "source": [
        "\n",
        "my_stop_words = text.ENGLISH_STOP_WORDS.union([\"book\"])\n",
        "\n",
        "vectorizer = TfidfVectorizer(ngram_range=(1,1), stop_words=my_stop_words)\n",
        "\n",
        "X = vectorizer.fit_transform(my_list)\n",
        "\n",
        "idf_values = dict(zip(vectorizer.get_feature_names(), vectorizer.idf_))\n"
      ],
      "execution_count": 0,
      "outputs": []
    },
    {
      "cell_type": "code",
      "metadata": {
        "id": "RQ3QW-BXbN6e",
        "colab_type": "code",
        "outputId": "83a5762c-2c5a-4e89-c4c9-273a5c2cd594",
        "colab": {
          "base_uri": "https://localhost:8080/",
          "height": 51
        }
      },
      "source": [
        "X\n"
      ],
      "execution_count": 0,
      "outputs": [
        {
          "output_type": "execute_result",
          "data": {
            "text/plain": [
              "<1804874x573457 sparse matrix of type '<class 'numpy.float64'>'\n",
              "\twith 39256878 stored elements in Compressed Sparse Row format>"
            ]
          },
          "metadata": {
            "tags": []
          },
          "execution_count": 63
        }
      ]
    },
    {
      "cell_type": "code",
      "metadata": {
        "id": "tgLCQH87tkXb",
        "colab_type": "code",
        "outputId": "d14dcac3-0a46-4755-b6c0-27c86a35f3e4",
        "colab": {
          "base_uri": "https://localhost:8080/",
          "height": 187
        }
      },
      "source": [
        "\n",
        "# printing the tfidf vectors\n",
        "print(X)\n",
        "\n",
        "# printing the vocabulary\n",
        "print(vectorizer.vocabulary_)"
      ],
      "execution_count": 0,
      "outputs": [
        {
          "output_type": "stream",
          "text": [
            "IOPub data rate exceeded.\n",
            "The notebook server will temporarily stop sending output\n",
            "to the client in order to avoid crashing it.\n",
            "To change this limit, set the config variable\n",
            "`--NotebookApp.iopub_data_rate_limit`.\n",
            "\n",
            "Current values:\n",
            "NotebookApp.iopub_data_rate_limit=1000000.0 (bytes/sec)\n",
            "NotebookApp.rate_limit_window=3.0 (secs)\n",
            "\n"
          ],
          "name": "stderr"
        }
      ]
    },
    {
      "cell_type": "code",
      "metadata": {
        "id": "imYsTDSw-zoh",
        "colab_type": "code",
        "outputId": "83001f8d-bb62-4aa6-9755-dc40033a1c95",
        "colab": {
          "base_uri": "https://localhost:8080/",
          "height": 129
        }
      },
      "source": [
        "#import tensorflow-gpu"
      ],
      "execution_count": 0,
      "outputs": [
        {
          "output_type": "error",
          "ename": "SyntaxError",
          "evalue": "ignored",
          "traceback": [
            "\u001b[0;36m  File \u001b[0;32m\"<ipython-input-42-9405d16d83c1>\"\u001b[0;36m, line \u001b[0;32m1\u001b[0m\n\u001b[0;31m    import tensorflow-gpu\u001b[0m\n\u001b[0m                     ^\u001b[0m\n\u001b[0;31mSyntaxError\u001b[0m\u001b[0;31m:\u001b[0m invalid syntax\n"
          ]
        }
      ]
    },
    {
      "cell_type": "code",
      "metadata": {
        "id": "BEHfk0nVtkVF",
        "colab_type": "code",
        "outputId": "13f4d897-906a-4596-a449-d52bc0a0d45f",
        "colab": {
          "base_uri": "https://localhost:8080/",
          "height": 55
        }
      },
      "source": [
        "\"\"\"feature_names = vectorizer.get_feature_names()\n",
        "for col in X.nonzero()[1]:\n",
        "    print (feature_names[col], ' - ', X[0, col])\"\"\"\n"
      ],
      "execution_count": 0,
      "outputs": [
        {
          "output_type": "execute_result",
          "data": {
            "text/plain": [
              "\"feature_names = vectorizer.get_feature_names()\\nfor col in X.nonzero()[1]:\\n    print (feature_names[col], ' - ', X[0, col])\""
            ]
          },
          "metadata": {
            "tags": []
          },
          "execution_count": 26
        }
      ]
    },
    {
      "cell_type": "code",
      "metadata": {
        "id": "IfiET4qZcpkv",
        "colab_type": "code",
        "colab": {}
      },
      "source": [
        "data_train.severe_toxicity=pd.to_numeric(data_train.severe_toxicity, errors='ignore')"
      ],
      "execution_count": 0,
      "outputs": []
    },
    {
      "cell_type": "code",
      "metadata": {
        "id": "3Rs6EFjKTWsr",
        "colab_type": "code",
        "outputId": "ff9421e7-b3e5-439d-87df-d080e5678673",
        "colab": {
          "base_uri": "https://localhost:8080/",
          "height": 139
        }
      },
      "source": [
        "data_train[data_train.severe_toxicity >= 0.5].severe_toxicity = 1\n",
        "data_train[data_train.severe_toxicity < 0.5].severe_toxicity = 0"
      ],
      "execution_count": 0,
      "outputs": [
        {
          "output_type": "stream",
          "text": [
            "/usr/local/lib/python3.6/dist-packages/pandas/core/generic.py:5096: SettingWithCopyWarning: \n",
            "A value is trying to be set on a copy of a slice from a DataFrame.\n",
            "Try using .loc[row_indexer,col_indexer] = value instead\n",
            "\n",
            "See the caveats in the documentation: http://pandas.pydata.org/pandas-docs/stable/indexing.html#indexing-view-versus-copy\n",
            "  self[name] = value\n"
          ],
          "name": "stderr"
        }
      ]
    },
    {
      "cell_type": "code",
      "metadata": {
        "id": "RqN8o6w7tkS3",
        "colab_type": "code",
        "outputId": "608f9343-54e8-4c01-adee-d7f0c7a0f559",
        "colab": {
          "base_uri": "https://localhost:8080/",
          "height": 170
        }
      },
      "source": [
        "data_train.severe_toxicity.describe()"
      ],
      "execution_count": 0,
      "outputs": [
        {
          "output_type": "execute_result",
          "data": {
            "text/plain": [
              "count    1.804874e+06\n",
              "mean     4.582099e-03\n",
              "std      2.286128e-02\n",
              "min      0.000000e+00\n",
              "25%      0.000000e+00\n",
              "50%      0.000000e+00\n",
              "75%      0.000000e+00\n",
              "max      1.000000e+00\n",
              "Name: severe_toxicity, dtype: float64"
            ]
          },
          "metadata": {
            "tags": []
          },
          "execution_count": 45
        }
      ]
    },
    {
      "cell_type": "code",
      "metadata": {
        "id": "ydKb2Z3Lc1Ji",
        "colab_type": "code",
        "outputId": "f6fd1024-33f6-49bf-c675-3ff670cb8308",
        "colab": {
          "base_uri": "https://localhost:8080/",
          "height": 1071
        }
      },
      "source": [
        "data_train.severe_toxicity"
      ],
      "execution_count": 0,
      "outputs": [
        {
          "output_type": "execute_result",
          "data": {
            "text/plain": [
              "0          0.000000\n",
              "1          0.000000\n",
              "2          0.000000\n",
              "3          0.000000\n",
              "4          0.021277\n",
              "5          0.047619\n",
              "6          0.050847\n",
              "7          0.000000\n",
              "8          0.000000\n",
              "9          0.000000\n",
              "10         0.000000\n",
              "11         0.000000\n",
              "12         0.000000\n",
              "13         0.000000\n",
              "14         0.000000\n",
              "15         0.000000\n",
              "16         0.000000\n",
              "17         0.000000\n",
              "18         0.000000\n",
              "19         0.000000\n",
              "20         0.000000\n",
              "21         0.000000\n",
              "22         0.000000\n",
              "23         0.000000\n",
              "24         0.000000\n",
              "25         0.000000\n",
              "26         0.000000\n",
              "27         0.000000\n",
              "28         0.000000\n",
              "29         0.000000\n",
              "             ...   \n",
              "1804844    0.000000\n",
              "1804845    0.000000\n",
              "1804846    0.000000\n",
              "1804847    0.000000\n",
              "1804848    0.000000\n",
              "1804849    0.000000\n",
              "1804850    0.000000\n",
              "1804851    0.000000\n",
              "1804852    0.000000\n",
              "1804853    0.000000\n",
              "1804854    0.000000\n",
              "1804855    0.000000\n",
              "1804856    0.000000\n",
              "1804857    0.000000\n",
              "1804858    0.000000\n",
              "1804859    0.000000\n",
              "1804860    0.000000\n",
              "1804861    0.000000\n",
              "1804862    0.000000\n",
              "1804863    0.000000\n",
              "1804864    0.000000\n",
              "1804865    0.000000\n",
              "1804866    0.000000\n",
              "1804867    0.000000\n",
              "1804868    0.000000\n",
              "1804869    0.000000\n",
              "1804870    0.000000\n",
              "1804871    0.000000\n",
              "1804872    0.030303\n",
              "1804873    0.000000\n",
              "Name: severe_toxicity, Length: 1804874, dtype: float64"
            ]
          },
          "metadata": {
            "tags": []
          },
          "execution_count": 46
        }
      ]
    },
    {
      "cell_type": "code",
      "metadata": {
        "id": "OJZLPyidkEm_",
        "colab_type": "code",
        "colab": {}
      },
      "source": [
        "#from sklearn.linear_model import LinearRegression\n"
      ],
      "execution_count": 0,
      "outputs": []
    },
    {
      "cell_type": "code",
      "metadata": {
        "id": "ATsiV663zyGn",
        "colab_type": "code",
        "colab": {}
      },
      "source": [
        "#moddel=LinearRegression().fit(X, data_train.severe_toxicity)"
      ],
      "execution_count": 0,
      "outputs": []
    },
    {
      "cell_type": "code",
      "metadata": {
        "id": "kqNxpUj61D4B",
        "colab_type": "code",
        "colab": {}
      },
      "source": [
        "#out=moddel.predict(X)"
      ],
      "execution_count": 0,
      "outputs": []
    },
    {
      "cell_type": "code",
      "metadata": {
        "id": "sVmXhxq942xt",
        "colab_type": "code",
        "outputId": "7f3be8a0-38d0-4144-8282-f5595273e23a",
        "colab": {
          "base_uri": "https://localhost:8080/",
          "height": 51
        }
      },
      "source": [
        "#out"
      ],
      "execution_count": 0,
      "outputs": [
        {
          "output_type": "execute_result",
          "data": {
            "text/plain": [
              "array([ 2.78370033e-03,  1.65483225e-04,  3.90848637e-03, ...,\n",
              "        1.00110655e-03,  1.91258748e-02, -5.23546518e-08])"
            ]
          },
          "metadata": {
            "tags": []
          },
          "execution_count": 43
        }
      ]
    },
    {
      "cell_type": "code",
      "metadata": {
        "id": "xhHTF6BChNZT",
        "colab_type": "code",
        "outputId": "c05fb67e-766a-4ef9-90fc-2960304db73e",
        "colab": {
          "base_uri": "https://localhost:8080/",
          "height": 34
        }
      },
      "source": [
        "#len(out)"
      ],
      "execution_count": 0,
      "outputs": [
        {
          "output_type": "execute_result",
          "data": {
            "text/plain": [
              "1804874"
            ]
          },
          "metadata": {
            "tags": []
          },
          "execution_count": 46
        }
      ]
    },
    {
      "cell_type": "code",
      "metadata": {
        "id": "CBr3AgoitkQd",
        "colab_type": "code",
        "colab": {}
      },
      "source": [
        "from sklearn.feature_extraction.text import TfidfVectorizer\n",
        "corpus = data_test.loc[:, [\"comment_text\"]]"
      ],
      "execution_count": 0,
      "outputs": []
    },
    {
      "cell_type": "code",
      "metadata": {
        "id": "nfMqsahUk4H-",
        "colab_type": "code",
        "colab": {}
      },
      "source": [
        "\n",
        "tfidf1=TfidfVectorizer(min_df=2,max_df=0.5,ngram_range=(1,2))\n",
        "\n",
        "\n",
        "features1=tfidf1.fit(data['vendor'])\n",
        "\n",
        "measures1=features1.transform(data['vendor'])\n",
        "\n",
        "\n",
        "df1=pd.DataFrame(\n",
        "        measures1.todense(),\n",
        "        columns=tfidf1.get_feature_names()\n",
        "        )\n",
        "\n",
        "\n",
        "df1.head()\n",
        "\n",
        "df1.columns"
      ],
      "execution_count": 0,
      "outputs": []
    },
    {
      "cell_type": "code",
      "metadata": {
        "id": "eYj8MAPjtkON",
        "colab_type": "code",
        "outputId": "dbf71ff3-dbb0-471e-bee8-0ebe8864d3a0",
        "colab": {
          "base_uri": "https://localhost:8080/",
          "height": 1969
        }
      },
      "source": [
        "type(corpus)\n",
        "data_test.loc[:, [\"comment_text\"]]"
      ],
      "execution_count": 0,
      "outputs": [
        {
          "output_type": "execute_result",
          "data": {
            "text/html": [
              "<div>\n",
              "<style scoped>\n",
              "    .dataframe tbody tr th:only-of-type {\n",
              "        vertical-align: middle;\n",
              "    }\n",
              "\n",
              "    .dataframe tbody tr th {\n",
              "        vertical-align: top;\n",
              "    }\n",
              "\n",
              "    .dataframe thead th {\n",
              "        text-align: right;\n",
              "    }\n",
              "</style>\n",
              "<table border=\"1\" class=\"dataframe\">\n",
              "  <thead>\n",
              "    <tr style=\"text-align: right;\">\n",
              "      <th></th>\n",
              "      <th>comment_text</th>\n",
              "    </tr>\n",
              "  </thead>\n",
              "  <tbody>\n",
              "    <tr>\n",
              "      <th>0</th>\n",
              "      <td>Jeff Sessions is another one of Trump's Orwell...</td>\n",
              "    </tr>\n",
              "    <tr>\n",
              "      <th>1</th>\n",
              "      <td>I actually inspected the infrastructure on Gra...</td>\n",
              "    </tr>\n",
              "    <tr>\n",
              "      <th>2</th>\n",
              "      <td>No it won't . That's just wishful thinking on ...</td>\n",
              "    </tr>\n",
              "    <tr>\n",
              "      <th>3</th>\n",
              "      <td>Instead of wringing our hands and nibbling the...</td>\n",
              "    </tr>\n",
              "    <tr>\n",
              "      <th>4</th>\n",
              "      <td>how many of you commenters have garbage piled ...</td>\n",
              "    </tr>\n",
              "    <tr>\n",
              "      <th>5</th>\n",
              "      <td>Why can't the Globe &amp; Mail provide the symbols...</td>\n",
              "    </tr>\n",
              "    <tr>\n",
              "      <th>6</th>\n",
              "      <td>That's already been happening, Carl, it's call...</td>\n",
              "    </tr>\n",
              "    <tr>\n",
              "      <th>7</th>\n",
              "      <td>imagine the costs for security, transportation...</td>\n",
              "    </tr>\n",
              "    <tr>\n",
              "      <th>8</th>\n",
              "      <td>So they want to put United on the board of thi...</td>\n",
              "    </tr>\n",
              "    <tr>\n",
              "      <th>9</th>\n",
              "      <td>No, no that can't be.  It's Russia that's the ...</td>\n",
              "    </tr>\n",
              "    <tr>\n",
              "      <th>10</th>\n",
              "      <td>You're quite the one to talk after the kind of...</td>\n",
              "    </tr>\n",
              "    <tr>\n",
              "      <th>11</th>\n",
              "      <td>If it walks like a duck, and quacks like a duc...</td>\n",
              "    </tr>\n",
              "    <tr>\n",
              "      <th>12</th>\n",
              "      <td>At about this point: It participated with the ...</td>\n",
              "    </tr>\n",
              "    <tr>\n",
              "      <th>13</th>\n",
              "      <td>In my lifetime, in my society, I've seen the p...</td>\n",
              "    </tr>\n",
              "    <tr>\n",
              "      <th>14</th>\n",
              "      <td>I kinda don't have a dog in the fight...except...</td>\n",
              "    </tr>\n",
              "    <tr>\n",
              "      <th>15</th>\n",
              "      <td>Perhaps lower reproduction rates are a choice....</td>\n",
              "    </tr>\n",
              "    <tr>\n",
              "      <th>16</th>\n",
              "      <td>Cancer does not have consciousness and doesn't...</td>\n",
              "    </tr>\n",
              "    <tr>\n",
              "      <th>17</th>\n",
              "      <td>Time to base at least 2 x 61 missile MK-41 lau...</td>\n",
              "    </tr>\n",
              "    <tr>\n",
              "      <th>18</th>\n",
              "      <td>Wow.  Who knew there were so many Russian trol...</td>\n",
              "    </tr>\n",
              "    <tr>\n",
              "      <th>19</th>\n",
              "      <td>Lol--this is funny and I am sure, intentional ...</td>\n",
              "    </tr>\n",
              "    <tr>\n",
              "      <th>20</th>\n",
              "      <td>BS !</td>\n",
              "    </tr>\n",
              "    <tr>\n",
              "      <th>21</th>\n",
              "      <td>The council should also vote that the Hawaii E...</td>\n",
              "    </tr>\n",
              "    <tr>\n",
              "      <th>22</th>\n",
              "      <td>Students this week have been demanding a lot, ...</td>\n",
              "    </tr>\n",
              "    <tr>\n",
              "      <th>23</th>\n",
              "      <td>lol, cannot blame a whole class of people for ...</td>\n",
              "    </tr>\n",
              "    <tr>\n",
              "      <th>24</th>\n",
              "      <td>Corrupt hypocrites throughout he government. O...</td>\n",
              "    </tr>\n",
              "    <tr>\n",
              "      <th>25</th>\n",
              "      <td>Trust me, you're doing more due diligence on t...</td>\n",
              "    </tr>\n",
              "    <tr>\n",
              "      <th>26</th>\n",
              "      <td>There are certain political factions that are ...</td>\n",
              "    </tr>\n",
              "    <tr>\n",
              "      <th>27</th>\n",
              "      <td>If the law forbids him from owning or possessi...</td>\n",
              "    </tr>\n",
              "    <tr>\n",
              "      <th>28</th>\n",
              "      <td>I'm a MYC Grad....class in mid 80's....</td>\n",
              "    </tr>\n",
              "    <tr>\n",
              "      <th>29</th>\n",
              "      <td>In this era of an over populated world and exc...</td>\n",
              "    </tr>\n",
              "    <tr>\n",
              "      <th>...</th>\n",
              "      <td>...</td>\n",
              "    </tr>\n",
              "    <tr>\n",
              "      <th>97290</th>\n",
              "      <td>run for your life, Allan Ross, now taking on S...</td>\n",
              "    </tr>\n",
              "    <tr>\n",
              "      <th>97291</th>\n",
              "      <td>There's opinions and there's lies . Shannyn pr...</td>\n",
              "    </tr>\n",
              "    <tr>\n",
              "      <th>97292</th>\n",
              "      <td>Law Enforcement - including the Police, the Ju...</td>\n",
              "    </tr>\n",
              "    <tr>\n",
              "      <th>97293</th>\n",
              "      <td>this potential recovery was not figured into t...</td>\n",
              "    </tr>\n",
              "    <tr>\n",
              "      <th>97294</th>\n",
              "      <td>And some of us will be dancing with joy.</td>\n",
              "    </tr>\n",
              "    <tr>\n",
              "      <th>97295</th>\n",
              "      <td>The key problem with today's homelessness is t...</td>\n",
              "    </tr>\n",
              "    <tr>\n",
              "      <th>97296</th>\n",
              "      <td>As opposed to what? Paying nothing for the ser...</td>\n",
              "    </tr>\n",
              "    <tr>\n",
              "      <th>97297</th>\n",
              "      <td>Exactly, that can't be legal or safe</td>\n",
              "    </tr>\n",
              "    <tr>\n",
              "      <th>97298</th>\n",
              "      <td>Yeah, the DC-10 was jarring. The 747 is in a c...</td>\n",
              "    </tr>\n",
              "    <tr>\n",
              "      <th>97299</th>\n",
              "      <td>It looks the minister lied and mislead the peo...</td>\n",
              "    </tr>\n",
              "    <tr>\n",
              "      <th>97300</th>\n",
              "      <td>1. Ok, I'll go out on a limb and we'll see whe...</td>\n",
              "    </tr>\n",
              "    <tr>\n",
              "      <th>97301</th>\n",
              "      <td>Let me answer your second question first: one ...</td>\n",
              "    </tr>\n",
              "    <tr>\n",
              "      <th>97302</th>\n",
              "      <td>Can't wait for several thousand kilowatt hours...</td>\n",
              "    </tr>\n",
              "    <tr>\n",
              "      <th>97303</th>\n",
              "      <td>One can only hope that Alaskan's will send him...</td>\n",
              "    </tr>\n",
              "    <tr>\n",
              "      <th>97304</th>\n",
              "      <td>allie&gt;  quack, quack!  Yikes!!! hon!</td>\n",
              "    </tr>\n",
              "    <tr>\n",
              "      <th>97305</th>\n",
              "      <td>Think about the situation.\\n\\nWhen we (Canada)...</td>\n",
              "    </tr>\n",
              "    <tr>\n",
              "      <th>97306</th>\n",
              "      <td>There are no cuts to Medicaid,  the proposal i...</td>\n",
              "    </tr>\n",
              "    <tr>\n",
              "      <th>97307</th>\n",
              "      <td>Now is this a misleading editorial or what.  C...</td>\n",
              "    </tr>\n",
              "    <tr>\n",
              "      <th>97308</th>\n",
              "      <td>If I \"mute\" this ir-rationalis, do I lose all ...</td>\n",
              "    </tr>\n",
              "    <tr>\n",
              "      <th>97309</th>\n",
              "      <td>geev em donald! imua,   #MAGA, lol</td>\n",
              "    </tr>\n",
              "    <tr>\n",
              "      <th>97310</th>\n",
              "      <td>Domestic violence is a real issue, it needs at...</td>\n",
              "    </tr>\n",
              "    <tr>\n",
              "      <th>97311</th>\n",
              "      <td>Wow, so I take it that you live in someplace b...</td>\n",
              "    </tr>\n",
              "    <tr>\n",
              "      <th>97312</th>\n",
              "      <td>what do you expect from a bank that was allowe...</td>\n",
              "    </tr>\n",
              "    <tr>\n",
              "      <th>97313</th>\n",
              "      <td>This  argument has been skewed by corporate ow...</td>\n",
              "    </tr>\n",
              "    <tr>\n",
              "      <th>97314</th>\n",
              "      <td>The city needs to leave private property alone...</td>\n",
              "    </tr>\n",
              "    <tr>\n",
              "      <th>97315</th>\n",
              "      <td>That's the thing...it's called a plan.  Get in...</td>\n",
              "    </tr>\n",
              "    <tr>\n",
              "      <th>97316</th>\n",
              "      <td>It's not quite the way you describe it, Mike. ...</td>\n",
              "    </tr>\n",
              "    <tr>\n",
              "      <th>97317</th>\n",
              "      <td>What right have you to criticise? You have no ...</td>\n",
              "    </tr>\n",
              "    <tr>\n",
              "      <th>97318</th>\n",
              "      <td>My concern is that if China allies with the US...</td>\n",
              "    </tr>\n",
              "    <tr>\n",
              "      <th>97319</th>\n",
              "      <td>Dear Young Philip, General Kelly can speak for...</td>\n",
              "    </tr>\n",
              "  </tbody>\n",
              "</table>\n",
              "<p>97320 rows × 1 columns</p>\n",
              "</div>"
            ],
            "text/plain": [
              "                                            comment_text\n",
              "0      Jeff Sessions is another one of Trump's Orwell...\n",
              "1      I actually inspected the infrastructure on Gra...\n",
              "2      No it won't . That's just wishful thinking on ...\n",
              "3      Instead of wringing our hands and nibbling the...\n",
              "4      how many of you commenters have garbage piled ...\n",
              "5      Why can't the Globe & Mail provide the symbols...\n",
              "6      That's already been happening, Carl, it's call...\n",
              "7      imagine the costs for security, transportation...\n",
              "8      So they want to put United on the board of thi...\n",
              "9      No, no that can't be.  It's Russia that's the ...\n",
              "10     You're quite the one to talk after the kind of...\n",
              "11     If it walks like a duck, and quacks like a duc...\n",
              "12     At about this point: It participated with the ...\n",
              "13     In my lifetime, in my society, I've seen the p...\n",
              "14     I kinda don't have a dog in the fight...except...\n",
              "15     Perhaps lower reproduction rates are a choice....\n",
              "16     Cancer does not have consciousness and doesn't...\n",
              "17     Time to base at least 2 x 61 missile MK-41 lau...\n",
              "18     Wow.  Who knew there were so many Russian trol...\n",
              "19     Lol--this is funny and I am sure, intentional ...\n",
              "20                                                  BS !\n",
              "21     The council should also vote that the Hawaii E...\n",
              "22     Students this week have been demanding a lot, ...\n",
              "23     lol, cannot blame a whole class of people for ...\n",
              "24     Corrupt hypocrites throughout he government. O...\n",
              "25     Trust me, you're doing more due diligence on t...\n",
              "26     There are certain political factions that are ...\n",
              "27     If the law forbids him from owning or possessi...\n",
              "28               I'm a MYC Grad....class in mid 80's....\n",
              "29     In this era of an over populated world and exc...\n",
              "...                                                  ...\n",
              "97290  run for your life, Allan Ross, now taking on S...\n",
              "97291  There's opinions and there's lies . Shannyn pr...\n",
              "97292  Law Enforcement - including the Police, the Ju...\n",
              "97293  this potential recovery was not figured into t...\n",
              "97294           And some of us will be dancing with joy.\n",
              "97295  The key problem with today's homelessness is t...\n",
              "97296  As opposed to what? Paying nothing for the ser...\n",
              "97297               Exactly, that can't be legal or safe\n",
              "97298  Yeah, the DC-10 was jarring. The 747 is in a c...\n",
              "97299  It looks the minister lied and mislead the peo...\n",
              "97300  1. Ok, I'll go out on a limb and we'll see whe...\n",
              "97301  Let me answer your second question first: one ...\n",
              "97302  Can't wait for several thousand kilowatt hours...\n",
              "97303  One can only hope that Alaskan's will send him...\n",
              "97304               allie>  quack, quack!  Yikes!!! hon!\n",
              "97305  Think about the situation.\\n\\nWhen we (Canada)...\n",
              "97306  There are no cuts to Medicaid,  the proposal i...\n",
              "97307  Now is this a misleading editorial or what.  C...\n",
              "97308  If I \"mute\" this ir-rationalis, do I lose all ...\n",
              "97309                 geev em donald! imua,   #MAGA, lol\n",
              "97310  Domestic violence is a real issue, it needs at...\n",
              "97311  Wow, so I take it that you live in someplace b...\n",
              "97312  what do you expect from a bank that was allowe...\n",
              "97313  This  argument has been skewed by corporate ow...\n",
              "97314  The city needs to leave private property alone...\n",
              "97315  That's the thing...it's called a plan.  Get in...\n",
              "97316  It's not quite the way you describe it, Mike. ...\n",
              "97317  What right have you to criticise? You have no ...\n",
              "97318  My concern is that if China allies with the US...\n",
              "97319  Dear Young Philip, General Kelly can speak for...\n",
              "\n",
              "[97320 rows x 1 columns]"
            ]
          },
          "metadata": {
            "tags": []
          },
          "execution_count": 48
        }
      ]
    },
    {
      "cell_type": "code",
      "metadata": {
        "id": "iaOsefd-tkKE",
        "colab_type": "code",
        "colab": {}
      },
      "source": [
        "corpus1=corpus.values.tolist()"
      ],
      "execution_count": 0,
      "outputs": []
    },
    {
      "cell_type": "code",
      "metadata": {
        "id": "OPxUSuH7tkHi",
        "colab_type": "code",
        "colab": {}
      },
      "source": [
        "\n",
        "import itertools\n",
        "corpus1=list(itertools.chain(*corpus1))\n",
        "from sklearn.feature_extraction import text\n",
        "from sklearn.feature_extraction.text import TfidfVectorizer\n",
        "import re\n",
        "my_list= corpus1\n",
        "my_list=[re.sub('[0-9!`@#$%^&*\"{\"|\"}\"<>.?/*+-_;:]+', '', _) for _ in my_list]\n",
        "my_stop_words = text.ENGLISH_STOP_WORDS.union([\"book\"])\n",
        "\n",
        "vectorizer = TfidfVectorizer(ngram_range=(1,1), stop_words=my_stop_words)\n",
        "\n",
        "X1 = vectorizer.fit_transform(my_list)\n",
        "\n",
        "idf_values = dict(zip(vectorizer.get_feature_names(), vectorizer.idf_))\n"
      ],
      "execution_count": 0,
      "outputs": []
    },
    {
      "cell_type": "code",
      "metadata": {
        "id": "Ch4uuEtItkFi",
        "colab_type": "code",
        "outputId": "04cde779-fef3-46e1-df93-b56e7103019b",
        "colab": {
          "base_uri": "https://localhost:8080/",
          "height": 17034
        }
      },
      "source": [
        "idf_values"
      ],
      "execution_count": 0,
      "outputs": [
        {
          "output_type": "execute_result",
          "data": {
            "text/plain": [
              "{'aa': 9.441247634501433,\n",
              " 'aaa': 10.406328530545021,\n",
              " 'aaaa': 10.694010602996801,\n",
              " 'aaaaa': 11.387157783556747,\n",
              " 'aaaaaaa': 11.79262289166491,\n",
              " 'aaaaaaaaaaaaa': 11.79262289166491,\n",
              " 'aaaaaaaaaaaaaaa': 11.79262289166491,\n",
              " 'aaaaaaaaaaaaaaaaa': 11.79262289166491,\n",
              " 'aaaaaaaaaaaaaaaaaaaaaaaaaaaa': 11.79262289166491,\n",
              " 'aaaaaaaaayou': 11.79262289166491,\n",
              " 'aaaaaaaar': 11.79262289166491,\n",
              " 'aaaaaaand': 11.79262289166491,\n",
              " 'aaaaalmost': 11.79262289166491,\n",
              " 'aaaaap': 11.79262289166491,\n",
              " 'aaaaargh': 11.79262289166491,\n",
              " 'aaaaay': 11.79262289166491,\n",
              " 'aaaah': 11.099475711104967,\n",
              " 'aaaaiit': 11.79262289166491,\n",
              " 'aaaand': 11.79262289166491,\n",
              " 'aaaay': 11.79262289166491,\n",
              " 'aaack': 11.79262289166491,\n",
              " 'aaargh': 11.79262289166491,\n",
              " 'aaathat': 11.79262289166491,\n",
              " 'aaayeaaah': 11.79262289166491,\n",
              " 'aaazing': 11.79262289166491,\n",
              " 'aab': 11.099475711104967,\n",
              " 'aactually': 11.79262289166491,\n",
              " 'aad': 10.876332159790756,\n",
              " 'aada': 11.79262289166491,\n",
              " 'aadereinhoff': 11.79262289166491,\n",
              " 'aafala': 10.406328530545021,\n",
              " 'aah': 10.539859923169542,\n",
              " 'aahanui': 11.79262289166491,\n",
              " 'aahh': 11.79262289166491,\n",
              " 'aahhh': 11.79262289166491,\n",
              " 'aahui': 10.876332159790756,\n",
              " 'aahumanu': 11.79262289166491,\n",
              " 'aaihue': 11.79262289166491,\n",
              " 'aaihueayor': 11.79262289166491,\n",
              " 'aaihueongress': 11.79262289166491,\n",
              " 'aajid': 11.79262289166491,\n",
              " 'aak': 11.79262289166491,\n",
              " 'aaken': 11.79262289166491,\n",
              " 'aala': 11.79262289166491,\n",
              " 'aalaam': 11.79262289166491,\n",
              " 'aallum': 11.79262289166491,\n",
              " 'aami': 11.79262289166491,\n",
              " 'aamiin': 11.79262289166491,\n",
              " 'aamis': 11.387157783556747,\n",
              " 'aan': 10.694010602996801,\n",
              " 'aanapali': 11.387157783556747,\n",
              " 'aand': 11.79262289166491,\n",
              " 'aanich': 11.387157783556747,\n",
              " 'aankháawu': 11.79262289166491,\n",
              " 'aannn': 11.79262289166491,\n",
              " 'aanui': 9.92082071476332,\n",
              " 'aanñáawu': 11.79262289166491,\n",
              " 'aanḵáawu': 11.79262289166491,\n",
              " 'aao': 11.79262289166491,\n",
              " 'aarden': 11.79262289166491,\n",
              " 'aarl': 11.79262289166491,\n",
              " 'aaron': 10.539859923169542,\n",
              " 'aarsh': 11.79262289166491,\n",
              " 'aarthy': 11.79262289166491,\n",
              " 'aas': 11.79262289166491,\n",
              " 'aasi': 11.79262289166491,\n",
              " 'aass': 11.79262289166491,\n",
              " 'aastanding': 11.79262289166491,\n",
              " 'aat': 11.79262289166491,\n",
              " 'aathist': 11.387157783556747,\n",
              " 'aaway': 11.79262289166491,\n",
              " 'aawe': 11.79262289166491,\n",
              " 'aawker': 11.79262289166491,\n",
              " 'aawwn': 11.79262289166491,\n",
              " 'aax': 11.79262289166491,\n",
              " 'aaza': 11.79262289166491,\n",
              " 'ab': 9.490037798670865,\n",
              " 'abaaaam': 11.79262289166491,\n",
              " 'abacco': 11.79262289166491,\n",
              " 'aback': 11.099475711104967,\n",
              " 'abad': 11.79262289166491,\n",
              " 'abakovinspired': 11.79262289166491,\n",
              " 'abal': 11.099475711104967,\n",
              " 'abalist': 11.79262289166491,\n",
              " 'abalone': 11.79262289166491,\n",
              " 'abamun': 11.79262289166491,\n",
              " 'aban': 10.406328530545021,\n",
              " 'abana': 11.79262289166491,\n",
              " 'abanalesamos': 11.79262289166491,\n",
              " 'abandon': 8.195310631076467,\n",
              " 'abandoned': 7.81294123776295,\n",
              " 'abandoning': 9.441247634501433,\n",
              " 'abandonment': 10.000863422436856,\n",
              " 'abandons': 11.387157783556747,\n",
              " 'abane': 11.79262289166491,\n",
              " 'abaondon': 11.79262289166491,\n",
              " 'abated': 11.387157783556747,\n",
              " 'abatement': 11.099475711104967,\n",
              " 'abatha': 9.92082071476332,\n",
              " 'abating': 11.79262289166491,\n",
              " 'abato': 11.79262289166491,\n",
              " 'abb': 11.387157783556747,\n",
              " 'abba': 11.387157783556747,\n",
              " 'abbard': 8.724569956531294,\n",
              " 'abbards': 11.79262289166491,\n",
              " 'abbath': 9.92082071476332,\n",
              " 'abberations': 11.79262289166491,\n",
              " 'abbert': 11.79262289166491,\n",
              " 'abbertown': 11.79262289166491,\n",
              " 'abbey': 11.79262289166491,\n",
              " 'abbi': 10.406328530545021,\n",
              " 'abbie': 11.79262289166491,\n",
              " 'abbies': 11.79262289166491,\n",
              " 'abbinic': 11.79262289166491,\n",
              " 'abbis': 11.387157783556747,\n",
              " 'abbit': 10.406328530545021,\n",
              " 'abbiting': 11.79262289166491,\n",
              " 'abbits': 11.79262289166491,\n",
              " 'abbitt': 11.79262289166491,\n",
              " 'abble': 11.387157783556747,\n",
              " 'abblin': 11.79262289166491,\n",
              " 'abbos': 11.79262289166491,\n",
              " 'abbots': 11.79262289166491,\n",
              " 'abbott': 11.79262289166491,\n",
              " 'abbrev': 11.79262289166491,\n",
              " 'abbreviate': 11.387157783556747,\n",
              " 'abbreviated': 11.79262289166491,\n",
              " 'abbreviation': 11.387157783556747,\n",
              " 'abbreviations': 11.79262289166491,\n",
              " 'abbvie': 11.79262289166491,\n",
              " 'abby': 10.288545494888638,\n",
              " 'abbyrich': 11.79262289166491,\n",
              " 'abc': 11.79262289166491,\n",
              " 'abces': 11.79262289166491,\n",
              " 'abchoke': 11.79262289166491,\n",
              " 'abciock': 11.79262289166491,\n",
              " 'abcnewsgocom': 11.79262289166491,\n",
              " 'abcock': 9.153565562049653,\n",
              " 'abcocks': 11.79262289166491,\n",
              " 'abd': 11.099475711104967,\n",
              " 'abdicate': 10.539859923169542,\n",
              " 'abdicated': 10.183184979230811,\n",
              " 'abdicating': 11.387157783556747,\n",
              " 'abdication': 10.694010602996801,\n",
              " 'abdomen': 11.79262289166491,\n",
              " 'abdominal': 11.79262289166491,\n",
              " 'abdominals': 11.79262289166491,\n",
              " 'abduct': 11.79262289166491,\n",
              " 'abducted': 10.406328530545021,\n",
              " 'abduction': 11.387157783556747,\n",
              " 'abe': 10.539859923169542,\n",
              " 'abeas': 11.79262289166491,\n",
              " 'abebuia': 11.79262289166491,\n",
              " 'abel': 9.541331093058416,\n",
              " 'abela': 11.79262289166491,\n",
              " 'abelas': 11.099475711104967,\n",
              " 'abeling': 11.099475711104967,\n",
              " 'abella': 11.79262289166491,\n",
              " 'abelle': 11.79262289166491,\n",
              " 'abels': 11.099475711104967,\n",
              " 'abelwelcome': 11.79262289166491,\n",
              " 'aber': 11.387157783556747,\n",
              " 'abercrombie': 11.79262289166491,\n",
              " 'aberrant': 11.099475711104967,\n",
              " 'aberration': 10.539859923169542,\n",
              " 'aberrations': 11.79262289166491,\n",
              " 'abes': 11.79262289166491,\n",
              " 'abesna': 11.387157783556747,\n",
              " 'abet': 11.099475711104967,\n",
              " 'abetogema': 11.79262289166491,\n",
              " 'abets': 11.79262289166491,\n",
              " 'abetted': 9.713181349985076,\n",
              " 'abetting': 9.266894247356657,\n",
              " 'abexcept': 11.79262289166491,\n",
              " 'abhor': 9.65255672816864,\n",
              " 'abhorred': 11.387157783556747,\n",
              " 'abhorrence': 11.099475711104967,\n",
              " 'abhorrent': 9.350275856295706,\n",
              " 'abhorres': 11.79262289166491,\n",
              " 'abhors': 11.79262289166491,\n",
              " 'abi': 11.79262289166491,\n",
              " 'abib': 11.099475711104967,\n",
              " 'abid': 10.876332159790756,\n",
              " 'abidance': 11.387157783556747,\n",
              " 'abide': 8.657128675735763,\n",
              " 'abided': 11.79262289166491,\n",
              " 'abides': 11.099475711104967,\n",
              " 'abidin': 11.387157783556747,\n",
              " 'abiding': 8.209103953208801,\n",
              " 'abies': 10.539859923169542,\n",
              " 'abihi': 11.79262289166491,\n",
              " 'abil': 11.79262289166491,\n",
              " 'abilities': 8.408232628319137,\n",
              " 'abilitiy': 11.79262289166491,\n",
              " 'ability': 6.273163976473338,\n",
              " 'abilitymany': 11.79262289166491,\n",
              " 'abilitywillingness': 11.79262289166491,\n",
              " 'abin': 11.387157783556747,\n",
              " 'abinet': 8.515478158672735,\n",
              " 'abinowitz': 11.79262289166491,\n",
              " 'abins': 11.79262289166491,\n",
              " 'abit': 11.79262289166491,\n",
              " 'abitat': 10.876332159790756,\n",
              " 'abitha': 11.387157783556747,\n",
              " 'abitual': 11.387157783556747,\n",
              " 'abitually': 11.79262289166491,\n",
              " 'abjad': 11.79262289166491,\n",
              " 'abject': 9.266894247356657,\n",
              " 'abjectly': 11.099475711104967,\n",
              " 'abjure': 11.79262289166491,\n",
              " 'abla': 11.79262289166491,\n",
              " 'ablack': 11.79262289166491,\n",
              " 'able': 5.299625767702532,\n",
              " 'ablebodied': 10.288545494888638,\n",
              " 'ablebodies': 11.79262289166491,\n",
              " 'ablecos': 11.79262289166491,\n",
              " 'abled': 11.387157783556747,\n",
              " 'ableist': 11.79262289166491,\n",
              " 'abler': 11.79262289166491,\n",
              " 'ables': 11.099475711104967,\n",
              " 'ableso': 11.79262289166491,\n",
              " 'ablet': 11.099475711104967,\n",
              " 'ablike': 11.79262289166491,\n",
              " 'ablo': 11.387157783556747,\n",
              " 'abloid': 11.79262289166491,\n",
              " 'abloidtha': 11.79262289166491,\n",
              " 'ablsolutely': 11.79262289166491,\n",
              " 'ablut': 11.79262289166491,\n",
              " 'ably': 11.387157783556747,\n",
              " 'ablyon': 11.79262289166491,\n",
              " 'abnormaities': 11.79262289166491,\n",
              " 'abnormal': 9.92082071476332,\n",
              " 'abnormalities': 11.099475711104967,\n",
              " 'abnormality': 11.387157783556747,\n",
              " 'abnormally': 11.387157783556747,\n",
              " 'abo': 11.387157783556747,\n",
              " 'aboard': 9.394727618866542,\n",
              " 'aboarda': 11.79262289166491,\n",
              " 'abob': 11.387157783556747,\n",
              " 'abode': 11.099475711104967,\n",
              " 'abodes': 11.79262289166491,\n",
              " 'abolish': 9.394727618866542,\n",
              " 'abolished': 9.227673534203374,\n",
              " 'abolishedand': 11.79262289166491,\n",
              " 'abolishedperiod': 11.79262289166491,\n",
              " 'abolishing': 10.694010602996801,\n",
              " 'abolition': 10.183184979230811,\n",
              " 'abolitionist': 11.79262289166491,\n",
              " 'abominable': 10.539859923169542,\n",
              " 'abomination': 10.000863422436856,\n",
              " 'abominations': 11.79262289166491,\n",
              " 'aboneng': 11.79262289166491,\n",
              " 'aboo': 11.79262289166491,\n",
              " 'aboob': 11.79262289166491,\n",
              " 'abooby': 11.79262289166491,\n",
              " 'aboon': 11.387157783556747,\n",
              " 'aboot': 11.79262289166491,\n",
              " 'abor': 8.84818391249847,\n",
              " 'aboratory': 11.099475711104967,\n",
              " 'aborer': 11.79262289166491,\n",
              " 'aborhent': 11.79262289166491,\n",
              " 'aboriginal': 8.478436886992386,\n",
              " 'aboriginals': 9.541331093058416,\n",
              " 'aboriton': 11.79262289166491,\n",
              " 'abors': 11.79262289166491,\n",
              " 'abort': 9.350275856295706,\n",
              " 'aborted': 9.65255672816864,\n",
              " 'aborter': 11.79262289166491,\n",
              " 'abortifacients': 11.79262289166491,\n",
              " 'aborting': 11.099475711104967,\n",
              " 'abortion': 6.328791086639301,\n",
              " 'abortionand': 11.79262289166491,\n",
              " 'abortioncontraceptives': 11.79262289166491,\n",
              " 'abortione': 11.387157783556747,\n",
              " 'abortionist': 10.876332159790756,\n",
              " 'abortionists': 10.694010602996801,\n",
              " 'abortionit': 11.79262289166491,\n",
              " 'abortionloving': 11.79262289166491,\n",
              " 'abortionon': 11.79262289166491,\n",
              " 'abortionor': 11.79262289166491,\n",
              " 'abortionplease': 11.79262289166491,\n",
              " 'abortionright': 11.79262289166491,\n",
              " 'abortions': 7.515956772648856,\n",
              " 'abortionsit': 11.79262289166491,\n",
              " 'abortionso': 11.79262289166491,\n",
              " 'abortionsor': 11.79262289166491,\n",
              " 'abortionyou': 11.79262289166491,\n",
              " 'abortive': 11.79262289166491,\n",
              " 'aborts': 11.387157783556747,\n",
              " 'abortuaries': 11.79262289166491,\n",
              " 'abortuary': 11.79262289166491,\n",
              " 'abot': 11.099475711104967,\n",
              " 'abotage': 11.387157783556747,\n",
              " 'abotaged': 11.79262289166491,\n",
              " 'abou': 11.387157783556747,\n",
              " 'abound': 9.713181349985076,\n",
              " 'abounding': 11.387157783556747,\n",
              " 'abounds': 10.288545494888638,\n",
              " 'abour': 9.153565562049653,\n",
              " 'abourers': 11.79262289166491,\n",
              " 'abouta': 11.79262289166491,\n",
              " 'aboutagain': 11.79262289166491,\n",
              " 'aboutanada': 11.79262289166491,\n",
              " 'aboutand': 11.79262289166491,\n",
              " 'aboutatulov': 11.79262289166491,\n",
              " 'aboutbut': 11.79262289166491,\n",
              " 'aboutby': 11.79262289166491,\n",
              " 'aboutdusty': 11.79262289166491,\n",
              " 'aboutf': 11.387157783556747,\n",
              " 'aboutface': 11.79262289166491,\n",
              " 'aboutfrom': 11.79262289166491,\n",
              " 'abouth': 11.387157783556747,\n",
              " 'abouthe': 11.79262289166491,\n",
              " 'abouthockey': 11.79262289166491,\n",
              " 'aboutit': 11.79262289166491,\n",
              " 'aboutken': 11.79262289166491,\n",
              " 'aboutnot': 11.79262289166491,\n",
              " 'aboutodgers': 11.79262289166491,\n",
              " 'abouts': 11.79262289166491,\n",
              " 'aboutsadyet': 11.79262289166491,\n",
              " 'aboutsounds': 11.79262289166491,\n",
              " 'aboutsurely': 11.79262289166491,\n",
              " 'abouttalk': 11.79262289166491,\n",
              " 'aboutthe': 11.79262289166491,\n",
              " 'aboutthis': 11.79262289166491,\n",
              " 'aboutto': 11.79262289166491,\n",
              " 'abouttobe': 11.79262289166491,\n",
              " 'aboutwhat': 11.79262289166491,\n",
              " 'aboutyet': 11.79262289166491,\n",
              " 'aboutyou': 11.79262289166491,\n",
              " 'aboveabortion': 11.79262289166491,\n",
              " 'aboveboard': 11.79262289166491,\n",
              " 'aboveeystone': 11.79262289166491,\n",
              " 'abovegarage': 11.79262289166491,\n",
              " 'abovein': 11.79262289166491,\n",
              " 'abovemarket': 11.79262289166491,\n",
              " 'abovementioned': 11.387157783556747,\n",
              " 'abovereferenced': 11.79262289166491,\n",
              " 'abovethebelt': 11.79262289166491,\n",
              " 'abovetop': 11.79262289166491,\n",
              " 'aboytvlinton': 11.79262289166491,\n",
              " 'abracadabra': 11.79262289166491,\n",
              " 'abrador': 10.539859923169542,\n",
              " 'abrahamic': 11.79262289166491,\n",
              " 'abrales': 11.79262289166491,\n",
              " 'abrasive': 10.288545494888638,\n",
              " 'abrassive': 11.79262289166491,\n",
              " 'abreast': 10.539859923169542,\n",
              " 'abrera': 11.79262289166491,\n",
              " 'abres': 11.79262289166491,\n",
              " 'abreviation': 11.79262289166491,\n",
              " 'abrewatory': 11.79262289166491,\n",
              " 'abri': 11.79262289166491,\n",
              " 'abric': 11.79262289166491,\n",
              " 'abridge': 11.79262289166491,\n",
              " 'abridged': 11.387157783556747,\n",
              " 'abridgement': 11.79262289166491,\n",
              " 'abridging': 11.387157783556747,\n",
              " 'abridgment': 11.387157783556747,\n",
              " 'abriel': 10.694010602996801,\n",
              " 'abrielle': 10.694010602996801,\n",
              " 'abrielleeoux': 11.79262289166491,\n",
              " 'abristan': 11.79262289166491,\n",
              " 'abroad': 8.391425510002755,\n",
              " 'abrogate': 10.876332159790756,\n",
              " 'abrogated': 10.694010602996801,\n",
              " 'abrogating': 11.387157783556747,\n",
              " 'abrogation': 11.79262289166491,\n",
              " 'abroko': 11.79262289166491,\n",
              " 'abrupt': 10.876332159790756,\n",
              " 'abruptly': 11.387157783556747,\n",
              " 'abry': 11.79262289166491,\n",
              " 'abs': 8.460418381489706,\n",
              " 'abscence': 11.79262289166491,\n",
              " 'abscess': 10.694010602996801,\n",
              " 'abscessed': 11.387157783556747,\n",
              " 'abscesses': 11.387157783556747,\n",
              " 'abscond': 11.79262289166491,\n",
              " 'absconded': 11.79262289166491,\n",
              " 'absence': 8.223090195183541,\n",
              " 'absences': 11.387157783556747,\n",
              " 'absense': 11.79262289166491,\n",
              " 'absent': 8.425327061678438,\n",
              " 'absentee': 9.713181349985076,\n",
              " 'absenteeism': 10.539859923169542,\n",
              " 'absentia': 11.79262289166491,\n",
              " 'absents': 11.79262289166491,\n",
              " 'absentwhich': 11.79262289166491,\n",
              " 'abslol': 11.79262289166491,\n",
              " 'absndoned': 11.79262289166491,\n",
              " 'absoloutly': 11.79262289166491,\n",
              " 'absolute': 7.207655412994339,\n",
              " 'absolutely': 5.975511731701707,\n",
              " 'absolutelywho': 11.79262289166491,\n",
              " 'absolutes': 10.876332159790756,\n",
              " 'absolutey': 11.79262289166491,\n",
              " 'absolution': 9.713181349985076,\n",
              " 'absolutism': 11.387157783556747,\n",
              " 'absolutist': 10.876332159790756,\n",
              " 'absolve': 9.541331093058416,\n",
              " 'absolved': 10.000863422436856,\n",
              " 'absolves': 11.099475711104967,\n",
              " 'absolving': 11.387157783556747,\n",
              " 'absorb': 8.959409547608695,\n",
              " 'absorbants': 11.79262289166491,\n",
              " 'absorbed': 9.30771624187691,\n",
              " 'absorbent': 11.79262289166491,\n",
              " 'absorber': 11.79262289166491,\n",
              " 'absorbing': 11.099475711104967,\n",
              " 'absorbitant': 11.79262289166491,\n",
              " 'absorbs': 11.387157783556747,\n",
              " 'absorbtion': 11.79262289166491,\n",
              " 'absoronto': 11.79262289166491,\n",
              " 'absorption': 10.288545494888638,\n",
              " 'abstain': 10.000863422436856,\n",
              " 'abstainance': 11.79262289166491,\n",
              " 'abstained': 11.79262289166491,\n",
              " 'abstaining': 11.387157783556747,\n",
              " 'abstention': 11.79262289166491,\n",
              " 'abstinence': 10.406328530545021,\n",
              " 'abstinenceonly': 11.79262289166491,\n",
              " 'abstract': 9.777719871122647,\n",
              " 'abstracted': 11.79262289166491,\n",
              " 'abstraction': 10.876332159790756,\n",
              " 'abstractions': 11.387157783556747,\n",
              " 'abstractly': 11.387157783556747,\n",
              " 'abstracts': 11.387157783556747,\n",
              " 'absurb': 11.387157783556747,\n",
              " 'absurd': 7.633739808305239,\n",
              " 'absurdam': 11.79262289166491,\n",
              " 'absurdby': 11.79262289166491,\n",
              " 'absurdinsane': 11.79262289166491,\n",
              " 'absurdities': 11.79262289166491,\n",
              " 'absurdity': 9.541331093058416,\n",
              " 'absurdly': 10.406328530545021,\n",
              " 'absurdum': 11.387157783556747,\n",
              " 'abt': 11.79262289166491,\n",
              " 'abu': 11.79262289166491,\n",
              " 'abuelita': 11.79262289166491,\n",
              " 'abuisive': 11.79262289166491,\n",
              " 'abuki': 11.79262289166491,\n",
              " 'abul': 11.387157783556747,\n",
              " 'abulous': 10.288545494888638,\n",
              " 'abulu': 11.79262289166491,\n",
              " 'abuncha': 11.79262289166491,\n",
              " 'abundance': 8.874852159580632,\n",
              " 'abundant': 9.713181349985076,\n",
              " 'abundantly': 9.541331093058416,\n",
              " 'abuse': 6.181321269802876,\n",
              " 'abused': 7.4553321508324215,\n",
              " 'abusedependencydeathsorrow': 11.79262289166491,\n",
              " 'abusedsexually': 11.79262289166491,\n",
              " 'abusemarried': 11.79262289166491,\n",
              " 'abusemedication': 11.79262289166491,\n",
              " 'abuser': 9.153565562049653,\n",
              " 'abusers': 8.614569061316967,\n",
              " 'abuses': 8.478436886992386,\n",
              " 'abush': 11.79262289166491,\n",
              " 'abusing': 8.251663567627597,\n",
              " 'abusive': 8.043118815734541,\n",
              " 'abuski': 11.79262289166491,\n",
              " 'abut': 11.099475711104967,\n",
              " 'abviously': 11.79262289166491,\n",
              " 'abwe': 11.79262289166491,\n",
              " 'aby': 8.930422010735443,\n",
              " 'abyboomers': 11.79262289166491,\n",
              " 'abying': 11.79262289166491,\n",
              " 'abylon': 10.694010602996801,\n",
              " 'abylonian': 11.79262289166491,\n",
              " 'abys': 11.79262289166491,\n",
              " 'abysitting': 11.79262289166491,\n",
              " 'abysmal': 9.189933206220527,\n",
              " 'abysmally': 10.406328530545021,\n",
              " 'abyss': 9.92082071476332,\n",
              " 'abzolute': 11.79262289166491,\n",
              " 'ac': 8.460418381489706,\n",
              " 'aca': 11.387157783556747,\n",
              " 'acadamia': 11.79262289166491,\n",
              " 'academe': 11.387157783556747,\n",
              " 'academia': 9.394727618866542,\n",
              " 'academic': 7.610572749023705,\n",
              " 'academically': 10.183184979230811,\n",
              " 'academicians': 11.387157783556747,\n",
              " 'academicresearch': 11.79262289166491,\n",
              " 'academics': 8.57374706679671,\n",
              " 'academies': 11.387157783556747,\n",
              " 'academy': 10.183184979230811,\n",
              " 'acaentals': 11.79262289166491,\n",
              " 'acain': 11.79262289166491,\n",
              " 'acaine': 11.79262289166491,\n",
              " 'acaintean': 11.79262289166491,\n",
              " 'acajawea': 11.79262289166491,\n",
              " 'acallum': 11.79262289166491,\n",
              " 'acamara': 11.79262289166491,\n",
              " 'acant': 11.79262289166491,\n",
              " 'acaque': 11.79262289166491,\n",
              " 'acaroni': 11.79262289166491,\n",
              " 'acaster': 11.79262289166491,\n",
              " 'acath': 11.79262289166491,\n",
              " 'acation': 10.087874799426485,\n",
              " 'acationers': 11.79262289166491,\n",
              " 'acations': 11.79262289166491,\n",
              " 'acatte': 11.79262289166491,\n",
              " 'acau': 11.79262289166491,\n",
              " 'acause': 11.79262289166491,\n",
              " 'acavera': 11.79262289166491,\n",
              " 'acay': 10.539859923169542,\n",
              " 'acbeth': 11.387157783556747,\n",
              " 'acc': 11.79262289166491,\n",
              " 'accallum': 11.79262289166491,\n",
              " 'acccepted': 11.79262289166491,\n",
              " 'accede': 11.099475711104967,\n",
              " 'acceded': 11.387157783556747,\n",
              " 'acceding': 11.79262289166491,\n",
              " 'accelerant': 11.79262289166491,\n",
              " 'accelerate': 9.846712742609599,\n",
              " 'accelerated': 9.595398314328692,\n",
              " 'acceleratedpervasive': 11.79262289166491,\n",
              " 'accelerates': 10.539859923169542,\n",
              " 'accelerating': 9.350275856295706,\n",
              " 'acceleration': 10.000863422436856,\n",
              " 'accelerator': 11.099475711104967,\n",
              " 'accent': 9.777719871122647,\n",
              " 'accented': 11.79262289166491,\n",
              " 'accents': 10.876332159790756,\n",
              " 'accentuate': 11.387157783556747,\n",
              " 'accentuated': 11.79262289166491,\n",
              " 'accept': 6.11586908939663,\n",
              " 'acceptability': 11.79262289166491,\n",
              " 'acceptable': 7.148231992523539,\n",
              " 'acceptablegive': 11.79262289166491,\n",
              " 'acceptance': 8.223090195183541,\n",
              " 'acceptation': 11.79262289166491,\n",
              " 'accepted': 7.1924652475003645,\n",
              " 'acceptedplay': 11.79262289166491,\n",
              " 'accepting': 7.558516387067652,\n",
              " 'accepts': 9.153565562049653,\n",
              " 'acceptwhen': 11.79262289166491,\n",
              " 'accerbates': 11.79262289166491,\n",
              " 'access': 6.018071346120503,\n",
              " 'accessable': 11.79262289166491,\n",
              " 'accessed': 10.183184979230811,\n",
              " 'accesses': 11.387157783556747,\n",
              " 'accessibility': 11.387157783556747,\n",
              " 'accessible': 8.442718804390307,\n",
              " 'accessing': 9.92082071476332,\n",
              " 'accession': 11.387157783556747,\n",
              " 'accessments': 11.79262289166491,\n",
              " 'accessories': 10.876332159790756,\n",
              " 'accessoriesdab': 11.79262289166491,\n",
              " 'accessory': 9.65255672816864,\n",
              " 'accharin': 11.79262289166491,\n",
              " 'acchidanandahantivanam': 11.79262289166491,\n",
              " 'acciavillan': 11.79262289166491,\n",
              " 'accidemic': 11.79262289166491,\n",
              " 'accidenlty': 11.79262289166491,\n",
              " 'accident': 7.448817469811227,\n",
              " 'accidental': 8.989262510758376,\n",
              " 'accidentally': 9.118474242238383,\n",
              " 'accidentfree': 11.79262289166491,\n",
              " 'accidently': 10.876332159790756,\n",
              " 'accidents': 7.921421880757021,\n",
              " 'accidentsor': 11.79262289166491,\n",
              " 'accidentssuicide': 11.79262289166491,\n",
              " 'accinations': 11.79262289166491,\n",
              " 'accine': 11.387157783556747,\n",
              " 'accines': 11.099475711104967,\n",
              " 'acclaim': 11.099475711104967,\n",
              " 'acclaimed': 11.099475711104967,\n",
              " 'acclamation': 11.79262289166491,\n",
              " 'acclimate': 11.387157783556747,\n",
              " 'acclimated': 11.099475711104967,\n",
              " 'acclimatedhe': 11.79262289166491,\n",
              " 'acclimatize': 11.387157783556747,\n",
              " 'acclimatized': 11.79262289166491,\n",
              " 'accolade': 11.79262289166491,\n",
              " 'accolades': 9.777719871122647,\n",
              " 'accomadate': 10.876332159790756,\n",
              " 'accomadations': 11.79262289166491,\n",
              " 'accomidation': 11.79262289166491,\n",
              " 'accommod': 11.79262289166491,\n",
              " 'accommodate': 8.116322219757835,\n",
              " 'accommodated': 9.490037798670865,\n",
              " 'accommodates': 11.387157783556747,\n",
              " 'accommodating': 9.30771624187691,\n",
              " 'accommodation': 8.425327061678438,\n",
              " 'accommodations': 8.84818391249847,\n",
              " 'accommodators': 11.79262289166491,\n",
              " 'accommodition': 11.79262289166491,\n",
              " 'accomodate': 10.876332159790756,\n",
              " 'accomodated': 11.79262289166491,\n",
              " 'accomodating': 11.099475711104967,\n",
              " 'accomodation': 11.79262289166491,\n",
              " 'accomodations': 11.387157783556747,\n",
              " 'accompanied': 9.541331093058416,\n",
              " 'accompanies': 10.183184979230811,\n",
              " 'accompaniment': 10.183184979230811,\n",
              " 'accompany': 9.65255672816864,\n",
              " 'accompanying': 9.227673534203374,\n",
              " 'accompli': 11.79262289166491,\n",
              " 'accomplice': 10.539859923169542,\n",
              " 'accomplices': 10.406328530545021,\n",
              " 'accomplis': 11.79262289166491,\n",
              " 'accomplish': 7.78528970643244,\n",
              " 'accomplished': 7.602968149638485,\n",
              " 'accomplishes': 10.000863422436856,\n",
              " 'accomplisheswhat': 11.79262289166491,\n",
              " 'accomplishing': 9.490037798670865,\n",
              " 'accomplishment': 9.02003416942513,\n",
              " 'accomplishmentioned': 11.79262289166491,\n",
              " 'accomplishments': 8.091320917552418,\n",
              " 'accord': 8.515478158672735,\n",
              " 'accordance': 9.05178286773971,\n",
              " 'accorded': 10.694010602996801,\n",
              " 'according': 6.328791086639301,\n",
              " 'accordingly': 8.103743437550975,\n",
              " 'accords': 10.000863422436856,\n",
              " 'accosted': 11.099475711104967,\n",
              " 'account': 6.443137238542475,\n",
              " 'accountabiity': 11.79262289166491,\n",
              " 'accountabilities': 11.79262289166491,\n",
              " 'accountability': 7.3920198714180945,\n",
              " 'accountabilitycorruption': 11.79262289166491,\n",
              " 'accountabilityjust': 11.79262289166491,\n",
              " 'accountabilitymay': 11.79262289166491,\n",
              " 'accountabilityresponsibility': 11.79262289166491,\n",
              " 'accountable': 7.101275009435768,\n",
              " 'accountablewe': 11.79262289166491,\n",
              " 'accountant': 9.227673534203374,\n",
              " 'accountants': 9.084572690562702,\n",
              " 'accounted': 9.227673534203374,\n",
              " 'accountfeelings': 11.79262289166491,\n",
              " 'accountible': 11.79262289166491,\n",
              " 'accounting': 8.06692946442826,\n",
              " 'accounts': 7.105872718684397,\n",
              " 'accountspendable': 11.79262289166491,\n",
              " 'accountyou': 11.79262289166491,\n",
              " 'accoutability': 11.387157783556747,\n",
              " 'accoutrements': 11.387157783556747,\n",
              " 'accreditation': 10.000863422436856,\n",
              " 'accredited': 9.777719871122647,\n",
              " 'accretions': 11.387157783556747,\n",
              " 'accross': 11.387157783556747,\n",
              " 'accrue': 10.288545494888638,\n",
              " 'accrued': 10.406328530545021,\n",
              " 'accruing': 10.694010602996801,\n",
              " 'accts': 11.79262289166491,\n",
              " 'acculturated': 11.79262289166491,\n",
              " 'accumulate': 9.441247634501433,\n",
              " 'accumulated': 8.772198005520549,\n",
              " 'accumulates': 10.876332159790756,\n",
              " 'accumulating': 9.713181349985076,\n",
              " 'accumulation': 9.65255672816864,\n",
              " 'accumulations': 11.79262289166491,\n",
              " 'accupuncture': 11.79262289166491,\n",
              " 'accuracies': 11.79262289166491,\n",
              " 'accuracy': 8.342635345833324,\n",
              " 'accuracybe': 11.79262289166491,\n",
              " 'accuracymargin': 11.79262289166491,\n",
              " 'accurancy': 11.79262289166491,\n",
              " 'accurate': 6.788676585719452,\n",
              " 'accurately': 8.155036731938527,\n",
              " 'accursed': 11.387157783556747,\n",
              " 'accusation': 7.942475289954853,\n",
              " 'accusations': 7.544127649615552,\n",
              " 'accusationscivil': 11.79262289166491,\n",
              " 'accusationstory': 11.79262289166491,\n",
              " 'accusatory': 10.694010602996801,\n",
              " 'accuse': 8.168281958688546,\n",
              " 'accused': 7.18745270567682,\n",
              " 'accuser': 10.539859923169542,\n",
              " 'accusers': 9.846712742609599,\n",
              " 'accuses': 9.777719871122647,\n",
              " 'accusiing': 11.79262289166491,\n",
              " 'accusing': 8.515478158672735,\n",
              " 'accustom': 11.79262289166491,\n",
              " 'accustomed': 9.490037798670865,\n",
              " 'accususing': 11.79262289166491,\n",
              " 'acdonald': 10.087874799426485,\n",
              " 'acdonalds': 11.79262289166491,\n",
              " 'acduff': 11.79262289166491,\n",
              " 'ace': 8.181704979020687,\n",
              " 'acean': 11.387157783556747,\n",
              " 'acebaiting': 11.79262289166491,\n",
              " 'acebook': 7.4553321508324215,\n",
              " 'acebookcommajority': 11.79262289166491,\n",
              " 'aced': 10.694010602996801,\n",
              " 'acedonia': 11.387157783556747,\n",
              " 'acedonian': 11.79262289166491,\n",
              " 'acedonians': 11.79262289166491,\n",
              " 'aceime': 11.099475711104967,\n",
              " 'aceless': 11.79262289166491,\n",
              " 'acelifts': 11.79262289166491,\n",
              " 'acenzie': 10.087874799426485,\n",
              " 'aceook': 10.539859923169542,\n",
              " 'acepalm': 11.79262289166491,\n",
              " 'acer': 11.79262289166491,\n",
              " 'acerbic': 11.79262289166491,\n",
              " 'acers': 11.79262289166491,\n",
              " 'aces': 10.288545494888638,\n",
              " 'acessed': 11.79262289166491,\n",
              " 'aceway': 11.79262289166491,\n",
              " 'acey': 11.387157783556747,\n",
              " 'acfrican': 11.79262289166491,\n",
              " 'acft': 11.79262289166491,\n",
              " 'acgreat': 11.79262289166491,\n",
              " 'ach': 7.698278329442811,\n",
              " 'achael': 10.406328530545021,\n",
              " 'achalia': 11.387157783556747,\n",
              " 'achangin': 11.79262289166491,\n",
              " 'achary': 11.387157783556747,\n",
              " 'ache': 10.876332159790756,\n",
              " 'ached': 11.79262289166491,\n",
              " 'acheivement': 11.79262289166491,\n",
              " 'acheivementthe': 11.79262289166491,\n",
              " 'achel': 8.874852159580632,\n",
              " 'achelor': 11.387157783556747,\n",
              " 'achelors': 11.79262289166491,\n",
              " 'achemak': 11.79262289166491,\n",
              " 'achen': 11.387157783556747,\n",
              " 'acherson': 11.387157783556747,\n",
              " 'aches': 11.79262289166491,\n",
              " 'achi': 11.79262289166491,\n",
              " 'achiavelli': 10.876332159790756,\n",
              " 'achiavellian': 10.288545494888638,\n",
              " 'achida': 11.79262289166491,\n",
              " 'achievable': 10.288545494888638,\n",
              " 'achieve': 7.355871357301783,\n",
              " 'achievea': 11.79262289166491,\n",
              " 'achieved': 8.031422775971349,\n",
              " 'achievement': 8.425327061678438,\n",
              " 'achievements': 9.227673534203374,\n",
              " 'achiever': 11.79262289166491,\n",
              " 'achievers': 11.79262289166491,\n",
              " 'achieves': 10.087874799426485,\n",
              " 'achievewith': 11.387157783556747,\n",
              " 'achieving': 8.82220842609521,\n",
              " 'achievment': 11.79262289166491,\n",
              " 'achilles': 11.79262289166491,\n",
              " 'achim': 11.79262289166491,\n",
              " 'achine': 10.000863422436856,\n",
              " 'achinery': 11.79262289166491,\n",
              " 'achines': 11.387157783556747,\n",
              " 'aching': 10.539859923169542,\n",
              " 'achintelligence': 11.79262289166491,\n",
              " 'achioretty': 11.79262289166491,\n",
              " 'achive': 11.79262289166491,\n",
              " 'achlo': 11.79262289166491,\n",
              " 'achman': 11.79262289166491,\n",
              " 'achola': 11.79262289166491,\n",
              " 'achoo': 11.79262289166491,\n",
              " 'achovia': 11.79262289166491,\n",
              " 'achs': 9.394727618866542,\n",
              " 'achsgreased': 11.79262289166491,\n",
              " 'achsmuth': 11.79262289166491,\n",
              " 'acht': 11.387157783556747,\n",
              " 'achtergreifung': 11.79262289166491,\n",
              " 'achu': 11.79262289166491,\n",
              " 'aci': 11.79262289166491,\n",
              " 'acial': 10.087874799426485,\n",
              " 'acially': 11.79262289166491,\n",
              " 'acid': 9.153565562049653,\n",
              " 'acidic': 11.099475711104967,\n",
              " 'acidification': 10.694010602996801,\n",
              " 'acidified': 11.79262289166491,\n",
              " 'acidify': 11.387157783556747,\n",
              " 'acidity': 11.099475711104967,\n",
              " 'acidlol': 11.79262289166491,\n",
              " 'acids': 11.099475711104967,\n",
              " 'aciel': 11.79262289166491,\n",
              " 'acific': 7.673585716852439,\n",
              " 'acifica': 11.79262289166491,\n",
              " 'acilities': 10.539859923169542,\n",
              " 'acility': 10.539859923169542,\n",
              " 'acill': 11.79262289166491,\n",
              " 'acillates': 11.387157783556747,\n",
              " 'acillivray': 11.79262289166491,\n",
              " 'acillo': 11.79262289166491,\n",
              " 'acinate': 11.79262289166491,\n",
              " 'acing': 11.387157783556747,\n",
              " 'acinnon': 10.406328530545021,\n",
              " 'acinta': 11.79262289166491,\n",
              " 'acioretty': 11.387157783556747,\n",
              " 'acism': 9.084572690562702,\n",
              " 'acist': 9.05178286773971,\n",
              " 'acists': 10.183184979230811,\n",
              " 'ack': 6.921249664902163,\n",
              " 'acka': 11.79262289166491,\n",
              " 'ackackas': 11.79262289166491,\n",
              " 'ackacks': 11.79262289166491,\n",
              " 'ackadoodle': 11.79262289166491,\n",
              " 'ackage': 11.79262289166491,\n",
              " 'ackaging': 11.79262289166491,\n",
              " 'ackand': 11.79262289166491,\n",
              " 'ackard': 11.387157783556747,\n",
              " 'ackass': 10.694010602996801,\n",
              " 'ackay': 11.387157783556747,\n",
              " 'ackbiters': 11.79262289166491,\n",
              " 'ackbone': 11.387157783556747,\n",
              " 'acked': 10.539859923169542,\n",
              " 'ackels': 11.79262289166491,\n",
              " 'ackenmueller': 11.79262289166491,\n",
              " 'ackenzie': 10.288545494888638,\n",
              " 'ackenzieing': 11.79262289166491,\n",
              " 'ackerman': 11.79262289166491,\n",
              " 'ackers': 10.539859923169542,\n",
              " 'ackes': 11.79262289166491,\n",
              " 'acket': 11.387157783556747,\n",
              " 'acketerring': 11.79262289166491,\n",
              " 'ackets': 10.876332159790756,\n",
              " 'ackett': 11.79262289166491,\n",
              " 'ackey': 10.876332159790756,\n",
              " 'ackground': 10.876332159790756,\n",
              " 'ackie': 10.694010602996801,\n",
              " 'acking': 9.777719871122647,\n",
              " 'ackingtonscom': 11.79262289166491,\n",
              " 'ackinnonjjwm': 11.79262289166491,\n",
              " 'ackinsky': 11.79262289166491,\n",
              " 'acklash': 11.79262289166491,\n",
              " 'ackle': 11.79262289166491,\n",
              " 'ackler': 11.79262289166491,\n",
              " 'ackles': 11.387157783556747,\n",
              " 'ackley': 11.79262289166491,\n",
              " 'ackner': 11.79262289166491,\n",
              " 'acknheox': 11.79262289166491,\n",
              " 'acknoweldged': 11.79262289166491,\n",
              " 'acknowledge': 7.298384266384102,\n",
              " 'acknowledgeable': 11.79262289166491,\n",
              " 'acknowledged': 8.374896208051545,\n",
              " 'acknowledgement': 9.65255672816864,\n",
              " 'acknowledgements': 11.79262289166491,\n",
              " 'acknowledges': 9.227673534203374,\n",
              " 'acknowledging': 8.593949774114229,\n",
              " 'acknowledgment': 10.876332159790756,\n",
              " 'acknowledgments': 11.79262289166491,\n",
              " 'acknowlege': 11.79262289166491,\n",
              " 'acko': 11.79262289166491,\n",
              " 'ackohnson': 11.387157783556747,\n",
              " 'ackpot': 11.099475711104967,\n",
              " 'acks': 10.694010602996801,\n",
              " 'ackslapping': 11.79262289166491,\n",
              " 'acksolutiongmai': 11.387157783556747,\n",
              " 'ackson': 8.425327061678438,\n",
              " 'acksonhe': 11.79262289166491,\n",
              " 'acksonville': 11.79262289166491,\n",
              " 'ackup': 11.79262289166491,\n",
              " 'ackward': 11.387157783556747,\n",
              " 'acky': 10.876332159790756,\n",
              " 'ackyard': 11.387157783556747,\n",
              " 'aclaren': 11.79262289166491,\n",
              " 'aclean': 11.387157783556747,\n",
              " 'acleans': 11.79262289166491,\n",
              " 'acmillanloedell': 11.79262289166491,\n",
              " 'acne': 11.099475711104967,\n",
              " 'acned': 11.79262289166491,\n",
              " 'acneridden': 11.79262289166491,\n",
              " 'acntyre': 11.387157783556747,\n",
              " 'aco': 9.846712742609599,\n",
              " 'acob': 9.394727618866542,\n",
              " 'acobs': 9.713181349985076,\n",
              " 'acobson': 11.387157783556747,\n",
              " 'acolle': 11.79262289166491,\n",
              " 'acolyte': 10.183184979230811,\n",
              " 'acolytes': 10.694010602996801,\n",
              " 'acoma': 10.876332159790756,\n",
              " 'acommodations': 11.79262289166491,\n",
              " 'acon': 10.876332159790756,\n",
              " 'aconald': 9.394727618866542,\n",
              " 'aconalds': 11.099475711104967,\n",
              " 'acook': 11.79262289166491,\n",
              " 'acoon': 11.79262289166491,\n",
              " 'acord': 11.79262289166491,\n",
              " 'acorn': 11.099475711104967,\n",
              " 'acorns': 11.387157783556747,\n",
              " 'acos': 11.099475711104967,\n",
              " 'acougall': 11.79262289166491,\n",
              " 'acountable': 11.79262289166491,\n",
              " 'acoustic': 11.79262289166491,\n",
              " 'acprowski': 11.79262289166491,\n",
              " 'acquaint': 11.79262289166491,\n",
              " 'acquaintance': 10.876332159790756,\n",
              " 'acquaintances': 9.65255672816864,\n",
              " 'acquaintancesfamily': 11.79262289166491,\n",
              " 'acquainted': 10.288545494888638,\n",
              " 'acqueline': 11.099475711104967,\n",
              " 'acques': 11.79262289166491,\n",
              " 'acquiesced': 11.099475711104967,\n",
              " 'acquiescence': 10.876332159790756,\n",
              " 'acquiesces': 11.79262289166491,\n",
              " 'acquiescing': 10.876332159790756,\n",
              " 'acquifer': 11.79262289166491,\n",
              " 'acquirable': 11.387157783556747,\n",
              " 'acquire': 9.05178286773971,\n",
              " 'acquired': 8.772198005520549,\n",
              " 'acquires': 11.79262289166491,\n",
              " 'acquiring': 9.846712742609599,\n",
              " 'acquisition': 9.595398314328692,\n",
              " 'acquisitions': 9.92082071476332,\n",
              " 'acquisitive': 11.79262289166491,\n",
              " 'acquit': 10.876332159790756,\n",
              " 'acquittal': 10.876332159790756,\n",
              " 'acquittals': 11.387157783556747,\n",
              " 'acquitted': 9.846712742609599,\n",
              " 'acrament': 9.713181349985076,\n",
              " 'acramental': 11.79262289166491,\n",
              " 'acramento': 10.694010602996801,\n",
              " 'acramentoan': 11.79262289166491,\n",
              " 'acramentorum': 11.79262289166491,\n",
              " 'acraments': 10.000863422436856,\n",
              " 'acramentum': 11.387157783556747,\n",
              " 'acre': 9.118474242238383,\n",
              " 'acreage': 10.183184979230811,\n",
              " 'acreas': 11.79262289166491,\n",
              " 'acred': 10.087874799426485,\n",
              " 'acregor': 11.099475711104967,\n",
              " 'acres': 8.57374706679671,\n",
              " 'acrid': 11.79262289166491,\n",
              " 'acrifice': 10.406328530545021,\n",
              " 'acrifices': 11.387157783556747,\n",
              " 'acrificing': 11.387157783556747,\n",
              " 'acrimonious': 11.79262289166491,\n",
              " 'acrimony': 11.099475711104967,\n",
              " 'acro': 11.79262289166491,\n",
              " 'acroeconomics': 11.79262289166491,\n",
              " 'acron': 9.394727618866542,\n",
              " 'acronym': 10.087874799426485,\n",
              " 'acronyms': 10.539859923169542,\n",
              " 'acrosanctum': 11.79262289166491,\n",
              " 'acrosse': 11.79262289166491,\n",
              " 'acrossthe': 11.79262289166491,\n",
              " 'acrosstheboard': 11.387157783556747,\n",
              " 'acrowd': 11.79262289166491,\n",
              " 'acrthur': 10.876332159790756,\n",
              " 'acs': 10.539859923169542,\n",
              " 'acsaac': 11.79262289166491,\n",
              " 'act': 5.767965377201166,\n",
              " 'actbased': 11.79262289166491,\n",
              " 'actbook': 11.79262289166491,\n",
              " 'actcheckers': 11.79262289166491,\n",
              " 'actcheckorg': 11.387157783556747,\n",
              " 'acted': 7.931893180624316,\n",
              " 'actheckrg': 11.79262289166491,\n",
              " 'actical': 11.79262289166491,\n",
              " 'actically': 11.387157783556747,\n",
              " 'actics': 11.099475711104967,\n",
              " 'actin': 11.79262289166491,\n",
              " 'acting': 6.936693987329637,\n",
              " 'actinghe': 11.79262289166491,\n",
              " 'actingout': 11.79262289166491,\n",
              " 'action': 6.038464209683643,\n",
              " 'actionable': 11.099475711104967,\n",
              " 'actionand': 11.79262289166491,\n",
              " 'actionass': 11.79262289166491,\n",
              " 'actioned': 11.79262289166491,\n",
              " 'actionho': 11.79262289166491,\n",
              " 'actions': 5.899598417370182,\n",
              " 'actionsdid': 11.79262289166491,\n",
              " 'actionsespecially': 11.79262289166491,\n",
              " 'actionsf': 11.79262289166491,\n",
              " 'actionsif': 11.79262289166491,\n",
              " 'actionsinaction': 11.79262289166491,\n",
              " 'actionspretty': 11.79262289166491,\n",
              " 'actionsthe': 11.79262289166491,\n",
              " 'actionsupport': 11.79262289166491,\n",
              " 'actionswhat': 11.79262289166491,\n",
              " 'actionusing': 11.79262289166491,\n",
              " 'actism': 11.79262289166491,\n",
              " 'activate': 10.539859923169542,\n",
              " 'activated': 11.099475711104967,\n",
              " 'activates': 11.79262289166491,\n",
              " 'activating': 10.876332159790756,\n",
              " 'activation': 10.876332159790756,\n",
              " 'activators': 11.79262289166491,\n",
              " 'active': 7.233496644178227,\n",
              " 'actively': 7.565789146396732,\n",
              " 'activety': 11.79262289166491,\n",
              " 'activiated': 11.79262289166491,\n",
              " 'activism': 8.84818391249847,\n",
              " 'activist': 8.181704979020687,\n",
              " 'activists': 7.870649555383597,\n",
              " 'activites': 11.79262289166491,\n",
              " 'activities': 7.292813221334646,\n",
              " 'activitism': 11.79262289166491,\n",
              " 'activity': 6.984511861680129,\n",
              " 'activityas': 11.79262289166491,\n",
              " 'activityeally': 11.79262289166491,\n",
              " 'activitypoisoning': 11.79262289166491,\n",
              " 'activitys': 11.79262289166491,\n",
              " 'activsim': 11.79262289166491,\n",
              " 'activty': 11.79262289166491,\n",
              " 'actless': 11.79262289166491,\n",
              " 'actof': 11.79262289166491,\n",
              " 'actonderful': 11.79262289166491,\n",
              " 'actor': 9.084572690562702,\n",
              " 'actorhe': 11.79262289166491,\n",
              " 'actoria': 11.387157783556747,\n",
              " 'actories': 11.387157783556747,\n",
              " 'actoring': 11.79262289166491,\n",
              " 'actornot': 11.79262289166491,\n",
              " 'actors': 8.496786025660583,\n",
              " ...}"
            ]
          },
          "metadata": {
            "tags": []
          },
          "execution_count": 57
        }
      ]
    },
    {
      "cell_type": "code",
      "metadata": {
        "id": "2eQvKnJStkDY",
        "colab_type": "code",
        "colab": {}
      },
      "source": [
        ""
      ],
      "execution_count": 0,
      "outputs": []
    },
    {
      "cell_type": "code",
      "metadata": {
        "id": "ZOl_KyPoDtQz",
        "colab_type": "code",
        "colab": {}
      },
      "source": [
        "from keras import Sequential\n",
        "from keras.layers import Dense"
      ],
      "execution_count": 0,
      "outputs": []
    },
    {
      "cell_type": "code",
      "metadata": {
        "id": "Un8rq0lJAG4O",
        "colab_type": "code",
        "colab": {}
      },
      "source": [
        "import pandas as pd"
      ],
      "execution_count": 0,
      "outputs": []
    },
    {
      "cell_type": "code",
      "metadata": {
        "id": "2hQEpLbajQxD",
        "colab_type": "code",
        "colab": {}
      },
      "source": [
        "from sklearn.decomposition import PCA\n",
        "pca = PCA(n_components=3)\n",
        "principalComponents = pca.fit_transform(x)\n",
        "principalDf = pd.DataFrame(data = principalComponents\n",
        "             , columns = ['principal component 1', 'principal component 2'])"
      ],
      "execution_count": 0,
      "outputs": []
    },
    {
      "cell_type": "code",
      "metadata": {
        "id": "ggMG_SJ4DwHa",
        "colab_type": "code",
        "colab": {}
      },
      "source": [
        "#X=pd.DataFrame(X.todense())\n",
        "#X1=pd.DataFrame(X1.todense())\n",
        "#X_train, X_test, y_train, y_test = train_test_split(X, y, test_size=0.3)"
      ],
      "execution_count": 0,
      "outputs": []
    },
    {
      "cell_type": "code",
      "metadata": {
        "id": "72lNeryvEv_b",
        "colab_type": "code",
        "outputId": "e4701db7-071d-4a14-c638-55cacd86a728",
        "colab": {
          "base_uri": "https://localhost:8080/",
          "height": 35
        }
      },
      "source": [
        "X.shape\n"
      ],
      "execution_count": 0,
      "outputs": [
        {
          "output_type": "execute_result",
          "data": {
            "text/plain": [
              "(1804874, 573457)"
            ]
          },
          "metadata": {
            "tags": []
          },
          "execution_count": 33
        }
      ]
    },
    {
      "cell_type": "code",
      "metadata": {
        "id": "F8hMzr6nE7iM",
        "colab_type": "code",
        "outputId": "95105f04-484a-4366-864e-007c061ac274",
        "colab": {
          "base_uri": "https://localhost:8080/",
          "height": 35
        }
      },
      "source": [
        "X1.shape"
      ],
      "execution_count": 0,
      "outputs": [
        {
          "output_type": "execute_result",
          "data": {
            "text/plain": [
              "(97320, 97687)"
            ]
          },
          "metadata": {
            "tags": []
          },
          "execution_count": 34
        }
      ]
    },
    {
      "cell_type": "code",
      "metadata": {
        "id": "5Ml_G74q__HN",
        "colab_type": "code",
        "outputId": "76e631ed-1a28-4acd-a7e7-d4ee5171ad6a",
        "colab": {
          "base_uri": "https://localhost:8080/",
          "height": 35
        }
      },
      "source": [
        "#type(X)\n",
        "#type(X1)\n",
        "#import numpy as np\n",
        "#val=np.random.choice(X, 3, replace=False)"
      ],
      "execution_count": 0,
      "outputs": [
        {
          "output_type": "execute_result",
          "data": {
            "text/plain": [
              "scipy.sparse.csr.csr_matrix"
            ]
          },
          "metadata": {
            "tags": []
          },
          "execution_count": 29
        }
      ]
    },
    {
      "cell_type": "code",
      "metadata": {
        "id": "QMKWQg0gD6Or",
        "colab_type": "code",
        "outputId": "c3ae1db6-a454-431a-d40c-ec3b9b459915",
        "colab": {
          "base_uri": "https://localhost:8080/",
          "height": 92
        }
      },
      "source": [
        "classifier = Sequential()\n",
        "#First Hidden Layer\n",
        "classifier.add(Dense(10, activation='relu', kernel_initializer='random_normal', input_dim=X.shape[1]))\n",
        "#Second  Hidden Layer\n",
        "classifier.add(Dense(10, activation='relu', kernel_initializer='random_normal'))\n",
        "classifier.add(Dense(10, activation='relu', kernel_initializer='random_normal'))\n",
        "classifier.add(Dense(10, activation='relu', kernel_initializer='random_normal'))\n",
        "classifier.add(Dense(10, activation='relu', kernel_initializer='random_normal'))\n",
        "#Output Layer\n",
        "classifier.add(Dense(1, activation='sigmoid', kernel_initializer='random_normal'))"
      ],
      "execution_count": 0,
      "outputs": [
        {
          "output_type": "stream",
          "text": [
            "WARNING:tensorflow:From /usr/local/lib/python3.6/dist-packages/tensorflow/python/framework/op_def_library.py:263: colocate_with (from tensorflow.python.framework.ops) is deprecated and will be removed in a future version.\n",
            "Instructions for updating:\n",
            "Colocations handled automatically by placer.\n"
          ],
          "name": "stdout"
        }
      ]
    },
    {
      "cell_type": "code",
      "metadata": {
        "id": "9iG7-Q1ID9MD",
        "colab_type": "code",
        "colab": {}
      },
      "source": [
        "#Compiling the neural network\n",
        "classifier.compile(optimizer ='adam',loss='binary_crossentropy', metrics =['accuracy'])"
      ],
      "execution_count": 0,
      "outputs": []
    },
    {
      "cell_type": "code",
      "metadata": {
        "id": "EnoCNQlGD_t3",
        "colab_type": "code",
        "outputId": "f3da5797-1e01-426d-b0b7-c523e06df586",
        "colab": {
          "base_uri": "https://localhost:8080/",
          "height": 74
        }
      },
      "source": [
        "#Fitting the data to the training dataset\n",
        "classifier.fit(X,data_train.severe_toxicity, batch_size=9, epochs=1)"
      ],
      "execution_count": 0,
      "outputs": [
        {
          "output_type": "stream",
          "text": [
            "Epoch 1/1\n",
            " 514269/1804874 [=======>......................] - ETA: 5:18:53 - loss: 0.0285 - acc: 0.9423Buffered data was truncated after reaching the output size limit."
          ],
          "name": "stdout"
        }
      ]
    },
    {
      "cell_type": "code",
      "metadata": {
        "id": "mGi4hyc6cFb-",
        "colab_type": "code",
        "colab": {}
      },
      "source": [
        "import pickle\n",
        "path= \"mymodel_Dl.pkl\"\n",
        "with open(path, 'wb') as f:\n",
        "        pickle.dump(model, f)\n",
        "        print(\"Done Pickiling\")"
      ],
      "execution_count": 0,
      "outputs": []
    },
    {
      "cell_type": "code",
      "metadata": {
        "id": "RAjm0feFECKf",
        "colab_type": "code",
        "colab": {}
      },
      "source": [
        "eval_model=classifier.evaluate(X, data_train.severe_toxicity)\n",
        "eval_model"
      ],
      "execution_count": 0,
      "outputs": []
    },
    {
      "cell_type": "code",
      "metadata": {
        "id": "0iNYd-zoEEfr",
        "colab_type": "code",
        "colab": {}
      },
      "source": [
        "y_pred=classifier.predict(X1)\n"
      ],
      "execution_count": 0,
      "outputs": []
    },
    {
      "cell_type": "code",
      "metadata": {
        "id": "xnbaRnOuDSVv",
        "colab_type": "code",
        "colab": {}
      },
      "source": [
        "max(y_pred)\n",
        "min(y_pred)"
      ],
      "execution_count": 0,
      "outputs": []
    },
    {
      "cell_type": "code",
      "metadata": {
        "id": "ejqj8ojWDRlI",
        "colab_type": "code",
        "colab": {}
      },
      "source": [
        "y_pred =(y_pred>0.5)"
      ],
      "execution_count": 0,
      "outputs": []
    },
    {
      "cell_type": "code",
      "metadata": {
        "id": "Pn86J1VIEHHJ",
        "colab_type": "code",
        "colab": {}
      },
      "source": [
        "eval_model=classifier.evaluate(X, data_train.severe_toxicity)\n",
        "eval_model\n",
        "y_pred=classifier.predict(X1)\n",
        "\n",
        "max(y_pred)\n",
        "min(y_pred)\n",
        "y_pred =(y_pred>0.5)\n",
        "\n",
        "from sklearn.metrics import confusion_matrix\n",
        "cm = confusion_matrix(y_test, y_pred)\n",
        "print(cm)"
      ],
      "execution_count": 0,
      "outputs": []
    }
  ]
}