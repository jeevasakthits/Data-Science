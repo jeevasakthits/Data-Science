{
  "nbformat": 4,
  "nbformat_minor": 0,
  "metadata": {
    "colab": {
      "name": "Sentence_corrector.ipynb",
      "version": "0.3.2",
      "provenance": [],
      "private_outputs": true,
      "collapsed_sections": []
    },
    "kernelspec": {
      "name": "python3",
      "display_name": "Python 3"
    },
    "accelerator": "GPU"
  },
  "cells": [
    {
      "cell_type": "code",
      "metadata": {
        "id": "8vi6uRUmSX_8",
        "colab_type": "code",
        "colab": {}
      },
      "source": [
        "!pip install enchant"
      ],
      "execution_count": 0,
      "outputs": []
    },
    {
      "cell_type": "code",
      "metadata": {
        "id": "UxQcs749D4aR",
        "colab_type": "code",
        "colab": {}
      },
      "source": [
        "!pip install deepcorrect"
      ],
      "execution_count": 0,
      "outputs": []
    },
    {
      "cell_type": "code",
      "metadata": {
        "id": "qXpSIALDgSG2",
        "colab_type": "code",
        "colab": {}
      },
      "source": [
        "import tensorflow as tf"
      ],
      "execution_count": 0,
      "outputs": []
    },
    {
      "cell_type": "code",
      "metadata": {
        "id": "wZBGllVGgWSB",
        "colab_type": "code",
        "colab": {}
      },
      "source": [
        "config = tf.ConfigProto()\n",
        "config.gpu_options.allow_growth=True\n",
        "sess = tf.Session(config=config)"
      ],
      "execution_count": 0,
      "outputs": []
    },
    {
      "cell_type": "code",
      "metadata": {
        "id": "xJQspzaegmXN",
        "colab_type": "code",
        "colab": {}
      },
      "source": [
        "!pip install deepcorrect"
      ],
      "execution_count": 0,
      "outputs": []
    },
    {
      "cell_type": "code",
      "metadata": {
        "id": "YFf0h080iYtJ",
        "colab_type": "code",
        "colab": {}
      },
      "source": [
        "!pip install h5py"
      ],
      "execution_count": 0,
      "outputs": []
    },
    {
      "cell_type": "code",
      "metadata": {
        "id": "QydQfEJPQuJb",
        "colab_type": "code",
        "colab": {}
      },
      "source": [
        "# if you are using gpu for prediction, please see https://stackoverflow.com/questions/34199233/how-to-prevent-tensorflow-from-allocating-the-totality-of-a-gpu-memory for restricting memory usage\n",
        "\n",
        "from deepcorrect import DeepCorrect\n",
        "corrector = DeepCorrect('deeppunct_params_en', 'deeppunct_checkpoint_google_news')\n",
        "corrector.correct('how are you')\n",
        "# How are you?"
      ],
      "execution_count": 0,
      "outputs": []
    },
    {
      "cell_type": "code",
      "metadata": {
        "id": "bv08ff2Blrzr",
        "colab_type": "code",
        "colab": {}
      },
      "source": [
        "i1=[]\n",
        "f=open(\"test.txt\",\"r\")\n",
        "if f.mode==\"r\":\n",
        "    a=f.readlines()\n",
        "a"
      ],
      "execution_count": 0,
      "outputs": []
    },
    {
      "cell_type": "code",
      "metadata": {
        "id": "qe3zjtmolyDG",
        "colab_type": "code",
        "colab": {}
      },
      "source": [
        "i1=[i.split(\".\") for i in a]"
      ],
      "execution_count": 0,
      "outputs": []
    },
    {
      "cell_type": "code",
      "metadata": {
        "id": "6GlJg7jfm3Lk",
        "colab_type": "code",
        "colab": {}
      },
      "source": [
        "print(i1)"
      ],
      "execution_count": 0,
      "outputs": []
    },
    {
      "cell_type": "code",
      "metadata": {
        "id": "GkyAb_QjRkYq",
        "colab_type": "code",
        "colab": {}
      },
      "source": [
        "vl1=\"\"\n",
        "vl2=[]\n",
        "for i in range(len(i1[0])):\n",
        "  vl=str(i1[0][i])\n",
        "  vl2.append(corrector.correct(vl))\n",
        "  print(vl2[i][0]['sequence'],end=\" \")"
      ],
      "execution_count": 0,
      "outputs": []
    }
  ]
}