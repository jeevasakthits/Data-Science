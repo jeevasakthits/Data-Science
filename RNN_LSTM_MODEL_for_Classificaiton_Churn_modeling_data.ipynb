{
  "nbformat": 4,
  "nbformat_minor": 0,
  "metadata": {
    "colab": {
      "name": "RNN_LSTM_MODEL_for_Classificaiton_Churn_modeling_data.ipynb",
      "version": "0.3.2",
      "provenance": [],
      "collapsed_sections": []
    },
    "kernelspec": {
      "name": "python3",
      "display_name": "Python 3"
    }
  },
  "cells": [
    {
      "cell_type": "markdown",
      "metadata": {
        "id": "6Fje94bXLTxP",
        "colab_type": "text"
      },
      "source": [
        "**Importing Required Packages**\n",
        "\n",
        "every packages are having some specific features"
      ]
    },
    {
      "cell_type": "code",
      "metadata": {
        "id": "X1kAXV_1G7Dg",
        "colab_type": "code",
        "colab": {}
      },
      "source": [
        "import numpy as np\n",
        "import matplotlib\n",
        "from google.colab import files\n",
        "from sklearn\n",
        "import keras\n",
        "from keras.models import Sequential\n",
        "from keras.layers import Dense\n"
      ],
      "execution_count": 0,
      "outputs": []
    },
    {
      "cell_type": "markdown",
      "metadata": {
        "id": "os5E-DBgLlhU",
        "colab_type": "text"
      },
      "source": [
        "**Uploading File** for the Process It is the data for our process"
      ]
    },
    {
      "cell_type": "code",
      "metadata": {
        "id": "zOLhnjJ6HB15",
        "colab_type": "code",
        "outputId": "7487af4f-f47e-4f6c-9567-8c5b30dda6f6",
        "colab": {
          "resources": {
            "http://localhost:8080/nbextensions/google.colab/files.js": {
              "data": "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",
              "ok": true,
              "headers": [
                [
                  "content-type",
                  "application/javascript"
                ]
              ],
              "status": 200,
              "status_text": ""
            }
          },
          "base_uri": "https://localhost:8080/",
          "height": 40
        }
      },
      "source": [
        "\n",
        "uploaded = files.upload()"
      ],
      "execution_count": 0,
      "outputs": [
        {
          "output_type": "display_data",
          "data": {
            "text/html": [
              "\n",
              "     <input type=\"file\" id=\"files-a6edc0a0-f0df-412f-9bbb-d971d3ed8a8d\" name=\"files[]\" multiple disabled />\n",
              "     <output id=\"result-a6edc0a0-f0df-412f-9bbb-d971d3ed8a8d\">\n",
              "      Upload widget is only available when the cell has been executed in the\n",
              "      current browser session. Please rerun this cell to enable.\n",
              "      </output>\n",
              "      <script src=\"/nbextensions/google.colab/files.js\"></script> "
            ],
            "text/plain": [
              "<IPython.core.display.HTML object>"
            ]
          },
          "metadata": {
            "tags": []
          }
        }
      ]
    },
    {
      "cell_type": "markdown",
      "metadata": {
        "id": "Hx3drezcLyt2",
        "colab_type": "text"
      },
      "source": [
        "**Reading Data**\n",
        "on this process splitting dependent variable and independent variable and storing that all in newvariables\n"
      ]
    },
    {
      "cell_type": "code",
      "metadata": {
        "id": "TqAoPsAlHe5g",
        "colab_type": "code",
        "colab": {}
      },
      "source": [
        ""
      ],
      "execution_count": 0,
      "outputs": []
    },
    {
      "cell_type": "markdown",
      "metadata": {
        "id": "podguQU7MMvG",
        "colab_type": "text"
      },
      "source": [
        "**Encoding Data**\n",
        "for further process we need to change our data type for that we using encoding method"
      ]
    },
    {
      "cell_type": "code",
      "metadata": {
        "id": "ENllJvyyHuTA",
        "colab_type": "code",
        "colab": {}
      },
      "source": [
        "\n",
        "\n"
      ],
      "execution_count": 0,
      "outputs": []
    },
    {
      "cell_type": "code",
      "metadata": {
        "id": "p3s3m8naHxcI",
        "colab_type": "code",
        "outputId": "3bdb444c-dc16-442a-c93b-78324fd65a2a",
        "colab": {
          "base_uri": "https://localhost:8080/",
          "height": 139
        }
      },
      "source": [
        ""
      ],
      "execution_count": 0,
      "outputs": [
        {
          "output_type": "stream",
          "text": [
            "/usr/local/lib/python3.6/dist-packages/sklearn/preprocessing/_encoders.py:371: FutureWarning: The handling of integer data will change in version 0.22. Currently, the categories are determined based on the range [0, max(values)], while in the future they will be determined based on the unique values.\n",
            "If you want the future behaviour and silence this warning, you can specify \"categories='auto'\".\n",
            "In case you used a LabelEncoder before this OneHotEncoder to convert the categories to integers, then you can now use the OneHotEncoder directly.\n",
            "  warnings.warn(msg, FutureWarning)\n",
            "/usr/local/lib/python3.6/dist-packages/sklearn/preprocessing/_encoders.py:392: DeprecationWarning: The 'categorical_features' keyword is deprecated in version 0.20 and will be removed in 0.22. You can use the ColumnTransformer instead.\n",
            "  \"use the ColumnTransformer instead.\", DeprecationWarning)\n"
          ],
          "name": "stderr"
        }
      ]
    },
    {
      "cell_type": "markdown",
      "metadata": {
        "id": "nnrS9hO0MksH",
        "colab_type": "text"
      },
      "source": [
        "**Spliting and Scalling**\n",
        "we need to split our data into training and testing  \n",
        "<br>\n",
        "after splitting done scling for our data"
      ]
    },
    {
      "cell_type": "code",
      "metadata": {
        "id": "WbymdRGwH3ZI",
        "colab_type": "code",
        "colab": {}
      },
      "source": [
        "\n",
        "X_test = sc.transform(X_test)"
      ],
      "execution_count": 0,
      "outputs": []
    },
    {
      "cell_type": "markdown",
      "metadata": {
        "id": "mHuBKaBKM64e",
        "colab_type": "text"
      },
      "source": [
        "**Neual Network Creaiotn**\n",
        "<br>\n",
        "after that we need to create a neural network \n",
        "<br>\n",
        "first initialize neural network and \n",
        "<br>\n",
        "after adding layer's to the neural network"
      ]
    },
    {
      "cell_type": "code",
      "metadata": {
        "id": "eD7ca-sjIBfg",
        "colab_type": "code",
        "outputId": "bb1df5c2-5948-49c9-e71d-44e0fb25a48a",
        "colab": {
          "base_uri": "https://localhost:8080/",
          "height": 139
        }
      },
      "source": [
        "classifier=Sequential()\n",
        "classifier.add(Dense(output_dim=6,init='uniform',activation='relu',input_dim=11))\n",
        "classifier.add(Dense(output_dim=6,init='uniform',activation='relu'))\n",
        "classifier.add(Dense(output_dim=1,init='uniform',activation='sigmoid'))"
      ],
      "execution_count": 0,
      "outputs": [
        {
          "output_type": "stream",
          "text": [
            "/usr/local/lib/python3.6/dist-packages/ipykernel_launcher.py:2: UserWarning: Update your `Dense` call to the Keras 2 API: `Dense(activation=\"relu\", input_dim=11, units=6, kernel_initializer=\"uniform\")`\n",
            "  \n",
            "/usr/local/lib/python3.6/dist-packages/ipykernel_launcher.py:3: UserWarning: Update your `Dense` call to the Keras 2 API: `Dense(activation=\"relu\", units=6, kernel_initializer=\"uniform\")`\n",
            "  This is separate from the ipykernel package so we can avoid doing imports until\n",
            "/usr/local/lib/python3.6/dist-packages/ipykernel_launcher.py:4: UserWarning: Update your `Dense` call to the Keras 2 API: `Dense(activation=\"sigmoid\", units=1, kernel_initializer=\"uniform\")`\n",
            "  after removing the cwd from sys.path.\n"
          ],
          "name": "stderr"
        }
      ]
    },
    {
      "cell_type": "markdown",
      "metadata": {
        "id": "iGfLpfMCNR_i",
        "colab_type": "text"
      },
      "source": [
        "**Training Our Model**\n",
        "after completion of model creation need to train our model\n",
        "<br>\n",
        "for that I trained my model with 100  epoch"
      ]
    },
    {
      "cell_type": "code",
      "metadata": {
        "id": "TuUQIlhCIsHg",
        "colab_type": "code",
        "outputId": "a37eab3a-ef89-4f20-dde8-13fd303e9273",
        "colab": {
          "base_uri": "https://localhost:8080/",
          "height": 3468
        }
      },
      "source": [
        "classifier.compile(optimizer='adam',loss='binary_crossentropy',metrics=['accuracy'])\n",
        "classifier.fit(X_train,y_train,batch_size=10,nb_epoch=100)"
      ],
      "execution_count": 0,
      "outputs": [
        {
          "output_type": "stream",
          "text": [
            "/usr/local/lib/python3.6/dist-packages/ipykernel_launcher.py:2: UserWarning: The `nb_epoch` argument in `fit` has been renamed `epochs`.\n",
            "  \n"
          ],
          "name": "stderr"
        },
        {
          "output_type": "stream",
          "text": [
            "Epoch 1/100\n",
            "8000/8000 [==============================] - 1s 130us/step - loss: 0.4798 - acc: 0.7960\n",
            "Epoch 2/100\n",
            "8000/8000 [==============================] - 1s 100us/step - loss: 0.4289 - acc: 0.7960\n",
            "Epoch 3/100\n",
            "8000/8000 [==============================] - 1s 107us/step - loss: 0.4233 - acc: 0.7979\n",
            "Epoch 4/100\n",
            "8000/8000 [==============================] - 1s 98us/step - loss: 0.4190 - acc: 0.8186\n",
            "Epoch 5/100\n",
            "8000/8000 [==============================] - 1s 99us/step - loss: 0.4163 - acc: 0.8275\n",
            "Epoch 6/100\n",
            "8000/8000 [==============================] - 1s 98us/step - loss: 0.4145 - acc: 0.8289\n",
            "Epoch 7/100\n",
            "8000/8000 [==============================] - 1s 99us/step - loss: 0.4132 - acc: 0.8316\n",
            "Epoch 8/100\n",
            "8000/8000 [==============================] - 1s 99us/step - loss: 0.4115 - acc: 0.8324\n",
            "Epoch 9/100\n",
            "8000/8000 [==============================] - 1s 99us/step - loss: 0.4105 - acc: 0.8327\n",
            "Epoch 10/100\n",
            "8000/8000 [==============================] - 1s 100us/step - loss: 0.4096 - acc: 0.8336\n",
            "Epoch 11/100\n",
            "8000/8000 [==============================] - 1s 100us/step - loss: 0.4089 - acc: 0.8341\n",
            "Epoch 12/100\n",
            "8000/8000 [==============================] - 1s 98us/step - loss: 0.4078 - acc: 0.8322\n",
            "Epoch 13/100\n",
            "8000/8000 [==============================] - 1s 99us/step - loss: 0.4070 - acc: 0.8346\n",
            "Epoch 14/100\n",
            "8000/8000 [==============================] - 1s 100us/step - loss: 0.4058 - acc: 0.8344\n",
            "Epoch 15/100\n",
            "8000/8000 [==============================] - 1s 99us/step - loss: 0.4064 - acc: 0.8340\n",
            "Epoch 16/100\n",
            "8000/8000 [==============================] - 1s 100us/step - loss: 0.4053 - acc: 0.8335\n",
            "Epoch 17/100\n",
            "8000/8000 [==============================] - 1s 103us/step - loss: 0.4052 - acc: 0.8327\n",
            "Epoch 18/100\n",
            "8000/8000 [==============================] - 1s 101us/step - loss: 0.4042 - acc: 0.8341\n",
            "Epoch 19/100\n",
            "8000/8000 [==============================] - 1s 101us/step - loss: 0.4044 - acc: 0.8355\n",
            "Epoch 20/100\n",
            "8000/8000 [==============================] - 1s 101us/step - loss: 0.4043 - acc: 0.8339\n",
            "Epoch 21/100\n",
            "8000/8000 [==============================] - 1s 104us/step - loss: 0.4033 - acc: 0.8335\n",
            "Epoch 22/100\n",
            "8000/8000 [==============================] - 1s 100us/step - loss: 0.4042 - acc: 0.8352\n",
            "Epoch 23/100\n",
            "8000/8000 [==============================] - 1s 100us/step - loss: 0.4035 - acc: 0.8346\n",
            "Epoch 24/100\n",
            "8000/8000 [==============================] - 1s 98us/step - loss: 0.4037 - acc: 0.8346\n",
            "Epoch 25/100\n",
            "8000/8000 [==============================] - 1s 101us/step - loss: 0.4032 - acc: 0.8354\n",
            "Epoch 26/100\n",
            "8000/8000 [==============================] - 1s 101us/step - loss: 0.4032 - acc: 0.8345\n",
            "Epoch 27/100\n",
            "8000/8000 [==============================] - 1s 103us/step - loss: 0.4027 - acc: 0.8346\n",
            "Epoch 28/100\n",
            "8000/8000 [==============================] - 1s 99us/step - loss: 0.4025 - acc: 0.8341\n",
            "Epoch 29/100\n",
            "8000/8000 [==============================] - 1s 101us/step - loss: 0.4032 - acc: 0.8345\n",
            "Epoch 30/100\n",
            "8000/8000 [==============================] - 1s 101us/step - loss: 0.4027 - acc: 0.8344\n",
            "Epoch 31/100\n",
            "8000/8000 [==============================] - 1s 101us/step - loss: 0.4024 - acc: 0.8356\n",
            "Epoch 32/100\n",
            "8000/8000 [==============================] - 1s 101us/step - loss: 0.4027 - acc: 0.8362\n",
            "Epoch 33/100\n",
            "8000/8000 [==============================] - 1s 103us/step - loss: 0.4023 - acc: 0.8345\n",
            "Epoch 34/100\n",
            "8000/8000 [==============================] - 1s 102us/step - loss: 0.4023 - acc: 0.8354\n",
            "Epoch 35/100\n",
            "8000/8000 [==============================] - 1s 102us/step - loss: 0.4022 - acc: 0.8351\n",
            "Epoch 36/100\n",
            "8000/8000 [==============================] - 1s 100us/step - loss: 0.4021 - acc: 0.8349\n",
            "Epoch 37/100\n",
            "8000/8000 [==============================] - 1s 101us/step - loss: 0.4019 - acc: 0.8352\n",
            "Epoch 38/100\n",
            "8000/8000 [==============================] - 1s 100us/step - loss: 0.4020 - acc: 0.8354\n",
            "Epoch 39/100\n",
            "8000/8000 [==============================] - 1s 102us/step - loss: 0.4020 - acc: 0.8354\n",
            "Epoch 40/100\n",
            "8000/8000 [==============================] - 1s 104us/step - loss: 0.4015 - acc: 0.8344\n",
            "Epoch 41/100\n",
            "8000/8000 [==============================] - 1s 116us/step - loss: 0.4018 - acc: 0.8352\n",
            "Epoch 42/100\n",
            "8000/8000 [==============================] - 1s 116us/step - loss: 0.4020 - acc: 0.8339\n",
            "Epoch 43/100\n",
            "8000/8000 [==============================] - 1s 111us/step - loss: 0.4022 - acc: 0.8357\n",
            "Epoch 44/100\n",
            "8000/8000 [==============================] - 1s 114us/step - loss: 0.4016 - acc: 0.8341\n",
            "Epoch 45/100\n",
            "8000/8000 [==============================] - 1s 114us/step - loss: 0.4017 - acc: 0.8344\n",
            "Epoch 46/100\n",
            "8000/8000 [==============================] - 1s 116us/step - loss: 0.4017 - acc: 0.8335\n",
            "Epoch 47/100\n",
            "8000/8000 [==============================] - 1s 115us/step - loss: 0.4019 - acc: 0.8360\n",
            "Epoch 48/100\n",
            "8000/8000 [==============================] - 1s 114us/step - loss: 0.4013 - acc: 0.8367\n",
            "Epoch 49/100\n",
            "8000/8000 [==============================] - 1s 116us/step - loss: 0.4012 - acc: 0.8342\n",
            "Epoch 50/100\n",
            "8000/8000 [==============================] - 1s 112us/step - loss: 0.4016 - acc: 0.8350\n",
            "Epoch 51/100\n",
            "8000/8000 [==============================] - 1s 115us/step - loss: 0.4014 - acc: 0.8350\n",
            "Epoch 52/100\n",
            "8000/8000 [==============================] - 1s 103us/step - loss: 0.4011 - acc: 0.8351\n",
            "Epoch 53/100\n",
            "8000/8000 [==============================] - 1s 101us/step - loss: 0.4012 - acc: 0.8340\n",
            "Epoch 54/100\n",
            "8000/8000 [==============================] - 1s 101us/step - loss: 0.4012 - acc: 0.8355\n",
            "Epoch 55/100\n",
            "8000/8000 [==============================] - 1s 103us/step - loss: 0.4017 - acc: 0.8342\n",
            "Epoch 56/100\n",
            "8000/8000 [==============================] - 1s 99us/step - loss: 0.4016 - acc: 0.8341\n",
            "Epoch 57/100\n",
            "8000/8000 [==============================] - 1s 102us/step - loss: 0.4014 - acc: 0.8347\n",
            "Epoch 58/100\n",
            "8000/8000 [==============================] - 1s 102us/step - loss: 0.4013 - acc: 0.8350\n",
            "Epoch 59/100\n",
            "8000/8000 [==============================] - 1s 100us/step - loss: 0.4011 - acc: 0.8360\n",
            "Epoch 60/100\n",
            "8000/8000 [==============================] - 1s 100us/step - loss: 0.4004 - acc: 0.8342\n",
            "Epoch 61/100\n",
            "8000/8000 [==============================] - 1s 101us/step - loss: 0.4012 - acc: 0.8362\n",
            "Epoch 62/100\n",
            "8000/8000 [==============================] - 1s 103us/step - loss: 0.4013 - acc: 0.8345\n",
            "Epoch 63/100\n",
            "8000/8000 [==============================] - 1s 99us/step - loss: 0.4009 - acc: 0.8331\n",
            "Epoch 64/100\n",
            "8000/8000 [==============================] - 1s 100us/step - loss: 0.4011 - acc: 0.8365\n",
            "Epoch 65/100\n",
            "8000/8000 [==============================] - 1s 103us/step - loss: 0.4014 - acc: 0.8359\n",
            "Epoch 66/100\n",
            "8000/8000 [==============================] - 1s 100us/step - loss: 0.4011 - acc: 0.8359\n",
            "Epoch 67/100\n",
            "8000/8000 [==============================] - 1s 103us/step - loss: 0.4009 - acc: 0.8334\n",
            "Epoch 68/100\n",
            "8000/8000 [==============================] - 1s 101us/step - loss: 0.4014 - acc: 0.8356\n",
            "Epoch 69/100\n",
            "8000/8000 [==============================] - 1s 105us/step - loss: 0.4008 - acc: 0.8339\n",
            "Epoch 70/100\n",
            "8000/8000 [==============================] - 1s 102us/step - loss: 0.4009 - acc: 0.8345\n",
            "Epoch 71/100\n",
            "8000/8000 [==============================] - 1s 101us/step - loss: 0.4008 - acc: 0.8339\n",
            "Epoch 72/100\n",
            "8000/8000 [==============================] - 1s 101us/step - loss: 0.4004 - acc: 0.8340\n",
            "Epoch 73/100\n",
            "8000/8000 [==============================] - 1s 102us/step - loss: 0.4006 - acc: 0.8357\n",
            "Epoch 74/100\n",
            "8000/8000 [==============================] - 1s 103us/step - loss: 0.4010 - acc: 0.8342\n",
            "Epoch 75/100\n",
            "8000/8000 [==============================] - 1s 102us/step - loss: 0.4008 - acc: 0.8335\n",
            "Epoch 76/100\n",
            "8000/8000 [==============================] - 1s 101us/step - loss: 0.4007 - acc: 0.8354\n",
            "Epoch 77/100\n",
            "8000/8000 [==============================] - 1s 101us/step - loss: 0.4005 - acc: 0.8331\n",
            "Epoch 78/100\n",
            "8000/8000 [==============================] - 1s 100us/step - loss: 0.4008 - acc: 0.8339\n",
            "Epoch 79/100\n",
            "8000/8000 [==============================] - 1s 102us/step - loss: 0.4010 - acc: 0.8359\n",
            "Epoch 80/100\n",
            "8000/8000 [==============================] - 1s 101us/step - loss: 0.4006 - acc: 0.8354\n",
            "Epoch 81/100\n",
            "8000/8000 [==============================] - 1s 102us/step - loss: 0.4006 - acc: 0.8351\n",
            "Epoch 82/100\n",
            "8000/8000 [==============================] - 1s 104us/step - loss: 0.4009 - acc: 0.8351\n",
            "Epoch 83/100\n",
            "8000/8000 [==============================] - 1s 100us/step - loss: 0.4010 - acc: 0.8352\n",
            "Epoch 84/100\n",
            "8000/8000 [==============================] - 1s 100us/step - loss: 0.4010 - acc: 0.8356\n",
            "Epoch 85/100\n",
            "8000/8000 [==============================] - 1s 103us/step - loss: 0.4006 - acc: 0.8364\n",
            "Epoch 86/100\n",
            "8000/8000 [==============================] - 1s 102us/step - loss: 0.4005 - acc: 0.8349\n",
            "Epoch 87/100\n",
            "8000/8000 [==============================] - 1s 100us/step - loss: 0.4008 - acc: 0.8354\n",
            "Epoch 88/100\n",
            "8000/8000 [==============================] - 1s 101us/step - loss: 0.4005 - acc: 0.8346\n",
            "Epoch 89/100\n",
            "8000/8000 [==============================] - 1s 100us/step - loss: 0.4007 - acc: 0.8350\n",
            "Epoch 90/100\n",
            "8000/8000 [==============================] - 1s 101us/step - loss: 0.4009 - acc: 0.8344\n",
            "Epoch 91/100\n",
            "8000/8000 [==============================] - 1s 105us/step - loss: 0.4006 - acc: 0.8352\n",
            "Epoch 92/100\n",
            "8000/8000 [==============================] - 1s 101us/step - loss: 0.4008 - acc: 0.8352\n",
            "Epoch 93/100\n",
            "8000/8000 [==============================] - 1s 102us/step - loss: 0.4008 - acc: 0.8346\n",
            "Epoch 94/100\n",
            "8000/8000 [==============================] - 1s 100us/step - loss: 0.4006 - acc: 0.8367\n",
            "Epoch 95/100\n",
            "8000/8000 [==============================] - 1s 102us/step - loss: 0.4008 - acc: 0.8342\n",
            "Epoch 96/100\n",
            "8000/8000 [==============================] - 1s 102us/step - loss: 0.4007 - acc: 0.8355\n",
            "Epoch 97/100\n",
            "8000/8000 [==============================] - 1s 100us/step - loss: 0.4009 - acc: 0.8344\n",
            "Epoch 98/100\n",
            "8000/8000 [==============================] - 1s 101us/step - loss: 0.4006 - acc: 0.8347\n",
            "Epoch 99/100\n",
            "8000/8000 [==============================] - 1s 101us/step - loss: 0.4004 - acc: 0.8356\n",
            "Epoch 100/100\n",
            "8000/8000 [==============================] - 1s 100us/step - loss: 0.4006 - acc: 0.8355\n"
          ],
          "name": "stdout"
        },
        {
          "output_type": "execute_result",
          "data": {
            "text/plain": [
              "<keras.callbacks.History at 0x7f2f9d67d6a0>"
            ]
          },
          "metadata": {
            "tags": []
          },
          "execution_count": 33
        }
      ]
    },
    {
      "cell_type": "markdown",
      "metadata": {
        "id": "03KdD4WANkDy",
        "colab_type": "text"
      },
      "source": [
        "**Prediciton**\n",
        "finaly have to predict dependent variable for that using this code done prediction"
      ]
    },
    {
      "cell_type": "code",
      "metadata": {
        "id": "DCl_z-1wKRtA",
        "colab_type": "code",
        "colab": {}
      },
      "source": [
        "y_pred = classifier.predict(X_test)\n",
        "y_pred\n",
        "y_pred=(y_pred>0.5)"
      ],
      "execution_count": 0,
      "outputs": []
    },
    {
      "cell_type": "markdown",
      "metadata": {
        "id": "ogNz_jT4N2oJ",
        "colab_type": "text"
      },
      "source": [
        "**Confusioin matrix**\n",
        "\n",
        "<br>\n",
        "\n",
        "![alt text](https://cdncontribute.geeksforgeeks.org/wp-content/uploads/Confusion_Matrix1_1.png)\n",
        "\n"
      ]
    },
    {
      "cell_type": "code",
      "metadata": {
        "id": "4cNNzaLmL6PY",
        "colab_type": "code",
        "colab": {}
      },
      "source": [
        "cm = confusion_matrix(y_test, y_pred)"
      ],
      "execution_count": 0,
      "outputs": []
    },
    {
      "cell_type": "code",
      "metadata": {
        "id": "1-0u8Op4L9Yg",
        "colab_type": "code",
        "outputId": "0266583b-6b4a-4ace-9beb-ee13f35b6fea",
        "colab": {
          "base_uri": "https://localhost:8080/",
          "height": 51
        }
      },
      "source": [
        "cm"
      ],
      "execution_count": 0,
      "outputs": [
        {
          "output_type": "execute_result",
          "data": {
            "text/plain": [
              "array([[1540,   55],\n",
              "       [ 258,  147]])"
            ]
          },
          "metadata": {
            "tags": []
          },
          "execution_count": 36
        }
      ]
    },
    {
      "cell_type": "markdown",
      "metadata": {
        "id": "pw9phQSHOam3",
        "colab_type": "text"
      },
      "source": [
        "**Finding Accuracy of our model**\n",
        "for that we using our correct prediciton's for validaiton\n",
        "<br>\n",
        "my model accuracy is 84.7%"
      ]
    },
    {
      "cell_type": "code",
      "metadata": {
        "id": "ZU37GTMqNgZJ",
        "colab_type": "code",
        "outputId": "f82760a1-4f6d-4f14-f14e-325b424b4373",
        "colab": {
          "base_uri": "https://localhost:8080/",
          "height": 34
        }
      },
      "source": [
        "(1540+155)/2000"
      ],
      "execution_count": 0,
      "outputs": [
        {
          "output_type": "execute_result",
          "data": {
            "text/plain": [
              "0.8475"
            ]
          },
          "metadata": {
            "tags": []
          },
          "execution_count": 37
        }
      ]
    },
    {
      "cell_type": "code",
      "metadata": {
        "id": "ZTAwHRXINxqo",
        "colab_type": "code",
        "outputId": "82679c26-b9a8-4d2b-806e-60dd976fbac0",
        "colab": {
          "base_uri": "https://localhost:8080/",
          "height": 34
        }
      },
      "source": [
        "new_prediction=classifier.predict(sc.transform(np.array([[0.0,0,600,1,40,3,60000,2,1,1,50000]])))\n",
        "y_pred=(new_prediction>0.5)\n",
        "print(new_prediction,y_pred)"
      ],
      "execution_count": 0,
      "outputs": [
        {
          "output_type": "stream",
          "text": [
            "[[0.09324723]] [[False]]\n"
          ],
          "name": "stdout"
        }
      ]
    }
  ]
}