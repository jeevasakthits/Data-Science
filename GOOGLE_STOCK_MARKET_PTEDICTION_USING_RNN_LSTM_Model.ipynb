{
  "nbformat": 4,
  "nbformat_minor": 0,
  "metadata": {
    "colab": {
      "name": "GOOGLE_STOCK_MARKET_PTEDICTION_USING_RNN_LSTM_Model.ipynb",
      "version": "0.3.2",
      "provenance": [],
      "collapsed_sections": []
    },
    "kernelspec": {
      "name": "python2",
      "display_name": "Python 2"
    }
  },
  "cells": [
    {
      "cell_type": "code",
      "metadata": {
        "id": "tYsVhORefLuE",
        "colab_type": "code",
        "outputId": "2729ebc8-94ec-4d9a-a3d3-253090834484",
        "colab": {
          "resources": {
            "http://localhost:8080/nbextensions/google.colab/files.js": {
              "data": "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",
              "ok": true,
              "headers": [
                [
                  "content-type",
                  "application/javascript"
                ]
              ],
              "status": 200,
              "status_text": ""
            }
          },
          "base_uri": "https://localhost:8080/",
          "height": 74
        }
      },
      "source": [
        "#uploading files into the colab\n",
        "from google.colab import files\n",
        "uploaded = files.upload()"
      ],
      "execution_count": 0,
      "outputs": [
        {
          "output_type": "display_data",
          "data": {
            "text/plain": [
              "<IPython.core.display.HTML object>"
            ],
            "text/html": [
              "\n",
              "     <input type=\"file\" id=\"files-c0e49791-753e-4e2f-86a7-993ec26aa850\" name=\"files[]\" multiple disabled />\n",
              "     <output id=\"result-c0e49791-753e-4e2f-86a7-993ec26aa850\">\n",
              "      Upload widget is only available when the cell has been executed in the\n",
              "      current browser session. Please rerun this cell to enable.\n",
              "      </output>\n",
              "      <script src=\"/nbextensions/google.colab/files.js\"></script> "
            ]
          },
          "metadata": {
            "tags": []
          }
        },
        {
          "output_type": "stream",
          "text": [
            "Saving 500210.csv to 500210.csv\n"
          ],
          "name": "stdout"
        }
      ]
    },
    {
      "cell_type": "code",
      "metadata": {
        "id": "NdBhlG_Zf08-",
        "colab_type": "code",
        "colab": {}
      },
      "source": [
        "#importing required packages\n",
        "import pandas as pd\n",
        "import numpy as np\n",
        "import matplotlib.pyplot as plt"
      ],
      "execution_count": 0,
      "outputs": []
    },
    {
      "cell_type": "code",
      "metadata": {
        "id": "Y3IzoIP0gloe",
        "colab_type": "code",
        "colab": {}
      },
      "source": [
        "\n"
      ],
      "execution_count": 0,
      "outputs": []
    },
    {
      "cell_type": "code",
      "metadata": {
        "id": "G_zFRvmYx4kx",
        "colab_type": "code",
        "outputId": "6f663732-7d7f-44d2-c61c-ff7bf0bdbbe1",
        "colab": {
          "base_uri": "https://localhost:8080/",
          "height": 136
        }
      },
      "source": [
        "training_set"
      ],
      "execution_count": 0,
      "outputs": [
        {
          "output_type": "execute_result",
          "data": {
            "text/plain": [
              "array([[ 357.385559],\n",
              "       [ 360.122742],\n",
              "       [ 362.313507],\n",
              "       ...,\n",
              "       [1057.390015],\n",
              "       [1051.599976],\n",
              "       [1046.719971]])"
            ]
          },
          "metadata": {
            "tags": []
          },
          "execution_count": 20
        }
      ]
    },
    {
      "cell_type": "code",
      "metadata": {
        "id": "VZB8AOBYivLU",
        "colab_type": "code",
        "colab": {}
      },
      "source": [
        "ng_set_scaled=sc.fit_transform(training_set)"
      ],
      "execution_count": 0,
      "outputs": []
    },
    {
      "cell_type": "code",
      "metadata": {
        "id": "-a9qMxjGlUbh",
        "colab_type": "code",
        "colab": {}
      },
      "source": [
        "#creating a data structure with 60 timesteps and 1 output\n",
        "x_train=[]\n",
        "\n",
        "x_train=np.reshape(x_train,(x_train.shape[0],x_train.shape[1],1))"
      ],
      "execution_count": 0,
      "outputs": []
    },
    {
      "cell_type": "code",
      "metadata": {
        "id": "rq0gcaVn6Gxa",
        "colab_type": "code",
        "colab": {}
      },
      "source": [
        "#Importing the keras libraries and packages\n",
        "from keras.models import Sequential\n",
        "from keras.layers import Dense\n",
        "from keras.layers import LSTM\n",
        "from keras.layers import Dropout"
      ],
      "execution_count": 0,
      "outputs": []
    },
    {
      "cell_type": "code",
      "metadata": {
        "id": "iYIsvcwT8cE-",
        "colab_type": "code",
        "colab": {}
      },
      "source": [
        "#initializing the neural network model\n",
        "regressor=Sequential()\n",
        "\n",
        "\n",
        "\n",
        "#Adding the first LSTM layer and some Dropour regualarisation\n",
        "regressor.add(LSTM(units = 50,activation='relu',return_sequences = True,input_shape = (x_train.shape[1],1)))\n",
        "regressor.add(Dropout(0.2))\n",
        "\n",
        "\n",
        "#Adding the Second LSTM layer and some Dropour regualarisation\n",
        "regressor.add(LSTM(units = 50,activation='relu',return_sequences = True))\n",
        "regressor.add(Dropout(0.2))\n",
        "\n",
        "\n",
        "#Adding the Third LSTM layer and some Dropour regualarisation\n",
        "regressor.add(LSTM(units = 50,activation='relu',return_sequences = True))\n",
        "regressor.add(Dropout(0.2))\n",
        "\n",
        "\n",
        "#Adding the Fourth LSTM layer and some Dropour regualarisation\n",
        "regressor.add(LSTM(units = 50))\n",
        "regressor.add(Dropout(0.2))\n",
        "\n",
        "\n",
        "#Adding The Output layer\n",
        "regressor.add(Dense(units = 1))\n",
        "\n",
        "#regressor.compile(optimizer='adam', loss='mse')\n"
      ],
      "execution_count": 0,
      "outputs": []
    },
    {
      "cell_type": "code",
      "metadata": {
        "id": "1fxZ9YEpJ2jq",
        "colab_type": "code",
        "colab": {}
      },
      "source": [
        "#compiling the RNN model for the stock price\n",
        "#Stochastic gradient optimizer in lstm model it is great one\n",
        "\n",
        "regressor.compile(optimizer = 'adam' , loss = 'mean_squared_error')\n",
        "\n"
      ],
      "execution_count": 0,
      "outputs": []
    },
    {
      "cell_type": "code",
      "metadata": {
        "id": "Pg70QZskNfUL",
        "colab_type": "code",
        "outputId": "f5aaab9e-695c-4a85-e4a9-854d2f88282b",
        "colab": {
          "base_uri": "https://localhost:8080/",
          "height": 1000
        }
      },
      "source": [
        "#Fitting the RNN to the training set\n",
        "regressor.fit( x_train , y_train , epochs = 100 , batch_size = 32 )\n",
        "\n",
        "\n"
      ],
      "execution_count": 0,
      "outputs": [
        {
          "output_type": "stream",
          "text": [
            "Epoch 1/100\n",
            "1198/1198 [==============================] - 10s 8ms/step - loss: 0.0575\n",
            "Epoch 2/100\n",
            "1198/1198 [==============================] - 6s 5ms/step - loss: 0.0054\n",
            "Epoch 3/100\n",
            "1198/1198 [==============================] - 6s 5ms/step - loss: 0.0045\n",
            "Epoch 4/100\n",
            "1198/1198 [==============================] - 6s 5ms/step - loss: 0.0039\n",
            "Epoch 5/100\n",
            "1198/1198 [==============================] - 6s 5ms/step - loss: 0.0041\n",
            "Epoch 6/100\n",
            "1198/1198 [==============================] - 6s 5ms/step - loss: 0.0037\n",
            "Epoch 7/100\n",
            "1198/1198 [==============================] - 6s 5ms/step - loss: 0.0036\n",
            "Epoch 8/100\n",
            "1198/1198 [==============================] - 6s 5ms/step - loss: 0.0037\n",
            "Epoch 9/100\n",
            "1198/1198 [==============================] - 6s 5ms/step - loss: 0.0037\n",
            "Epoch 10/100\n",
            "1198/1198 [==============================] - 6s 5ms/step - loss: 0.0033\n",
            "Epoch 11/100\n",
            "1198/1198 [==============================] - 6s 5ms/step - loss: 0.0030\n",
            "Epoch 12/100\n",
            "1198/1198 [==============================] - 6s 5ms/step - loss: 0.0032\n",
            "Epoch 13/100\n",
            "1198/1198 [==============================] - 6s 5ms/step - loss: 0.0031\n",
            "Epoch 14/100\n",
            "1198/1198 [==============================] - 6s 5ms/step - loss: 0.0029\n",
            "Epoch 15/100\n",
            "1198/1198 [==============================] - 6s 5ms/step - loss: 0.0028\n",
            "Epoch 16/100\n",
            "1198/1198 [==============================] - 6s 5ms/step - loss: 0.0029\n",
            "Epoch 17/100\n",
            "1198/1198 [==============================] - 6s 5ms/step - loss: 0.0036\n",
            "Epoch 18/100\n",
            "1198/1198 [==============================] - 6s 5ms/step - loss: 0.0030\n",
            "Epoch 19/100\n",
            "1198/1198 [==============================] - 6s 5ms/step - loss: 0.0028\n",
            "Epoch 20/100\n",
            "1198/1198 [==============================] - 6s 5ms/step - loss: 0.0028\n",
            "Epoch 21/100\n",
            "1198/1198 [==============================] - 6s 5ms/step - loss: 0.0030\n",
            "Epoch 22/100\n",
            "1198/1198 [==============================] - 6s 5ms/step - loss: 0.0028\n",
            "Epoch 23/100\n",
            "1198/1198 [==============================] - 6s 5ms/step - loss: 0.0026\n",
            "Epoch 24/100\n",
            "1198/1198 [==============================] - 6s 5ms/step - loss: 0.0028\n",
            "Epoch 25/100\n",
            "1198/1198 [==============================] - 6s 5ms/step - loss: 0.0029\n",
            "Epoch 26/100\n",
            "1198/1198 [==============================] - 6s 5ms/step - loss: 0.0025\n",
            "Epoch 27/100\n",
            "1198/1198 [==============================] - 6s 5ms/step - loss: 0.0025\n",
            "Epoch 28/100\n",
            "1198/1198 [==============================] - 6s 5ms/step - loss: 0.0027\n",
            "Epoch 29/100\n",
            "1198/1198 [==============================] - 6s 5ms/step - loss: 0.0024\n",
            "Epoch 30/100\n",
            "1198/1198 [==============================] - 6s 5ms/step - loss: 0.0026\n",
            "Epoch 31/100\n",
            "1198/1198 [==============================] - 6s 5ms/step - loss: 0.0029\n",
            "Epoch 32/100\n",
            "1198/1198 [==============================] - 6s 5ms/step - loss: 0.0022\n",
            "Epoch 33/100\n",
            "1198/1198 [==============================] - 6s 5ms/step - loss: 0.0026\n",
            "Epoch 34/100\n",
            "1198/1198 [==============================] - 6s 5ms/step - loss: 0.0024\n",
            "Epoch 35/100\n",
            "1198/1198 [==============================] - 6s 5ms/step - loss: 0.0025\n",
            "Epoch 36/100\n",
            "1198/1198 [==============================] - 6s 5ms/step - loss: 0.0024\n",
            "Epoch 37/100\n",
            "1198/1198 [==============================] - 6s 5ms/step - loss: 0.0023\n",
            "Epoch 38/100\n",
            "1198/1198 [==============================] - 6s 5ms/step - loss: 0.0024\n",
            "Epoch 39/100\n",
            "1198/1198 [==============================] - 6s 5ms/step - loss: 0.0033\n",
            "Epoch 40/100\n",
            "1198/1198 [==============================] - 6s 5ms/step - loss: 0.0025\n",
            "Epoch 41/100\n",
            "1198/1198 [==============================] - 6s 5ms/step - loss: 0.0027\n",
            "Epoch 42/100\n",
            "1198/1198 [==============================] - 6s 5ms/step - loss: 0.0024\n",
            "Epoch 43/100\n",
            "1198/1198 [==============================] - 6s 5ms/step - loss: 0.0021\n",
            "Epoch 44/100\n",
            "1198/1198 [==============================] - 6s 5ms/step - loss: 0.0021\n",
            "Epoch 45/100\n",
            "1198/1198 [==============================] - 6s 5ms/step - loss: 0.0023\n",
            "Epoch 46/100\n",
            "1198/1198 [==============================] - 6s 5ms/step - loss: 0.0022\n",
            "Epoch 47/100\n",
            "1198/1198 [==============================] - 6s 5ms/step - loss: 0.0022\n",
            "Epoch 48/100\n",
            "1198/1198 [==============================] - 6s 5ms/step - loss: 0.0022\n",
            "Epoch 49/100\n",
            "1198/1198 [==============================] - 6s 5ms/step - loss: 0.0024\n",
            "Epoch 50/100\n",
            "1198/1198 [==============================] - 6s 5ms/step - loss: 0.0024\n",
            "Epoch 51/100\n",
            "1198/1198 [==============================] - 6s 5ms/step - loss: 0.0019\n",
            "Epoch 52/100\n",
            "1198/1198 [==============================] - 6s 5ms/step - loss: 0.0020\n",
            "Epoch 53/100\n",
            "1198/1198 [==============================] - 6s 5ms/step - loss: 0.0020\n",
            "Epoch 54/100\n",
            "1198/1198 [==============================] - 6s 5ms/step - loss: 0.0023\n",
            "Epoch 55/100\n",
            "1198/1198 [==============================] - 6s 5ms/step - loss: 0.0022\n",
            "Epoch 56/100\n",
            "1198/1198 [==============================] - 6s 5ms/step - loss: 0.0019\n",
            "Epoch 57/100\n",
            "1198/1198 [==============================] - 6s 5ms/step - loss: 0.0020\n",
            "Epoch 58/100\n",
            "1198/1198 [==============================] - 6s 5ms/step - loss: 0.0021\n",
            "Epoch 59/100\n",
            "1198/1198 [==============================] - 6s 5ms/step - loss: 0.0020\n",
            "Epoch 60/100\n",
            "1198/1198 [==============================] - 6s 5ms/step - loss: 0.0021\n",
            "Epoch 61/100\n",
            "1198/1198 [==============================] - 6s 5ms/step - loss: 0.0022\n",
            "Epoch 62/100\n",
            "1198/1198 [==============================] - 6s 5ms/step - loss: 0.0019\n",
            "Epoch 63/100\n",
            "1198/1198 [==============================] - 6s 5ms/step - loss: 0.0019\n",
            "Epoch 64/100\n",
            "1198/1198 [==============================] - 6s 5ms/step - loss: 0.0019\n",
            "Epoch 65/100\n",
            "1198/1198 [==============================] - 6s 5ms/step - loss: 0.0022\n",
            "Epoch 66/100\n",
            "1198/1198 [==============================] - 6s 5ms/step - loss: 0.0018\n",
            "Epoch 67/100\n",
            "1198/1198 [==============================] - 6s 5ms/step - loss: 0.0020\n",
            "Epoch 68/100\n",
            "1198/1198 [==============================] - 6s 5ms/step - loss: 0.0017\n",
            "Epoch 69/100\n",
            "1198/1198 [==============================] - 6s 5ms/step - loss: 0.0018\n",
            "Epoch 70/100\n",
            "1198/1198 [==============================] - 6s 5ms/step - loss: 0.0020\n",
            "Epoch 71/100\n",
            "1198/1198 [==============================] - 6s 5ms/step - loss: 0.0018\n",
            "Epoch 72/100\n",
            "1198/1198 [==============================] - 6s 5ms/step - loss: 0.0017\n",
            "Epoch 73/100\n",
            "1198/1198 [==============================] - 6s 5ms/step - loss: 0.0016\n",
            "Epoch 74/100\n",
            "1198/1198 [==============================] - 6s 5ms/step - loss: 0.0015\n",
            "Epoch 75/100\n",
            "1198/1198 [==============================] - 6s 5ms/step - loss: 0.0016\n",
            "Epoch 76/100\n",
            "1198/1198 [==============================] - 6s 5ms/step - loss: 0.0016\n",
            "Epoch 77/100\n",
            "1198/1198 [==============================] - 6s 5ms/step - loss: 0.0019\n",
            "Epoch 78/100\n",
            "1198/1198 [==============================] - 6s 5ms/step - loss: 0.0016\n",
            "Epoch 79/100\n",
            "1198/1198 [==============================] - 6s 5ms/step - loss: 0.0017\n",
            "Epoch 80/100\n",
            "1198/1198 [==============================] - 6s 5ms/step - loss: 0.0016\n",
            "Epoch 81/100\n",
            "1198/1198 [==============================] - 6s 5ms/step - loss: 0.0016\n",
            "Epoch 82/100\n",
            "1198/1198 [==============================] - 6s 5ms/step - loss: 0.0015\n",
            "Epoch 83/100\n",
            "1198/1198 [==============================] - 6s 5ms/step - loss: 0.0015\n",
            "Epoch 84/100\n",
            "1198/1198 [==============================] - 6s 5ms/step - loss: 0.0019\n",
            "Epoch 85/100\n",
            "1198/1198 [==============================] - 6s 5ms/step - loss: 0.0016\n",
            "Epoch 86/100\n",
            "1198/1198 [==============================] - 6s 5ms/step - loss: 0.0015\n",
            "Epoch 87/100\n",
            "1198/1198 [==============================] - 6s 5ms/step - loss: 0.0016\n",
            "Epoch 88/100\n",
            "1198/1198 [==============================] - 6s 5ms/step - loss: 0.0018\n",
            "Epoch 89/100\n",
            "1198/1198 [==============================] - 6s 5ms/step - loss: 0.0016\n",
            "Epoch 90/100\n",
            "1198/1198 [==============================] - 6s 5ms/step - loss: 0.0015\n",
            "Epoch 91/100\n",
            "1198/1198 [==============================] - 6s 5ms/step - loss: 0.0015\n",
            "Epoch 92/100\n",
            "1198/1198 [==============================] - 6s 5ms/step - loss: 0.0017\n",
            "Epoch 93/100\n",
            "1198/1198 [==============================] - 6s 5ms/step - loss: 0.0014\n",
            "Epoch 94/100\n",
            "1198/1198 [==============================] - 6s 5ms/step - loss: 0.0016\n",
            "Epoch 95/100\n",
            "1198/1198 [==============================] - 6s 5ms/step - loss: 0.0013\n",
            "Epoch 96/100\n",
            "1198/1198 [==============================] - 6s 5ms/step - loss: 0.0014\n",
            "Epoch 97/100\n",
            "1198/1198 [==============================] - 6s 5ms/step - loss: 0.0014\n",
            "Epoch 98/100\n",
            "1198/1198 [==============================] - 6s 5ms/step - loss: 0.0015\n",
            "Epoch 99/100\n",
            "1198/1198 [==============================] - 6s 5ms/step - loss: 0.0013\n",
            "Epoch 100/100\n",
            "1198/1198 [==============================] - 6s 5ms/step - loss: 0.0015\n"
          ],
          "name": "stdout"
        },
        {
          "output_type": "execute_result",
          "data": {
            "text/plain": [
              "<keras.callbacks.History at 0x7f6f3373af50>"
            ]
          },
          "metadata": {
            "tags": []
          },
          "execution_count": 26
        }
      ]
    },
    {
      "cell_type": "code",
      "metadata": {
        "id": "sERxmVBBUbZz",
        "colab_type": "code",
        "colab": {}
      },
      "source": [
        "#Getting the real stock price of 2017\n",
        "\n",
        "dataset_test=pd.read_csv(\"testset.csv\")\n",
        "real_stock_price=dataset_test.iloc[:,1:2].values\n"
      ],
      "execution_count": 0,
      "outputs": []
    },
    {
      "cell_type": "code",
      "metadata": {
        "id": "VZTpKjD_nzGc",
        "colab_type": "code",
        "outputId": "ebc7a060-19e0-4226-e976-517013f420a3",
        "colab": {
          "base_uri": "https://localhost:8080/",
          "height": 34
        }
      },
      "source": [
        "#pickling the model into file\n",
        "import pickle\n",
        "path= \"./jeeva.pkl\"\n",
        "with open(path, 'wb') as f:\n",
        "        pickle.dump(regressor, f)\n",
        "        print(\"Done Pickiling\")\n",
        "        #print(\"Pickled clf at {}\".format(path))"
      ],
      "execution_count": 0,
      "outputs": [
        {
          "output_type": "stream",
          "text": [
            "Done Pickiling\n"
          ],
          "name": "stdout"
        }
      ]
    },
    {
      "cell_type": "code",
      "metadata": {
        "id": "dVRE6blQn33M",
        "colab_type": "code",
        "colab": {}
      },
      "source": [
        "#Getting the predicted stock price of 2017\n",
        "\n",
        "dataset_total = pd.concat((dataset_train['Open'],dataset_test['Open']),axis = 0)\n",
        "inputs = dataset_total[len(dataset_total)-len(dataset_test)-60:].values\n",
        "inputs = inputs.reshape(-1,1)\n",
        "inputs = sc.transform(inputs)\n"
      ],
      "execution_count": 0,
      "outputs": []
    },
    {
      "cell_type": "code",
      "metadata": {
        "id": "8ddwe5z9pTiE",
        "colab_type": "code",
        "colab": {}
      },
      "source": [
        "#reshapping the input\n",
        "x_test=[]\n",
        "for i in range(60,80):\n",
        "  x_test.append(inputs[i-60:i,0])\n",
        "x_test = np.array(x_test)\n",
        "x_test=np.reshape(x_test,(x_test.shape[0],x_test.shape[1],1))\n",
        "\n",
        "\n"
      ],
      "execution_count": 0,
      "outputs": []
    },
    {
      "cell_type": "code",
      "metadata": {
        "id": "TzxtSFiv8bRn",
        "colab_type": "code",
        "outputId": "e4359c7b-bde3-415c-93ce-8c367995856b",
        "colab": {
          "base_uri": "https://localhost:8080/",
          "height": 850
        }
      },
      "source": [
        "x_test"
      ],
      "execution_count": 0,
      "outputs": [
        {
          "output_type": "execute_result",
          "data": {
            "text/plain": [
              "array([[[0.83491622],\n",
              "        [0.85037519],\n",
              "        [0.86871629],\n",
              "        ...,\n",
              "        [0.97543954],\n",
              "        [0.9674549 ],\n",
              "        [0.96072522]],\n",
              "\n",
              "       [[0.85037519],\n",
              "        [0.86871629],\n",
              "        [0.86871629],\n",
              "        ...,\n",
              "        [0.9674549 ],\n",
              "        [0.96072522],\n",
              "        [0.96295924]],\n",
              "\n",
              "       [[0.86871629],\n",
              "        [0.86871629],\n",
              "        [0.86005593],\n",
              "        ...,\n",
              "        [0.96072522],\n",
              "        [0.96295924],\n",
              "        [0.9849825 ]],\n",
              "\n",
              "       ...,\n",
              "\n",
              "       [[0.91560335],\n",
              "        [0.91728573],\n",
              "        [0.92003007],\n",
              "        ...,\n",
              "        [1.11673503],\n",
              "        [1.14084047],\n",
              "        [1.13422122]],\n",
              "\n",
              "       [[0.91728573],\n",
              "        [0.92003007],\n",
              "        [0.92630465],\n",
              "        ...,\n",
              "        [1.14084047],\n",
              "        [1.13422122],\n",
              "        [1.13773765]],\n",
              "\n",
              "       [[0.92003007],\n",
              "        [0.92630465],\n",
              "        [0.92678727],\n",
              "        ...,\n",
              "        [1.13422122],\n",
              "        [1.13773765],\n",
              "        [1.13966833]]])"
            ]
          },
          "metadata": {
            "tags": []
          },
          "execution_count": 34
        }
      ]
    },
    {
      "cell_type": "code",
      "metadata": {
        "id": "9LI4Z8j9Bnse",
        "colab_type": "code",
        "colab": {}
      },
      "source": [
        "#Predicting Stock Price\n",
        "predicted_stock_price = regressor.predict(x_test)\n",
        "predicted_stock_price = sc.inverse_transform(predicted_stock_price)\n"
      ],
      "execution_count": 0,
      "outputs": []
    },
    {
      "cell_type": "code",
      "metadata": {
        "id": "edRObs5ZAmM0",
        "colab_type": "code",
        "outputId": "c47760fd-e7e5-4ea0-8139-d49f845c288f",
        "colab": {
          "base_uri": "https://localhost:8080/",
          "height": 34
        }
      },
      "source": [
        "len(predicted_stock_price)"
      ],
      "execution_count": 0,
      "outputs": [
        {
          "output_type": "execute_result",
          "data": {
            "text/plain": [
              "20"
            ]
          },
          "metadata": {
            "tags": []
          },
          "execution_count": 35
        }
      ]
    },
    {
      "cell_type": "code",
      "metadata": {
        "id": "nO4SPf6VAoFx",
        "colab_type": "code",
        "outputId": "42a92938-1735-40d0-d5d9-9072ad0eab69",
        "colab": {
          "base_uri": "https://localhost:8080/",
          "height": 34
        }
      },
      "source": [
        "len(real_stock_price)"
      ],
      "execution_count": 0,
      "outputs": [
        {
          "output_type": "execute_result",
          "data": {
            "text/plain": [
              "125"
            ]
          },
          "metadata": {
            "tags": []
          },
          "execution_count": 36
        }
      ]
    },
    {
      "cell_type": "code",
      "metadata": {
        "id": "vXb-wbskCFft",
        "colab_type": "code",
        "outputId": "96703b3d-a42f-4edf-846c-44984149302a",
        "colab": {
          "base_uri": "https://localhost:8080/",
          "height": 295
        }
      },
      "source": [
        "#Visualizing The Results of model\n",
        "plt.plot(real_stock_price , color = 'red' , label='real google stock price' )\n",
        "plt.plot(predicted_stock_price , color = 'blue' , label='predicted google stock price' )\n",
        "plt.title('google stock price prediction')\n",
        "plt.xlabel('Time')\n",
        "plt.ylabel('Google Stock Price')\n",
        "plt.legend()\n",
        "plt.show()\n"
      ],
      "execution_count": 0,
      "outputs": [
        {
          "output_type": "display_data",
          "data": {
            "image/png": "[encoded data removed]",
            "text/plain": [
              "<Figure size 432x288 with 1 Axes>"
            ]
          },
          "metadata": {
            "tags": []
          }
        }
      ]
    },
    {
      "cell_type": "code",
      "metadata": {
        "id": "5bXsFsOODqkP",
        "colab_type": "code",
        "colab": {}
      },
      "source": [
        ""
      ],
      "execution_count": 0,
      "outputs": []
    },
    {
      "cell_type": "code",
      "metadata": {
        "id": "B-szt5wYEADI",
        "colab_type": "code",
        "colab": {}
      },
      "source": [
        ""
      ],
      "execution_count": 0,
      "outputs": []
    }
  ]
}