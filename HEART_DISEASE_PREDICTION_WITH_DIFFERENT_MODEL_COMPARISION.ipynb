{
  "nbformat": 4,
  "nbformat_minor": 0,
  "metadata": {
    "colab": {
      "name": "HEART_DISEASE_PREDICTION_WITH_DIFFERENT_MODEL_COMPARISION.ipynb",
      "version": "0.3.2",
      "provenance": [],
      "collapsed_sections": []
    },
    "language_info": {
      "mimetype": "text/x-r-source",
      "name": "R",
      "pygments_lexer": "r",
      "version": "3.4.2",
      "file_extension": ".r",
      "codemirror_mode": "r"
    },
    "kernelspec": {
      "display_name": "R",
      "language": "R",
      "name": "ir"
    }
  },
  "cells": [
    {
      "cell_type": "code",
      "metadata": {
        "trusted": true,
        "id": "1QaCCgBlJCgj",
        "colab_type": "code",
        "outputId": "4d114219-d884-4bf0-bdb3-8e9115ee7b8b",
        "colab": {
          "base_uri": "https://localhost:8080/",
          "height": 135
        }
      },
      "source": [
        ""
      ],
      "execution_count": 0,
      "outputs": [
        {
          "output_type": "error",
          "ename": "ERROR",
          "evalue": "ignored",
          "traceback": [
            "Error in library(ROCR): there is no package called ‘ROCR’\nTraceback:\n",
            "1. library(ROCR)"
          ]
        }
      ]
    },
    {
      "cell_type": "code",
      "metadata": {
        "_cell_guid": "79c7e3d0-c299-4dcb-8224-4455121ee9b0",
        "_uuid": "d629ff2d2480ee46fbb7e2d37f6b5fab8052498a",
        "trusted": true,
        "id": "VmqUWFuUJCgz",
        "colab_type": "code",
        "colab": {}
      },
      "source": [
        "set.seed(123)\n",
        "data<-read.csv(\"../input/heart.csv\")\n",
        "head(data)\n",
        "str(data)\n",
        "dim(data)\n"
      ],
      "execution_count": 0,
      "outputs": []
    },
    {
      "cell_type": "code",
      "metadata": {
        "trusted": true,
        "id": "A8H656AoJCg-",
        "colab_type": "code",
        "colab": {}
      },
      "source": [
        "names(data)"
      ],
      "execution_count": 0,
      "outputs": []
    },
    {
      "cell_type": "code",
      "metadata": {
        "trusted": true,
        "id": "azdAldM7JChI",
        "colab_type": "code",
        "colab": {}
      },
      "source": [
        ""
      ],
      "execution_count": 0,
      "outputs": []
    },
    {
      "cell_type": "code",
      "metadata": {
        "trusted": true,
        "id": "ZhUxvxUiJChS",
        "colab_type": "code",
        "colab": {}
      },
      "source": [
        "sum(is.na(data))"
      ],
      "execution_count": 0,
      "outputs": []
    },
    {
      "cell_type": "markdown",
      "metadata": {
        "id": "wAlBk7eqJChc",
        "colab_type": "text"
      },
      "source": [
        "SEX VS CHOLESTROL"
      ]
    },
    {
      "cell_type": "code",
      "metadata": {
        "trusted": true,
        "id": "jougkz6fJChf",
        "colab_type": "code",
        "colab": {}
      },
      "source": [
        "ggplot(data,aes(x=data$sex),y=data$chol)+geom_bar()+theme(legend.position = \"none\")\n",
        "\n"
      ],
      "execution_count": 0,
      "outputs": []
    },
    {
      "cell_type": "code",
      "metadata": {
        "trusted": true,
        "id": "QTYf7YNaJChp",
        "colab_type": "code",
        "colab": {}
      },
      "source": [
        "AGE VS CHOLESTROL"
      ],
      "execution_count": 0,
      "outputs": []
    },
    {
      "cell_type": "code",
      "metadata": {
        "trusted": true,
        "id": "Sli93YPLJCh0",
        "colab_type": "code",
        "colab": {}
      },
      "source": [
        "ggplot(data,aes(x=data$age),y=data$chol)+geom_bar()+theme(legend.position = \"none\")"
      ],
      "execution_count": 0,
      "outputs": []
    },
    {
      "cell_type": "code",
      "metadata": {
        "trusted": true,
        "id": "rNSlwAnTJCh_",
        "colab_type": "code",
        "colab": {}
      },
      "source": [
        "ggplot(data,aes(x=data$age),y=data$thalach)+geom_bar()+xlab(\"Age\")+ylab(\"Maximum heart rate\")"
      ],
      "execution_count": 0,
      "outputs": []
    },
    {
      "cell_type": "markdown",
      "metadata": {
        "id": "U-FoS5zNJCiO",
        "colab_type": "text"
      },
      "source": [
        "Age Vs Maximum Heart Rate by Gender"
      ]
    },
    {
      "cell_type": "code",
      "metadata": {
        "trusted": true,
        "id": "W-JMJBvVJCiR",
        "colab_type": "code",
        "colab": {}
      },
      "source": [
        "ggplot(data,aes(x=data$age),y=data$thalach)+geom_bar()+xlab(\"Age\")+ylab(\"Maximum heart rate\")+facet_grid(data$sex)"
      ],
      "execution_count": 0,
      "outputs": []
    },
    {
      "cell_type": "markdown",
      "metadata": {
        "id": "tmhG5_BjJCib",
        "colab_type": "text"
      },
      "source": [
        "Age Vs Maximun heart rate by Gender"
      ]
    },
    {
      "cell_type": "code",
      "metadata": {
        "trusted": true,
        "id": "9xVWBRRbJCie",
        "colab_type": "code",
        "colab": {}
      },
      "source": [
        "ggplot(data,aes(x=data$age),y=data$chol)+geom_bar()+xlab(\"Age\")+ylab(\"Maximum heart rate\")+facet_grid(data$sex)"
      ],
      "execution_count": 0,
      "outputs": []
    },
    {
      "cell_type": "markdown",
      "metadata": {
        "id": "fpyYnxksJCio",
        "colab_type": "text"
      },
      "source": [
        "Sex Vs ChestPain"
      ]
    },
    {
      "cell_type": "code",
      "metadata": {
        "trusted": true,
        "id": "ylaqYYBKJCiq",
        "colab_type": "code",
        "colab": {}
      },
      "source": [
        "ggplot(data,aes(x=data$sex),y=data$thalach)+geom_bar()+xlab(\"Age\")+ylab(\"Maximum heart rate\")+facet_grid(data$sex)"
      ],
      "execution_count": 0,
      "outputs": []
    },
    {
      "cell_type": "markdown",
      "metadata": {
        "id": "CKb9aIiYJCi0",
        "colab_type": "text"
      },
      "source": [
        "Age Vs ChestPain by Gender"
      ]
    },
    {
      "cell_type": "code",
      "metadata": {
        "trusted": true,
        "id": "T7VwXTtkJCi3",
        "colab_type": "code",
        "colab": {}
      },
      "source": [
        "ggplot(data,aes(x=data$age),y=data$cp)+geom_bar()+xlab(\"Age\")+ylab(\"Maximum heart rate\")+facet_grid(data$sex)"
      ],
      "execution_count": 0,
      "outputs": []
    },
    {
      "cell_type": "markdown",
      "metadata": {
        "id": "R-lYjqeDJCjB",
        "colab_type": "text"
      },
      "source": [
        "Fasting Blood Sugar VS Age"
      ]
    },
    {
      "cell_type": "code",
      "metadata": {
        "trusted": true,
        "id": "kRnbW4EBJCjE",
        "colab_type": "code",
        "colab": {}
      },
      "source": [
        "ggplot(data,aes(x=data$fbs),y=data$thalach)+geom_bar()+xlab(\"Age\")+ylab(\"Maximum heart rate\")+facet_grid(data$sex)"
      ],
      "execution_count": 0,
      "outputs": []
    },
    {
      "cell_type": "code",
      "metadata": {
        "trusted": true,
        "id": "-7zbv52SJCjP",
        "colab_type": "code",
        "colab": {}
      },
      "source": [
        "#splitting into training and testing set\n",
        "\n",
        "#split\n",
        "library(caTools)\n",
        "set.seed(234)\n",
        "split<- sample.split(data,SplitRatio = 0.8)\n",
        "split\n",
        "#training set\n",
        "train_set<- subset(data, split == T)\n",
        "train_set\n",
        "#testing set\n",
        "test_set<- subset(data, split == F)\n",
        "test_set\n",
        "dim(train_set)\n",
        "dim(test_set)"
      ],
      "execution_count": 0,
      "outputs": []
    },
    {
      "cell_type": "code",
      "metadata": {
        "trusted": true,
        "id": "mO9JPQn5JCjb",
        "colab_type": "code",
        "colab": {}
      },
      "source": [
        "#random forest\n",
        "library(randomForest)\n",
        "set.seed(1234)\n",
        "random=randomForest(target~.,\n",
        "                       train_set,\n",
        "                       ntree=500)\n",
        "random \n",
        "pred=predict(random,test_set)\n",
        "pred=ifelse(pred>0.5,1,0)\n",
        "\n",
        "cm<-table(test_set$target,pred)\n",
        "cm\n",
        "accuracy_rf<-sum(diag(cm))/sum(cm)*100\n",
        "accuracy_rf  \n"
      ],
      "execution_count": 0,
      "outputs": []
    },
    {
      "cell_type": "code",
      "metadata": {
        "trusted": true,
        "id": "eM_u1NSAJCjm",
        "colab_type": "code",
        "colab": {}
      },
      "source": [
        "#Decision Tree\n",
        "set.seed(789)\n",
        "decision<-rpart(formula = target ~.,   data=train_set,method=\"class\")\n",
        "decision\n",
        "# Predicting the Test set results\n",
        "pred = predict(decision,test_set, type = 'class')\n",
        "#confusion matrix\n",
        "table_mat<-table(test_set$target,pred)\n",
        "table_mat\n",
        "accuracy_dt<-sum(diag(table_mat)/sum(table_mat))*100\n",
        "accuracy_dt"
      ],
      "execution_count": 0,
      "outputs": []
    },
    {
      "cell_type": "code",
      "metadata": {
        "trusted": true,
        "id": "bHk7Lm2fJCj2",
        "colab_type": "code",
        "colab": {}
      },
      "source": [
        "rpart.plot(decision)"
      ],
      "execution_count": 0,
      "outputs": []
    },
    {
      "cell_type": "code",
      "metadata": {
        "trusted": true,
        "id": "nP6X5zEYJCkH",
        "colab_type": "code",
        "colab": {}
      },
      "source": [
        "#logistic model\n",
        "set.seed(124)\n",
        "model<- glm(target~.,train_set,family=\"binomial\")\n",
        "# Predicting the Test set results\n",
        "pred = predict(model,test_set, type = 'response')\n",
        "pred = ifelse(pred>0.5,1,0)\n",
        "pred\n",
        "#confusion matrix\n",
        "table_mat<-table(test_set$target,pred)\n",
        "table_mat\n",
        "accuracy_lg<-sum(diag(table_mat)/sum(table_mat))*100\n",
        "accuracy_lg"
      ],
      "execution_count": 0,
      "outputs": []
    },
    {
      "cell_type": "code",
      "metadata": {
        "trusted": true,
        "id": "77g0qQF8JCka",
        "colab_type": "code",
        "colab": {}
      },
      "source": [
        "#svm\n",
        "set.seed(567)\n",
        "\n",
        "fit = svm(formula = target ~ ., \n",
        "                data = train_set,kernel = 'linear')     \n",
        "fit\n",
        "\n",
        "prediction = predict(fit, newdata = test_set)\n",
        "prediction = ifelse(prediction>0.5,1,0)\n",
        "\n",
        "\n",
        "confusion_matrix = table(test_set$target, prediction)\n",
        "confusion_matrix\n",
        "\n",
        "accuracy_svm <- sum(diag(confusion_matrix))/sum(confusion_matrix) *100\n",
        "accuracy_svm "
      ],
      "execution_count": 0,
      "outputs": []
    },
    {
      "cell_type": "code",
      "metadata": {
        "trusted": true,
        "id": "HgSlhXPpJCkk",
        "colab_type": "code",
        "outputId": "f53d352d-a8ac-4d3e-b67a-71da33c17979",
        "colab": {}
      },
      "source": [
        "\n",
        "#XG BOOST\n",
        "library(xgboost)\n",
        "set.seed(4)\n",
        "train_mat<-as.matrix(train_set[,-14])\n",
        "test_mat<-as.matrix(test_set[,-14])\n",
        "model<-xgboost(data = train_mat,train_set$target,nrounds = 10)\n",
        "model\n",
        "y_pred<-predict(model,test_mat)\n",
        "y_pred\n",
        "y_pred<-ifelse(y_pred>0.5,1,0)\n",
        "y_pred\n",
        "cm<-table(y_pred,test_set$target)\n",
        "cm\n",
        "accuracy_xg<-sum(diag(cm))/sum(cm)*100\n",
        "accuracy_xg      "
      ],
      "execution_count": 0,
      "outputs": [
        {
          "output_type": "stream",
          "text": [
            "[1]\ttrain-rmse:0.374681 \n",
            "[2]\ttrain-rmse:0.281785 \n",
            "[3]\ttrain-rmse:0.216445 \n",
            "[4]\ttrain-rmse:0.168246 \n",
            "[5]\ttrain-rmse:0.134819 \n",
            "[6]\ttrain-rmse:0.110793 \n",
            "[7]\ttrain-rmse:0.095719 \n",
            "[8]\ttrain-rmse:0.080761 \n",
            "[9]\ttrain-rmse:0.068234 \n",
            "[10]\ttrain-rmse:0.059586 \n"
          ],
          "name": "stdout"
        },
        {
          "output_type": "display_data",
          "data": {
            "text/plain": [
              "##### xgb.Booster\n",
              "raw: 25 Kb \n",
              "call:\n",
              "  xgb.train(params = params, data = dtrain, nrounds = nrounds, \n",
              "    watchlist = watchlist, verbose = verbose, print_every_n = print_every_n, \n",
              "    early_stopping_rounds = early_stopping_rounds, maximize = maximize, \n",
              "    save_period = save_period, save_name = save_name, xgb_model = xgb_model, \n",
              "    callbacks = callbacks)\n",
              "params (as set within xgb.train):\n",
              "  silent = \"1\"\n",
              "xgb.attributes:\n",
              "  niter\n",
              "callbacks:\n",
              "  cb.print.evaluation(period = print_every_n)\n",
              "  cb.evaluation.log()\n",
              "# of features: 13 \n",
              "niter: 10\n",
              "nfeatures : 13 \n",
              "evaluation_log:\n",
              "    iter train_rmse\n",
              "       1   0.374681\n",
              "       2   0.281785\n",
              "---                \n",
              "       9   0.068234\n",
              "      10   0.059586"
            ]
          },
          "metadata": {
            "tags": []
          }
        },
        {
          "output_type": "display_data",
          "data": {
            "text/plain": [
              " [1] 0.593814909 0.431826293 1.050322294 1.005436182 0.094332725 0.982305408\n",
              " [7] 0.715275884 0.768426716 0.884738803 0.710543215 0.953040481 0.975018144\n",
              "[13] 0.982305408 0.995168805 0.928690612 0.832697511 0.340573788 0.995168805\n",
              "[19] 0.672041118 0.733207703 1.000101089 0.950194955 0.995168805 0.488950908\n",
              "[25] 0.062577724 0.978073835 0.063106358 0.979769230 0.850691259 0.948454976\n",
              "[31] 0.979566932 1.008815527 0.995168805 0.716235280 0.762343049 0.995168805\n",
              "[37] 0.062109530 0.021847576 0.074201196 0.138706177 0.983825326 0.016624212\n",
              "[43] 0.414202869 0.025022596 0.008576095 0.012030751 0.548509896 0.024053395\n",
              "[49] 0.270596027 0.978073835 0.013390660 0.110376805 0.019426823 0.011964262\n",
              "[55] 0.267232656 0.997093678 0.374456793 0.944361329 0.936486840 0.014039695\n",
              "[61] 0.982305408 0.651262224 0.014322579 0.008576095 0.314075410 0.501267731"
            ],
            "text/latex": "\\begin{enumerate*}\n\\item 0.59381490945816\n\\item 0.431826293468475\n\\item 1.05032229423523\n\\item 1.00543618202209\n\\item 0.0943327248096466\n\\item 0.982305407524109\n\\item 0.715275883674622\n\\item 0.768426716327667\n\\item 0.884738802909851\n\\item 0.710543215274811\n\\item 0.953040480613708\n\\item 0.97501814365387\n\\item 0.982305407524109\n\\item 0.995168805122375\n\\item 0.928690612316132\n\\item 0.832697510719299\n\\item 0.340573787689209\n\\item 0.995168805122375\n\\item 0.672041118144989\n\\item 0.733207702636719\n\\item 1.00010108947754\n\\item 0.950194954872131\n\\item 0.995168805122375\n\\item 0.488950908184052\n\\item 0.0625777244567871\n\\item 0.978073835372925\n\\item 0.0631063580513\n\\item 0.979769229888916\n\\item 0.850691258907318\n\\item 0.948454976081848\n\\item 0.979566931724548\n\\item 1.00881552696228\n\\item 0.995168805122375\n\\item 0.716235280036926\n\\item 0.762343049049377\n\\item 0.995168805122375\n\\item 0.0621095299720764\n\\item 0.0218475759029388\n\\item 0.0742011964321136\n\\item 0.138706177473068\n\\item 0.983825325965881\n\\item 0.0166242122650146\n\\item 0.414202868938446\n\\item 0.0250225961208344\n\\item 0.00857609510421753\n\\item 0.0120307505130768\n\\item 0.548509895801544\n\\item 0.0240533947944641\n\\item 0.270596027374268\n\\item 0.978073835372925\n\\item 0.0133906602859497\n\\item 0.110376805067062\n\\item 0.0194268226623535\n\\item 0.0119642615318298\n\\item 0.267232656478882\n\\item 0.997093677520752\n\\item 0.374456793069839\n\\item 0.944361329078674\n\\item 0.936486840248108\n\\item 0.0140396952629089\n\\item 0.982305407524109\n\\item 0.651262223720551\n\\item 0.0143225789070129\n\\item 0.00857609510421753\n\\item 0.314075410366058\n\\item 0.501267731189728\n\\end{enumerate*}\n",
            "text/markdown": "1. 0.59381490945816\n2. 0.431826293468475\n3. 1.05032229423523\n4. 1.00543618202209\n5. 0.0943327248096466\n6. 0.982305407524109\n7. 0.715275883674622\n8. 0.768426716327667\n9. 0.884738802909851\n10. 0.710543215274811\n11. 0.953040480613708\n12. 0.97501814365387\n13. 0.982305407524109\n14. 0.995168805122375\n15. 0.928690612316132\n16. 0.832697510719299\n17. 0.340573787689209\n18. 0.995168805122375\n19. 0.672041118144989\n20. 0.733207702636719\n21. 1.00010108947754\n22. 0.950194954872131\n23. 0.995168805122375\n24. 0.488950908184052\n25. 0.0625777244567871\n26. 0.978073835372925\n27. 0.0631063580513\n28. 0.979769229888916\n29. 0.850691258907318\n30. 0.948454976081848\n31. 0.979566931724548\n32. 1.00881552696228\n33. 0.995168805122375\n34. 0.716235280036926\n35. 0.762343049049377\n36. 0.995168805122375\n37. 0.0621095299720764\n38. 0.0218475759029388\n39. 0.0742011964321136\n40. 0.138706177473068\n41. 0.983825325965881\n42. 0.0166242122650146\n43. 0.414202868938446\n44. 0.0250225961208344\n45. 0.00857609510421753\n46. 0.0120307505130768\n47. 0.548509895801544\n48. 0.0240533947944641\n49. 0.270596027374268\n50. 0.978073835372925\n51. 0.0133906602859497\n52. 0.110376805067062\n53. 0.0194268226623535\n54. 0.0119642615318298\n55. 0.267232656478882\n56. 0.997093677520752\n57. 0.374456793069839\n58. 0.944361329078674\n59. 0.936486840248108\n60. 0.0140396952629089\n61. 0.982305407524109\n62. 0.651262223720551\n63. 0.0143225789070129\n64. 0.00857609510421753\n65. 0.314075410366058\n66. 0.501267731189728\n\n\n",
            "text/html": [
              "<ol class=list-inline>\n",
              "\t<li>0.59381490945816</li>\n",
              "\t<li>0.431826293468475</li>\n",
              "\t<li>1.05032229423523</li>\n",
              "\t<li>1.00543618202209</li>\n",
              "\t<li>0.0943327248096466</li>\n",
              "\t<li>0.982305407524109</li>\n",
              "\t<li>0.715275883674622</li>\n",
              "\t<li>0.768426716327667</li>\n",
              "\t<li>0.884738802909851</li>\n",
              "\t<li>0.710543215274811</li>\n",
              "\t<li>0.953040480613708</li>\n",
              "\t<li>0.97501814365387</li>\n",
              "\t<li>0.982305407524109</li>\n",
              "\t<li>0.995168805122375</li>\n",
              "\t<li>0.928690612316132</li>\n",
              "\t<li>0.832697510719299</li>\n",
              "\t<li>0.340573787689209</li>\n",
              "\t<li>0.995168805122375</li>\n",
              "\t<li>0.672041118144989</li>\n",
              "\t<li>0.733207702636719</li>\n",
              "\t<li>1.00010108947754</li>\n",
              "\t<li>0.950194954872131</li>\n",
              "\t<li>0.995168805122375</li>\n",
              "\t<li>0.488950908184052</li>\n",
              "\t<li>0.0625777244567871</li>\n",
              "\t<li>0.978073835372925</li>\n",
              "\t<li>0.0631063580513</li>\n",
              "\t<li>0.979769229888916</li>\n",
              "\t<li>0.850691258907318</li>\n",
              "\t<li>0.948454976081848</li>\n",
              "\t<li>0.979566931724548</li>\n",
              "\t<li>1.00881552696228</li>\n",
              "\t<li>0.995168805122375</li>\n",
              "\t<li>0.716235280036926</li>\n",
              "\t<li>0.762343049049377</li>\n",
              "\t<li>0.995168805122375</li>\n",
              "\t<li>0.0621095299720764</li>\n",
              "\t<li>0.0218475759029388</li>\n",
              "\t<li>0.0742011964321136</li>\n",
              "\t<li>0.138706177473068</li>\n",
              "\t<li>0.983825325965881</li>\n",
              "\t<li>0.0166242122650146</li>\n",
              "\t<li>0.414202868938446</li>\n",
              "\t<li>0.0250225961208344</li>\n",
              "\t<li>0.00857609510421753</li>\n",
              "\t<li>0.0120307505130768</li>\n",
              "\t<li>0.548509895801544</li>\n",
              "\t<li>0.0240533947944641</li>\n",
              "\t<li>0.270596027374268</li>\n",
              "\t<li>0.978073835372925</li>\n",
              "\t<li>0.0133906602859497</li>\n",
              "\t<li>0.110376805067062</li>\n",
              "\t<li>0.0194268226623535</li>\n",
              "\t<li>0.0119642615318298</li>\n",
              "\t<li>0.267232656478882</li>\n",
              "\t<li>0.997093677520752</li>\n",
              "\t<li>0.374456793069839</li>\n",
              "\t<li>0.944361329078674</li>\n",
              "\t<li>0.936486840248108</li>\n",
              "\t<li>0.0140396952629089</li>\n",
              "\t<li>0.982305407524109</li>\n",
              "\t<li>0.651262223720551</li>\n",
              "\t<li>0.0143225789070129</li>\n",
              "\t<li>0.00857609510421753</li>\n",
              "\t<li>0.314075410366058</li>\n",
              "\t<li>0.501267731189728</li>\n",
              "</ol>\n"
            ]
          },
          "metadata": {
            "tags": []
          }
        },
        {
          "output_type": "display_data",
          "data": {
            "text/plain": [
              " [1] 1 0 1 1 0 1 1 1 1 1 1 1 1 1 1 1 0 1 1 1 1 1 1 0 0 1 0 1 1 1 1 1 1 1 1 1 0 0\n",
              "[39] 0 0 1 0 0 0 0 0 1 0 0 1 0 0 0 0 0 1 0 1 1 0 1 1 0 0 0 1"
            ],
            "text/latex": "\\begin{enumerate*}\n\\item 1\n\\item 0\n\\item 1\n\\item 1\n\\item 0\n\\item 1\n\\item 1\n\\item 1\n\\item 1\n\\item 1\n\\item 1\n\\item 1\n\\item 1\n\\item 1\n\\item 1\n\\item 1\n\\item 0\n\\item 1\n\\item 1\n\\item 1\n\\item 1\n\\item 1\n\\item 1\n\\item 0\n\\item 0\n\\item 1\n\\item 0\n\\item 1\n\\item 1\n\\item 1\n\\item 1\n\\item 1\n\\item 1\n\\item 1\n\\item 1\n\\item 1\n\\item 0\n\\item 0\n\\item 0\n\\item 0\n\\item 1\n\\item 0\n\\item 0\n\\item 0\n\\item 0\n\\item 0\n\\item 1\n\\item 0\n\\item 0\n\\item 1\n\\item 0\n\\item 0\n\\item 0\n\\item 0\n\\item 0\n\\item 1\n\\item 0\n\\item 1\n\\item 1\n\\item 0\n\\item 1\n\\item 1\n\\item 0\n\\item 0\n\\item 0\n\\item 1\n\\end{enumerate*}\n",
            "text/markdown": "1. 1\n2. 0\n3. 1\n4. 1\n5. 0\n6. 1\n7. 1\n8. 1\n9. 1\n10. 1\n11. 1\n12. 1\n13. 1\n14. 1\n15. 1\n16. 1\n17. 0\n18. 1\n19. 1\n20. 1\n21. 1\n22. 1\n23. 1\n24. 0\n25. 0\n26. 1\n27. 0\n28. 1\n29. 1\n30. 1\n31. 1\n32. 1\n33. 1\n34. 1\n35. 1\n36. 1\n37. 0\n38. 0\n39. 0\n40. 0\n41. 1\n42. 0\n43. 0\n44. 0\n45. 0\n46. 0\n47. 1\n48. 0\n49. 0\n50. 1\n51. 0\n52. 0\n53. 0\n54. 0\n55. 0\n56. 1\n57. 0\n58. 1\n59. 1\n60. 0\n61. 1\n62. 1\n63. 0\n64. 0\n65. 0\n66. 1\n\n\n",
            "text/html": [
              "<ol class=list-inline>\n",
              "\t<li>1</li>\n",
              "\t<li>0</li>\n",
              "\t<li>1</li>\n",
              "\t<li>1</li>\n",
              "\t<li>0</li>\n",
              "\t<li>1</li>\n",
              "\t<li>1</li>\n",
              "\t<li>1</li>\n",
              "\t<li>1</li>\n",
              "\t<li>1</li>\n",
              "\t<li>1</li>\n",
              "\t<li>1</li>\n",
              "\t<li>1</li>\n",
              "\t<li>1</li>\n",
              "\t<li>1</li>\n",
              "\t<li>1</li>\n",
              "\t<li>0</li>\n",
              "\t<li>1</li>\n",
              "\t<li>1</li>\n",
              "\t<li>1</li>\n",
              "\t<li>1</li>\n",
              "\t<li>1</li>\n",
              "\t<li>1</li>\n",
              "\t<li>0</li>\n",
              "\t<li>0</li>\n",
              "\t<li>1</li>\n",
              "\t<li>0</li>\n",
              "\t<li>1</li>\n",
              "\t<li>1</li>\n",
              "\t<li>1</li>\n",
              "\t<li>1</li>\n",
              "\t<li>1</li>\n",
              "\t<li>1</li>\n",
              "\t<li>1</li>\n",
              "\t<li>1</li>\n",
              "\t<li>1</li>\n",
              "\t<li>0</li>\n",
              "\t<li>0</li>\n",
              "\t<li>0</li>\n",
              "\t<li>0</li>\n",
              "\t<li>1</li>\n",
              "\t<li>0</li>\n",
              "\t<li>0</li>\n",
              "\t<li>0</li>\n",
              "\t<li>0</li>\n",
              "\t<li>0</li>\n",
              "\t<li>1</li>\n",
              "\t<li>0</li>\n",
              "\t<li>0</li>\n",
              "\t<li>1</li>\n",
              "\t<li>0</li>\n",
              "\t<li>0</li>\n",
              "\t<li>0</li>\n",
              "\t<li>0</li>\n",
              "\t<li>0</li>\n",
              "\t<li>1</li>\n",
              "\t<li>0</li>\n",
              "\t<li>1</li>\n",
              "\t<li>1</li>\n",
              "\t<li>0</li>\n",
              "\t<li>1</li>\n",
              "\t<li>1</li>\n",
              "\t<li>0</li>\n",
              "\t<li>0</li>\n",
              "\t<li>0</li>\n",
              "\t<li>1</li>\n",
              "</ol>\n"
            ]
          },
          "metadata": {
            "tags": []
          }
        },
        {
          "output_type": "display_data",
          "data": {
            "text/plain": [
              "      \n",
              "y_pred  0  1\n",
              "     0 21  6\n",
              "     1  9 30"
            ]
          },
          "metadata": {
            "tags": []
          }
        },
        {
          "output_type": "display_data",
          "data": {
            "text/plain": [
              "[1] 77.27273"
            ],
            "text/latex": "77.2727272727273",
            "text/markdown": "77.2727272727273",
            "text/html": [
              "77.2727272727273"
            ]
          },
          "metadata": {
            "tags": []
          }
        }
      ]
    },
    {
      "cell_type": "code",
      "metadata": {
        "trusted": true,
        "id": "tXw0z3ayJCk2",
        "colab_type": "code",
        "outputId": "d54648f1-5b0b-495a-ec71-e517450f2b32",
        "colab": {}
      },
      "source": [
        "#Comparing the algorithms\n",
        "\n",
        "Accuracy<-c(accuracy_dt,accuracy_lg,accuracy_rf,accuracy_svm,accuracy_xg)\n",
        "Accuracy\n",
        "Algorithm<-c(\"DESCISION TREE\",\"LOGISTIC REGRESSION\",\"RANDOM FOREST\",\"SUPPORT VECTOR MACHINE\",\"extreme Gradient boosting\")\n",
        "Algorithm\n",
        "library(data.table)\n",
        "result<-data.table(Algorithm,Accuracy)\n",
        "result\n",
        "library(ggplot2)\n",
        "ggplot(result,aes(x=Algorithm,y=Accuracy))+geom_col()+coord_flip()"
      ],
      "execution_count": 0,
      "outputs": [
        {
          "output_type": "display_data",
          "data": {
            "text/plain": [
              "[1] 78.78788 81.81818 80.30303 87.87879 77.27273"
            ],
            "text/latex": "\\begin{enumerate*}\n\\item 78.7878787878788\n\\item 81.8181818181818\n\\item 80.3030303030303\n\\item 87.8787878787879\n\\item 77.2727272727273\n\\end{enumerate*}\n",
            "text/markdown": "1. 78.7878787878788\n2. 81.8181818181818\n3. 80.3030303030303\n4. 87.8787878787879\n5. 77.2727272727273\n\n\n",
            "text/html": [
              "<ol class=list-inline>\n",
              "\t<li>78.7878787878788</li>\n",
              "\t<li>81.8181818181818</li>\n",
              "\t<li>80.3030303030303</li>\n",
              "\t<li>87.8787878787879</li>\n",
              "\t<li>77.2727272727273</li>\n",
              "</ol>\n"
            ]
          },
          "metadata": {
            "tags": []
          }
        },
        {
          "output_type": "display_data",
          "data": {
            "text/plain": [
              "[1] \"DESCISION TREE\"            \"LOGISTIC REGRESSION\"      \n",
              "[3] \"RANDOM FOREST\"             \"SUPPORT VECTOR MACHINE\"   \n",
              "[5] \"extreme Gradient boosting\""
            ],
            "text/latex": "\\begin{enumerate*}\n\\item 'DESCISION TREE'\n\\item 'LOGISTIC REGRESSION'\n\\item 'RANDOM FOREST'\n\\item 'SUPPORT VECTOR MACHINE'\n\\item 'extreme Gradient boosting'\n\\end{enumerate*}\n",
            "text/markdown": "1. 'DESCISION TREE'\n2. 'LOGISTIC REGRESSION'\n3. 'RANDOM FOREST'\n4. 'SUPPORT VECTOR MACHINE'\n5. 'extreme Gradient boosting'\n\n\n",
            "text/html": [
              "<ol class=list-inline>\n",
              "\t<li>'DESCISION TREE'</li>\n",
              "\t<li>'LOGISTIC REGRESSION'</li>\n",
              "\t<li>'RANDOM FOREST'</li>\n",
              "\t<li>'SUPPORT VECTOR MACHINE'</li>\n",
              "\t<li>'extreme Gradient boosting'</li>\n",
              "</ol>\n"
            ]
          },
          "metadata": {
            "tags": []
          }
        },
        {
          "output_type": "display_data",
          "data": {
            "text/plain": [
              "  Algorithm                 Accuracy\n",
              "1 DESCISION TREE            78.78788\n",
              "2 LOGISTIC REGRESSION       81.81818\n",
              "3 RANDOM FOREST             80.30303\n",
              "4 SUPPORT VECTOR MACHINE    87.87879\n",
              "5 extreme Gradient boosting 77.27273"
            ],
            "text/latex": "\\begin{tabular}{r|ll}\n Algorithm & Accuracy\\\\\n\\hline\n\t DESCISION TREE            & 78.78788                 \\\\\n\t LOGISTIC REGRESSION       & 81.81818                 \\\\\n\t RANDOM FOREST             & 80.30303                 \\\\\n\t SUPPORT VECTOR MACHINE    & 87.87879                 \\\\\n\t extreme Gradient boosting & 77.27273                 \\\\\n\\end{tabular}\n",
            "text/markdown": "\n| Algorithm | Accuracy |\n|---|---|\n| DESCISION TREE            | 78.78788                  |\n| LOGISTIC REGRESSION       | 81.81818                  |\n| RANDOM FOREST             | 80.30303                  |\n| SUPPORT VECTOR MACHINE    | 87.87879                  |\n| extreme Gradient boosting | 77.27273                  |\n\n",
            "text/html": [
              "<table>\n",
              "<thead>\n",
              "\t<tr><th scope=col>Algorithm</th><th scope=col>Accuracy</th></tr>\n",
              "</thead>\n",
              "<tbody>\n",
              "\t<tr><td>DESCISION TREE           </td><td>78.78788                 </td></tr>\n",
              "\t<tr><td>LOGISTIC REGRESSION      </td><td>81.81818                 </td></tr>\n",
              "\t<tr><td>RANDOM FOREST            </td><td>80.30303                 </td></tr>\n",
              "\t<tr><td>SUPPORT VECTOR MACHINE   </td><td>87.87879                 </td></tr>\n",
              "\t<tr><td>extreme Gradient boosting</td><td>77.27273                 </td></tr>\n",
              "</tbody>\n",
              "</table>\n"
            ]
          },
          "metadata": {
            "tags": []
          }
        },
        {
          "output_type": "display_data",
          "data": {
            "image/png": "[encoded data removed]"
          },
          "metadata": {
            "tags": []
          }
        }
      ]
    }
  ]
}