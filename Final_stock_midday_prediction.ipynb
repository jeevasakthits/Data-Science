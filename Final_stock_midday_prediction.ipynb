{
  "nbformat": 4,
  "nbformat_minor": 0,
  "metadata": {
    "colab": {
      "name": " Final_stock_midday_prediction.ipynb",
      "version": "0.3.2",
      "provenance": [],
      "collapsed_sections": []
    },
    "kernelspec": {
      "name": "python3",
      "display_name": "Python 3"
    },
    "accelerator": "TPU"
  },
  "cells": [
    {
      "cell_type": "code",
      "metadata": {
        "id": "cyCaFvFC0tlL",
        "colab_type": "code",
        "colab": {}
      },
      "source": [
        "#Author : JEEVA T\n",
        "import numpy as np\n"
      ],
      "execution_count": 0,
      "outputs": []
    },
    {
      "cell_type": "code",
      "metadata": {
        "id": "_ebUSHz716IQ",
        "colab_type": "code",
        "colab": {}
      },
      "source": [
        "data=pd.read_csv(\"und_1.csv\")\n",
        "training_set = data.iloc[0:5738, 4:5].values\n",
        "test_set=data.iloc[5738:,4:5].values"
      ],
      "execution_count": 0,
      "outputs": []
    },
    {
      "cell_type": "code",
      "metadata": {
        "id": "xjsX03kn2E1Y",
        "colab_type": "code",
        "colab": {}
      },
      "source": [
        ""
      ],
      "execution_count": 0,
      "outputs": []
    },
    {
      "cell_type": "code",
      "metadata": {
        "id": "GkrdFv1m29RN",
        "colab_type": "code",
        "colab": {}
      },
      "source": [
        "X_train = []\n",
        "y_train = []\n",
        "for i in range(200, 5738):\n",
        "    X_train.append(training_set_scaled[i-200:i, 0])\n"
      ],
      "execution_count": 0,
      "outputs": []
    },
    {
      "cell_type": "code",
      "metadata": {
        "id": "kr8JOjg04zC3",
        "colab_type": "code",
        "colab": {}
      },
      "source": [
        "X_train = np.reshape(X_train,1))"
      ],
      "execution_count": 0,
      "outputs": []
    },
    {
      "cell_type": "code",
      "metadata": {
        "id": "g9KdcH1r4-rG",
        "colab_type": "code",
        "outputId": "8c6dcc8e-61b3-4bcd-a46d-a29fb63b4dcb",
        "colab": {
          "base_uri": "https://localhost:8080/",
          "height": 34
        }
      },
      "source": [
        "from keras.models import Sequential\n",
        "from keras.layers import Dropout"
      ],
      "execution_count": 0,
      "outputs": [
        {
          "output_type": "stream",
          "text": [
            "Using TensorFlow backend.\n"
          ],
          "name": "stderr"
        }
      ]
    },
    {
      "cell_type": "code",
      "metadata": {
        "id": "QfN9zGdAJ_2D",
        "colab_type": "code",
        "colab": {}
      },
      "source": [
        ""
      ],
      "execution_count": 0,
      "outputs": []
    },
    {
      "cell_type": "code",
      "metadata": {
        "id": "PpaJFFcV5Y-s",
        "colab_type": "code",
        "outputId": "5eb1d07a-fc92-4bcc-e79c-1fcb075a36cd",
        "colab": {
          "base_uri": "https://localhost:8080/",
          "height": 3607
        }
      },
      "source": [
        
      ],
      "execution_count": 0,
      "outputs": [
        {
          "output_type": "stream",
          "text": [
            "WARNING:tensorflow:From /usr/local/lib/python3.6/dist-packages/tensorflow/python/framework/op_def_library.py:263: colocate_with (from tensorflow.python.framework.ops) is deprecated and will be removed in a future version.\n",
            "Instructions for updating:\n",
            "Colocations handled automatically by placer.\n",
            "WARNING:tensorflow:From /usr/local/lib/python3.6/dist-packages/keras/backend/tensorflow_backend.py:3445: calling dropout (from tensorflow.python.ops.nn_ops) with keep_prob is deprecated and will be removed in a future version.\n",
            "Instructions for updating:\n",
            "Please use `rate` instead of `keep_prob`. Rate should be set to `rate = 1 - keep_prob`.\n",
            "WARNING:tensorflow:From /usr/local/lib/python3.6/dist-packages/tensorflow/python/ops/math_ops.py:3066: to_int32 (from tensorflow.python.ops.math_ops) is deprecated and will be removed in a future version.\n",
            "Instructions for updating:\n",
            "Use tf.cast instead.\n",
            "Epoch 1/100\n",
            "5538/5538 [==============================] - 92s 17ms/step - loss: 0.0115\n",
            "Epoch 2/100\n",
            "5538/5538 [==============================] - 88s 16ms/step - loss: 0.0028\n",
            "Epoch 3/100\n",
            "5538/5538 [==============================] - 88s 16ms/step - loss: 0.0022\n",
            "Epoch 4/100\n",
            "5538/5538 [==============================] - 89s 16ms/step - loss: 0.0019\n",
            "Epoch 5/100\n",
            "5538/5538 [==============================] - 88s 16ms/step - loss: 0.0019\n",
            "Epoch 6/100\n",
            "5538/5538 [==============================] - 88s 16ms/step - loss: 0.0017\n",
            "Epoch 7/100\n",
            "5538/5538 [==============================] - 88s 16ms/step - loss: 0.0017\n",
            "Epoch 8/100\n",
            "5538/5538 [==============================] - 89s 16ms/step - loss: 0.0018\n",
            "Epoch 9/100\n",
            "5538/5538 [==============================] - 88s 16ms/step - loss: 0.0017\n",
            "Epoch 10/100\n",
            "5538/5538 [==============================] - 88s 16ms/step - loss: 0.0014\n",
            "Epoch 11/100\n",
            "5538/5538 [==============================] - 89s 16ms/step - loss: 0.0013\n",
            "Epoch 12/100\n",
            "5538/5538 [==============================] - 88s 16ms/step - loss: 0.0014\n",
            "Epoch 13/100\n",
            "5538/5538 [==============================] - 88s 16ms/step - loss: 0.0013\n",
            "Epoch 14/100\n",
            "5538/5538 [==============================] - 88s 16ms/step - loss: 0.0013\n",
            "Epoch 15/100\n",
            "5538/5538 [==============================] - 88s 16ms/step - loss: 0.0014\n",
            "Epoch 16/100\n",
            "5538/5538 [==============================] - 88s 16ms/step - loss: 0.0012\n",
            "Epoch 17/100\n",
            "5538/5538 [==============================] - 88s 16ms/step - loss: 0.0010\n",
            "Epoch 18/100\n",
            "5538/5538 [==============================] - 89s 16ms/step - loss: 0.0010\n",
            "Epoch 19/100\n",
            "5538/5538 [==============================] - 88s 16ms/step - loss: 9.5963e-04\n",
            "Epoch 20/100\n",
            "5538/5538 [==============================] - 88s 16ms/step - loss: 0.0010\n",
            "Epoch 21/100\n",
            "5538/5538 [==============================] - 88s 16ms/step - loss: 9.9906e-04\n",
            "Epoch 22/100\n",
            "5538/5538 [==============================] - 88s 16ms/step - loss: 9.5220e-04\n",
            "Epoch 23/100\n",
            "5538/5538 [==============================] - 88s 16ms/step - loss: 9.9745e-04\n",
            "Epoch 24/100\n",
            "5538/5538 [==============================] - 88s 16ms/step - loss: 9.3037e-04\n",
            "Epoch 25/100\n",
            "5538/5538 [==============================] - 89s 16ms/step - loss: 9.0464e-04\n",
            "Epoch 26/100\n",
            "5538/5538 [==============================] - 88s 16ms/step - loss: 9.8509e-04\n",
            "Epoch 27/100\n",
            "5538/5538 [==============================] - 88s 16ms/step - loss: 8.4124e-04\n",
            "Epoch 28/100\n",
            "5538/5538 [==============================] - 88s 16ms/step - loss: 8.3295e-04\n",
            "Epoch 29/100\n",
            "5538/5538 [==============================] - 88s 16ms/step - loss: 8.0979e-04\n",
            "Epoch 30/100\n",
            "5538/5538 [==============================] - 88s 16ms/step - loss: 8.0569e-04\n",
            "Epoch 31/100\n",
            "5538/5538 [==============================] - 88s 16ms/step - loss: 8.0931e-04\n",
            "Epoch 32/100\n",
            "5538/5538 [==============================] - 89s 16ms/step - loss: 8.1878e-04\n",
            "Epoch 33/100\n",
            "5538/5538 [==============================] - 88s 16ms/step - loss: 8.0430e-04\n",
            "Epoch 34/100\n",
            "5538/5538 [==============================] - 88s 16ms/step - loss: 8.0157e-04\n",
            "Epoch 35/100\n",
            "5538/5538 [==============================] - 88s 16ms/step - loss: 7.6638e-04\n",
            "Epoch 36/100\n",
            "5538/5538 [==============================] - 88s 16ms/step - loss: 8.2644e-04\n",
            "Epoch 37/100\n",
            "5538/5538 [==============================] - 88s 16ms/step - loss: 8.1544e-04\n",
            "Epoch 38/100\n",
            "5538/5538 [==============================] - 88s 16ms/step - loss: 8.1730e-04\n",
            "Epoch 39/100\n",
            "5538/5538 [==============================] - 88s 16ms/step - loss: 7.6046e-04\n",
            "Epoch 40/100\n",
            "5538/5538 [==============================] - 88s 16ms/step - loss: 7.6436e-04\n",
            "Epoch 41/100\n",
            "5538/5538 [==============================] - 87s 16ms/step - loss: 7.4684e-04\n",
            "Epoch 42/100\n",
            "5538/5538 [==============================] - 87s 16ms/step - loss: 7.3878e-04\n",
            "Epoch 43/100\n",
            "5538/5538 [==============================] - 88s 16ms/step - loss: 8.1700e-04\n",
            "Epoch 44/100\n",
            "5538/5538 [==============================] - 87s 16ms/step - loss: 7.2922e-04\n",
            "Epoch 45/100\n",
            "5538/5538 [==============================] - 87s 16ms/step - loss: 7.1428e-04\n",
            "Epoch 46/100\n",
            "5538/5538 [==============================] - 88s 16ms/step - loss: 7.7836e-04\n",
            "Epoch 47/100\n",
            "5538/5538 [==============================] - 88s 16ms/step - loss: 7.7140e-04\n",
            "Epoch 48/100\n",
            "5538/5538 [==============================] - 87s 16ms/step - loss: 7.6602e-04\n",
            "Epoch 49/100\n",
            "5538/5538 [==============================] - 88s 16ms/step - loss: 7.8073e-04\n",
            "Epoch 50/100\n",
            "5538/5538 [==============================] - 88s 16ms/step - loss: 7.0548e-04\n",
            "Epoch 51/100\n",
            "5538/5538 [==============================] - 87s 16ms/step - loss: 6.7681e-04\n",
            "Epoch 52/100\n",
            "5538/5538 [==============================] - 87s 16ms/step - loss: 6.6932e-04\n",
            "Epoch 53/100\n",
            "5538/5538 [==============================] - 88s 16ms/step - loss: 6.9016e-04\n",
            "Epoch 54/100\n",
            "5538/5538 [==============================] - 88s 16ms/step - loss: 7.0583e-04\n",
            "Epoch 55/100\n",
            "5538/5538 [==============================] - 87s 16ms/step - loss: 7.7278e-04\n",
            "Epoch 56/100\n",
            "5538/5538 [==============================] - 87s 16ms/step - loss: 6.7537e-04\n",
            "Epoch 57/100\n",
            "5538/5538 [==============================] - 88s 16ms/step - loss: 6.8818e-04\n",
            "Epoch 58/100\n",
            "5538/5538 [==============================] - 87s 16ms/step - loss: 6.6671e-04\n",
            "Epoch 59/100\n",
            "5538/5538 [==============================] - 87s 16ms/step - loss: 6.9458e-04\n",
            "Epoch 60/100\n",
            "5538/5538 [==============================] - 87s 16ms/step - loss: 6.9709e-04\n",
            "Epoch 61/100\n",
            "5538/5538 [==============================] - 88s 16ms/step - loss: 6.9979e-04\n",
            "Epoch 62/100\n",
            "5538/5538 [==============================] - 87s 16ms/step - loss: 7.1053e-04\n",
            "Epoch 63/100\n",
            "5538/5538 [==============================] - 88s 16ms/step - loss: 6.8117e-04\n",
            "Epoch 64/100\n",
            "5538/5538 [==============================] - 88s 16ms/step - loss: 6.5592e-04\n",
            "Epoch 65/100\n",
            "5538/5538 [==============================] - 88s 16ms/step - loss: 6.5995e-04\n",
            "Epoch 66/100\n",
            "5538/5538 [==============================] - 87s 16ms/step - loss: 6.6232e-04\n",
            "Epoch 67/100\n",
            "5538/5538 [==============================] - 88s 16ms/step - loss: 6.9301e-04\n",
            "Epoch 68/100\n",
            "5538/5538 [==============================] - 88s 16ms/step - loss: 6.6443e-04\n",
            "Epoch 69/100\n",
            "5538/5538 [==============================] - 87s 16ms/step - loss: 7.1503e-04\n",
            "Epoch 70/100\n",
            "5538/5538 [==============================] - 88s 16ms/step - loss: 7.1057e-04\n",
            "Epoch 71/100\n",
            "5538/5538 [==============================] - 88s 16ms/step - loss: 6.5424e-04\n",
            "Epoch 72/100\n",
            "5538/5538 [==============================] - 89s 16ms/step - loss: 6.9188e-04\n",
            "Epoch 73/100\n",
            "5538/5538 [==============================] - 88s 16ms/step - loss: 6.4487e-04\n",
            "Epoch 74/100\n",
            "5538/5538 [==============================] - 88s 16ms/step - loss: 6.8119e-04\n",
            "Epoch 75/100\n",
            "5538/5538 [==============================] - 89s 16ms/step - loss: 6.4079e-04\n",
            "Epoch 76/100\n",
            "5538/5538 [==============================] - 88s 16ms/step - loss: 6.6137e-04\n",
            "Epoch 77/100\n",
            "5538/5538 [==============================] - 88s 16ms/step - loss: 6.6775e-04\n",
            "Epoch 78/100\n",
            "5538/5538 [==============================] - 88s 16ms/step - loss: 6.4374e-04\n",
            "Epoch 79/100\n",
            "5538/5538 [==============================] - 89s 16ms/step - loss: 7.1328e-04\n",
            "Epoch 80/100\n",
            "5538/5538 [==============================] - 92s 17ms/step - loss: 6.0419e-04\n",
            "Epoch 81/100\n",
            "5538/5538 [==============================] - 89s 16ms/step - loss: 6.6030e-04\n",
            "Epoch 82/100\n",
            "5538/5538 [==============================] - 90s 16ms/step - loss: 6.6182e-04\n",
            "Epoch 83/100\n",
            "5538/5538 [==============================] - 89s 16ms/step - loss: 6.2438e-04\n",
            "Epoch 84/100\n",
            "5538/5538 [==============================] - 89s 16ms/step - loss: 6.3294e-04\n",
            "Epoch 85/100\n",
            "5538/5538 [==============================] - 89s 16ms/step - loss: 6.2382e-04\n",
            "Epoch 86/100\n",
            "5538/5538 [==============================] - 89s 16ms/step - loss: 6.2160e-04\n",
            "Epoch 87/100\n",
            "5538/5538 [==============================] - 88s 16ms/step - loss: 6.2779e-04\n",
            "Epoch 88/100\n",
            "5538/5538 [==============================] - 89s 16ms/step - loss: 6.0248e-04\n",
            "Epoch 89/100\n",
            "5538/5538 [==============================] - 89s 16ms/step - loss: 6.7642e-04\n",
            "Epoch 90/100\n",
            "5538/5538 [==============================] - 88s 16ms/step - loss: 6.2080e-04\n",
            "Epoch 91/100\n",
            "5538/5538 [==============================] - 89s 16ms/step - loss: 6.4582e-04\n",
            "Epoch 92/100\n",
            "5538/5538 [==============================] - 88s 16ms/step - loss: 6.6093e-04\n",
            "Epoch 93/100\n",
            "5538/5538 [==============================] - 89s 16ms/step - loss: 6.3095e-04\n",
            "Epoch 94/100\n",
            "5538/5538 [==============================] - 89s 16ms/step - loss: 6.3324e-04\n",
            "Epoch 95/100\n",
            "5538/5538 [==============================] - 88s 16ms/step - loss: 6.5388e-04\n",
            "Epoch 96/100\n",
            "5538/5538 [==============================] - 89s 16ms/step - loss: 5.8642e-04\n",
            "Epoch 97/100\n",
            "5538/5538 [==============================] - 88s 16ms/step - loss: 6.0904e-04\n",
            "Epoch 98/100\n",
            "5538/5538 [==============================] - 89s 16ms/step - loss: 6.1468e-04\n",
            "Epoch 99/100\n",
            "5538/5538 [==============================] - 89s 16ms/step - loss: 6.2301e-04\n",
            "Epoch 100/100\n",
            "5538/5538 [==============================] - 89s 16ms/step - loss: 6.2369e-04\n"
          ],
          "name": "stdout"
        },
        {
          "output_type": "execute_result",
          "data": {
            "text/plain": [
              "<keras.callbacks.History at 0x7f039ff143c8>"
            ]
          },
          "metadata": {
            "tags": []
          },
          "execution_count": 8
        }
      ]
    },
    {
      "cell_type": "code",
      "metadata": {
        "id": "3dm0co8W6Knq",
        "colab_type": "code",
        "outputId": "50a50e8a-1d52-4d46-8183-1a9dae539141",
        "colab": {
          "base_uri": "https://localhost:8080/",
          "height": 34
        }
      },
      "source": [
        "path= \"./jeeva.pkl\"\n",
        "with open(path, 'wb') as f:\n",
        "        pickle.dump(regressor, f)\n",
        "        print(\"Done Pickiling\")\n",
        "        #print(\"Pickled clf at {}\".format(path))"
      ],
      "execution_count": 0,
      "outputs": [
        {
          "output_type": "stream",
          "text": [
            "Done Pickiling\n"
          ],
          "name": "stdout"
        }
      ]
    },
    {
      "cell_type": "code",
      "metadata": {
        "id": "sWpI8MPNKe2u",
        "colab_type": "code",
        "outputId": "c840f352-1be4-4e82-a7e4-1f41353675d0",
        "colab": {
          "base_uri": "https://localhost:8080/",
          "height": 190
        }
      },
      "source": [
        "with open(\"jeeva.pkl\", 'rb') as f:\n",
        "            regressor = pickle.load(f)\n",
        "  "
      ],
      "execution_count": 0,
      "outputs": [
        {
          "output_type": "stream",
          "text": [
            "WARNING:tensorflow:From /usr/local/lib/python3.6/dist-packages/tensorflow/python/framework/op_def_library.py:263: colocate_with (from tensorflow.python.framework.ops) is deprecated and will be removed in a future version.\n",
            "Instructions for updating:\n",
            "Colocations handled automatically by placer.\n",
            "WARNING:tensorflow:From /usr/local/lib/python3.6/dist-packages/keras/backend/tensorflow_backend.py:3445: calling dropout (from tensorflow.python.ops.nn_ops) with keep_prob is deprecated and will be removed in a future version.\n",
            "Instructions for updating:\n",
            "Please use `rate` instead of `keep_prob`. Rate should be set to `rate = 1 - keep_prob`.\n",
            "WARNING:tensorflow:From /usr/local/lib/python3.6/dist-packages/tensorflow/python/ops/math_ops.py:3066: to_int32 (from tensorflow.python.ops.math_ops) is deprecated and will be removed in a future version.\n",
            "Instructions for updating:\n",
            "Use tf.cast instead.\n"
          ],
          "name": "stdout"
        }
      ]
    },
    {
      "cell_type": "code",
      "metadata": {
        "id": "gvK41BiSwERp",
        "colab_type": "code",
        "colab": {}
      },
      "source": [
        "data_total = data['V4']\n",
        "inputs = data_total[7173 - 1435 - 200:].values\n",
        "inputs = inputs.reshape(-1,1)\n",
        "inputs = sc.transform(inputs)"
      ],
      "execution_count": 0,
      "outputs": []
    },
    {
      "cell_type": "code",
      "metadata": {
        "id": "s7f6V2kVxeCi",
        "colab_type": "code",
        "colab": {}
      },
      "source": [
        "X_test = []\n",
        "for i in range(200, len(inputs)):\n",
        "    X_test.append(inputs[i-200:i, 0])\n",
        "X_test = np.array(X_test)\n",
        "X_test = np.reshape(X_test, (X_test.shape[0], X_test.shape[1], 1))\n",
        "predicted_stock_price = regressor.predict(X_test)\n",
        "predicted_stock_price = sc.inverse_transform(predicted_stock_price)"
      ],
      "execution_count": 0,
      "outputs": []
    },
    {
      "cell_type": "code",
      "metadata": {
        "id": "MHS1EaVhx0g6",
        "colab_type": "code",
        "outputId": "23ba0e84-914f-4547-e0ae-d8f5fb59acea",
        "colab": {
          "base_uri": "https://localhost:8080/",
          "height": 376
        }
      },
      "source": [
        "plt.plot(test_set, color = 'red', label = 'Real Company Prices')\n",
        "plt.plot(predicted_stock_price, color = 'blue', label = 'Predicted company Price')\n",
        "plt.title('Stock Price Prediction')\n",
        "plt.xlabel('Time')\n",
        "plt.ylabel('Stock Price')\n",
        "plt.legend()\n",
        "plt.show()"
      ],
      "execution_count": 0,
      "outputs": [
        {
          "output_type": "display_data",
          "data": {
            "image/png": "[encoded data removed]",
            "text/plain": [
              "<Figure size 576x396 with 1 Axes>"
            ]
          },
          "metadata": {
            "tags": []
          }
        }
      ]
    },
    {
      "cell_type": "code",
      "metadata": {
        "id": "ouUBwCqbyMIT",
        "colab_type": "code",
        "colab": {}
      },
      "source": [
        ""
      ],
      "execution_count": 0,
      "outputs": []
    }
  ]
}
