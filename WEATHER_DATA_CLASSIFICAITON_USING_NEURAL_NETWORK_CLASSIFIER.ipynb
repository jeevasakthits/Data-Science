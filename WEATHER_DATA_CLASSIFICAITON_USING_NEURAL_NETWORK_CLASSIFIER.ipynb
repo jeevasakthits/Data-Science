{
  "nbformat": 4,
  "nbformat_minor": 0,
  "metadata": {
    "colab": {
      "name": "WEATHER_DATA_CLASSIFICAITON_USING_NEURAL_NETWORK_CLASSIFIER.ipynb",
      "version": "0.3.2",
      "provenance": [],
      "collapsed_sections": []
    },
    "kernelspec": {
      "name": "python3",
      "display_name": "Python 3"
    }
  },
  "cells": [
    {
      "cell_type": "code",
      "metadata": {
        "id": "X1kAXV_1G7Dg",
        "colab_type": "code",
        "outputId": "526d6dd1-10ef-41fb-a12a-b457865f0e85",
        "colab": {
          "base_uri": "https://localhost:8080/",
          "height": 35
        }
      },
      "source": [
        "#importing requierd files\n",
        "import numpy as np\n",
        "import matplotlib\n",
        "import matplotlib.pyplot as plt\n",
        "import pandas as pd\n",
        "import keras\n"
      ],
      "execution_count": 0,
      "outputs": [
        {
          "output_type": "stream",
          "text": [
            "Using TensorFlow backend.\n"
          ],
          "name": "stderr"
        }
      ]
    },
    {
      "cell_type": "code",
      "metadata": {
        "id": "zOLhnjJ6HB15",
        "colab_type": "code",
        "colab": {}
      },
      "source": [
        "#choosing the uploading file\n",
        "from google.colab import files\n",
        "uploaded = files.upload()"
      ],
      "execution_count": 0,
      "outputs": []
    },
    {
      "cell_type": "code",
      "metadata": {
        "id": "PFWy_VgCqDn1",
        "colab_type": "code",
        "colab": {}
      },
      "source": [
        "#reading and selecting file\n",
        "abs_file_path =pd.read_csv('weather_dataset.csv')"
      ],
      "execution_count": 0,
      "outputs": []
    },
    {
      "cell_type": "code",
      "metadata": {
        "id": "717J0iopqE8F",
        "colab_type": "code",
        "outputId": "ddd324d2-305d-4fe9-f989-0a9f7ef0a546",
        "colab": {
          "base_uri": "https://localhost:8080/",
          "height": 305
        }
      },
      "source": [
        "data=abs_file_path\n",
        "data.head()"
      ],
      "execution_count": 0,
      "outputs": [
        {
          "output_type": "execute_result",
          "data": {
            "text/html": [
              "<div>\n",
              "<style scoped>\n",
              "    .dataframe tbody tr th:only-of-type {\n",
              "        vertical-align: middle;\n",
              "    }\n",
              "\n",
              "    .dataframe tbody tr th {\n",
              "        vertical-align: top;\n",
              "    }\n",
              "\n",
              "    .dataframe thead th {\n",
              "        text-align: right;\n",
              "    }\n",
              "</style>\n",
              "<table border=\"1\" class=\"dataframe\">\n",
              "  <thead>\n",
              "    <tr style=\"text-align: right;\">\n",
              "      <th></th>\n",
              "      <th>dt</th>\n",
              "      <th>date</th>\n",
              "      <th>city_id</th>\n",
              "      <th>temp</th>\n",
              "      <th>temp_min</th>\n",
              "      <th>temp_max</th>\n",
              "      <th>pressure</th>\n",
              "      <th>humidity</th>\n",
              "      <th>wind_speed</th>\n",
              "      <th>wind_deg</th>\n",
              "      <th>rain_3h</th>\n",
              "      <th>clouds_all</th>\n",
              "      <th>weather_id</th>\n",
              "      <th>weather_main</th>\n",
              "      <th>weather_description</th>\n",
              "      <th>weather_icon</th>\n",
              "      <th>Month</th>\n",
              "      <th>Day</th>\n",
              "      <th>year</th>\n",
              "    </tr>\n",
              "  </thead>\n",
              "  <tbody>\n",
              "    <tr>\n",
              "      <th>0</th>\n",
              "      <td>1349096400</td>\n",
              "      <td>2012-10-01</td>\n",
              "      <td>1273865</td>\n",
              "      <td>298.0</td>\n",
              "      <td>298.0</td>\n",
              "      <td>301.7</td>\n",
              "      <td>978</td>\n",
              "      <td>72</td>\n",
              "      <td>3</td>\n",
              "      <td>245</td>\n",
              "      <td>0.0</td>\n",
              "      <td>99</td>\n",
              "      <td>800</td>\n",
              "      <td>Clear</td>\n",
              "      <td>sky is clear</td>\n",
              "      <td>02n</td>\n",
              "      <td>10</td>\n",
              "      <td>1</td>\n",
              "      <td>12</td>\n",
              "    </tr>\n",
              "    <tr>\n",
              "      <th>1</th>\n",
              "      <td>1349100000</td>\n",
              "      <td>2012-10-01</td>\n",
              "      <td>1273865</td>\n",
              "      <td>298.0</td>\n",
              "      <td>298.0</td>\n",
              "      <td>298.0</td>\n",
              "      <td>978</td>\n",
              "      <td>72</td>\n",
              "      <td>3</td>\n",
              "      <td>245</td>\n",
              "      <td>0.0</td>\n",
              "      <td>99</td>\n",
              "      <td>804</td>\n",
              "      <td>Clouds</td>\n",
              "      <td>overcast clouds</td>\n",
              "      <td>4</td>\n",
              "      <td>10</td>\n",
              "      <td>1</td>\n",
              "      <td>12</td>\n",
              "    </tr>\n",
              "    <tr>\n",
              "      <th>2</th>\n",
              "      <td>1349103600</td>\n",
              "      <td>2012-10-01</td>\n",
              "      <td>1273865</td>\n",
              "      <td>298.0</td>\n",
              "      <td>298.0</td>\n",
              "      <td>298.0</td>\n",
              "      <td>978</td>\n",
              "      <td>72</td>\n",
              "      <td>3</td>\n",
              "      <td>245</td>\n",
              "      <td>0.0</td>\n",
              "      <td>99</td>\n",
              "      <td>804</td>\n",
              "      <td>Clouds</td>\n",
              "      <td>overcast clouds</td>\n",
              "      <td>4</td>\n",
              "      <td>10</td>\n",
              "      <td>1</td>\n",
              "      <td>12</td>\n",
              "    </tr>\n",
              "    <tr>\n",
              "      <th>3</th>\n",
              "      <td>1349107200</td>\n",
              "      <td>2012-10-01</td>\n",
              "      <td>1273865</td>\n",
              "      <td>298.0</td>\n",
              "      <td>298.0</td>\n",
              "      <td>298.0</td>\n",
              "      <td>978</td>\n",
              "      <td>72</td>\n",
              "      <td>3</td>\n",
              "      <td>245</td>\n",
              "      <td>0.0</td>\n",
              "      <td>99</td>\n",
              "      <td>804</td>\n",
              "      <td>Clouds</td>\n",
              "      <td>overcast clouds</td>\n",
              "      <td>4</td>\n",
              "      <td>10</td>\n",
              "      <td>1</td>\n",
              "      <td>12</td>\n",
              "    </tr>\n",
              "    <tr>\n",
              "      <th>4</th>\n",
              "      <td>1349110800</td>\n",
              "      <td>2012-10-01</td>\n",
              "      <td>1273865</td>\n",
              "      <td>298.0</td>\n",
              "      <td>298.0</td>\n",
              "      <td>298.0</td>\n",
              "      <td>978</td>\n",
              "      <td>72</td>\n",
              "      <td>3</td>\n",
              "      <td>245</td>\n",
              "      <td>0.0</td>\n",
              "      <td>99</td>\n",
              "      <td>804</td>\n",
              "      <td>Clouds</td>\n",
              "      <td>overcast clouds</td>\n",
              "      <td>4</td>\n",
              "      <td>10</td>\n",
              "      <td>1</td>\n",
              "      <td>12</td>\n",
              "    </tr>\n",
              "  </tbody>\n",
              "</table>\n",
              "</div>"
            ],
            "text/plain": [
              "           dt        date  city_id   temp  temp_min  temp_max  pressure  \\\n",
              "0  1349096400  2012-10-01  1273865  298.0     298.0     301.7       978   \n",
              "1  1349100000  2012-10-01  1273865  298.0     298.0     298.0       978   \n",
              "2  1349103600  2012-10-01  1273865  298.0     298.0     298.0       978   \n",
              "3  1349107200  2012-10-01  1273865  298.0     298.0     298.0       978   \n",
              "4  1349110800  2012-10-01  1273865  298.0     298.0     298.0       978   \n",
              "\n",
              "   humidity  wind_speed  wind_deg  rain_3h  clouds_all  weather_id  \\\n",
              "0        72           3       245      0.0          99         800   \n",
              "1        72           3       245      0.0          99         804   \n",
              "2        72           3       245      0.0          99         804   \n",
              "3        72           3       245      0.0          99         804   \n",
              "4        72           3       245      0.0          99         804   \n",
              "\n",
              "  weather_main weather_description weather_icon  Month  Day  year  \n",
              "0        Clear        sky is clear          02n     10    1    12  \n",
              "1       Clouds     overcast clouds            4     10    1    12  \n",
              "2       Clouds     overcast clouds            4     10    1    12  \n",
              "3       Clouds     overcast clouds            4     10    1    12  \n",
              "4       Clouds     overcast clouds            4     10    1    12  "
            ]
          },
          "metadata": {
            "tags": []
          },
          "execution_count": 6
        }
      ]
    },
    {
      "cell_type": "code",
      "metadata": {
        "id": "TqAoPsAlHe5g",
        "colab_type": "code",
        "colab": {}
      },
      "source": [
        "\n",
        "\n",
        "# Importing the dataset\n",
        "dataset = abs_file_path\n",
        "X = dataset.iloc[:, 3:13].values\n",
        "y = dataset.iloc[:, 13].values"
      ],
      "execution_count": 0,
      "outputs": []
    },
    {
      "cell_type": "code",
      "metadata": {
        "id": "ENllJvyyHuTA",
        "colab_type": "code",
        "colab": {}
      },
      "source": [
        "#importing and normalizing\n",
        "from sklearn.preprocessing import LabelEncoder, OneHotEncoder\n",
        "\n",
        "labelencoder_X_1 = LabelEncoder()\n",
        "X[:, 1] = labelencoder_X_1.fit_transform(X[:, 1])\n",
        "\n",
        "labelencoder_X_2 = LabelEncoder()\n",
        "X[:,2] = labelencoder_X_2.fit_transform(X[:, 2])\n"
      ],
      "execution_count": 0,
      "outputs": []
    },
    {
      "cell_type": "code",
      "metadata": {
        "id": "p3s3m8naHxcI",
        "colab_type": "code",
        "outputId": "10c46879-0b39-446f-eb1e-aba1272d7520",
        "colab": {
          "base_uri": "https://localhost:8080/",
          "height": 139
        }
      },
      "source": [
        "onehotencoder = OneHotEncoder(categorical_features=[1])\n",
        "X = onehotencoder.fit_transform(X).toarray()\n",
        "X=X[:,1:]"
      ],
      "execution_count": 0,
      "outputs": [
        {
          "output_type": "stream",
          "text": [
            "/usr/local/lib/python3.6/dist-packages/sklearn/preprocessing/_encoders.py:371: FutureWarning: The handling of integer data will change in version 0.22. Currently, the categories are determined based on the range [0, max(values)], while in the future they will be determined based on the unique values.\n",
            "If you want the future behaviour and silence this warning, you can specify \"categories='auto'\".\n",
            "In case you used a LabelEncoder before this OneHotEncoder to convert the categories to integers, then you can now use the OneHotEncoder directly.\n",
            "  warnings.warn(msg, FutureWarning)\n",
            "/usr/local/lib/python3.6/dist-packages/sklearn/preprocessing/_encoders.py:392: DeprecationWarning: The 'categorical_features' keyword is deprecated in version 0.20 and will be removed in 0.22. You can use the ColumnTransformer instead.\n",
            "  \"use the ColumnTransformer instead.\", DeprecationWarning)\n"
          ],
          "name": "stderr"
        }
      ]
    },
    {
      "cell_type": "code",
      "metadata": {
        "id": "WbymdRGwH3ZI",
        "colab_type": "code",
        "colab": {}
      },
      "source": [
        "#importing and splitting data into training and testing \n",
        "from sklearn.model_selection import train_test_split\n",
        "X_train, X_test, y_train, y_test = train_test_split(X, y, test_size=0.2, random_state=0)\n",
        "\n",
        "# Feature Scaling\n",
        "from sklearn.preprocessing import StandardScaler\n",
        "\n",
        "sc = StandardScaler()\n",
        "X_train = sc.fit_transform(X_train)\n",
        "X_test = sc.transform(X_test)"
      ],
      "execution_count": 0,
      "outputs": []
    },
    {
      "cell_type": "code",
      "metadata": {
        "id": "O10heg_CH9bw",
        "colab_type": "code",
        "colab": {}
      },
      "source": [
        "#importing keras and other required library's\n",
        "import keras\n",
        "from keras.models import Sequential\n",
        "from keras.layers import Dense"
      ],
      "execution_count": 0,
      "outputs": []
    },
    {
      "cell_type": "code",
      "metadata": {
        "id": "eD7ca-sjIBfg",
        "colab_type": "code",
        "colab": {}
      },
      "source": [
        "#creating new neural network model\n",
        "classifier=Sequential()\n",
        "classifier.add(Dense(output_dim=6,init='uniform',activation='relu',input_dim=11))\n",
        "classifier.add(Dropout(p=0.2))\n",
        "\n",
        "\n",
        "classifier.add(Dense(output_dim=6,init='uniform',activation='relu'))\n",
        "classifier.add(Dropout(p=0.2))\n",
        "\n",
        "classifier.add(Dense(output_dim=1,init='uniform',activation='sigmoid'))\n",
        "\n",
        "\n",
        "classifier.compile(optimizer='adam',loss='binary_crossentropy',metrics=['accuracy'])\n",
        "\n",
        "\n",
        "\n"
      ],
      "execution_count": 0,
      "outputs": []
    },
    {
      "cell_type": "code",
      "metadata": {
        "id": "TuUQIlhCIsHg",
        "colab_type": "code",
        "outputId": "0748bd28-2621-4e6c-a08f-1646aa6bcf68",
        "colab": {
          "base_uri": "https://localhost:8080/",
          "height": 3539
        }
      },
      "source": [
        "\n",
        "#trining or fitting the model\n",
        "classifier.fit(X_train,y_train,batch_size=10,nb_epoch=100)"
      ],
      "execution_count": 0,
      "outputs": [
        {
          "output_type": "stream",
          "text": [
            "WARNING:tensorflow:From /usr/local/lib/python3.6/dist-packages/tensorflow/python/ops/math_ops.py:3066: to_int32 (from tensorflow.python.ops.math_ops) is deprecated and will be removed in a future version.\n",
            "Instructions for updating:\n",
            "Use tf.cast instead.\n"
          ],
          "name": "stdout"
        },
        {
          "output_type": "stream",
          "text": [
            "/usr/local/lib/python3.6/dist-packages/ipykernel_launcher.py:1: UserWarning: The `nb_epoch` argument in `fit` has been renamed `epochs`.\n",
            "  \"\"\"Entry point for launching an IPython kernel.\n"
          ],
          "name": "stderr"
        },
        {
          "output_type": "stream",
          "text": [
            "Epoch 1/100\n",
            "8000/8000 [==============================] - 1s 185us/step - loss: 0.4805 - acc: 0.7952\n",
            "Epoch 2/100\n",
            "8000/8000 [==============================] - 1s 119us/step - loss: 0.4281 - acc: 0.7960\n",
            "Epoch 3/100\n",
            "8000/8000 [==============================] - 1s 97us/step - loss: 0.4218 - acc: 0.7984\n",
            "Epoch 4/100\n",
            "8000/8000 [==============================] - 1s 94us/step - loss: 0.4180 - acc: 0.8217\n",
            "Epoch 5/100\n",
            "8000/8000 [==============================] - 1s 93us/step - loss: 0.4158 - acc: 0.8275\n",
            "Epoch 6/100\n",
            "8000/8000 [==============================] - 1s 94us/step - loss: 0.4144 - acc: 0.8301\n",
            "Epoch 7/100\n",
            "8000/8000 [==============================] - 1s 93us/step - loss: 0.4127 - acc: 0.8312\n",
            "Epoch 8/100\n",
            "8000/8000 [==============================] - 1s 92us/step - loss: 0.4115 - acc: 0.8332\n",
            "Epoch 9/100\n",
            "8000/8000 [==============================] - 1s 94us/step - loss: 0.4099 - acc: 0.8339\n",
            "Epoch 10/100\n",
            "8000/8000 [==============================] - 1s 94us/step - loss: 0.4097 - acc: 0.8346\n",
            "Epoch 11/100\n",
            "8000/8000 [==============================] - 1s 93us/step - loss: 0.4083 - acc: 0.8356\n",
            "Epoch 12/100\n",
            "8000/8000 [==============================] - 1s 93us/step - loss: 0.4078 - acc: 0.8352\n",
            "Epoch 13/100\n",
            "8000/8000 [==============================] - 1s 93us/step - loss: 0.4074 - acc: 0.8342\n",
            "Epoch 14/100\n",
            "8000/8000 [==============================] - 1s 93us/step - loss: 0.4066 - acc: 0.8346\n",
            "Epoch 15/100\n",
            "8000/8000 [==============================] - 1s 94us/step - loss: 0.4062 - acc: 0.8355\n",
            "Epoch 16/100\n",
            "8000/8000 [==============================] - 1s 93us/step - loss: 0.4058 - acc: 0.8335\n",
            "Epoch 17/100\n",
            "8000/8000 [==============================] - 1s 93us/step - loss: 0.4053 - acc: 0.8351\n",
            "Epoch 18/100\n",
            "8000/8000 [==============================] - 1s 92us/step - loss: 0.4052 - acc: 0.8349\n",
            "Epoch 19/100\n",
            "8000/8000 [==============================] - 1s 92us/step - loss: 0.4048 - acc: 0.8344\n",
            "Epoch 20/100\n",
            "8000/8000 [==============================] - 1s 92us/step - loss: 0.4044 - acc: 0.8341\n",
            "Epoch 21/100\n",
            "8000/8000 [==============================] - 1s 91us/step - loss: 0.4040 - acc: 0.8342\n",
            "Epoch 22/100\n",
            "8000/8000 [==============================] - 1s 92us/step - loss: 0.4043 - acc: 0.8341\n",
            "Epoch 23/100\n",
            "8000/8000 [==============================] - 1s 94us/step - loss: 0.4036 - acc: 0.8339\n",
            "Epoch 24/100\n",
            "8000/8000 [==============================] - 1s 94us/step - loss: 0.4037 - acc: 0.8354\n",
            "Epoch 25/100\n",
            "8000/8000 [==============================] - 1s 94us/step - loss: 0.4029 - acc: 0.8347\n",
            "Epoch 26/100\n",
            "8000/8000 [==============================] - 1s 96us/step - loss: 0.4027 - acc: 0.8346\n",
            "Epoch 27/100\n",
            "8000/8000 [==============================] - 1s 92us/step - loss: 0.4031 - acc: 0.8345\n",
            "Epoch 28/100\n",
            "8000/8000 [==============================] - 1s 92us/step - loss: 0.4027 - acc: 0.8355\n",
            "Epoch 29/100\n",
            "8000/8000 [==============================] - 1s 94us/step - loss: 0.4028 - acc: 0.8341\n",
            "Epoch 30/100\n",
            "8000/8000 [==============================] - 1s 94us/step - loss: 0.4025 - acc: 0.8364\n",
            "Epoch 31/100\n",
            "8000/8000 [==============================] - 1s 94us/step - loss: 0.4022 - acc: 0.8351\n",
            "Epoch 32/100\n",
            "8000/8000 [==============================] - 1s 94us/step - loss: 0.4022 - acc: 0.8350\n",
            "Epoch 33/100\n",
            "8000/8000 [==============================] - 1s 94us/step - loss: 0.4024 - acc: 0.8354\n",
            "Epoch 34/100\n",
            "8000/8000 [==============================] - 1s 94us/step - loss: 0.4022 - acc: 0.8339\n",
            "Epoch 35/100\n",
            "8000/8000 [==============================] - 1s 93us/step - loss: 0.4021 - acc: 0.8347\n",
            "Epoch 36/100\n",
            "8000/8000 [==============================] - 1s 92us/step - loss: 0.4016 - acc: 0.8339\n",
            "Epoch 37/100\n",
            "8000/8000 [==============================] - 1s 93us/step - loss: 0.4016 - acc: 0.8360\n",
            "Epoch 38/100\n",
            "8000/8000 [==============================] - 1s 92us/step - loss: 0.4016 - acc: 0.8352\n",
            "Epoch 39/100\n",
            "8000/8000 [==============================] - 1s 92us/step - loss: 0.4023 - acc: 0.8350\n",
            "Epoch 40/100\n",
            "8000/8000 [==============================] - 1s 96us/step - loss: 0.4016 - acc: 0.8342\n",
            "Epoch 41/100\n",
            "8000/8000 [==============================] - 1s 93us/step - loss: 0.4007 - acc: 0.8349\n",
            "Epoch 42/100\n",
            "8000/8000 [==============================] - 1s 93us/step - loss: 0.4011 - acc: 0.8352\n",
            "Epoch 43/100\n",
            "8000/8000 [==============================] - 1s 93us/step - loss: 0.4013 - acc: 0.8357\n",
            "Epoch 44/100\n",
            "8000/8000 [==============================] - 1s 93us/step - loss: 0.4006 - acc: 0.8350\n",
            "Epoch 45/100\n",
            "8000/8000 [==============================] - 1s 92us/step - loss: 0.4016 - acc: 0.8342\n",
            "Epoch 46/100\n",
            "8000/8000 [==============================] - 1s 93us/step - loss: 0.4007 - acc: 0.8339\n",
            "Epoch 47/100\n",
            "8000/8000 [==============================] - 1s 94us/step - loss: 0.4011 - acc: 0.8350\n",
            "Epoch 48/100\n",
            "8000/8000 [==============================] - 1s 93us/step - loss: 0.4011 - acc: 0.8330\n",
            "Epoch 49/100\n",
            "8000/8000 [==============================] - 1s 92us/step - loss: 0.4008 - acc: 0.8334\n",
            "Epoch 50/100\n",
            "8000/8000 [==============================] - 1s 92us/step - loss: 0.4013 - acc: 0.8354\n",
            "Epoch 51/100\n",
            "8000/8000 [==============================] - 1s 94us/step - loss: 0.4012 - acc: 0.8355\n",
            "Epoch 52/100\n",
            "8000/8000 [==============================] - 1s 94us/step - loss: 0.4008 - acc: 0.8331\n",
            "Epoch 53/100\n",
            "8000/8000 [==============================] - 1s 92us/step - loss: 0.4012 - acc: 0.8357\n",
            "Epoch 54/100\n",
            "8000/8000 [==============================] - 1s 92us/step - loss: 0.4008 - acc: 0.8341\n",
            "Epoch 55/100\n",
            "8000/8000 [==============================] - 1s 94us/step - loss: 0.4009 - acc: 0.8337\n",
            "Epoch 56/100\n",
            "8000/8000 [==============================] - 1s 92us/step - loss: 0.4001 - acc: 0.8324\n",
            "Epoch 57/100\n",
            "8000/8000 [==============================] - 1s 96us/step - loss: 0.4004 - acc: 0.8349\n",
            "Epoch 58/100\n",
            "8000/8000 [==============================] - 1s 93us/step - loss: 0.4010 - acc: 0.8341\n",
            "Epoch 59/100\n",
            "8000/8000 [==============================] - 1s 93us/step - loss: 0.4007 - acc: 0.8352\n",
            "Epoch 60/100\n",
            "8000/8000 [==============================] - 1s 93us/step - loss: 0.4007 - acc: 0.8342\n",
            "Epoch 61/100\n",
            "8000/8000 [==============================] - 1s 92us/step - loss: 0.4007 - acc: 0.8337\n",
            "Epoch 62/100\n",
            "8000/8000 [==============================] - 1s 92us/step - loss: 0.4007 - acc: 0.8344\n",
            "Epoch 63/100\n",
            "8000/8000 [==============================] - 1s 97us/step - loss: 0.4004 - acc: 0.8342\n",
            "Epoch 64/100\n",
            "8000/8000 [==============================] - 1s 106us/step - loss: 0.4008 - acc: 0.8346\n",
            "Epoch 65/100\n",
            "8000/8000 [==============================] - 1s 104us/step - loss: 0.4000 - acc: 0.8361\n",
            "Epoch 66/100\n",
            "8000/8000 [==============================] - 1s 104us/step - loss: 0.4005 - acc: 0.8347\n",
            "Epoch 67/100\n",
            "8000/8000 [==============================] - 1s 104us/step - loss: 0.4000 - acc: 0.8357\n",
            "Epoch 68/100\n",
            "8000/8000 [==============================] - 1s 105us/step - loss: 0.4004 - acc: 0.8336\n",
            "Epoch 69/100\n",
            "8000/8000 [==============================] - 1s 104us/step - loss: 0.4006 - acc: 0.8364\n",
            "Epoch 70/100\n",
            "8000/8000 [==============================] - 1s 98us/step - loss: 0.4010 - acc: 0.8352\n",
            "Epoch 71/100\n",
            "8000/8000 [==============================] - 1s 93us/step - loss: 0.4004 - acc: 0.8359\n",
            "Epoch 72/100\n",
            "8000/8000 [==============================] - 1s 93us/step - loss: 0.4006 - acc: 0.8366\n",
            "Epoch 73/100\n",
            "8000/8000 [==============================] - 1s 92us/step - loss: 0.4005 - acc: 0.8361\n",
            "Epoch 74/100\n",
            "8000/8000 [==============================] - 1s 92us/step - loss: 0.4002 - acc: 0.8350\n",
            "Epoch 75/100\n",
            "8000/8000 [==============================] - 1s 91us/step - loss: 0.3999 - acc: 0.8349\n",
            "Epoch 76/100\n",
            "8000/8000 [==============================] - 1s 93us/step - loss: 0.4003 - acc: 0.8356\n",
            "Epoch 77/100\n",
            "8000/8000 [==============================] - 1s 93us/step - loss: 0.4004 - acc: 0.8344\n",
            "Epoch 78/100\n",
            "8000/8000 [==============================] - 1s 92us/step - loss: 0.4003 - acc: 0.8356\n",
            "Epoch 79/100\n",
            "8000/8000 [==============================] - 1s 92us/step - loss: 0.4005 - acc: 0.8321\n",
            "Epoch 80/100\n",
            "8000/8000 [==============================] - 1s 93us/step - loss: 0.4004 - acc: 0.8345\n",
            "Epoch 81/100\n",
            "8000/8000 [==============================] - 1s 93us/step - loss: 0.4002 - acc: 0.8359\n",
            "Epoch 82/100\n",
            "8000/8000 [==============================] - 1s 93us/step - loss: 0.4001 - acc: 0.8364\n",
            "Epoch 83/100\n",
            "8000/8000 [==============================] - 1s 93us/step - loss: 0.4003 - acc: 0.8354\n",
            "Epoch 84/100\n",
            "8000/8000 [==============================] - 1s 91us/step - loss: 0.4002 - acc: 0.8346\n",
            "Epoch 85/100\n",
            "8000/8000 [==============================] - 1s 93us/step - loss: 0.4001 - acc: 0.8330\n",
            "Epoch 86/100\n",
            "8000/8000 [==============================] - 1s 92us/step - loss: 0.4000 - acc: 0.8349\n",
            "Epoch 87/100\n",
            "8000/8000 [==============================] - 1s 93us/step - loss: 0.4005 - acc: 0.8345\n",
            "Epoch 88/100\n",
            "8000/8000 [==============================] - 1s 92us/step - loss: 0.3999 - acc: 0.8349\n",
            "Epoch 89/100\n",
            "8000/8000 [==============================] - 1s 93us/step - loss: 0.3999 - acc: 0.8339\n",
            "Epoch 90/100\n",
            "8000/8000 [==============================] - 1s 92us/step - loss: 0.4001 - acc: 0.8342\n",
            "Epoch 91/100\n",
            "8000/8000 [==============================] - 1s 93us/step - loss: 0.4002 - acc: 0.8352\n",
            "Epoch 92/100\n",
            "8000/8000 [==============================] - 1s 91us/step - loss: 0.4004 - acc: 0.8351\n",
            "Epoch 93/100\n",
            "8000/8000 [==============================] - 1s 91us/step - loss: 0.4003 - acc: 0.8346\n",
            "Epoch 94/100\n",
            "8000/8000 [==============================] - 1s 93us/step - loss: 0.4001 - acc: 0.8354\n",
            "Epoch 95/100\n",
            "8000/8000 [==============================] - 1s 93us/step - loss: 0.3997 - acc: 0.8350\n",
            "Epoch 96/100\n",
            "8000/8000 [==============================] - 1s 92us/step - loss: 0.4002 - acc: 0.8359\n",
            "Epoch 97/100\n",
            "8000/8000 [==============================] - 1s 92us/step - loss: 0.3999 - acc: 0.8355\n",
            "Epoch 98/100\n",
            "8000/8000 [==============================] - 1s 92us/step - loss: 0.4002 - acc: 0.8337\n",
            "Epoch 99/100\n",
            "8000/8000 [==============================] - 1s 92us/step - loss: 0.4001 - acc: 0.8327\n",
            "Epoch 100/100\n",
            "8000/8000 [==============================] - 1s 91us/step - loss: 0.4002 - acc: 0.8341\n"
          ],
          "name": "stdout"
        },
        {
          "output_type": "execute_result",
          "data": {
            "text/plain": [
              "<keras.callbacks.History at 0x7f108fb0e860>"
            ]
          },
          "metadata": {
            "tags": []
          },
          "execution_count": 12
        }
      ]
    },
    {
      "cell_type": "code",
      "metadata": {
        "id": "DCl_z-1wKRtA",
        "colab_type": "code",
        "colab": {}
      },
      "source": [
        "#prediction of the test set\n",
        "y_pred = classifier.predict(X_test)\n",
        "y_pred\n",
        "y_pred=(y_pred>0.5)"
      ],
      "execution_count": 0,
      "outputs": []
    },
    {
      "cell_type": "code",
      "metadata": {
        "id": "4cNNzaLmL6PY",
        "colab_type": "code",
        "colab": {}
      },
      "source": [
        "\n",
        "#using confusion matrix finding the accuracy of the model\n",
        "from sklearn.metrics import confusion_matrix\n",
        "cm = confusion_matrix(y_test, y_pred)"
      ],
      "execution_count": 0,
      "outputs": []
    },
    {
      "cell_type": "code",
      "metadata": {
        "id": "1-0u8Op4L9Yg",
        "colab_type": "code",
        "outputId": "8cc2fc97-92d2-48ef-be63-7b04462af319",
        "colab": {
          "base_uri": "https://localhost:8080/",
          "height": 51
        }
      },
      "source": [
        "\n",
        "cm"
      ],
      "execution_count": 0,
      "outputs": [
        {
          "output_type": "execute_result",
          "data": {
            "text/plain": [
              "array([[1553,   42],\n",
              "       [ 267,  138]])"
            ]
          },
          "metadata": {
            "tags": []
          },
          "execution_count": 15
        }
      ]
    },
    {
      "cell_type": "code",
      "metadata": {
        "id": "ZU37GTMqNgZJ",
        "colab_type": "code",
        "outputId": "0eb23735-e21c-45cc-b477-8be0d489d737",
        "colab": {
          "base_uri": "https://localhost:8080/",
          "height": 34
        }
      },
      "source": [
        "(1540+155)/2000"
      ],
      "execution_count": 0,
      "outputs": [
        {
          "output_type": "execute_result",
          "data": {
            "text/plain": [
              "0.8475"
            ]
          },
          "metadata": {
            "tags": []
          },
          "execution_count": 16
        }
      ]
    },
    {
      "cell_type": "code",
      "metadata": {
        "id": "ZTAwHRXINxqo",
        "colab_type": "code",
        "outputId": "83b3d80c-39e2-43e0-f95f-398b3033090b",
        "colab": {
          "base_uri": "https://localhost:8080/",
          "height": 34
        }
      },
      "source": [
        "#predicting model in new data\n",
        "new_prediction=classifier.predict(sc.transform(np.array([[0.0,0,600,1,40,3,60000,2,1,1,50000]])))\n",
        "y_pred=(new_prediction>0.5)\n",
        "print(new_prediction,y_pred)"
      ],
      "execution_count": 0,
      "outputs": [
        {
          "output_type": "stream",
          "text": [
            "[[0.08391257]] [[False]]\n"
          ],
          "name": "stdout"
        }
      ]
    },
    {
      "cell_type": "code",
      "metadata": {
        "id": "IZzjiFuqu5I7",
        "colab_type": "code",
        "colab": {}
      },
      "source": [
        "#importing required libraryes\n",
        "from keras.wrappers.scikit_learn import KerasClassifier\n",
        "from sklearn.model_selection import cross_val_score\n",
        "from keras.models import Sequential\n",
        "from keras.layers import Dense\n",
        "#dropout using for reducing the overfitting\n",
        "from keras.layers import Dropout"
      ],
      "execution_count": 0,
      "outputs": []
    },
    {
      "cell_type": "code",
      "metadata": {
        "id": "ys6NO6VyvNtr",
        "colab_type": "code",
        "colab": {}
      },
      "source": [
        "#creating new neural network\n",
        "def build_classifier():\n",
        "    classifier=Sequential()\n",
        "    classifier.add(Dense(output_dim=6,init='uniform',activation='relu',input_dim=11))\n",
        "    classifier.add(Dense(output_dim=6,init='uniform',activation='relu'))\n",
        "    classifier.add(Dense(output_dim=1,init='uniform',activation='sigmoid'))\n",
        "    classifier.compile(optimizer='adam',loss='binary_crossentropy',metrics=['accuracy'])\n",
        "    return classifier\n",
        "classifier= KerasClassifier(build_fn=build_classifier,batch_size=10,nb_epoch=100)\n",
        "accuracies=cross_val_score(estimator=classifier,X=X_train,y=y_train,cv=10,n_jobs=-1)\n"
      ],
      "execution_count": 0,
      "outputs": []
    },
    {
      "cell_type": "code",
      "metadata": {
        "id": "qOORAd4TyOM8",
        "colab_type": "code",
        "colab": {}
      },
      "source": [
        "mean=accuracies.mean()\n",
        "variance=accuracies.std()"
      ],
      "execution_count": 0,
      "outputs": []
    },
    {
      "cell_type": "code",
      "metadata": {
        "id": "wH4RQzJ8zLvk",
        "colab_type": "code",
        "outputId": "4f8e8ba6-f35a-420c-e691-103372debcad",
        "colab": {
          "base_uri": "https://localhost:8080/",
          "height": 34
        }
      },
      "source": [
        "print(mean,variance)"
      ],
      "execution_count": 0,
      "outputs": [
        {
          "output_type": "stream",
          "text": [
            "0.7966249968856574 0.010651436815378017\n"
          ],
          "name": "stdout"
        }
      ]
    },
    {
      "cell_type": "code",
      "metadata": {
        "id": "9FciJkkrzmp8",
        "colab_type": "code",
        "outputId": "fb05a0a0-fbe2-4ef7-95c0-fe71fb81c8b5",
        "colab": {
          "base_uri": "https://localhost:8080/",
          "height": 2502
        }
      },
      "source": [
        "  #importing required libraryes\n",
        "from keras.wrappers.scikit_learn import KerasClassifier\n",
        "from sklearn.model_selection import GridSearchCV\n",
        "from keras.models import Sequential\n",
        "from keras.layers import Dense\n",
        "#dropout using for reducing the overfitting\n",
        "from keras.layers import Dropout\n",
        "  #creating new neural network\n",
        "\n",
        "def build_classifier(optimizer):\n",
        "    classifier=Sequential()\n",
        "    classifier.add(Dense(output_dim=6,init='uniform',activation='relu',input_dim=11))\n",
        "    classifier.add(Dense(output_dim=6,init='uniform',activation='relu'))\n",
        "    classifier.add(Dense(output_dim=1,init='uniform',activation='sigmoid'))\n",
        "    classifier.compile(optimizer=optimizer,loss='binary_crossentropy',metrics=['accuracy'])\n",
        "    return classifier\n",
        "classifier= KerasClassifier(build_fn=build_classifier)\n",
        "parameters={'batch_size':[25,32],\n",
        "            'nb_epoch':[100,500],\n",
        "           'optimizer':['adam','rmsprop']}\n",
        "grid_search=GridSearchCV(estimator=classifier,param_grid=parameters,scoring='accuracy',cv=10)\n",
        "grid_search=grid_search.fit(X_train,y_train)\n",
        "best_parameters=grid_search.best_params_\n",
        "best_accuracy=grid_search.best_score_\n"
      ],
      "execution_count": 0,
      "outputs": [
        {
          "output_type": "stream",
          "text": [
            "/usr/local/lib/python3.6/dist-packages/ipykernel_launcher.py:11: UserWarning: Update your `Dense` call to the Keras 2 API: `Dense(activation=\"relu\", input_dim=11, units=6, kernel_initializer=\"uniform\")`\n",
            "  # This is added back by InteractiveShellApp.init_path()\n",
            "/usr/local/lib/python3.6/dist-packages/ipykernel_launcher.py:12: UserWarning: Update your `Dense` call to the Keras 2 API: `Dense(activation=\"relu\", units=6, kernel_initializer=\"uniform\")`\n",
            "  if sys.path[0] == '':\n",
            "/usr/local/lib/python3.6/dist-packages/ipykernel_launcher.py:13: UserWarning: Update your `Dense` call to the Keras 2 API: `Dense(activation=\"sigmoid\", units=1, kernel_initializer=\"uniform\")`\n",
            "  del sys.path[0]\n"
          ],
          "name": "stderr"
        },
        {
          "output_type": "stream",
          "text": [
            "Epoch 1/1\n",
            "7200/7200 [==============================] - 1s 83us/step - loss: 0.5515 - acc: 0.7969\n",
            "Epoch 1/1\n",
            "7200/7200 [==============================] - 1s 91us/step - loss: 0.5603 - acc: 0.7960\n",
            "Epoch 1/1\n",
            "7200/7200 [==============================] - 1s 91us/step - loss: 0.5628 - acc: 0.7956\n",
            "Epoch 1/1\n",
            "7200/7200 [==============================] - 1s 99us/step - loss: 0.5479 - acc: 0.7975\n",
            "Epoch 1/1\n",
            "7200/7200 [==============================] - 1s 111us/step - loss: 0.5698 - acc: 0.7935\n",
            "Epoch 1/1\n",
            "7200/7200 [==============================] - 1s 121us/step - loss: 0.5793 - acc: 0.7942\n",
            "Epoch 1/1\n",
            "7200/7200 [==============================] - 1s 129us/step - loss: 0.6030 - acc: 0.7953\n",
            "Epoch 1/1\n",
            "7200/7200 [==============================] - 1s 138us/step - loss: 0.5627 - acc: 0.7961\n",
            "Epoch 1/1\n",
            "7200/7200 [==============================] - 1s 145us/step - loss: 0.5617 - acc: 0.7947\n",
            "Epoch 1/1\n",
            "7200/7200 [==============================] - 1s 157us/step - loss: 0.5648 - acc: 0.7950\n",
            "Epoch 1/1\n",
            "7200/7200 [==============================] - 1s 152us/step - loss: 0.5621 - acc: 0.7971\n",
            "Epoch 1/1\n",
            "7200/7200 [==============================] - 1s 162us/step - loss: 0.6027 - acc: 0.7954\n",
            "Epoch 1/1\n",
            "7200/7200 [==============================] - 1s 170us/step - loss: 0.5643 - acc: 0.7954\n",
            "Epoch 1/1\n",
            "7200/7200 [==============================] - 1s 180us/step - loss: 0.5802 - acc: 0.7965\n",
            "Epoch 1/1\n",
            "7200/7200 [==============================] - 1s 184us/step - loss: 0.6211 - acc: 0.7928\n",
            "Epoch 1/1\n",
            "7200/7200 [==============================] - 1s 192us/step - loss: 0.5875 - acc: 0.7929\n",
            "Epoch 1/1\n",
            "7200/7200 [==============================] - 1s 197us/step - loss: 0.6018 - acc: 0.7949\n",
            "Epoch 1/1\n",
            "7200/7200 [==============================] - 2s 211us/step - loss: 0.5634 - acc: 0.7943\n",
            "Epoch 1/1\n",
            "7200/7200 [==============================] - 2s 214us/step - loss: 0.6250 - acc: 0.7951\n",
            "Epoch 1/1\n",
            "7200/7200 [==============================] - 2s 223us/step - loss: 0.5880 - acc: 0.7951\n",
            "Epoch 1/1\n",
            "7200/7200 [==============================] - 2s 247us/step - loss: 0.5805 - acc: 0.7956\n",
            "Epoch 1/1\n",
            "7200/7200 [==============================] - 2s 250us/step - loss: 0.5743 - acc: 0.7944\n",
            "Epoch 1/1\n",
            "7200/7200 [==============================] - 2s 260us/step - loss: 0.5588 - acc: 0.7951\n",
            "Epoch 1/1\n",
            "7200/7200 [==============================] - 2s 277us/step - loss: 0.5562 - acc: 0.7968\n",
            "Epoch 1/1\n",
            "7200/7200 [==============================] - 2s 285us/step - loss: 0.5532 - acc: 0.7929\n",
            "Epoch 1/1\n",
            "7200/7200 [==============================] - 2s 301us/step - loss: 0.5776 - acc: 0.7924\n",
            "Epoch 1/1\n",
            "7200/7200 [==============================] - 2s 321us/step - loss: 0.5515 - acc: 0.7965\n",
            "Epoch 1/1\n",
            "7200/7200 [==============================] - 2s 328us/step - loss: 0.6034 - acc: 0.7946\n",
            "Epoch 1/1\n",
            "7200/7200 [==============================] - 2s 341us/step - loss: 0.5700 - acc: 0.7936\n",
            "Epoch 1/1\n",
            "7200/7200 [==============================] - 2s 347us/step - loss: 0.5801 - acc: 0.7949\n",
            "Epoch 1/1\n",
            "7200/7200 [==============================] - 3s 350us/step - loss: 0.5771 - acc: 0.7962\n",
            "Epoch 1/1\n",
            "7200/7200 [==============================] - 3s 365us/step - loss: 0.5630 - acc: 0.7965\n",
            "Epoch 1/1\n",
            "7200/7200 [==============================] - 3s 375us/step - loss: 0.5615 - acc: 0.7957\n",
            "Epoch 1/1\n",
            "7200/7200 [==============================] - 3s 380us/step - loss: 0.5698 - acc: 0.7975\n",
            "Epoch 1/1\n",
            "7200/7200 [==============================] - 3s 386us/step - loss: 0.5885 - acc: 0.7924\n",
            "Epoch 1/1\n",
            "7200/7200 [==============================] - 3s 391us/step - loss: 0.5602 - acc: 0.7944\n",
            "Epoch 1/1\n",
            "7200/7200 [==============================] - 3s 404us/step - loss: 0.5772 - acc: 0.7956\n",
            "Epoch 1/1\n",
            "7200/7200 [==============================] - 3s 409us/step - loss: 0.5685 - acc: 0.7962\n",
            "Epoch 1/1\n",
            "7200/7200 [==============================] - 3s 417us/step - loss: 0.5858 - acc: 0.7947\n",
            "Epoch 1/1\n",
            "7200/7200 [==============================] - 3s 419us/step - loss: 0.5686 - acc: 0.7949\n",
            "Epoch 1/1\n",
            "7200/7200 [==============================] - 3s 426us/step - loss: 0.5812 - acc: 0.7956\n",
            "Epoch 1/1\n",
            "7200/7200 [==============================] - 3s 434us/step - loss: 0.5986 - acc: 0.7954\n",
            "Epoch 1/1\n",
            "7200/7200 [==============================] - 3s 441us/step - loss: 0.6104 - acc: 0.7936\n",
            "Epoch 1/1\n",
            "7200/7200 [==============================] - 3s 452us/step - loss: 0.5986 - acc: 0.7960\n",
            "Epoch 1/1\n",
            "7200/7200 [==============================] - 3s 459us/step - loss: 0.5870 - acc: 0.7917\n",
            "Epoch 1/1\n",
            "7200/7200 [==============================] - 3s 471us/step - loss: 0.5822 - acc: 0.7943\n",
            "Epoch 1/1\n",
            "7200/7200 [==============================] - 3s 479us/step - loss: 0.5916 - acc: 0.7965\n",
            "Epoch 1/1\n",
            "7200/7200 [==============================] - 4s 487us/step - loss: 0.5751 - acc: 0.7962\n",
            "Epoch 1/1\n",
            "7200/7200 [==============================] - 4s 497us/step - loss: 0.5930 - acc: 0.7946\n",
            "Epoch 1/1\n",
            "7200/7200 [==============================] - 4s 513us/step - loss: 0.6201 - acc: 0.7943\n",
            "Epoch 1/1\n",
            "7200/7200 [==============================] - 4s 512us/step - loss: 0.5942 - acc: 0.7960\n",
            "Epoch 1/1\n",
            "7200/7200 [==============================] - 4s 519us/step - loss: 0.6062 - acc: 0.7947\n",
            "Epoch 1/1\n",
            "7200/7200 [==============================] - 4s 523us/step - loss: 0.6263 - acc: 0.7935\n",
            "Epoch 1/1\n",
            "7200/7200 [==============================] - 4s 527us/step - loss: 0.6020 - acc: 0.7965\n",
            "Epoch 1/1\n",
            "7200/7200 [==============================] - 4s 540us/step - loss: 0.5956 - acc: 0.7937\n",
            "Epoch 1/1\n",
            "7200/7200 [==============================] - 4s 550us/step - loss: 0.6355 - acc: 0.7914\n",
            "Epoch 1/1\n",
            "7200/7200 [==============================] - 4s 556us/step - loss: 0.6239 - acc: 0.7944\n",
            "Epoch 1/1\n",
            "7200/7200 [==============================] - 4s 564us/step - loss: 0.5952 - acc: 0.7960\n",
            "Epoch 1/1\n",
            "7200/7200 [==============================] - 4s 569us/step - loss: 0.6005 - acc: 0.7950\n",
            "Epoch 1/1\n",
            "7200/7200 [==============================] - 4s 579us/step - loss: 0.6405 - acc: 0.7947\n",
            "Epoch 1/1\n",
            "7200/7200 [==============================] - 4s 595us/step - loss: 0.5927 - acc: 0.7967\n",
            "Epoch 1/1\n",
            "7200/7200 [==============================] - 4s 610us/step - loss: 0.6064 - acc: 0.7946\n",
            "Epoch 1/1\n",
            "7200/7200 [==============================] - 4s 622us/step - loss: 0.5884 - acc: 0.7936\n",
            "Epoch 1/1\n",
            "7200/7200 [==============================] - 4s 623us/step - loss: 0.6304 - acc: 0.7949\n",
            "Epoch 1/1\n",
            "7200/7200 [==============================] - 5s 666us/step - loss: 0.5888 - acc: 0.7922\n",
            "Epoch 1/1\n",
            "7200/7200 [==============================] - 5s 651us/step - loss: 0.6041 - acc: 0.7915\n",
            "Epoch 1/1\n",
            "7200/7200 [==============================] - 5s 732us/step - loss: 0.5850 - acc: 0.7949\n",
            "Epoch 1/1\n",
            "7200/7200 [==============================] - 5s 661us/step - loss: 0.5777 - acc: 0.7962\n",
            "Epoch 1/1\n",
            "7200/7200 [==============================] - 5s 713us/step - loss: 0.5777 - acc: 0.7943\n",
            "Epoch 1/1\n"
          ],
          "name": "stdout"
        }
      ]
    },
    {
      "cell_type": "code",
      "metadata": {
        "id": "QZHhbbua9PY8",
        "colab_type": "code",
        "colab": {}
      },
      "source": [
        ""
      ],
      "execution_count": 0,
      "outputs": []
    }
  ]
}