{
  "nbformat": 4,
  "nbformat_minor": 0,
  "metadata": {
    "colab": {
      "name": "webscraping.ipynb",
      "version": "0.3.2",
      "provenance": [],
      "collapsed_sections": []
    },
    "kernelspec": {
      "name": "python3",
      "display_name": "Python 3"
    }
  },
  "cells": [
    {
      "cell_type": "markdown",
      "metadata": {
        "id": "-PtiPoSfFhAs",
        "colab_type": "text"
      },
      "source": [
        "## Web Scraping"
      ]
    },
    {
      "cell_type": "code",
      "metadata": {
        "id": "zCmU_D_mAfL8",
        "colab_type": "code",
        "colab": {}
      },
      "source": [
        "#@title Basic Imports\n",
        "import requests\n",
        "from bs4 import BeautifulSoup"
      ],
      "execution_count": 0,
      "outputs": []
    },
    {
      "cell_type": "code",
      "metadata": {
        "id": "q1bfxayCTfxz",
        "colab_type": "code",
        "outputId": "3fee8739-afa1-4c57-89e1-bbce010286ca",
        "colab": {
          "base_uri": "https://localhost:8080/",
          "height": 34
        }
      },
      "source": [
        "!pip install -U lxml"
      ],
      "execution_count": 0,
      "outputs": [
        {
          "output_type": "stream",
          "text": [
            "Requirement already up-to-date: lxml in /usr/local/lib/python3.6/dist-packages (4.2.5)\n"
          ],
          "name": "stdout"
        }
      ]
    },
    {
      "cell_type": "markdown",
      "metadata": {
        "id": "kZjoDkriIQjE",
        "colab_type": "text"
      },
      "source": [
        "## Quick Start"
      ]
    },
    {
      "cell_type": "code",
      "metadata": {
        "id": "fDbSV4BhIXYs",
        "colab_type": "code",
        "colab": {}
      },
      "source": [
        "html_doc=\"\"\"\n",
        "<html><head><title>Google's MLCC</title></head>\n",
        "<body>\n",
        "<p class=\"name\"><b>Study Jams</b></p>\n",
        "\n",
        "<p class=\"course\">ML & AI Course\n",
        "<a href=\"http://example.com/s1\" class=\"s\" id=\"link1\">Python</a>,\n",
        "<a href=\"http://example.com/s2\" class=\"s\" id=\"link2\">Tensorflow</a> and\n",
        "<a href=\"http://example.com/s2\" class=\"s\" id=\"link3\">ML Algorithms</a></p>\n",
        "\n",
        "<p class=\"course\">...</p>\n",
        "\"\"\""
      ],
      "execution_count": 0,
      "outputs": []
    },
    {
      "cell_type": "markdown",
      "metadata": {
        "id": "T4sqrYQIHkjl",
        "colab_type": "text"
      },
      "source": [
        "## Parsing a Page with BeautifulSoup"
      ]
    },
    {
      "cell_type": "code",
      "metadata": {
        "id": "3aos8RpxJ2TZ",
        "colab_type": "code",
        "outputId": "77b9251c-117d-4a08-cac6-9dc3a2cc560b",
        "colab": {
          "base_uri": "https://localhost:8080/",
          "height": 544
        }
      },
      "source": [
        "soup = BeautifulSoup(html_doc, 'html.parser')\n",
        "print(soup.prettify())"
      ],
      "execution_count": 0,
      "outputs": [
        {
          "output_type": "stream",
          "text": [
            "<html>\n",
            " <head>\n",
            "  <title>\n",
            "   Google's MLCC\n",
            "  </title>\n",
            " </head>\n",
            " <body>\n",
            "  <p class=\"name\">\n",
            "   <b>\n",
            "    Study Jams\n",
            "   </b>\n",
            "  </p>\n",
            "  <p class=\"course\">\n",
            "   ML &amp; AI Course\n",
            "   <a class=\"s\" href=\"http://example.com/s1\" id=\"link1\">\n",
            "    Python\n",
            "   </a>\n",
            "   ,\n",
            "   <a class=\"s\" href=\"http://example.com/s2\" id=\"link2\">\n",
            "    Tensorflow\n",
            "   </a>\n",
            "   and\n",
            "   <a class=\"s\" href=\"http://example.com/s2\" id=\"link3\">\n",
            "    ML Algorithms\n",
            "   </a>\n",
            "  </p>\n",
            "  <p class=\"course\">\n",
            "   ...\n",
            "  </p>\n",
            " </body>\n",
            "</html>\n"
          ],
          "name": "stdout"
        }
      ]
    },
    {
      "cell_type": "markdown",
      "metadata": {
        "id": "AWB3CGJUKg_J",
        "colab_type": "text"
      },
      "source": [
        "## BeautifulSoup Datastructure"
      ]
    },
    {
      "cell_type": "code",
      "metadata": {
        "id": "KwTd4rvOKnjB",
        "colab_type": "code",
        "outputId": "76fb63bf-7180-4352-d271-3ad12e7bc4f1",
        "colab": {
          "base_uri": "https://localhost:8080/",
          "height": 34
        }
      },
      "source": [
        "soup.title"
      ],
      "execution_count": 0,
      "outputs": [
        {
          "output_type": "execute_result",
          "data": {
            "text/plain": [
              "<title>Google's MLCC</title>"
            ]
          },
          "metadata": {
            "tags": []
          },
          "execution_count": 6
        }
      ]
    },
    {
      "cell_type": "code",
      "metadata": {
        "id": "kDWfxnlILRzY",
        "colab_type": "code",
        "outputId": "4ffc6573-e3f4-4feb-b0ff-5811e0902455",
        "colab": {
          "base_uri": "https://localhost:8080/",
          "height": 34
        }
      },
      "source": [
        "soup.title.name"
      ],
      "execution_count": 0,
      "outputs": [
        {
          "output_type": "execute_result",
          "data": {
            "text/plain": [
              "'title'"
            ]
          },
          "metadata": {
            "tags": []
          },
          "execution_count": 7
        }
      ]
    },
    {
      "cell_type": "code",
      "metadata": {
        "id": "L_Xcvhq4LU6I",
        "colab_type": "code",
        "outputId": "3f682af7-d7af-473f-8d98-7faae296bf04",
        "colab": {
          "base_uri": "https://localhost:8080/",
          "height": 34
        }
      },
      "source": [
        "soup.title.string"
      ],
      "execution_count": 0,
      "outputs": [
        {
          "output_type": "execute_result",
          "data": {
            "text/plain": [
              "\"Google's MLCC\""
            ]
          },
          "metadata": {
            "tags": []
          },
          "execution_count": 8
        }
      ]
    },
    {
      "cell_type": "code",
      "metadata": {
        "id": "wIMNNfvILXPn",
        "colab_type": "code",
        "outputId": "80f91a4e-b50a-4b8f-cb4c-7cda8e385f32",
        "colab": {
          "base_uri": "https://localhost:8080/",
          "height": 34
        }
      },
      "source": [
        "soup.title.parent.name"
      ],
      "execution_count": 0,
      "outputs": [
        {
          "output_type": "execute_result",
          "data": {
            "text/plain": [
              "'head'"
            ]
          },
          "metadata": {
            "tags": []
          },
          "execution_count": 9
        }
      ]
    },
    {
      "cell_type": "code",
      "metadata": {
        "id": "mBjWSsx1Lk09",
        "colab_type": "code",
        "outputId": "6cbe3c45-1bfc-492a-9c9f-df903a5e2ae0",
        "colab": {
          "base_uri": "https://localhost:8080/",
          "height": 34
        }
      },
      "source": [
        "soup.p"
      ],
      "execution_count": 0,
      "outputs": [
        {
          "output_type": "execute_result",
          "data": {
            "text/plain": [
              "<p class=\"name\"><b>Study Jams</b></p>"
            ]
          },
          "metadata": {
            "tags": []
          },
          "execution_count": 10
        }
      ]
    },
    {
      "cell_type": "code",
      "metadata": {
        "id": "UEkZqLHyLsn0",
        "colab_type": "code",
        "outputId": "bd38fe66-9e60-474d-ba17-1ab119976ed4",
        "colab": {
          "base_uri": "https://localhost:8080/",
          "height": 34
        }
      },
      "source": [
        "soup.find(id=\"link3\")"
      ],
      "execution_count": 0,
      "outputs": [
        {
          "output_type": "execute_result",
          "data": {
            "text/plain": [
              "<a class=\"s\" href=\"http://example.com/s2\" id=\"link3\">ML Algorithms</a>"
            ]
          },
          "metadata": {
            "tags": []
          },
          "execution_count": 11
        }
      ]
    },
    {
      "cell_type": "code",
      "metadata": {
        "id": "WDpS-lVvL0yn",
        "colab_type": "code",
        "outputId": "7e93bd65-8ca0-45b4-e42d-a7ae54999c5f",
        "colab": {
          "base_uri": "https://localhost:8080/",
          "height": 68
        }
      },
      "source": [
        "soup.find_all('a')"
      ],
      "execution_count": 0,
      "outputs": [
        {
          "output_type": "execute_result",
          "data": {
            "text/plain": [
              "[<a class=\"s\" href=\"http://example.com/s1\" id=\"link1\">Python</a>,\n",
              " <a class=\"s\" href=\"http://example.com/s2\" id=\"link2\">Tensorflow</a>,\n",
              " <a class=\"s\" href=\"http://example.com/s2\" id=\"link3\">ML Algorithms</a>]"
            ]
          },
          "metadata": {
            "tags": []
          },
          "execution_count": 13
        }
      ]
    },
    {
      "cell_type": "markdown",
      "metadata": {
        "id": "jkaiSPpYMopC",
        "colab_type": "text"
      },
      "source": [
        "## .strings and stripped_strings"
      ]
    },
    {
      "cell_type": "code",
      "metadata": {
        "id": "Ps4Rf7DoMsO-",
        "colab_type": "code",
        "outputId": "5ba93ec6-7f2d-45c0-c098-ba6503b466a1",
        "colab": {
          "base_uri": "https://localhost:8080/",
          "height": 272
        }
      },
      "source": [
        "for string in soup.strings:\n",
        "    print(repr(string))"
      ],
      "execution_count": 0,
      "outputs": [
        {
          "output_type": "stream",
          "text": [
            "'\\n'\n",
            "\"Google's MLCC\"\n",
            "'\\n'\n",
            "'\\n'\n",
            "'Study Jams'\n",
            "'\\n'\n",
            "'ML & AI Course\\n'\n",
            "'Python'\n",
            "',\\n'\n",
            "'Tensorflow'\n",
            "' and\\n'\n",
            "'ML Algorithms'\n",
            "'\\n'\n",
            "'...'\n",
            "'\\n'\n"
          ],
          "name": "stdout"
        }
      ]
    },
    {
      "cell_type": "code",
      "metadata": {
        "id": "Hd3v3y3rMwwE",
        "colab_type": "code",
        "outputId": "865ebc9c-f256-4deb-d21c-72ff1d4027b1",
        "colab": {
          "base_uri": "https://localhost:8080/",
          "height": 170
        }
      },
      "source": [
        "#@title Remove Whitespace\n",
        "for string in soup.stripped_strings:\n",
        "    print(repr(string))"
      ],
      "execution_count": 0,
      "outputs": [
        {
          "output_type": "stream",
          "text": [
            "\"Google's MLCC\"\n",
            "'Study Jams'\n",
            "'ML & AI Course'\n",
            "'Python'\n",
            "','\n",
            "'Tensorflow'\n",
            "'and'\n",
            "'ML Algorithms'\n",
            "'...'\n"
          ],
          "name": "stdout"
        }
      ]
    },
    {
      "cell_type": "code",
      "metadata": {
        "id": "kAVzPj7sOajT",
        "colab_type": "code",
        "outputId": "2da012d5-8de4-4b51-c1f5-ac4d182c4083",
        "colab": {
          "base_uri": "https://localhost:8080/",
          "height": 34
        }
      },
      "source": [
        "#@title Extract\n",
        "markup = '<a href=\"http://example.com/\">I linked to <i>example.com</i></a>'\n",
        "soup = BeautifulSoup(markup)\n",
        "a_tag = soup.a\n",
        "i_tag = soup.i.extract()\n",
        "a_tag"
      ],
      "execution_count": 0,
      "outputs": [
        {
          "output_type": "execute_result",
          "data": {
            "text/plain": [
              "<a href=\"http://example.com/\">I linked to </a>"
            ]
          },
          "metadata": {
            "tags": []
          },
          "execution_count": 16
        }
      ]
    },
    {
      "cell_type": "code",
      "metadata": {
        "id": "nSmQz7kOOwhs",
        "colab_type": "code",
        "outputId": "f4da02b8-5692-4409-890e-41f1fdd34bba",
        "colab": {
          "base_uri": "https://localhost:8080/",
          "height": 34
        }
      },
      "source": [
        "i_tag"
      ],
      "execution_count": 0,
      "outputs": [
        {
          "output_type": "execute_result",
          "data": {
            "text/plain": [
              "<i>example.com</i>"
            ]
          },
          "metadata": {
            "tags": []
          },
          "execution_count": 17
        }
      ]
    },
    {
      "cell_type": "code",
      "metadata": {
        "id": "VFlK9buIPaIT",
        "colab_type": "code",
        "outputId": "618aacf2-91e6-46bd-efc0-e6b2acff9d49",
        "colab": {
          "base_uri": "https://localhost:8080/",
          "height": 34
        }
      },
      "source": [
        "#@title get_text()\n",
        "soup.get_text()"
      ],
      "execution_count": 0,
      "outputs": [
        {
          "output_type": "execute_result",
          "data": {
            "text/plain": [
              "'I linked to '"
            ]
          },
          "metadata": {
            "tags": []
          },
          "execution_count": 18
        }
      ]
    },
    {
      "cell_type": "markdown",
      "metadata": {
        "id": "a5NLYc3fHAc2",
        "colab_type": "text"
      },
      "source": [
        "## Load Web Page"
      ]
    },
    {
      "cell_type": "code",
      "metadata": {
        "id": "rt5slqCnFs5J",
        "colab_type": "code",
        "outputId": "e1631681-2677-42ba-8abd-8489b16d3465",
        "colab": {
          "base_uri": "https://localhost:8080/",
          "height": 34
        }
      },
      "source": [
        "#@title Load Web Page\n",
        "page = requests.get(\"https://www.google.com/\")\n",
        "page"
      ],
      "execution_count": 0,
      "outputs": [
        {
          "output_type": "execute_result",
          "data": {
            "text/plain": [
              "<Response [200]>"
            ]
          },
          "metadata": {
            "tags": []
          },
          "execution_count": 19
        }
      ]
    },
    {
      "cell_type": "code",
      "metadata": {
        "id": "aRQC8UaEHSRz",
        "colab_type": "code",
        "outputId": "13191b4c-d216-4f4d-bcc5-8e01d2b64b51",
        "colab": {
          "base_uri": "https://localhost:8080/",
          "height": 34
        }
      },
      "source": [
        "page.status_code"
      ],
      "execution_count": 0,
      "outputs": [
        {
          "output_type": "execute_result",
          "data": {
            "text/plain": [
              "200"
            ]
          },
          "metadata": {
            "tags": []
          },
          "execution_count": 20
        }
      ]
    },
    {
      "cell_type": "code",
      "metadata": {
        "id": "w6VazJ36HXXr",
        "colab_type": "code",
        "outputId": "3431c8ed-de32-4264-85f1-60e8f8634b4b",
        "colab": {
          "base_uri": "https://localhost:8080/",
          "height": 54
        }
      },
      "source": [
        "page.content"
      ],
      "execution_count": 0,
      "outputs": [
        {
          "output_type": "execute_result",
          "data": {
            "text/plain": [
              "b'<!doctype html><html itemscope=\"\" itemtype=\"http://schema.org/WebPage\" lang=\"en\"><head><meta content=\"Search the world\\'s information, including webpages, images, videos and more. Google has many special features to help you find exactly what you\\'re looking for.\" name=\"description\"><meta content=\"noodp\" name=\"robots\"><meta content=\"text/html; charset=UTF-8\" http-equiv=\"Content-Type\"><meta content=\"/logos/doodles/2018/googles-20th-birthday-us-5142672481189888-l.png\" itemprop=\"image\"><meta content=\"Google\\'s 20th Birthday\" property=\"twitter:title\"><meta content=\"Google\\'s 20th Birthday! #GoogleDoodle #SearchIs20\" property=\"twitter:description\"><meta content=\"Google\\'s 20th Birthday! #GoogleDoodle #SearchIs20\" property=\"og:description\"><meta content=\"summary_large_image\" property=\"twitter:card\"><meta content=\"@GoogleDoodles\" property=\"twitter:site\"><meta content=\"https://www.google.com/logos/doodles/2018/googles-20th-birthday-us-5142672481189888-2xa.gif\" property=\"twitter:image\"><meta content=\"https://www.google.com/logos/doodles/2018/googles-20th-birthday-us-5142672481189888-2xa.gif\" property=\"og:image\"><meta content=\"782\" property=\"og:image:width\"><meta content=\"440\" property=\"og:image:height\"><meta content=\"https://www.google.com/logos/doodles/2018/googles-20th-birthday-us-5142672481189888-2xa.gif\" property=\"og:url\"><meta content=\"video.other\" property=\"og:type\"><title>Google</title><script nonce=\"LATzoVIeaQXJyB2vRsR/5Q==\">(function(){window.google={kEI:\\'5desW_OlLrW-0PEPsba7wAU\\',kEXPI:\\'0,1353747,57,1958,583,433,281,344,781,1220,5,730,142,184,64,1011,97,331,81,443,79,118,2337557,243,32,329294,1294,12383,4855,32692,15247,867,6692,4069,1402,5902,479,3335,2,2,4609,2192,366,1215,326,1776,2314,3191,224,887,130,1201,260,1027,4080,575,1119,2,205,123,251,727,606,1826,58,2,1,3,61,1236,283,1429,2611,2096,658,405,231,10,300,1268,222,551,1232,883,137,279,2,841,283,3337,525,22,437,162,5,2,2,1743,748,744,190,318,338,659,283,3736,69,942,108,334,10,120,1110,234,386,8,1003,81,7,1,2,25,465,91,149,378,29,2,981,6,274,132,451,7,62,229,340,1216,98,671,536,911,119,694,367,1068,46,78,375,1084,243,2,8,304,318,59,88,411,412,2,198,355,33,44,1483,90,142,282,76,92,121,2,163,108,17,255,108,263,4,20,454,4,250,2,30,207,102,886,232,6,32,185,153,47,67,159,92,161,325,70,135,38,16,45,180,331,288,175,197,104,242,35,446,377,159,28,68,251,150,2,332,1117,170,10,374,799,188,5992759,2554,5997691,2800095,4,1572,549,332,445,1,2,1,1,78,1,900,575,12,309,1,8,1,2,1,1,2130,1,1,1,1,1,414,1,263,49,39,26,4,3,2,3,4,192,46,6,1,33,8,135,22308572\\',authuser:0,kscs:\\'c9c918f0_5desW_OlLrW-0PEPsba7wAU\\',kGL:\\'US\\'};google.kHL=\\'en\\';})();google.time=function(){return(new Date).getTime()};(function(){google.lc=[];google.li=0;google.getEI=function(a){for(var b;a&&(!a.getAttribute||!(b=a.getAttribute(\"eid\")));)a=a.parentNode;return b||google.kEI};google.getLEI=function(a){for(var b=null;a&&(!a.getAttribute||!(b=a.getAttribute(\"leid\")));)a=a.parentNode;return b};google.https=function(){return\"https:\"==window.location.protocol};google.ml=function(){return null};google.log=function(a,b,e,c,g){if(a=google.logUrl(a,b,e,c,g)){b=new Image;var d=google.lc,f=google.li;d[f]=b;b.onerror=b.onload=b.onabort=function(){delete d[f]};google.vel&&google.vel.lu&&google.vel.lu(a);b.src=a;google.li=f+1}};google.logUrl=function(a,b,e,c,g){var d=\"\",f=google.ls||\"\";e||-1!=b.search(\"&ei=\")||(d=\"&ei=\"+google.getEI(c),-1==b.search(\"&lei=\")&&(c=google.getLEI(c))&&(d+=\"&lei=\"+c));c=\"\";!e&&google.cshid&&-1==b.search(\"&cshid=\")&&\"slh\"!=a&&(c=\"&cshid=\"+google.cshid);a=e||\"/\"+(g||\"gen_204\")+\"?atyp=i&ct=\"+a+\"&cad=\"+b+d+f+\"&zx=\"+google.time()+c;/^http:/i.test(a)&&google.https()&&(google.ml(Error(\"a\"),!1,{src:a,glmm:1}),a=\"\");return a};}).call(this);(function(){google.y={};google.x=function(a,b){if(a)var c=a.id;else{do c=Math.random();while(google.y[c])}google.y[c]=[a,b];return!1};google.lm=[];google.plm=function(a){google.lm.push.apply(google.lm,a)};google.lq=[];google.load=function(a,b,c){google.lq.push([[a],b,c])};google.loadAll=function(a,b){google.lq.push([a,b])};}).call(this);google.f={};</script><script nonce=\"LATzoVIeaQXJyB2vRsR/5Q==\">var a=window.location,b=a.href.indexOf(\"#\");if(0<=b){var c=a.href.substring(b+1);/(^|&)q=/.test(c)&&-1==c.indexOf(\"#\")&&a.replace(\"/search?\"+c.replace(/(^|&)fp=[^&]*/g,\"\")+\"&cad=h\")};</script><style>#gbar,#guser{font-size:13px;padding-top:1px !important;}#gbar{height:22px}#guser{padding-bottom:7px !important;text-align:right}.gbh,.gbd{border-top:1px solid #c9d7f1;font-size:1px}.gbh{height:0;position:absolute;top:24px;width:100%}@media all{.gb1{height:22px;margin-right:.5em;vertical-align:top}#gbar{float:left}}a.gb1,a.gb4{text-decoration:underline !important}a.gb1,a.gb4{color:#00c !important}.gbi .gb4{color:#dd8e27 !important}.gbf .gb4{color:#900 !important}\\n</style><style>body,td,a,p,.h{font-family:arial,sans-serif}body{margin:0;overflow-y:scroll}#gog{padding:3px 8px 0}td{line-height:.8em}.gac_m td{line-height:17px}form{margin-bottom:20px}.h{color:#36c}.q{color:#00c}.ts td{padding:0}.ts{border-collapse:collapse}em{font-weight:bold;font-style:normal}.lst{height:25px;width:496px}.gsfi,.lst{font:18px arial,sans-serif}.gsfs{font:17px arial,sans-serif}.ds{display:inline-box;display:inline-block;margin:3px 0 4px;margin-left:4px}input{font-family:inherit}a.gb1,a.gb2,a.gb3,a.gb4{color:#11c !important}body{background:#fff;color:black}a{color:#11c;text-decoration:none}a:hover,a:active{text-decoration:underline}.fl a{color:#36c}a:visited{color:#551a8b}a.gb1,a.gb4{text-decoration:underline}a.gb3:hover{text-decoration:none}#ghead a.gb2:hover{color:#fff !important}.sblc{padding-top:5px}.sblc a{display:block;margin:2px 0;margin-left:13px;font-size:11px}.lsbb{background:#eee;border:solid 1px;border-color:#ccc #999 #999 #ccc;height:30px}.lsbb{display:block}.ftl,#fll a{display:inline-block;margin:0 12px}.lsb{background:url(/images/nav_logo229.png) 0 -261px repeat-x;border:none;color:#000;cursor:pointer;height:30px;margin:0;outline:0;font:15px arial,sans-serif;vertical-align:top}.lsb:active{background:#ccc}.lst:focus{outline:none}</style><script nonce=\"LATzoVIeaQXJyB2vRsR/5Q==\"></script></head><body bgcolor=\"#fff\"><script nonce=\"LATzoVIeaQXJyB2vRsR/5Q==\">(function(){var src=\\'/images/nav_logo229.png\\';var iesg=false;document.body.onload = function(){window.n && window.n();if (document.images){new Image().src=src;}\\nif (!iesg){document.f&&document.f.q.focus();document.gbqf&&document.gbqf.q.focus();}\\n}\\n})();</script><div id=\"mngb\"> <div id=gbar><nobr><b class=gb1>Search</b> <a class=gb1 href=\"https://www.google.com/imghp?hl=en&tab=wi\">Images</a> <a class=gb1 href=\"https://maps.google.com/maps?hl=en&tab=wl\">Maps</a> <a class=gb1 href=\"https://play.google.com/?hl=en&tab=w8\">Play</a> <a class=gb1 href=\"https://www.youtube.com/?gl=US&tab=w1\">YouTube</a> <a class=gb1 href=\"https://news.google.com/nwshp?hl=en&tab=wn\">News</a> <a class=gb1 href=\"https://mail.google.com/mail/?tab=wm\">Gmail</a> <a class=gb1 href=\"https://drive.google.com/?tab=wo\">Drive</a> <a class=gb1 style=\"text-decoration:none\" href=\"https://www.google.com/intl/en/options/\"><u>More</u> &raquo;</a></nobr></div><div id=guser width=100%><nobr><span id=gbn class=gbi></span><span id=gbf class=gbf></span><span id=gbe></span><a href=\"http://www.google.com/history/optout?hl=en\" class=gb4>Web History</a> | <a  href=\"/preferences?hl=en\" class=gb4>Settings</a> | <a target=_top id=gb_70 href=\"https://accounts.google.com/ServiceLogin?hl=en&passive=true&continue=https://www.google.com/\" class=gb4>Sign in</a></nobr></div><div class=gbh style=left:0></div><div class=gbh style=right:0></div> </div><center><br clear=\"all\" id=\"lgpd\"><div id=\"lga\"><a href=\"/search?site=&amp;ie=UTF-8&amp;q=Google+20th+Birthday&amp;oi=ddle&amp;ct=googles-20th-birthday-us-5142672481189888-lawcta&amp;hl=en&amp;kgmid=/m/045c7b&amp;sa=X&amp;ved=0ahUKEwizrNaKotvdAhU1HzQIHTHbDlgQPQgD\"><img alt=\"Google\\'s 20th Birthday\" border=\"0\" height=\"220\" src=\"/logos/doodles/2018/googles-20th-birthday-us-5142672481189888-l.png\" title=\"Google\\'s 20th Birthday\" width=\"391\" id=\"hplogo\" onload=\"window.lol&&lol()\"><br></a><br></div><form action=\"/search\" name=\"f\"><table cellpadding=\"0\" cellspacing=\"0\"><tr valign=\"top\"><td width=\"25%\">&nbsp;</td><td align=\"center\" nowrap=\"\"><input name=\"ie\" value=\"ISO-8859-1\" type=\"hidden\"><input value=\"en\" name=\"hl\" type=\"hidden\"><input name=\"source\" type=\"hidden\" value=\"hp\"><input name=\"biw\" type=\"hidden\"><input name=\"bih\" type=\"hidden\"><div class=\"ds\" style=\"height:32px;margin:4px 0\"><input style=\"color:#000;margin:0;padding:5px 8px 0 6px;vertical-align:top\" autocomplete=\"off\" class=\"lst\" value=\"\" title=\"Google Search\" maxlength=\"2048\" name=\"q\" size=\"57\"></div><br style=\"line-height:0\"><span class=\"ds\"><span class=\"lsbb\"><input class=\"lsb\" value=\"Google Search\" name=\"btnG\" type=\"submit\"></span></span><span class=\"ds\"><span class=\"lsbb\"><input class=\"lsb\" value=\"I\\'m Feeling Lucky\" name=\"btnI\" onclick=\"if(this.form.q.value)this.checked=1; else top.location=\\'/doodles/\\'\" type=\"submit\"></span></span></td><td class=\"fl sblc\" align=\"left\" nowrap=\"\" width=\"25%\"><a href=\"/advanced_search?hl=en&amp;authuser=0\">Advanced search</a><a href=\"/language_tools?hl=en&amp;authuser=0\">Language tools</a></td></tr></table><input id=\"gbv\" name=\"gbv\" type=\"hidden\" value=\"1\"><script nonce=\"LATzoVIeaQXJyB2vRsR/5Q==\">(function(){var a,b=\"1\";if(document&&document.getElementById)if(\"undefined\"!=typeof XMLHttpRequest)b=\"2\";else if(\"undefined\"!=typeof ActiveXObject){var c,d,e=[\"MSXML2.XMLHTTP.6.0\",\"MSXML2.XMLHTTP.3.0\",\"MSXML2.XMLHTTP\",\"Microsoft.XMLHTTP\"];for(c=0;d=e[c++];)try{new ActiveXObject(d),b=\"2\"}catch(h){}}a=b;if(\"2\"==a&&-1==location.search.indexOf(\"&gbv=2\")){var f=google.gbvu,g=document.getElementById(\"gbv\");g&&(g.value=a);f&&window.setTimeout(function(){location.href=f},0)};}).call(this);</script></form><div id=\"gac_scont\"></div><div style=\"font-size:83%;min-height:3.5em\"><br><div id=\"prm\"><style>.szppmdbYutt__middle-slot-promo{font-size:small;margin-bottom:32px}.szppmdbYutt__middle-slot-promo a.ZIeIlb{display:inline-block;text-decoration:none}.szppmdbYutt__middle-slot-promo img{border:none;margin-right:5px;vertical-align:middle}</style><div class=\"szppmdbYutt__middle-slot-promo\" data-ved=\"0ahUKEwizrNaKotvdAhU1HzQIHTHbDlgQnIcBCAQ\"><span>Pizza, beagles, Mark Twain. See </span><a class=\"NKcBbd\" href=\"https://www.google.com/url?q=https://20years.withgoogle.com&amp;source=hpp&amp;id=19008583&amp;ct=3&amp;usg=AFQjCNFZZLXDArjHq05QvrCtzG_IXafcng&amp;sa=X&amp;ved=0ahUKEwizrNaKotvdAhU1HzQIHTHbDlgQ8IcBCAU\" rel=\"nofollow\">what we\\'ve all searched for</a><span> over the past 20 years</span></div></div></div><span id=\"footer\"><div style=\"font-size:10pt\"><div style=\"margin:19px auto;text-align:center\" id=\"fll\"><a href=\"/intl/en/ads/\">Advertising\\xa0Programs</a><a href=\"/services/\">Business Solutions</a><a href=\"https://plus.google.com/116899029375914044550\" rel=\"publisher\">+Google</a><a href=\"/intl/en/about.html\">About Google</a></div></div><p style=\"color:#767676;font-size:8pt\">&copy; 2018 - <a href=\"/intl/en/policies/privacy/\">Privacy</a> - <a href=\"/intl/en/policies/terms/\">Terms</a></p></span></center><script nonce=\"LATzoVIeaQXJyB2vRsR/5Q==\">(function(){window.google.cdo={height:0,width:0};(function(){var a=window.innerWidth,b=window.innerHeight;if(!a||!b){var c=window.document,d=\"CSS1Compat\"==c.compatMode?c.documentElement:c.body;a=d.clientWidth;b=d.clientHeight}a&&b&&(a!=google.cdo.width||b!=google.cdo.height)&&google.log(\"\",\"\",\"/client_204?&atyp=i&biw=\"+a+\"&bih=\"+b+\"&ei=\"+google.kEI);}).call(this);})();</script><div id=\"xjsd\"></div><div id=\"xjsi\"><script nonce=\"LATzoVIeaQXJyB2vRsR/5Q==\">(function(){function c(b){window.setTimeout(function(){var a=document.createElement(\"script\");a.src=b;google.timers&&google.timers.load.t&&google.tick&&google.tick(\"load\",{gen204:\"xjsls\",clearcut:31});document.getElementById(\"xjsd\").appendChild(a)},0)}google.dljp=function(b,a){google.xjsu=b;c(a)};google.dlj=c;}).call(this);if(!google.xjs){window._=window._||{};window._DumpException=window._._DumpException=function(e){throw e};window._F_installCss=window._._F_installCss=function(c){};google.dljp(\\'/xjs/_/js/k\\\\x3dxjs.hp.en_US.2WEa_tTRmnw.O/m\\\\x3dsb_he,d/am\\\\x3dYmA2/rt\\\\x3dj/d\\\\x3d1/rs\\\\x3dACT90oEBROO9L4EI0byEUFM6ifpwdir2dw\\',\\'/xjs/_/js/k\\\\x3dxjs.hp.en_US.2WEa_tTRmnw.O/m\\\\x3dsb_he,d/am\\\\x3dYmA2/rt\\\\x3dj/d\\\\x3d1/rs\\\\x3dACT90oEBROO9L4EI0byEUFM6ifpwdir2dw\\');google.xjs=1;}google.pmc={\"sb_he\":{\"agen\":true,\"cgen\":true,\"client\":\"heirloom-hp\",\"dh\":true,\"dhqt\":true,\"ds\":\"\",\"ffql\":\"en\",\"fl\":true,\"host\":\"google.com\",\"isbh\":28,\"jsonp\":true,\"msgs\":{\"cibl\":\"Clear Search\",\"dym\":\"Did you mean:\",\"lcky\":\"I\\\\u0026#39;m Feeling Lucky\",\"lml\":\"Learn more\",\"oskt\":\"Input tools\",\"psrc\":\"This search was removed from your \\\\u003Ca href=\\\\\"/history\\\\\"\\\\u003EWeb History\\\\u003C/a\\\\u003E\",\"psrl\":\"Remove\",\"sbit\":\"Search by image\",\"srch\":\"Google Search\"},\"ovr\":{},\"pq\":\"\",\"refpd\":true,\"rfs\":[],\"sbpl\":24,\"sbpr\":24,\"scd\":10,\"sce\":5,\"stok\":\"LXtUVr7B41DWumqZK-6xPhX17G4\",\"uhde\":false},\"d\":{},\"ZI/YVQ\":{},\"Qnk92g\":{},\"U5B21g\":{},\"DPBNMg\":{},\"YFCs/g\":{}};google.x(null,function(){});(function(){var r=[];google.plm(r);})();(function(){var m=[]\\n;google.jsc && google.jsc.m(m);})();</script></div></body></html>'"
            ]
          },
          "metadata": {
            "tags": []
          },
          "execution_count": 21
        }
      ]
    },
    {
      "cell_type": "code",
      "metadata": {
        "id": "oP-CAxq-Hata",
        "colab_type": "code",
        "outputId": "708ace9c-5e1b-41d0-edb0-4ecbb9f95b51",
        "colab": {
          "base_uri": "https://localhost:8080/",
          "height": 3726
        }
      },
      "source": [
        "soup = BeautifulSoup(page.content, 'html.parser')\n",
        "print(soup.prettify())"
      ],
      "execution_count": 0,
      "outputs": [
        {
          "output_type": "stream",
          "text": [
            "<!DOCTYPE doctype html>\n",
            "<html itemscope=\"\" itemtype=\"http://schema.org/WebPage\" lang=\"en\">\n",
            " <head>\n",
            "  <meta content=\"Search the world's information, including webpages, images, videos and more. Google has many special features to help you find exactly what you're looking for.\" name=\"description\"/>\n",
            "  <meta content=\"noodp\" name=\"robots\"/>\n",
            "  <meta content=\"text/html; charset=utf-8\" http-equiv=\"Content-Type\"/>\n",
            "  <meta content=\"/logos/doodles/2018/googles-20th-birthday-us-5142672481189888-l.png\" itemprop=\"image\"/>\n",
            "  <meta content=\"Google's 20th Birthday\" property=\"twitter:title\"/>\n",
            "  <meta content=\"Google's 20th Birthday! #GoogleDoodle #SearchIs20\" property=\"twitter:description\"/>\n",
            "  <meta content=\"Google's 20th Birthday! #GoogleDoodle #SearchIs20\" property=\"og:description\"/>\n",
            "  <meta content=\"summary_large_image\" property=\"twitter:card\"/>\n",
            "  <meta content=\"@GoogleDoodles\" property=\"twitter:site\"/>\n",
            "  <meta content=\"https://www.google.com/logos/doodles/2018/googles-20th-birthday-us-5142672481189888-2xa.gif\" property=\"twitter:image\"/>\n",
            "  <meta content=\"https://www.google.com/logos/doodles/2018/googles-20th-birthday-us-5142672481189888-2xa.gif\" property=\"og:image\"/>\n",
            "  <meta content=\"782\" property=\"og:image:width\"/>\n",
            "  <meta content=\"440\" property=\"og:image:height\"/>\n",
            "  <meta content=\"https://www.google.com/logos/doodles/2018/googles-20th-birthday-us-5142672481189888-2xa.gif\" property=\"og:url\"/>\n",
            "  <meta content=\"video.other\" property=\"og:type\"/>\n",
            "  <title>\n",
            "   Google\n",
            "  </title>\n",
            "  <script nonce=\"LATzoVIeaQXJyB2vRsR/5Q==\">\n",
            "   (function(){window.google={kEI:'5desW_OlLrW-0PEPsba7wAU',kEXPI:'0,1353747,57,1958,583,433,281,344,781,1220,5,730,142,184,64,1011,97,331,81,443,79,118,2337557,243,32,329294,1294,12383,4855,32692,15247,867,6692,4069,1402,5902,479,3335,2,2,4609,2192,366,1215,326,1776,2314,3191,224,887,130,1201,260,1027,4080,575,1119,2,205,123,251,727,606,1826,58,2,1,3,61,1236,283,1429,2611,2096,658,405,231,10,300,1268,222,551,1232,883,137,279,2,841,283,3337,525,22,437,162,5,2,2,1743,748,744,190,318,338,659,283,3736,69,942,108,334,10,120,1110,234,386,8,1003,81,7,1,2,25,465,91,149,378,29,2,981,6,274,132,451,7,62,229,340,1216,98,671,536,911,119,694,367,1068,46,78,375,1084,243,2,8,304,318,59,88,411,412,2,198,355,33,44,1483,90,142,282,76,92,121,2,163,108,17,255,108,263,4,20,454,4,250,2,30,207,102,886,232,6,32,185,153,47,67,159,92,161,325,70,135,38,16,45,180,331,288,175,197,104,242,35,446,377,159,28,68,251,150,2,332,1117,170,10,374,799,188,5992759,2554,5997691,2800095,4,1572,549,332,445,1,2,1,1,78,1,900,575,12,309,1,8,1,2,1,1,2130,1,1,1,1,1,414,1,263,49,39,26,4,3,2,3,4,192,46,6,1,33,8,135,22308572',authuser:0,kscs:'c9c918f0_5desW_OlLrW-0PEPsba7wAU',kGL:'US'};google.kHL='en';})();google.time=function(){return(new Date).getTime()};(function(){google.lc=[];google.li=0;google.getEI=function(a){for(var b;a&&(!a.getAttribute||!(b=a.getAttribute(\"eid\")));)a=a.parentNode;return b||google.kEI};google.getLEI=function(a){for(var b=null;a&&(!a.getAttribute||!(b=a.getAttribute(\"leid\")));)a=a.parentNode;return b};google.https=function(){return\"https:\"==window.location.protocol};google.ml=function(){return null};google.log=function(a,b,e,c,g){if(a=google.logUrl(a,b,e,c,g)){b=new Image;var d=google.lc,f=google.li;d[f]=b;b.onerror=b.onload=b.onabort=function(){delete d[f]};google.vel&&google.vel.lu&&google.vel.lu(a);b.src=a;google.li=f+1}};google.logUrl=function(a,b,e,c,g){var d=\"\",f=google.ls||\"\";e||-1!=b.search(\"&ei=\")||(d=\"&ei=\"+google.getEI(c),-1==b.search(\"&lei=\")&&(c=google.getLEI(c))&&(d+=\"&lei=\"+c));c=\"\";!e&&google.cshid&&-1==b.search(\"&cshid=\")&&\"slh\"!=a&&(c=\"&cshid=\"+google.cshid);a=e||\"/\"+(g||\"gen_204\")+\"?atyp=i&ct=\"+a+\"&cad=\"+b+d+f+\"&zx=\"+google.time()+c;/^http:/i.test(a)&&google.https()&&(google.ml(Error(\"a\"),!1,{src:a,glmm:1}),a=\"\");return a};}).call(this);(function(){google.y={};google.x=function(a,b){if(a)var c=a.id;else{do c=Math.random();while(google.y[c])}google.y[c]=[a,b];return!1};google.lm=[];google.plm=function(a){google.lm.push.apply(google.lm,a)};google.lq=[];google.load=function(a,b,c){google.lq.push([[a],b,c])};google.loadAll=function(a,b){google.lq.push([a,b])};}).call(this);google.f={};\n",
            "  </script>\n",
            "  <script nonce=\"LATzoVIeaQXJyB2vRsR/5Q==\">\n",
            "   var a=window.location,b=a.href.indexOf(\"#\");if(0<=b){var c=a.href.substring(b+1);/(^|&)q=/.test(c)&&-1==c.indexOf(\"#\")&&a.replace(\"/search?\"+c.replace(/(^|&)fp=[^&]*/g,\"\")+\"&cad=h\")};\n",
            "  </script>\n",
            "  <style>\n",
            "   #gbar,#guser{font-size:13px;padding-top:1px !important;}#gbar{height:22px}#guser{padding-bottom:7px !important;text-align:right}.gbh,.gbd{border-top:1px solid #c9d7f1;font-size:1px}.gbh{height:0;position:absolute;top:24px;width:100%}@media all{.gb1{height:22px;margin-right:.5em;vertical-align:top}#gbar{float:left}}a.gb1,a.gb4{text-decoration:underline !important}a.gb1,a.gb4{color:#00c !important}.gbi .gb4{color:#dd8e27 !important}.gbf .gb4{color:#900 !important}\n",
            "  </style>\n",
            "  <style>\n",
            "   body,td,a,p,.h{font-family:arial,sans-serif}body{margin:0;overflow-y:scroll}#gog{padding:3px 8px 0}td{line-height:.8em}.gac_m td{line-height:17px}form{margin-bottom:20px}.h{color:#36c}.q{color:#00c}.ts td{padding:0}.ts{border-collapse:collapse}em{font-weight:bold;font-style:normal}.lst{height:25px;width:496px}.gsfi,.lst{font:18px arial,sans-serif}.gsfs{font:17px arial,sans-serif}.ds{display:inline-box;display:inline-block;margin:3px 0 4px;margin-left:4px}input{font-family:inherit}a.gb1,a.gb2,a.gb3,a.gb4{color:#11c !important}body{background:#fff;color:black}a{color:#11c;text-decoration:none}a:hover,a:active{text-decoration:underline}.fl a{color:#36c}a:visited{color:#551a8b}a.gb1,a.gb4{text-decoration:underline}a.gb3:hover{text-decoration:none}#ghead a.gb2:hover{color:#fff !important}.sblc{padding-top:5px}.sblc a{display:block;margin:2px 0;margin-left:13px;font-size:11px}.lsbb{background:#eee;border:solid 1px;border-color:#ccc #999 #999 #ccc;height:30px}.lsbb{display:block}.ftl,#fll a{display:inline-block;margin:0 12px}.lsb{background:url(/images/nav_logo229.png) 0 -261px repeat-x;border:none;color:#000;cursor:pointer;height:30px;margin:0;outline:0;font:15px arial,sans-serif;vertical-align:top}.lsb:active{background:#ccc}.lst:focus{outline:none}\n",
            "  </style>\n",
            "  <script nonce=\"LATzoVIeaQXJyB2vRsR/5Q==\">\n",
            "  </script>\n",
            " </head>\n",
            " <body bgcolor=\"#fff\">\n",
            "  <script nonce=\"LATzoVIeaQXJyB2vRsR/5Q==\">\n",
            "   (function(){var src='/images/nav_logo229.png';var iesg=false;document.body.onload = function(){window.n && window.n();if (document.images){new Image().src=src;}\n",
            "if (!iesg){document.f&&document.f.q.focus();document.gbqf&&document.gbqf.q.focus();}\n",
            "}\n",
            "})();\n",
            "  </script>\n",
            "  <div id=\"mngb\">\n",
            "   <div id=\"gbar\">\n",
            "    <nobr>\n",
            "     <b class=\"gb1\">\n",
            "      Search\n",
            "     </b>\n",
            "     <a class=\"gb1\" href=\"https://www.google.com/imghp?hl=en&amp;tab=wi\">\n",
            "      Images\n",
            "     </a>\n",
            "     <a class=\"gb1\" href=\"https://maps.google.com/maps?hl=en&amp;tab=wl\">\n",
            "      Maps\n",
            "     </a>\n",
            "     <a class=\"gb1\" href=\"https://play.google.com/?hl=en&amp;tab=w8\">\n",
            "      Play\n",
            "     </a>\n",
            "     <a class=\"gb1\" href=\"https://www.youtube.com/?gl=US&amp;tab=w1\">\n",
            "      YouTube\n",
            "     </a>\n",
            "     <a class=\"gb1\" href=\"https://news.google.com/nwshp?hl=en&amp;tab=wn\">\n",
            "      News\n",
            "     </a>\n",
            "     <a class=\"gb1\" href=\"https://mail.google.com/mail/?tab=wm\">\n",
            "      Gmail\n",
            "     </a>\n",
            "     <a class=\"gb1\" href=\"https://drive.google.com/?tab=wo\">\n",
            "      Drive\n",
            "     </a>\n",
            "     <a class=\"gb1\" href=\"https://www.google.com/intl/en/options/\" style=\"text-decoration:none\">\n",
            "      <u>\n",
            "       More\n",
            "      </u>\n",
            "      »\n",
            "     </a>\n",
            "    </nobr>\n",
            "   </div>\n",
            "   <div id=\"guser\" width=\"100%\">\n",
            "    <nobr>\n",
            "     <span class=\"gbi\" id=\"gbn\">\n",
            "     </span>\n",
            "     <span class=\"gbf\" id=\"gbf\">\n",
            "     </span>\n",
            "     <span id=\"gbe\">\n",
            "     </span>\n",
            "     <a class=\"gb4\" href=\"http://www.google.com/history/optout?hl=en\">\n",
            "      Web History\n",
            "     </a>\n",
            "     |\n",
            "     <a class=\"gb4\" href=\"/preferences?hl=en\">\n",
            "      Settings\n",
            "     </a>\n",
            "     |\n",
            "     <a class=\"gb4\" href=\"https://accounts.google.com/ServiceLogin?hl=en&amp;passive=true&amp;continue=https://www.google.com/\" id=\"gb_70\" target=\"_top\">\n",
            "      Sign in\n",
            "     </a>\n",
            "    </nobr>\n",
            "   </div>\n",
            "   <div class=\"gbh\" style=\"left:0\">\n",
            "   </div>\n",
            "   <div class=\"gbh\" style=\"right:0\">\n",
            "   </div>\n",
            "  </div>\n",
            "  <center>\n",
            "   <br clear=\"all\" id=\"lgpd\"/>\n",
            "   <div id=\"lga\">\n",
            "    <a href=\"/search?site=&amp;ie=UTF-8&amp;q=Google+20th+Birthday&amp;oi=ddle&amp;ct=googles-20th-birthday-us-5142672481189888-lawcta&amp;hl=en&amp;kgmid=/m/045c7b&amp;sa=X&amp;ved=0ahUKEwizrNaKotvdAhU1HzQIHTHbDlgQPQgD\">\n",
            "     <img alt=\"Google's 20th Birthday\" border=\"0\" height=\"220\" id=\"hplogo\" onload=\"window.lol&amp;&amp;lol()\" src=\"/logos/doodles/2018/googles-20th-birthday-us-5142672481189888-l.png\" title=\"Google's 20th Birthday\" width=\"391\"/>\n",
            "     <br/>\n",
            "    </a>\n",
            "    <br/>\n",
            "   </div>\n",
            "   <form action=\"/search\" name=\"f\">\n",
            "    <table cellpadding=\"0\" cellspacing=\"0\">\n",
            "     <tr valign=\"top\">\n",
            "      <td width=\"25%\">\n",
            "      </td>\n",
            "      <td align=\"center\" nowrap=\"\">\n",
            "       <input name=\"ie\" type=\"hidden\" value=\"ISO-8859-1\"/>\n",
            "       <input name=\"hl\" type=\"hidden\" value=\"en\"/>\n",
            "       <input name=\"source\" type=\"hidden\" value=\"hp\"/>\n",
            "       <input name=\"biw\" type=\"hidden\"/>\n",
            "       <input name=\"bih\" type=\"hidden\"/>\n",
            "       <div class=\"ds\" style=\"height:32px;margin:4px 0\">\n",
            "        <input autocomplete=\"off\" class=\"lst\" maxlength=\"2048\" name=\"q\" size=\"57\" style=\"color:#000;margin:0;padding:5px 8px 0 6px;vertical-align:top\" title=\"Google Search\" value=\"\"/>\n",
            "       </div>\n",
            "       <br style=\"line-height:0\"/>\n",
            "       <span class=\"ds\">\n",
            "        <span class=\"lsbb\">\n",
            "         <input class=\"lsb\" name=\"btnG\" type=\"submit\" value=\"Google Search\"/>\n",
            "        </span>\n",
            "       </span>\n",
            "       <span class=\"ds\">\n",
            "        <span class=\"lsbb\">\n",
            "         <input class=\"lsb\" name=\"btnI\" onclick=\"if(this.form.q.value)this.checked=1; else top.location='/doodles/'\" type=\"submit\" value=\"I'm Feeling Lucky\"/>\n",
            "        </span>\n",
            "       </span>\n",
            "      </td>\n",
            "      <td align=\"left\" class=\"fl sblc\" nowrap=\"\" width=\"25%\">\n",
            "       <a href=\"/advanced_search?hl=en&amp;authuser=0\">\n",
            "        Advanced search\n",
            "       </a>\n",
            "       <a href=\"/language_tools?hl=en&amp;authuser=0\">\n",
            "        Language tools\n",
            "       </a>\n",
            "      </td>\n",
            "     </tr>\n",
            "    </table>\n",
            "    <input id=\"gbv\" name=\"gbv\" type=\"hidden\" value=\"1\"/>\n",
            "    <script nonce=\"LATzoVIeaQXJyB2vRsR/5Q==\">\n",
            "     (function(){var a,b=\"1\";if(document&&document.getElementById)if(\"undefined\"!=typeof XMLHttpRequest)b=\"2\";else if(\"undefined\"!=typeof ActiveXObject){var c,d,e=[\"MSXML2.XMLHTTP.6.0\",\"MSXML2.XMLHTTP.3.0\",\"MSXML2.XMLHTTP\",\"Microsoft.XMLHTTP\"];for(c=0;d=e[c++];)try{new ActiveXObject(d),b=\"2\"}catch(h){}}a=b;if(\"2\"==a&&-1==location.search.indexOf(\"&gbv=2\")){var f=google.gbvu,g=document.getElementById(\"gbv\");g&&(g.value=a);f&&window.setTimeout(function(){location.href=f},0)};}).call(this);\n",
            "    </script>\n",
            "   </form>\n",
            "   <div id=\"gac_scont\">\n",
            "   </div>\n",
            "   <div style=\"font-size:83%;min-height:3.5em\">\n",
            "    <br/>\n",
            "    <div id=\"prm\">\n",
            "     <style>\n",
            "      .szppmdbYutt__middle-slot-promo{font-size:small;margin-bottom:32px}.szppmdbYutt__middle-slot-promo a.ZIeIlb{display:inline-block;text-decoration:none}.szppmdbYutt__middle-slot-promo img{border:none;margin-right:5px;vertical-align:middle}\n",
            "     </style>\n",
            "     <div class=\"szppmdbYutt__middle-slot-promo\" data-ved=\"0ahUKEwizrNaKotvdAhU1HzQIHTHbDlgQnIcBCAQ\">\n",
            "      <span>\n",
            "       Pizza, beagles, Mark Twain. See\n",
            "      </span>\n",
            "      <a class=\"NKcBbd\" href=\"https://www.google.com/url?q=https://20years.withgoogle.com&amp;source=hpp&amp;id=19008583&amp;ct=3&amp;usg=AFQjCNFZZLXDArjHq05QvrCtzG_IXafcng&amp;sa=X&amp;ved=0ahUKEwizrNaKotvdAhU1HzQIHTHbDlgQ8IcBCAU\" rel=\"nofollow\">\n",
            "       what we've all searched for\n",
            "      </a>\n",
            "      <span>\n",
            "       over the past 20 years\n",
            "      </span>\n",
            "     </div>\n",
            "    </div>\n",
            "   </div>\n",
            "   <span id=\"footer\">\n",
            "    <div style=\"font-size:10pt\">\n",
            "     <div id=\"fll\" style=\"margin:19px auto;text-align:center\">\n",
            "      <a href=\"/intl/en/ads/\">\n",
            "       Advertising Programs\n",
            "      </a>\n",
            "      <a href=\"/services/\">\n",
            "       Business Solutions\n",
            "      </a>\n",
            "      <a href=\"https://plus.google.com/116899029375914044550\" rel=\"publisher\">\n",
            "       +Google\n",
            "      </a>\n",
            "      <a href=\"/intl/en/about.html\">\n",
            "       About Google\n",
            "      </a>\n",
            "     </div>\n",
            "    </div>\n",
            "    <p style=\"color:#767676;font-size:8pt\">\n",
            "     © 2018 -\n",
            "     <a href=\"/intl/en/policies/privacy/\">\n",
            "      Privacy\n",
            "     </a>\n",
            "     -\n",
            "     <a href=\"/intl/en/policies/terms/\">\n",
            "      Terms\n",
            "     </a>\n",
            "    </p>\n",
            "   </span>\n",
            "  </center>\n",
            "  <script nonce=\"LATzoVIeaQXJyB2vRsR/5Q==\">\n",
            "   (function(){window.google.cdo={height:0,width:0};(function(){var a=window.innerWidth,b=window.innerHeight;if(!a||!b){var c=window.document,d=\"CSS1Compat\"==c.compatMode?c.documentElement:c.body;a=d.clientWidth;b=d.clientHeight}a&&b&&(a!=google.cdo.width||b!=google.cdo.height)&&google.log(\"\",\"\",\"/client_204?&atyp=i&biw=\"+a+\"&bih=\"+b+\"&ei=\"+google.kEI);}).call(this);})();\n",
            "  </script>\n",
            "  <div id=\"xjsd\">\n",
            "  </div>\n",
            "  <div id=\"xjsi\">\n",
            "   <script nonce=\"LATzoVIeaQXJyB2vRsR/5Q==\">\n",
            "    (function(){function c(b){window.setTimeout(function(){var a=document.createElement(\"script\");a.src=b;google.timers&&google.timers.load.t&&google.tick&&google.tick(\"load\",{gen204:\"xjsls\",clearcut:31});document.getElementById(\"xjsd\").appendChild(a)},0)}google.dljp=function(b,a){google.xjsu=b;c(a)};google.dlj=c;}).call(this);if(!google.xjs){window._=window._||{};window._DumpException=window._._DumpException=function(e){throw e};window._F_installCss=window._._F_installCss=function(c){};google.dljp('/xjs/_/js/k\\x3dxjs.hp.en_US.2WEa_tTRmnw.O/m\\x3dsb_he,d/am\\x3dYmA2/rt\\x3dj/d\\x3d1/rs\\x3dACT90oEBROO9L4EI0byEUFM6ifpwdir2dw','/xjs/_/js/k\\x3dxjs.hp.en_US.2WEa_tTRmnw.O/m\\x3dsb_he,d/am\\x3dYmA2/rt\\x3dj/d\\x3d1/rs\\x3dACT90oEBROO9L4EI0byEUFM6ifpwdir2dw');google.xjs=1;}google.pmc={\"sb_he\":{\"agen\":true,\"cgen\":true,\"client\":\"heirloom-hp\",\"dh\":true,\"dhqt\":true,\"ds\":\"\",\"ffql\":\"en\",\"fl\":true,\"host\":\"google.com\",\"isbh\":28,\"jsonp\":true,\"msgs\":{\"cibl\":\"Clear Search\",\"dym\":\"Did you mean:\",\"lcky\":\"I\\u0026#39;m Feeling Lucky\",\"lml\":\"Learn more\",\"oskt\":\"Input tools\",\"psrc\":\"This search was removed from your \\u003Ca href=\\\"/history\\\"\\u003EWeb History\\u003C/a\\u003E\",\"psrl\":\"Remove\",\"sbit\":\"Search by image\",\"srch\":\"Google Search\"},\"ovr\":{},\"pq\":\"\",\"refpd\":true,\"rfs\":[],\"sbpl\":24,\"sbpr\":24,\"scd\":10,\"sce\":5,\"stok\":\"LXtUVr7B41DWumqZK-6xPhX17G4\",\"uhde\":false},\"d\":{},\"ZI/YVQ\":{},\"Qnk92g\":{},\"U5B21g\":{},\"DPBNMg\":{},\"YFCs/g\":{}};google.x(null,function(){});(function(){var r=[];google.plm(r);})();(function(){var m=[]\n",
            ";google.jsc && google.jsc.m(m);})();\n",
            "   </script>\n",
            "  </div>\n",
            " </body>\n",
            "</html>\n"
          ],
          "name": "stdout"
        }
      ]
    },
    {
      "cell_type": "markdown",
      "metadata": {
        "id": "m48U4TD9RkBk",
        "colab_type": "text"
      },
      "source": [
        "## Exact a Table from WebPage"
      ]
    },
    {
      "cell_type": "code",
      "metadata": {
        "id": "mEFxIEX3UXzn",
        "colab_type": "code",
        "outputId": "7336fd11-b83f-40a4-fbe3-84aea2c0bf49",
        "colab": {
          "base_uri": "https://localhost:8080/",
          "height": 2176
        }
      },
      "source": [
        "import pandas as pd\n",
        "import requests\n",
        "from bs4 import BeautifulSoup\n",
        "\n",
        "url = 'https://www.treasury.gov/resource-center/data-chart-center/interest-rates/Pages/TextView.aspx?data=yieldAll'\n",
        "\n",
        "r = requests.get(url)\n",
        "html = r.text\n",
        "\n",
        "soup = BeautifulSoup(html)\n",
        "table = soup.find('table', {\"class\": \"t-chart\"})\n",
        "rows = table.find_all('tr')\n",
        "data = []\n",
        "for row in rows[1:]:\n",
        "    cols = row.find_all('td')\n",
        "    cols = [ele.text.strip() for ele in cols]\n",
        "    data.append([ele for ele in cols if ele])\n",
        "\n",
        "result = pd.DataFrame(data, columns=['Date', '1 Mo', '3 Mo', '6 Mo', '1 Yr', '2 Yr', '3 Yr', '5 Yr', '7 Yr', '10 Yr', '20 Yr', '30 Yr'])\n",
        "\n",
        "print(result)"
      ],
      "execution_count": 0,
      "outputs": [
        {
          "output_type": "stream",
          "text": [
            "          Date  1 Mo  3 Mo  6 Mo  1 Yr  2 Yr  3 Yr  5 Yr  7 Yr 10 Yr 20 Yr  \\\n",
            "0     01/02/90   N/A  7.83  7.89  7.81  7.87  7.90  7.87  7.98  7.94   N/A   \n",
            "1     01/03/90   N/A  7.89  7.94  7.85  7.94  7.96  7.92  8.04  7.99   N/A   \n",
            "2     01/04/90   N/A  7.84  7.90  7.82  7.92  7.93  7.91  8.02  7.98   N/A   \n",
            "3     01/05/90   N/A  7.79  7.85  7.79  7.90  7.94  7.92  8.03  7.99   N/A   \n",
            "4     01/08/90   N/A  7.79  7.88  7.81  7.90  7.95  7.92  8.05  8.02   N/A   \n",
            "5     01/09/90   N/A  7.80  7.82  7.78  7.91  7.94  7.92  8.05  8.02   N/A   \n",
            "6     01/10/90   N/A  7.75  7.78  7.77  7.91  7.95  7.92  8.00  8.03   N/A   \n",
            "7     01/11/90   N/A  7.80  7.80  7.77  7.91  7.95  7.94  8.01  8.04   N/A   \n",
            "8     01/12/90   N/A  7.74  7.81  7.76  7.93  7.98  7.99  8.07  8.10   N/A   \n",
            "9     01/16/90   N/A  7.89  7.99  7.92  8.10  8.13  8.11  8.18  8.20   N/A   \n",
            "10    01/17/90   N/A  7.97  7.97  7.91  8.09  8.11  8.11  8.17  8.19   N/A   \n",
            "11    01/18/90   N/A  8.04  8.08  8.05  8.25  8.28  8.27  8.31  8.32   N/A   \n",
            "12    01/19/90   N/A  8.00  8.01  8.00  8.20  8.23  8.20  8.24  8.26   N/A   \n",
            "13    01/22/90   N/A  7.99  7.99  7.98  8.18  8.20  8.19  8.25  8.27   N/A   \n",
            "14    01/23/90   N/A  7.93  7.97  7.97  8.18  8.20  8.18  8.23  8.26   N/A   \n",
            "15    01/24/90   N/A  7.93  7.99  8.00  8.20  8.29  8.28  8.34  8.38   N/A   \n",
            "16    01/25/90   N/A  7.95  8.01  8.03  8.24  8.32  8.31  8.39  8.42   N/A   \n",
            "17    01/26/90   N/A  7.93  8.04  8.07  8.28  8.38  8.38  8.45  8.49   N/A   \n",
            "18    01/29/90   N/A  8.00  8.09  8.08  8.30  8.39  8.39  8.45  8.50   N/A   \n",
            "19    01/30/90   N/A  8.00  8.14  8.09  8.30  8.39  8.43  8.47  8.51   N/A   \n",
            "20    01/31/90   N/A  8.00  8.13  8.08  8.28  8.36  8.35  8.39  8.43   N/A   \n",
            "21    02/01/90   N/A  8.02  8.13  8.09  8.28  8.35  8.35  8.38  8.42   N/A   \n",
            "22    02/02/90   N/A  8.07  8.17  8.13  8.37  8.43  8.42  8.46  8.50   N/A   \n",
            "23    02/05/90   N/A  8.08  8.18  8.15  8.37  8.43  8.44  8.48  8.53   N/A   \n",
            "24    02/06/90   N/A  8.09  8.17  8.15  8.42  8.43  8.49  8.52  8.57   N/A   \n",
            "25    02/07/90   N/A  8.08  8.19  8.17  8.42  8.43  8.51  8.53  8.52   N/A   \n",
            "26    02/08/90   N/A  8.08  8.18  8.13  8.37  8.39  8.45  8.48  8.49   N/A   \n",
            "27    02/09/90   N/A  8.02  8.09  8.03  8.25  8.24  8.29  8.34  8.31   N/A   \n",
            "28    02/12/90   N/A  7.99  8.11  8.06  8.32  8.32  8.37  8.41  8.40   N/A   \n",
            "29    02/13/90   N/A  7.84  7.97  7.95  8.21  8.21  8.29  8.36  8.35   N/A   \n",
            "...        ...   ...   ...   ...   ...   ...   ...   ...   ...   ...   ...   \n",
            "7164  08/15/18  1.96  2.07  2.23  2.45  2.61  2.68  2.73  2.81  2.86  2.95   \n",
            "7165  08/16/18  1.96  2.07  2.24  2.45  2.63  2.70  2.75  2.82  2.87  2.95   \n",
            "7166  08/17/18  1.95  2.05  2.24  2.44  2.61  2.68  2.75  2.82  2.87  2.95   \n",
            "7167  08/20/18  1.93  2.06  2.25  2.43  2.60  2.65  2.70  2.77  2.82  2.91   \n",
            "7168  08/21/18  1.94  2.08  2.25  2.45  2.61  2.67  2.73  2.80  2.85  2.93   \n",
            "7169  08/22/18  1.95  2.09  2.24  2.43  2.60  2.65  2.70  2.77  2.82  2.91   \n",
            "7170  08/23/18  1.94  2.08  2.23  2.43  2.61  2.66  2.72  2.78  2.82  2.90   \n",
            "7171  08/24/18  1.95  2.09  2.25  2.44  2.63  2.68  2.72  2.78  2.82  2.89   \n",
            "7172  08/27/18  1.96  2.12  2.25  2.47  2.67  2.70  2.74  2.81  2.85  2.92   \n",
            "7173  08/28/18  1.96  2.13  2.28  2.47  2.67  2.73  2.77  2.84  2.88  2.96   \n",
            "7174  08/29/18  1.97  2.13  2.28  2.48  2.67  2.75  2.78  2.85  2.89  2.96   \n",
            "7175  08/30/18  1.97  2.11  2.28  2.47  2.64  2.72  2.75  2.82  2.86  2.93   \n",
            "7176  08/31/18  1.95  2.11  2.28  2.46  2.62  2.70  2.74  2.81  2.86  2.95   \n",
            "7177  09/04/18  2.00  2.13  2.29  2.49  2.66  2.73  2.78  2.85  2.90  2.99   \n",
            "7178  09/05/18  2.00  2.14  2.30  2.49  2.66  2.72  2.77  2.85  2.90  3.00   \n",
            "7179  09/06/18  1.98  2.13  2.30  2.50  2.64  2.71  2.76  2.83  2.88  2.98   \n",
            "7180  09/07/18  1.98  2.14  2.30  2.53  2.71  2.78  2.82  2.89  2.94  3.03   \n",
            "7181  09/10/18  1.98  2.14  2.32  2.54  2.73  2.78  2.83  2.89  2.94  3.02   \n",
            "7182  09/11/18  2.02  2.15  2.31  2.55  2.76  2.83  2.87  2.94  2.98  3.06   \n",
            "7183  09/12/18  2.01  2.16  2.33  2.56  2.74  2.82  2.87  2.93  2.97  3.04   \n",
            "7184  09/13/18  2.01  2.15  2.33  2.55  2.76  2.83  2.87  2.93  2.97  3.04   \n",
            "7185  09/14/18  2.02  2.16  2.33  2.56  2.78  2.85  2.90  2.96  2.99  3.07   \n",
            "7186  09/17/18  2.02  2.16  2.35  2.57  2.78  2.85  2.89  2.96  2.99  3.07   \n",
            "7187  09/18/18  2.05  2.17  2.36  2.58  2.81  2.88  2.94  3.01  3.05  3.14   \n",
            "7188  09/19/18  2.03  2.16  2.36  2.58  2.81  2.89  2.96  3.04  3.08  3.16   \n",
            "7189  09/20/18  2.03  2.17  2.37  2.58  2.81  2.89  2.96  3.03  3.07  3.15   \n",
            "7190  09/21/18  2.05  2.18  2.38  2.58  2.81  2.89  2.95  3.03  3.07  3.14   \n",
            "7191  09/24/18  2.07  2.22  2.38  2.60  2.83  2.89  2.96  3.04  3.08  3.15   \n",
            "7192  09/25/18  2.12  2.21  2.38  2.59  2.83  2.91  2.99  3.06  3.10  3.17   \n",
            "7193  09/26/18  2.11  2.20  2.37  2.58  2.83  2.89  2.96  3.02  3.06  3.14   \n",
            "\n",
            "     30 Yr  \n",
            "0     8.00  \n",
            "1     8.04  \n",
            "2     8.04  \n",
            "3     8.06  \n",
            "4     8.09  \n",
            "5     8.10  \n",
            "6     8.11  \n",
            "7     8.11  \n",
            "8     8.17  \n",
            "9     8.25  \n",
            "10    8.25  \n",
            "11    8.35  \n",
            "12    8.29  \n",
            "13    8.31  \n",
            "14    8.29  \n",
            "15    8.41  \n",
            "16    8.46  \n",
            "17    8.55  \n",
            "18    8.54  \n",
            "19    8.55  \n",
            "20    8.46  \n",
            "21    8.44  \n",
            "22    8.51  \n",
            "23    8.53  \n",
            "24    8.58  \n",
            "25    8.57  \n",
            "26    8.50  \n",
            "27    8.36  \n",
            "28    8.43  \n",
            "29    8.39  \n",
            "...    ...  \n",
            "7164  3.03  \n",
            "7165  3.03  \n",
            "7166  3.03  \n",
            "7167  2.99  \n",
            "7168  3.00  \n",
            "7169  2.99  \n",
            "7170  2.97  \n",
            "7171  2.97  \n",
            "7172  3.00  \n",
            "7173  3.03  \n",
            "7174  3.02  \n",
            "7175  3.00  \n",
            "7176  3.02  \n",
            "7177  3.07  \n",
            "7178  3.08  \n",
            "7179  3.06  \n",
            "7180  3.11  \n",
            "7181  3.09  \n",
            "7182  3.13  \n",
            "7183  3.11  \n",
            "7184  3.11  \n",
            "7185  3.13  \n",
            "7186  3.13  \n",
            "7187  3.20  \n",
            "7188  3.23  \n",
            "7189  3.21  \n",
            "7190  3.20  \n",
            "7191  3.21  \n",
            "7192  3.23  \n",
            "7193  3.19  \n",
            "\n",
            "[7194 rows x 12 columns]\n"
          ],
          "name": "stdout"
        }
      ]
    },
    {
      "cell_type": "markdown",
      "metadata": {
        "id": "xX_X1vyzXjYU",
        "colab_type": "text"
      },
      "source": [
        "## Exercises\n",
        "**1. Scrap GDG Coimbatore webpage and store it in  csv**\n",
        "\n",
        "**2. Scrap any of one wikipedia page generate table, and do data visualization**"
      ]
    },
    {
      "cell_type": "code",
      "metadata": {
        "id": "noOn4XLFUvP1",
        "colab_type": "code",
        "colab": {}
      },
      "source": [
        ""
      ],
      "execution_count": 0,
      "outputs": []
    }
  ]
}