{
  "nbformat": 4,
  "nbformat_minor": 0,
  "metadata": {
    "colab": {
      "name": "AutoEncoder_Classification_on_web_unsupervised.ipynb",
      "version": "0.3.2",
      "provenance": [],
      "collapsed_sections": []
    },
    "kernelspec": {
      "name": "python3",
      "display_name": "Python 3"
    }
  },
  "cells": [
    {
      "cell_type": "code",
      "metadata": {
        "id": "I63UexknaiHk",
        "colab_type": "code",
        "outputId": "aeac5d73-ba8f-4ed9-b773-5c72e2e9e02c",
        "colab": {
          "base_uri": "https://localhost:8080/",
          "height": 34
        }
      },
      "source": [
        "import matplotlib.pyplot as plt\n",
        "import seaborn as sns\n",
        "import pandas as pd\n",
        "import numpy as np\n",
        "from pylab import rcParams\n",
        "import tensorflow as tf\n",
        "from keras.models import Model, load_model\n",
        "from keras.layers import Input, Dense\n",
        "from keras.callbacks import ModelCheckpoint, TensorBoard\n",
        "from keras import regularizers\n",
        "from sklearn.preprocessing import StandardScaler\n",
        "from sklearn.model_selection import train_test_split\n",
        "from sklearn.metrics import confusion_matrix, precision_recall_curve\n",
        "from sklearn.metrics import recall_score, classification_report, auc, roc_curve\n",
        "from sklearn.metrics import precision_recall_fscore_support, f1_score\n",
        "from numpy.random import seed\n",
        "seed(1)\n",
        "from tensorflow import set_random_seed\n",
        "set_random_seed(2)\n",
        "SEED = 123 #used to help randomly select the data points\n",
        "DATA_SPLIT_PCT = 0.2\n",
        "rcParams['figure.figsize'] = 8, 6\n",
        "LABELS = [\"Normal\",\"Break\"]"
      ],
      "execution_count": 0,
      "outputs": [
        {
          "output_type": "stream",
          "text": [
            "Using TensorFlow backend.\n"
          ],
          "name": "stderr"
        }
      ]
    },
    {
      "cell_type": "code",
      "metadata": {
        "id": "BZxtLTY8bJue",
        "colab_type": "code",
        "colab": {}
      },
      "source": [
        "df = pd.read_csv(\"processminer-rare-event-mts - data.csv\")"
      ],
      "execution_count": 0,
      "outputs": []
    },
    {
      "cell_type": "code",
      "metadata": {
        "id": "jwzzrEGod_e3",
        "colab_type": "code",
        "colab": {}
      },
      "source": [
        "sign = lambda x: (1, -1)[x < 0]\n",
        "\n",
        "def curve_shift(df, shift_by):\n",
        "    '''\n",
        "    This function will shift the binary labels in a dataframe.\n",
        "    The curve shift will be with respect to the 1s. \n",
        "    For example, if shift is -2, the following process\n",
        "    will happen: if row n is labeled as 1, then\n",
        "    - Make row (n+shift_by):(n+shift_by-1) = 1.\n",
        "    - Remove row n.\n",
        "    i.e. the labels will be shifted up to 2 rows up.\n",
        "    \n",
        "    Inputs:\n",
        "    df       A pandas dataframe with a binary labeled column. \n",
        "             This labeled column should be named as 'y'.\n",
        "    shift_by An integer denoting the number of rows to shift.\n",
        "    \n",
        "    Output\n",
        "    df       A dataframe with the binary labels shifted by shift.\n",
        "    '''\n",
        "\n",
        "    vector = df['y'].copy()\n",
        "    for s in range(abs(shift_by)):\n",
        "        tmp = vector.shift(sign(shift_by))\n",
        "        tmp = tmp.fillna(0)\n",
        "        vector += tmp\n",
        "    labelcol = 'y'\n",
        "    # Add vector to the df\n",
        "    df.insert(loc=0, column=labelcol+'tmp', value=vector)\n",
        "    # Remove the rows with labelcol == 1.\n",
        "    df = df.drop(df[df[labelcol] == 1].index)\n",
        "    # Drop labelcol and rename the tmp col as labelcol\n",
        "    df = df.drop(labelcol, axis=1)\n",
        "    df = df.rename(columns={labelcol+'tmp': labelcol})\n",
        "    # Make the labelcol binary\n",
        "    df.loc[df[labelcol] > 0, labelcol] = 1\n",
        "\n",
        "    return df"
      ],
      "execution_count": 0,
      "outputs": []
    },
    {
      "cell_type": "code",
      "metadata": {
        "id": "f89RQUqGeC1k",
        "colab_type": "code",
        "colab": {}
      },
      "source": [
        "# Remove time column, and the categorical columns\n",
        "df = df.drop(['time', 'x28', 'x61'], axis=1)"
      ],
      "execution_count": 0,
      "outputs": []
    },
    {
      "cell_type": "code",
      "metadata": {
        "id": "7pIjgW08eEyj",
        "colab_type": "code",
        "colab": {}
      },
      "source": [
        "df_train, df_test = train_test_split(df, test_size=DATA_SPLIT_PCT, random_state=SEED)\n",
        "df_train, df_valid = train_test_split(df_train, test_size=DATA_SPLIT_PCT, random_state=SEED)\n",
        "df_train_0 = df_train.loc[df['y'] == 0]\n",
        "df_train_1 = df_train.loc[df['y'] == 1]\n",
        "df_train_0_x = df_train_0.drop(['y'], axis=1)\n",
        "df_train_1_x = df_train_1.drop(['y'], axis=1)\n",
        "df_valid_0 = df_valid.loc[df['y'] == 0]\n",
        "df_valid_1 = df_valid.loc[df['y'] == 1]\n",
        "df_valid_0_x = df_valid_0.drop(['y'], axis=1)\n",
        "df_valid_1_x = df_valid_1.drop(['y'], axis=1)\n",
        "df_test_0 = df_test.loc[df['y'] == 0]\n",
        "df_test_1 = df_test.loc[df['y'] == 1]\n",
        "df_test_0_x = df_test_0.drop(['y'], axis=1)\n",
        "df_test_1_x = df_test_1.drop(['y'], axis=1)"
      ],
      "execution_count": 0,
      "outputs": []
    },
    {
      "cell_type": "code",
      "metadata": {
        "id": "5O8yKVVyeHnM",
        "colab_type": "code",
        "colab": {}
      },
      "source": [
        "scaler = StandardScaler().fit(df_train_0_x)\n",
        "df_train_0_x_rescaled = scaler.transform(df_train_0_x)\n",
        "df_valid_0_x_rescaled = scaler.transform(df_valid_0_x)\n",
        "df_valid_x_rescaled = scaler.transform(df_valid.drop(['y'], axis = 1))\n",
        "df_test_0_x_rescaled = scaler.transform(df_test_0_x)\n",
        "df_test_x_rescaled = scaler.transform(df_test.drop(['y'], axis = 1))"
      ],
      "execution_count": 0,
      "outputs": []
    },
    {
      "cell_type": "code",
      "metadata": {
        "id": "YTBZ-csHeJlU",
        "colab_type": "code",
        "outputId": "e47365ba-deed-4f3a-e5cf-8c668b1830b0",
        "colab": {
          "base_uri": "https://localhost:8080/",
          "height": 479
        }
      },
      "source": [
        "\n"
      ],
      "execution_count": 0,
      "outputs": [
        {
          "output_type": "stream",
          "text": [
            "WARNING: Logging before flag parsing goes to stderr.\n",
            "W0628 09:44:22.051003 140392300623744 deprecation_wrapper.py:119] From /usr/local/lib/python3.6/dist-packages/keras/backend/tensorflow_backend.py:74: The name tf.get_default_graph is deprecated. Please use tf.compat.v1.get_default_graph instead.\n",
            "\n",
            "W0628 09:44:22.058648 140392300623744 deprecation_wrapper.py:119] From /usr/local/lib/python3.6/dist-packages/keras/backend/tensorflow_backend.py:517: The name tf.placeholder is deprecated. Please use tf.compat.v1.placeholder instead.\n",
            "\n",
            "W0628 09:44:22.065654 140392300623744 deprecation_wrapper.py:119] From /usr/local/lib/python3.6/dist-packages/keras/backend/tensorflow_backend.py:4138: The name tf.random_uniform is deprecated. Please use tf.random.uniform instead.\n",
            "\n"
          ],
          "name": "stderr"
        },
        {
          "output_type": "stream",
          "text": [
            "_________________________________________________________________\n",
            "Layer (type)                 Output Shape              Param #   \n",
            "=================================================================\n",
            "input_1 (InputLayer)         (None, 59)                0         \n",
            "_________________________________________________________________\n",
            "dense_1 (Dense)              (None, 32)                1920      \n",
            "_________________________________________________________________\n",
            "dense_2 (Dense)              (None, 16)                528       \n",
            "_________________________________________________________________\n",
            "dense_3 (Dense)              (None, 16)                272       \n",
            "_________________________________________________________________\n",
            "dense_4 (Dense)              (None, 32)                544       \n",
            "_________________________________________________________________\n",
            "dense_5 (Dense)              (None, 59)                1947      \n",
            "=================================================================\n",
            "Total params: 5,211\n",
            "Trainable params: 5,211\n",
            "Non-trainable params: 0\n",
            "_________________________________________________________________\n"
          ],
          "name": "stdout"
        }
      ]
    },
    {
      "cell_type": "code",
      "metadata": {
        "id": "Coto1kegeLfk",
        "colab_type": "code",
        "outputId": "6fdd5442-14b6-4b36-a766-d8e66ea39e20",
        "colab": {
          "base_uri": "https://localhost:8080/",
          "height": 1000
        }
      },
      "source": [
        "autoencoder.compile(metrics=['accuracy'],\n",
        "                    loss='mean_squared_error',\n",
        "                    optimizer='adam')\n",
        "cp = ModelCheckpoint(filepath=\"autoencoder_classifier.h5\",\n",
        "                               save_best_only=True,\n",
        "                               verbose=0)\n",
        "tb = TensorBoard(log_dir='./logs',\n",
        "                histogram_freq=0,\n",
        "                write_graph=True,\n",
        "                write_images=True)\n",
        "history = autoencoder.fit(df_train_0_x_rescaled, df_train_0_x_rescaled,\n",
        "                    epochs=nb_epoch,\n",
        "                    batch_size=batch_size,\n",
        "                    shuffle=True,\n",
        "                    validation_data=(df_valid_0_x_rescaled, df_valid_0_x_rescaled),\n",
        "                    verbose=1,\n",
        "                    callbacks=[cp, tb]).history\n"
      ],
      "execution_count": 0,
      "outputs": [
        {
          "output_type": "stream",
          "text": [
            "W0628 09:44:31.743088 140392300623744 deprecation_wrapper.py:119] From /usr/local/lib/python3.6/dist-packages/keras/optimizers.py:790: The name tf.train.Optimizer is deprecated. Please use tf.compat.v1.train.Optimizer instead.\n",
            "\n",
            "W0628 09:44:32.370985 140392300623744 deprecation_wrapper.py:119] From /usr/local/lib/python3.6/dist-packages/keras/backend/tensorflow_backend.py:986: The name tf.assign_add is deprecated. Please use tf.compat.v1.assign_add instead.\n",
            "\n",
            "W0628 09:44:32.650393 140392300623744 deprecation_wrapper.py:119] From /usr/local/lib/python3.6/dist-packages/keras/backend/tensorflow_backend.py:973: The name tf.assign is deprecated. Please use tf.compat.v1.assign instead.\n",
            "\n"
          ],
          "name": "stderr"
        },
        {
          "output_type": "stream",
          "text": [
            "Train on 11697 samples, validate on 2926 samples\n"
          ],
          "name": "stdout"
        },
        {
          "output_type": "stream",
          "text": [
            "W0628 09:44:33.088461 140392300623744 deprecation_wrapper.py:119] From /usr/local/lib/python3.6/dist-packages/keras/callbacks.py:850: The name tf.summary.merge_all is deprecated. Please use tf.compat.v1.summary.merge_all instead.\n",
            "\n",
            "W0628 09:44:33.089886 140392300623744 deprecation_wrapper.py:119] From /usr/local/lib/python3.6/dist-packages/keras/callbacks.py:853: The name tf.summary.FileWriter is deprecated. Please use tf.compat.v1.summary.FileWriter instead.\n",
            "\n"
          ],
          "name": "stderr"
        },
        {
          "output_type": "stream",
          "text": [
            "Epoch 1/200\n",
            "11697/11697 [==============================] - 1s 45us/step - loss: 2.0953 - acc: 0.0414 - val_loss: 1.5703 - val_acc: 0.0407\n",
            "Epoch 2/200\n",
            "11697/11697 [==============================] - 0s 14us/step - loss: 1.1769 - acc: 0.0439 - val_loss: 0.9762 - val_acc: 0.0420\n",
            "Epoch 3/200\n",
            "11697/11697 [==============================] - 0s 15us/step - loss: 0.7976 - acc: 0.0595 - val_loss: 0.7732 - val_acc: 0.0793\n",
            "Epoch 4/200\n",
            "11697/11697 [==============================] - 0s 14us/step - loss: 0.6715 - acc: 0.1044 - val_loss: 0.6896 - val_acc: 0.1265\n",
            "Epoch 5/200\n",
            "11697/11697 [==============================] - 0s 12us/step - loss: 0.6068 - acc: 0.1211 - val_loss: 0.6266 - val_acc: 0.1367\n",
            "Epoch 6/200\n",
            "11697/11697 [==============================] - 0s 12us/step - loss: 0.5551 - acc: 0.1397 - val_loss: 0.5752 - val_acc: 0.1497\n",
            "Epoch 7/200\n",
            "11697/11697 [==============================] - 0s 15us/step - loss: 0.5132 - acc: 0.1612 - val_loss: 0.5374 - val_acc: 0.1640\n",
            "Epoch 8/200\n",
            "11697/11697 [==============================] - 0s 13us/step - loss: 0.4807 - acc: 0.1566 - val_loss: 0.5076 - val_acc: 0.1528\n",
            "Epoch 9/200\n",
            "11697/11697 [==============================] - 0s 13us/step - loss: 0.4566 - acc: 0.1624 - val_loss: 0.4876 - val_acc: 0.1726\n",
            "Epoch 10/200\n",
            "11697/11697 [==============================] - 0s 13us/step - loss: 0.4392 - acc: 0.1730 - val_loss: 0.4736 - val_acc: 0.1705\n",
            "Epoch 11/200\n",
            "11697/11697 [==============================] - 0s 14us/step - loss: 0.4250 - acc: 0.1799 - val_loss: 0.4573 - val_acc: 0.1774\n",
            "Epoch 12/200\n",
            "11697/11697 [==============================] - 0s 14us/step - loss: 0.4117 - acc: 0.1847 - val_loss: 0.4427 - val_acc: 0.1869\n",
            "Epoch 13/200\n",
            "11697/11697 [==============================] - 0s 14us/step - loss: 0.3990 - acc: 0.1970 - val_loss: 0.4348 - val_acc: 0.2013\n",
            "Epoch 14/200\n",
            "11697/11697 [==============================] - 0s 14us/step - loss: 0.3887 - acc: 0.2230 - val_loss: 0.4216 - val_acc: 0.2283\n",
            "Epoch 15/200\n",
            "11697/11697 [==============================] - 0s 14us/step - loss: 0.3784 - acc: 0.2342 - val_loss: 0.4085 - val_acc: 0.2303\n",
            "Epoch 16/200\n",
            "11697/11697 [==============================] - 0s 14us/step - loss: 0.3693 - acc: 0.2467 - val_loss: 0.3988 - val_acc: 0.2491\n",
            "Epoch 17/200\n",
            "11697/11697 [==============================] - 0s 13us/step - loss: 0.3588 - acc: 0.2549 - val_loss: 0.3915 - val_acc: 0.2693\n",
            "Epoch 18/200\n",
            "11697/11697 [==============================] - 0s 14us/step - loss: 0.3511 - acc: 0.2672 - val_loss: 0.3834 - val_acc: 0.2597\n",
            "Epoch 19/200\n",
            "11697/11697 [==============================] - 0s 14us/step - loss: 0.3428 - acc: 0.2872 - val_loss: 0.3762 - val_acc: 0.2785\n",
            "Epoch 20/200\n",
            "11697/11697 [==============================] - 0s 13us/step - loss: 0.3370 - acc: 0.2869 - val_loss: 0.3705 - val_acc: 0.2929\n",
            "Epoch 21/200\n",
            "11697/11697 [==============================] - 0s 14us/step - loss: 0.3306 - acc: 0.2915 - val_loss: 0.3613 - val_acc: 0.2967\n",
            "Epoch 22/200\n",
            "11697/11697 [==============================] - 0s 13us/step - loss: 0.3265 - acc: 0.2995 - val_loss: 0.3566 - val_acc: 0.3117\n",
            "Epoch 23/200\n",
            "11697/11697 [==============================] - 0s 13us/step - loss: 0.3214 - acc: 0.3020 - val_loss: 0.3565 - val_acc: 0.3086\n",
            "Epoch 24/200\n",
            "11697/11697 [==============================] - 0s 14us/step - loss: 0.3194 - acc: 0.3100 - val_loss: 0.3525 - val_acc: 0.3168\n",
            "Epoch 25/200\n",
            "11697/11697 [==============================] - 0s 14us/step - loss: 0.3132 - acc: 0.3084 - val_loss: 0.3443 - val_acc: 0.3120\n",
            "Epoch 26/200\n",
            "11697/11697 [==============================] - 0s 14us/step - loss: 0.3093 - acc: 0.3136 - val_loss: 0.3397 - val_acc: 0.3014\n",
            "Epoch 27/200\n",
            "11697/11697 [==============================] - 0s 14us/step - loss: 0.3047 - acc: 0.3147 - val_loss: 0.3361 - val_acc: 0.3131\n",
            "Epoch 28/200\n",
            "11697/11697 [==============================] - 0s 14us/step - loss: 0.3018 - acc: 0.3235 - val_loss: 0.3416 - val_acc: 0.3093\n",
            "Epoch 29/200\n",
            "11697/11697 [==============================] - 0s 14us/step - loss: 0.2998 - acc: 0.3214 - val_loss: 0.3287 - val_acc: 0.3090\n",
            "Epoch 30/200\n",
            "11697/11697 [==============================] - 0s 14us/step - loss: 0.2952 - acc: 0.3249 - val_loss: 0.3254 - val_acc: 0.3383\n",
            "Epoch 31/200\n",
            "11697/11697 [==============================] - 0s 14us/step - loss: 0.2931 - acc: 0.3270 - val_loss: 0.3227 - val_acc: 0.3182\n",
            "Epoch 32/200\n",
            "11697/11697 [==============================] - 0s 13us/step - loss: 0.2910 - acc: 0.3316 - val_loss: 0.3176 - val_acc: 0.3131\n",
            "Epoch 33/200\n",
            "11697/11697 [==============================] - 0s 14us/step - loss: 0.2900 - acc: 0.3332 - val_loss: 0.3173 - val_acc: 0.3339\n",
            "Epoch 34/200\n",
            "11697/11697 [==============================] - 0s 16us/step - loss: 0.2865 - acc: 0.3347 - val_loss: 0.3174 - val_acc: 0.3202\n",
            "Epoch 35/200\n",
            "11697/11697 [==============================] - 0s 14us/step - loss: 0.2839 - acc: 0.3438 - val_loss: 0.3075 - val_acc: 0.3602\n",
            "Epoch 36/200\n",
            "11697/11697 [==============================] - 0s 14us/step - loss: 0.2797 - acc: 0.3538 - val_loss: 0.3054 - val_acc: 0.3452\n",
            "Epoch 37/200\n",
            "11697/11697 [==============================] - 0s 14us/step - loss: 0.2772 - acc: 0.3573 - val_loss: 0.3035 - val_acc: 0.3558\n",
            "Epoch 38/200\n",
            "11697/11697 [==============================] - 0s 13us/step - loss: 0.2755 - acc: 0.3618 - val_loss: 0.3036 - val_acc: 0.3524\n",
            "Epoch 39/200\n",
            "11697/11697 [==============================] - 0s 14us/step - loss: 0.2749 - acc: 0.3707 - val_loss: 0.3011 - val_acc: 0.3636\n",
            "Epoch 40/200\n",
            "11697/11697 [==============================] - 0s 15us/step - loss: 0.2730 - acc: 0.3767 - val_loss: 0.2937 - val_acc: 0.3688\n",
            "Epoch 41/200\n",
            "11697/11697 [==============================] - 0s 14us/step - loss: 0.2698 - acc: 0.3777 - val_loss: 0.2938 - val_acc: 0.4012\n",
            "Epoch 42/200\n",
            "11697/11697 [==============================] - 0s 14us/step - loss: 0.2678 - acc: 0.3867 - val_loss: 0.2918 - val_acc: 0.3975\n",
            "Epoch 43/200\n",
            "11697/11697 [==============================] - 0s 14us/step - loss: 0.2668 - acc: 0.3859 - val_loss: 0.2904 - val_acc: 0.4070\n",
            "Epoch 44/200\n",
            "11697/11697 [==============================] - 0s 14us/step - loss: 0.2643 - acc: 0.3939 - val_loss: 0.2882 - val_acc: 0.4115\n",
            "Epoch 45/200\n",
            "11697/11697 [==============================] - 0s 14us/step - loss: 0.2646 - acc: 0.3958 - val_loss: 0.2874 - val_acc: 0.4084\n",
            "Epoch 46/200\n",
            "11697/11697 [==============================] - 0s 13us/step - loss: 0.2605 - acc: 0.4072 - val_loss: 0.2839 - val_acc: 0.4016\n",
            "Epoch 47/200\n",
            "11697/11697 [==============================] - 0s 14us/step - loss: 0.2587 - acc: 0.4035 - val_loss: 0.2855 - val_acc: 0.4077\n",
            "Epoch 48/200\n",
            "11697/11697 [==============================] - 0s 14us/step - loss: 0.2582 - acc: 0.4041 - val_loss: 0.2798 - val_acc: 0.4074\n",
            "Epoch 49/200\n",
            "11697/11697 [==============================] - 0s 14us/step - loss: 0.2565 - acc: 0.4063 - val_loss: 0.2837 - val_acc: 0.3954\n",
            "Epoch 50/200\n",
            "11697/11697 [==============================] - 0s 14us/step - loss: 0.2563 - acc: 0.4082 - val_loss: 0.2773 - val_acc: 0.4340\n",
            "Epoch 51/200\n",
            "11697/11697 [==============================] - 0s 14us/step - loss: 0.2549 - acc: 0.4098 - val_loss: 0.2797 - val_acc: 0.4040\n",
            "Epoch 52/200\n",
            "11697/11697 [==============================] - 0s 15us/step - loss: 0.2522 - acc: 0.4105 - val_loss: 0.2789 - val_acc: 0.4156\n",
            "Epoch 53/200\n",
            "11697/11697 [==============================] - 0s 13us/step - loss: 0.2522 - acc: 0.4157 - val_loss: 0.2769 - val_acc: 0.4156\n",
            "Epoch 54/200\n",
            "11697/11697 [==============================] - 0s 14us/step - loss: 0.2505 - acc: 0.4150 - val_loss: 0.2712 - val_acc: 0.4064\n",
            "Epoch 55/200\n",
            "11697/11697 [==============================] - 0s 14us/step - loss: 0.2498 - acc: 0.4131 - val_loss: 0.2706 - val_acc: 0.4180\n",
            "Epoch 56/200\n",
            "11697/11697 [==============================] - 0s 14us/step - loss: 0.2466 - acc: 0.4168 - val_loss: 0.2689 - val_acc: 0.4105\n",
            "Epoch 57/200\n",
            "11697/11697 [==============================] - 0s 15us/step - loss: 0.2468 - acc: 0.4165 - val_loss: 0.2697 - val_acc: 0.4193\n",
            "Epoch 58/200\n",
            "11697/11697 [==============================] - 0s 14us/step - loss: 0.2461 - acc: 0.4192 - val_loss: 0.2706 - val_acc: 0.4163\n",
            "Epoch 59/200\n",
            "11697/11697 [==============================] - 0s 14us/step - loss: 0.2467 - acc: 0.4179 - val_loss: 0.2745 - val_acc: 0.4204\n",
            "Epoch 60/200\n",
            "11697/11697 [==============================] - 0s 13us/step - loss: 0.2439 - acc: 0.4275 - val_loss: 0.2708 - val_acc: 0.4231\n",
            "Epoch 61/200\n",
            "11697/11697 [==============================] - 0s 14us/step - loss: 0.2462 - acc: 0.4248 - val_loss: 0.2680 - val_acc: 0.4269\n",
            "Epoch 62/200\n",
            "11697/11697 [==============================] - 0s 14us/step - loss: 0.2423 - acc: 0.4244 - val_loss: 0.2663 - val_acc: 0.4238\n",
            "Epoch 63/200\n",
            "11697/11697 [==============================] - 0s 14us/step - loss: 0.2399 - acc: 0.4325 - val_loss: 0.2630 - val_acc: 0.4272\n",
            "Epoch 64/200\n",
            "11697/11697 [==============================] - 0s 14us/step - loss: 0.2390 - acc: 0.4266 - val_loss: 0.2633 - val_acc: 0.4166\n",
            "Epoch 65/200\n",
            "11697/11697 [==============================] - 0s 13us/step - loss: 0.2403 - acc: 0.4305 - val_loss: 0.2661 - val_acc: 0.4419\n",
            "Epoch 66/200\n",
            "11697/11697 [==============================] - 0s 14us/step - loss: 0.2392 - acc: 0.4304 - val_loss: 0.2618 - val_acc: 0.4467\n",
            "Epoch 67/200\n",
            "11697/11697 [==============================] - 0s 14us/step - loss: 0.2370 - acc: 0.4340 - val_loss: 0.2631 - val_acc: 0.4224\n",
            "Epoch 68/200\n",
            "11697/11697 [==============================] - 0s 14us/step - loss: 0.2379 - acc: 0.4298 - val_loss: 0.2585 - val_acc: 0.4344\n",
            "Epoch 69/200\n",
            "11697/11697 [==============================] - 0s 14us/step - loss: 0.2349 - acc: 0.4311 - val_loss: 0.2593 - val_acc: 0.4316\n",
            "Epoch 70/200\n",
            "11697/11697 [==============================] - 0s 14us/step - loss: 0.2374 - acc: 0.4310 - val_loss: 0.2630 - val_acc: 0.4398\n",
            "Epoch 71/200\n",
            "11697/11697 [==============================] - 0s 13us/step - loss: 0.2350 - acc: 0.4311 - val_loss: 0.2561 - val_acc: 0.4289\n",
            "Epoch 72/200\n",
            "11697/11697 [==============================] - 0s 14us/step - loss: 0.2335 - acc: 0.4346 - val_loss: 0.2569 - val_acc: 0.4440\n",
            "Epoch 73/200\n",
            "11697/11697 [==============================] - 0s 14us/step - loss: 0.2333 - acc: 0.4348 - val_loss: 0.2551 - val_acc: 0.4402\n",
            "Epoch 74/200\n",
            "11697/11697 [==============================] - 0s 14us/step - loss: 0.2321 - acc: 0.4354 - val_loss: 0.2554 - val_acc: 0.4395\n",
            "Epoch 75/200\n",
            "11697/11697 [==============================] - 0s 14us/step - loss: 0.2332 - acc: 0.4368 - val_loss: 0.2544 - val_acc: 0.4528\n",
            "Epoch 76/200\n",
            "11697/11697 [==============================] - 0s 14us/step - loss: 0.2317 - acc: 0.4336 - val_loss: 0.2514 - val_acc: 0.4569\n",
            "Epoch 77/200\n",
            "11697/11697 [==============================] - 0s 14us/step - loss: 0.2317 - acc: 0.4353 - val_loss: 0.2535 - val_acc: 0.4467\n",
            "Epoch 78/200\n",
            "11697/11697 [==============================] - 0s 14us/step - loss: 0.2309 - acc: 0.4405 - val_loss: 0.2585 - val_acc: 0.4337\n",
            "Epoch 79/200\n",
            "11697/11697 [==============================] - 0s 14us/step - loss: 0.2319 - acc: 0.4382 - val_loss: 0.2568 - val_acc: 0.4416\n",
            "Epoch 80/200\n",
            "11697/11697 [==============================] - 0s 14us/step - loss: 0.2289 - acc: 0.4372 - val_loss: 0.2575 - val_acc: 0.4446\n",
            "Epoch 81/200\n",
            "11697/11697 [==============================] - 0s 14us/step - loss: 0.2305 - acc: 0.4387 - val_loss: 0.2493 - val_acc: 0.4347\n",
            "Epoch 82/200\n",
            "11697/11697 [==============================] - 0s 14us/step - loss: 0.2277 - acc: 0.4439 - val_loss: 0.2489 - val_acc: 0.4364\n",
            "Epoch 83/200\n",
            "11697/11697 [==============================] - 0s 14us/step - loss: 0.2255 - acc: 0.4403 - val_loss: 0.2459 - val_acc: 0.4450\n",
            "Epoch 84/200\n",
            "11697/11697 [==============================] - 0s 14us/step - loss: 0.2278 - acc: 0.4421 - val_loss: 0.2504 - val_acc: 0.4498\n",
            "Epoch 85/200\n",
            "11697/11697 [==============================] - 0s 15us/step - loss: 0.2283 - acc: 0.4439 - val_loss: 0.2485 - val_acc: 0.4440\n",
            "Epoch 86/200\n",
            "11697/11697 [==============================] - 0s 13us/step - loss: 0.2250 - acc: 0.4428 - val_loss: 0.2505 - val_acc: 0.4392\n",
            "Epoch 87/200\n",
            "11697/11697 [==============================] - 0s 13us/step - loss: 0.2258 - acc: 0.4419 - val_loss: 0.2516 - val_acc: 0.4368\n",
            "Epoch 88/200\n",
            "11697/11697 [==============================] - 0s 14us/step - loss: 0.2278 - acc: 0.4435 - val_loss: 0.2499 - val_acc: 0.4477\n",
            "Epoch 89/200\n",
            "11697/11697 [==============================] - 0s 14us/step - loss: 0.2254 - acc: 0.4436 - val_loss: 0.2454 - val_acc: 0.4375\n",
            "Epoch 90/200\n",
            "11697/11697 [==============================] - 0s 14us/step - loss: 0.2255 - acc: 0.4434 - val_loss: 0.2477 - val_acc: 0.4604\n",
            "Epoch 91/200\n",
            "11697/11697 [==============================] - 0s 16us/step - loss: 0.2260 - acc: 0.4400 - val_loss: 0.2481 - val_acc: 0.4481\n",
            "Epoch 92/200\n",
            "11697/11697 [==============================] - 0s 14us/step - loss: 0.2239 - acc: 0.4438 - val_loss: 0.2483 - val_acc: 0.4388\n",
            "Epoch 93/200\n",
            "11697/11697 [==============================] - 0s 14us/step - loss: 0.2287 - acc: 0.4409 - val_loss: 0.2496 - val_acc: 0.4419\n",
            "Epoch 94/200\n",
            "11697/11697 [==============================] - 0s 15us/step - loss: 0.2250 - acc: 0.4409 - val_loss: 0.2466 - val_acc: 0.4504\n",
            "Epoch 95/200\n",
            "11697/11697 [==============================] - 0s 13us/step - loss: 0.2221 - acc: 0.4454 - val_loss: 0.2439 - val_acc: 0.4395\n",
            "Epoch 96/200\n",
            "11697/11697 [==============================] - 0s 14us/step - loss: 0.2207 - acc: 0.4449 - val_loss: 0.2419 - val_acc: 0.4511\n",
            "Epoch 97/200\n",
            "11697/11697 [==============================] - 0s 14us/step - loss: 0.2214 - acc: 0.4417 - val_loss: 0.2414 - val_acc: 0.4569\n",
            "Epoch 98/200\n",
            "11697/11697 [==============================] - 0s 13us/step - loss: 0.2197 - acc: 0.4449 - val_loss: 0.2424 - val_acc: 0.4269\n",
            "Epoch 99/200\n",
            "11697/11697 [==============================] - 0s 14us/step - loss: 0.2204 - acc: 0.4419 - val_loss: 0.2434 - val_acc: 0.4238\n",
            "Epoch 100/200\n",
            "11697/11697 [==============================] - 0s 14us/step - loss: 0.2215 - acc: 0.4430 - val_loss: 0.2421 - val_acc: 0.4542\n",
            "Epoch 101/200\n",
            "11697/11697 [==============================] - 0s 14us/step - loss: 0.2189 - acc: 0.4445 - val_loss: 0.2428 - val_acc: 0.4518\n",
            "Epoch 102/200\n",
            "11697/11697 [==============================] - 0s 13us/step - loss: 0.2191 - acc: 0.4411 - val_loss: 0.2413 - val_acc: 0.4621\n",
            "Epoch 103/200\n",
            "11697/11697 [==============================] - 0s 14us/step - loss: 0.2193 - acc: 0.4408 - val_loss: 0.2412 - val_acc: 0.4440\n",
            "Epoch 104/200\n",
            "11697/11697 [==============================] - 0s 14us/step - loss: 0.2209 - acc: 0.4405 - val_loss: 0.2442 - val_acc: 0.4504\n",
            "Epoch 105/200\n",
            "11697/11697 [==============================] - 0s 14us/step - loss: 0.2199 - acc: 0.4409 - val_loss: 0.2419 - val_acc: 0.4487\n",
            "Epoch 106/200\n",
            "11697/11697 [==============================] - 0s 14us/step - loss: 0.2202 - acc: 0.4373 - val_loss: 0.2442 - val_acc: 0.4481\n",
            "Epoch 107/200\n",
            "11697/11697 [==============================] - 0s 14us/step - loss: 0.2182 - acc: 0.4392 - val_loss: 0.2377 - val_acc: 0.4580\n",
            "Epoch 108/200\n",
            "11697/11697 [==============================] - 0s 14us/step - loss: 0.2183 - acc: 0.4408 - val_loss: 0.2427 - val_acc: 0.4388\n",
            "Epoch 109/200\n",
            "11697/11697 [==============================] - 0s 14us/step - loss: 0.2193 - acc: 0.4399 - val_loss: 0.2399 - val_acc: 0.4416\n",
            "Epoch 110/200\n",
            "11697/11697 [==============================] - 0s 13us/step - loss: 0.2173 - acc: 0.4392 - val_loss: 0.2406 - val_acc: 0.4481\n",
            "Epoch 111/200\n",
            "11697/11697 [==============================] - 0s 13us/step - loss: 0.2165 - acc: 0.4449 - val_loss: 0.2382 - val_acc: 0.4405\n",
            "Epoch 112/200\n",
            "11697/11697 [==============================] - 0s 14us/step - loss: 0.2169 - acc: 0.4404 - val_loss: 0.2433 - val_acc: 0.4416\n",
            "Epoch 113/200\n",
            "11697/11697 [==============================] - 0s 14us/step - loss: 0.2175 - acc: 0.4406 - val_loss: 0.2368 - val_acc: 0.4446\n",
            "Epoch 114/200\n",
            "11697/11697 [==============================] - 0s 15us/step - loss: 0.2171 - acc: 0.4426 - val_loss: 0.2426 - val_acc: 0.4392\n",
            "Epoch 115/200\n",
            "11697/11697 [==============================] - 0s 13us/step - loss: 0.2181 - acc: 0.4396 - val_loss: 0.2417 - val_acc: 0.4542\n",
            "Epoch 116/200\n",
            "11697/11697 [==============================] - 0s 14us/step - loss: 0.2184 - acc: 0.4367 - val_loss: 0.2404 - val_acc: 0.4645\n",
            "Epoch 117/200\n",
            "11697/11697 [==============================] - 0s 14us/step - loss: 0.2157 - acc: 0.4443 - val_loss: 0.2396 - val_acc: 0.4416\n",
            "Epoch 118/200\n",
            "11697/11697 [==============================] - 0s 14us/step - loss: 0.2176 - acc: 0.4414 - val_loss: 0.2405 - val_acc: 0.4487\n",
            "Epoch 119/200\n",
            "11697/11697 [==============================] - 0s 14us/step - loss: 0.2150 - acc: 0.4405 - val_loss: 0.2363 - val_acc: 0.4460\n",
            "Epoch 120/200\n",
            "11697/11697 [==============================] - 0s 14us/step - loss: 0.2138 - acc: 0.4427 - val_loss: 0.2363 - val_acc: 0.4426\n",
            "Epoch 121/200\n",
            "11697/11697 [==============================] - 0s 14us/step - loss: 0.2146 - acc: 0.4410 - val_loss: 0.2380 - val_acc: 0.4409\n",
            "Epoch 122/200\n",
            "11697/11697 [==============================] - 0s 14us/step - loss: 0.2155 - acc: 0.4428 - val_loss: 0.2389 - val_acc: 0.4522\n",
            "Epoch 123/200\n",
            "11697/11697 [==============================] - 0s 14us/step - loss: 0.2136 - acc: 0.4394 - val_loss: 0.2362 - val_acc: 0.4457\n",
            "Epoch 124/200\n",
            "11697/11697 [==============================] - 0s 14us/step - loss: 0.2123 - acc: 0.4428 - val_loss: 0.2381 - val_acc: 0.4313\n",
            "Epoch 125/200\n",
            "11697/11697 [==============================] - 0s 14us/step - loss: 0.2218 - acc: 0.4353 - val_loss: 0.2403 - val_acc: 0.4426\n",
            "Epoch 126/200\n",
            "11697/11697 [==============================] - 0s 14us/step - loss: 0.2183 - acc: 0.4373 - val_loss: 0.2408 - val_acc: 0.4549\n",
            "Epoch 127/200\n",
            "11697/11697 [==============================] - 0s 13us/step - loss: 0.2132 - acc: 0.4408 - val_loss: 0.2361 - val_acc: 0.4204\n",
            "Epoch 128/200\n",
            "11697/11697 [==============================] - 0s 14us/step - loss: 0.2133 - acc: 0.4401 - val_loss: 0.2358 - val_acc: 0.4487\n",
            "Epoch 129/200\n",
            "11697/11697 [==============================] - 0s 14us/step - loss: 0.2158 - acc: 0.4396 - val_loss: 0.2372 - val_acc: 0.4573\n",
            "Epoch 130/200\n",
            "11697/11697 [==============================] - 0s 14us/step - loss: 0.2120 - acc: 0.4423 - val_loss: 0.2366 - val_acc: 0.4241\n",
            "Epoch 131/200\n",
            "11697/11697 [==============================] - 0s 14us/step - loss: 0.2124 - acc: 0.4426 - val_loss: 0.2345 - val_acc: 0.4371\n",
            "Epoch 132/200\n",
            "11697/11697 [==============================] - 0s 14us/step - loss: 0.2122 - acc: 0.4384 - val_loss: 0.2403 - val_acc: 0.4549\n",
            "Epoch 133/200\n",
            "11697/11697 [==============================] - 0s 14us/step - loss: 0.2137 - acc: 0.4384 - val_loss: 0.2404 - val_acc: 0.4593\n",
            "Epoch 134/200\n",
            "11697/11697 [==============================] - 0s 14us/step - loss: 0.2137 - acc: 0.4416 - val_loss: 0.2337 - val_acc: 0.4433\n",
            "Epoch 135/200\n",
            "11697/11697 [==============================] - 0s 14us/step - loss: 0.2129 - acc: 0.4395 - val_loss: 0.2396 - val_acc: 0.4395\n",
            "Epoch 136/200\n",
            "11697/11697 [==============================] - 0s 14us/step - loss: 0.2128 - acc: 0.4412 - val_loss: 0.2328 - val_acc: 0.4388\n",
            "Epoch 137/200\n",
            "11697/11697 [==============================] - 0s 14us/step - loss: 0.2112 - acc: 0.4412 - val_loss: 0.2308 - val_acc: 0.4501\n",
            "Epoch 138/200\n",
            "11697/11697 [==============================] - 0s 15us/step - loss: 0.2099 - acc: 0.4441 - val_loss: 0.2333 - val_acc: 0.4381\n",
            "Epoch 139/200\n",
            "11697/11697 [==============================] - 0s 14us/step - loss: 0.2109 - acc: 0.4402 - val_loss: 0.2329 - val_acc: 0.4211\n",
            "Epoch 140/200\n",
            "11697/11697 [==============================] - 0s 14us/step - loss: 0.2111 - acc: 0.4407 - val_loss: 0.2336 - val_acc: 0.4351\n",
            "Epoch 141/200\n",
            "11697/11697 [==============================] - 0s 13us/step - loss: 0.2110 - acc: 0.4405 - val_loss: 0.2310 - val_acc: 0.4327\n",
            "Epoch 142/200\n",
            "11697/11697 [==============================] - 0s 14us/step - loss: 0.2082 - acc: 0.4442 - val_loss: 0.2332 - val_acc: 0.4440\n",
            "Epoch 143/200\n",
            "11697/11697 [==============================] - 0s 13us/step - loss: 0.2128 - acc: 0.4371 - val_loss: 0.2334 - val_acc: 0.4378\n",
            "Epoch 144/200\n",
            "11697/11697 [==============================] - 0s 13us/step - loss: 0.2086 - acc: 0.4439 - val_loss: 0.2325 - val_acc: 0.4477\n",
            "Epoch 145/200\n",
            "11697/11697 [==============================] - 0s 14us/step - loss: 0.2077 - acc: 0.4432 - val_loss: 0.2372 - val_acc: 0.4217\n",
            "Epoch 146/200\n",
            "11697/11697 [==============================] - 0s 14us/step - loss: 0.2116 - acc: 0.4388 - val_loss: 0.2306 - val_acc: 0.4313\n",
            "Epoch 147/200\n",
            "11697/11697 [==============================] - 0s 14us/step - loss: 0.2121 - acc: 0.4375 - val_loss: 0.2319 - val_acc: 0.4306\n",
            "Epoch 148/200\n",
            "11697/11697 [==============================] - 0s 14us/step - loss: 0.2084 - acc: 0.4381 - val_loss: 0.2302 - val_acc: 0.4463\n",
            "Epoch 149/200\n",
            "11697/11697 [==============================] - 0s 15us/step - loss: 0.2095 - acc: 0.4408 - val_loss: 0.2303 - val_acc: 0.4477\n",
            "Epoch 150/200\n",
            "11697/11697 [==============================] - 0s 14us/step - loss: 0.2086 - acc: 0.4429 - val_loss: 0.2332 - val_acc: 0.4296\n",
            "Epoch 151/200\n",
            "11697/11697 [==============================] - 0s 15us/step - loss: 0.2109 - acc: 0.4447 - val_loss: 0.2332 - val_acc: 0.4515\n",
            "Epoch 152/200\n",
            "11697/11697 [==============================] - 0s 14us/step - loss: 0.2072 - acc: 0.4434 - val_loss: 0.2359 - val_acc: 0.4453\n",
            "Epoch 153/200\n",
            "11697/11697 [==============================] - 0s 15us/step - loss: 0.2069 - acc: 0.4443 - val_loss: 0.2334 - val_acc: 0.4252\n",
            "Epoch 154/200\n",
            "11697/11697 [==============================] - 0s 15us/step - loss: 0.2108 - acc: 0.4441 - val_loss: 0.2404 - val_acc: 0.4525\n",
            "Epoch 155/200\n",
            "11697/11697 [==============================] - 0s 16us/step - loss: 0.2093 - acc: 0.4393 - val_loss: 0.2340 - val_acc: 0.4364\n",
            "Epoch 156/200\n",
            "11697/11697 [==============================] - 0s 15us/step - loss: 0.2092 - acc: 0.4395 - val_loss: 0.2308 - val_acc: 0.4487\n",
            "Epoch 157/200\n",
            "11697/11697 [==============================] - 0s 15us/step - loss: 0.2067 - acc: 0.4429 - val_loss: 0.2254 - val_acc: 0.4477\n",
            "Epoch 158/200\n",
            "11697/11697 [==============================] - 0s 15us/step - loss: 0.2072 - acc: 0.4467 - val_loss: 0.2379 - val_acc: 0.4310\n",
            "Epoch 159/200\n",
            "11697/11697 [==============================] - 0s 14us/step - loss: 0.2067 - acc: 0.4434 - val_loss: 0.2245 - val_acc: 0.4504\n",
            "Epoch 160/200\n",
            "11697/11697 [==============================] - 0s 15us/step - loss: 0.2050 - acc: 0.4442 - val_loss: 0.2284 - val_acc: 0.4381\n",
            "Epoch 161/200\n",
            "11697/11697 [==============================] - 0s 14us/step - loss: 0.2096 - acc: 0.4398 - val_loss: 0.2321 - val_acc: 0.4388\n",
            "Epoch 162/200\n",
            "11697/11697 [==============================] - 0s 16us/step - loss: 0.2062 - acc: 0.4469 - val_loss: 0.2267 - val_acc: 0.4504\n",
            "Epoch 163/200\n",
            "11697/11697 [==============================] - 0s 18us/step - loss: 0.2030 - acc: 0.4473 - val_loss: 0.2242 - val_acc: 0.4522\n",
            "Epoch 164/200\n",
            "11697/11697 [==============================] - 0s 16us/step - loss: 0.2060 - acc: 0.4490 - val_loss: 0.2305 - val_acc: 0.4368\n",
            "Epoch 165/200\n",
            "11697/11697 [==============================] - 0s 15us/step - loss: 0.2059 - acc: 0.4481 - val_loss: 0.2300 - val_acc: 0.4528\n",
            "Epoch 166/200\n",
            "11697/11697 [==============================] - 0s 15us/step - loss: 0.2054 - acc: 0.4515 - val_loss: 0.2273 - val_acc: 0.4522\n",
            "Epoch 167/200\n",
            "11697/11697 [==============================] - 0s 15us/step - loss: 0.2066 - acc: 0.4468 - val_loss: 0.2268 - val_acc: 0.4539\n",
            "Epoch 168/200\n",
            "11697/11697 [==============================] - 0s 15us/step - loss: 0.2077 - acc: 0.4466 - val_loss: 0.2289 - val_acc: 0.4556\n",
            "Epoch 169/200\n",
            "11697/11697 [==============================] - 0s 14us/step - loss: 0.2040 - acc: 0.4481 - val_loss: 0.2290 - val_acc: 0.4556\n",
            "Epoch 170/200\n",
            "11697/11697 [==============================] - 0s 16us/step - loss: 0.2070 - acc: 0.4494 - val_loss: 0.2288 - val_acc: 0.4450\n",
            "Epoch 171/200\n",
            "11697/11697 [==============================] - 0s 15us/step - loss: 0.2051 - acc: 0.4511 - val_loss: 0.2239 - val_acc: 0.4433\n",
            "Epoch 172/200\n",
            "11697/11697 [==============================] - 0s 14us/step - loss: 0.2046 - acc: 0.4500 - val_loss: 0.2248 - val_acc: 0.4535\n",
            "Epoch 173/200\n",
            "11697/11697 [==============================] - 0s 14us/step - loss: 0.2043 - acc: 0.4505 - val_loss: 0.2251 - val_acc: 0.4539\n",
            "Epoch 174/200\n",
            "11697/11697 [==============================] - 0s 15us/step - loss: 0.2052 - acc: 0.4536 - val_loss: 0.2253 - val_acc: 0.4494\n",
            "Epoch 175/200\n",
            "11697/11697 [==============================] - 0s 14us/step - loss: 0.2012 - acc: 0.4539 - val_loss: 0.2288 - val_acc: 0.4665\n",
            "Epoch 176/200\n",
            "11697/11697 [==============================] - 0s 15us/step - loss: 0.2047 - acc: 0.4521 - val_loss: 0.2297 - val_acc: 0.4563\n",
            "Epoch 177/200\n",
            "11697/11697 [==============================] - 0s 14us/step - loss: 0.2030 - acc: 0.4505 - val_loss: 0.2267 - val_acc: 0.4593\n",
            "Epoch 178/200\n",
            "11697/11697 [==============================] - 0s 15us/step - loss: 0.2037 - acc: 0.4526 - val_loss: 0.2229 - val_acc: 0.4576\n",
            "Epoch 179/200\n",
            "11697/11697 [==============================] - 0s 15us/step - loss: 0.2013 - acc: 0.4527 - val_loss: 0.2267 - val_acc: 0.4662\n",
            "Epoch 180/200\n",
            "11697/11697 [==============================] - 0s 14us/step - loss: 0.2017 - acc: 0.4500 - val_loss: 0.2257 - val_acc: 0.4583\n",
            "Epoch 181/200\n",
            "11697/11697 [==============================] - 0s 14us/step - loss: 0.2044 - acc: 0.4521 - val_loss: 0.2265 - val_acc: 0.4528\n",
            "Epoch 182/200\n",
            "11697/11697 [==============================] - 0s 16us/step - loss: 0.2038 - acc: 0.4528 - val_loss: 0.2269 - val_acc: 0.4491\n",
            "Epoch 183/200\n",
            "11697/11697 [==============================] - 0s 14us/step - loss: 0.2041 - acc: 0.4545 - val_loss: 0.2230 - val_acc: 0.4692\n",
            "Epoch 184/200\n",
            "11697/11697 [==============================] - 0s 16us/step - loss: 0.2013 - acc: 0.4573 - val_loss: 0.2255 - val_acc: 0.4498\n",
            "Epoch 185/200\n",
            "11697/11697 [==============================] - 0s 15us/step - loss: 0.2022 - acc: 0.4557 - val_loss: 0.2255 - val_acc: 0.4545\n",
            "Epoch 186/200\n",
            "11697/11697 [==============================] - 0s 15us/step - loss: 0.2034 - acc: 0.4534 - val_loss: 0.2243 - val_acc: 0.4716\n",
            "Epoch 187/200\n",
            "11697/11697 [==============================] - 0s 15us/step - loss: 0.2029 - acc: 0.4561 - val_loss: 0.2267 - val_acc: 0.4580\n",
            "Epoch 188/200\n",
            "11697/11697 [==============================] - 0s 15us/step - loss: 0.2031 - acc: 0.4583 - val_loss: 0.2237 - val_acc: 0.4768\n",
            "Epoch 189/200\n",
            "11697/11697 [==============================] - 0s 15us/step - loss: 0.2012 - acc: 0.4605 - val_loss: 0.2259 - val_acc: 0.4703\n",
            "Epoch 190/200\n",
            "11697/11697 [==============================] - 0s 14us/step - loss: 0.2042 - acc: 0.4555 - val_loss: 0.2276 - val_acc: 0.4504\n",
            "Epoch 191/200\n",
            "11697/11697 [==============================] - 0s 13us/step - loss: 0.2019 - acc: 0.4572 - val_loss: 0.2243 - val_acc: 0.4440\n",
            "Epoch 192/200\n",
            "11697/11697 [==============================] - 0s 14us/step - loss: 0.1990 - acc: 0.4618 - val_loss: 0.2253 - val_acc: 0.4511\n",
            "Epoch 193/200\n",
            "11697/11697 [==============================] - 0s 14us/step - loss: 0.2059 - acc: 0.4589 - val_loss: 0.2254 - val_acc: 0.4771\n",
            "Epoch 194/200\n",
            "11697/11697 [==============================] - 0s 14us/step - loss: 0.2021 - acc: 0.4606 - val_loss: 0.2226 - val_acc: 0.4545\n",
            "Epoch 195/200\n",
            "11697/11697 [==============================] - 0s 15us/step - loss: 0.2004 - acc: 0.4636 - val_loss: 0.2302 - val_acc: 0.4703\n",
            "Epoch 196/200\n",
            "11697/11697 [==============================] - 0s 13us/step - loss: 0.2010 - acc: 0.4578 - val_loss: 0.2282 - val_acc: 0.4576\n",
            "Epoch 197/200\n",
            "11697/11697 [==============================] - 0s 13us/step - loss: 0.2005 - acc: 0.4664 - val_loss: 0.2269 - val_acc: 0.4569\n",
            "Epoch 198/200\n",
            "11697/11697 [==============================] - 0s 13us/step - loss: 0.2076 - acc: 0.4623 - val_loss: 0.2306 - val_acc: 0.4604\n",
            "Epoch 199/200\n",
            "11697/11697 [==============================] - 0s 14us/step - loss: 0.1996 - acc: 0.4608 - val_loss: 0.2257 - val_acc: 0.4617\n",
            "Epoch 200/200\n",
            "11697/11697 [==============================] - 0s 14us/step - loss: 0.2015 - acc: 0.4647 - val_loss: 0.2259 - val_acc: 0.4569\n"
          ],
          "name": "stdout"
        }
      ]
    },
    {
      "cell_type": "code",
      "metadata": {
        "id": "m3-LuK-reN1N",
        "colab_type": "code",
        "outputId": "b0e01526-5f84-48cb-dedd-87afeb93dc3a",
        "colab": {
          "base_uri": "https://localhost:8080/",
          "height": 238
        }
      },
      "source": [
        "df_train_0_x_rescaled"
      ],
      "execution_count": 0,
      "outputs": [
        {
          "output_type": "execute_result",
          "data": {
            "text/plain": [
              "array([[ 0.8792632 , -0.07485305, -0.35278857, ...,  0.47210168,\n",
              "         0.10901629, -0.78717868],\n",
              "       [ 0.38280357, -1.02209172, -0.65458016, ...,  0.60548092,\n",
              "         0.19014817,  1.11669686],\n",
              "       [ 1.35131084,  0.6787562 , -0.03052621, ...,  0.49928568,\n",
              "         0.12722336, -0.66035152],\n",
              "       ...,\n",
              "       [ 0.46613735, -0.10561612, -0.47637333, ...,  0.12686902,\n",
              "         0.10811005,  0.05054944],\n",
              "       [ 0.01270455, -0.81265379, -0.83577532, ...,  0.35665231,\n",
              "         0.02811292,  1.343219  ],\n",
              "       [ 1.01774414, -0.63344616, -1.27847064, ...,  0.40833496,\n",
              "         0.12439426, -0.7194534 ]])"
            ]
          },
          "metadata": {
            "tags": []
          },
          "execution_count": 9
        }
      ]
    },
    {
      "cell_type": "code",
      "metadata": {
        "id": "Lmpz2TS3eXTk",
        "colab_type": "code",
        "outputId": "78d762de-404f-4084-e8ec-dced25da2e0e",
        "colab": {
          "base_uri": "https://localhost:8080/",
          "height": 238
        }
      },
      "source": [
        "df_train_0_x_rescaled"
      ],
      "execution_count": 0,
      "outputs": [
        {
          "output_type": "execute_result",
          "data": {
            "text/plain": [
              "array([[ 0.8792632 , -0.07485305, -0.35278857, ...,  0.47210168,\n",
              "         0.10901629, -0.78717868],\n",
              "       [ 0.38280357, -1.02209172, -0.65458016, ...,  0.60548092,\n",
              "         0.19014817,  1.11669686],\n",
              "       [ 1.35131084,  0.6787562 , -0.03052621, ...,  0.49928568,\n",
              "         0.12722336, -0.66035152],\n",
              "       ...,\n",
              "       [ 0.46613735, -0.10561612, -0.47637333, ...,  0.12686902,\n",
              "         0.10811005,  0.05054944],\n",
              "       [ 0.01270455, -0.81265379, -0.83577532, ...,  0.35665231,\n",
              "         0.02811292,  1.343219  ],\n",
              "       [ 1.01774414, -0.63344616, -1.27847064, ...,  0.40833496,\n",
              "         0.12439426, -0.7194534 ]])"
            ]
          },
          "metadata": {
            "tags": []
          },
          "execution_count": 10
        }
      ]
    },
    {
      "cell_type": "code",
      "metadata": {
        "id": "wl5OIW6SebIc",
        "colab_type": "code",
        "outputId": "f05b076d-5b1f-4620-fcf8-d93225cd27fb",
        "colab": {
          "base_uri": "https://localhost:8080/",
          "height": 404
        }
      },
      "source": [
        "valid_x_predictions = autoencoder.predict(df_valid_x_rescaled)\n",
        "mse = np.mean(np.power(df_valid_x_rescaled - valid_x_predictions, 2), axis=1)\n",
        "error_df = pd.DataFrame({'Reconstruction_error': mse,\n",
        "                        'True_class': df_valid['y']})\n",
        "precision_rt, recall_rt, threshold_rt = precision_recall_curve(error_df.True_class, error_df.Reconstruction_error)\n",
        "plt.plot(threshold_rt, precision_rt[1:], label=\"Precision\",linewidth=5)\n",
        "plt.plot(threshold_rt, recall_rt[1:], label=\"Recall\",linewidth=5)\n",
        "plt.title('Precision and recall for different threshold values')\n",
        "plt.xlabel('Threshold')\n",
        "plt.ylabel('Precision/Recall')\n",
        "plt.legend()\n",
        "plt.show()"
      ],
      "execution_count": 0,
      "outputs": [
        {
          "output_type": "display_data",
          "data": {
            "image/png": "[encoded data removed]",
            "text/plain": [
              "<Figure size 576x432 with 1 Axes>"
            ]
          },
          "metadata": {
            "tags": []
          }
        }
      ]
    },
    {
      "cell_type": "code",
      "metadata": {
        "id": "9AayeJUEfCeo",
        "colab_type": "code",
        "outputId": "6356e5c4-0457-4655-917f-b343f1fbc139",
        "colab": {
          "base_uri": "https://localhost:8080/",
          "height": 404
        }
      },
      "source": [
        "test_x_predictions = autoencoder.predict(df_test_x_rescaled)\n",
        "mse = np.mean(np.power(df_test_x_rescaled - test_x_predictions, 2), axis=1)\n",
        "error_df_test = pd.DataFrame({'Reconstruction_error': mse,\n",
        "                        'True_class': df_test['y']})\n",
        "error_df_test = error_df_test.reset_index()\n",
        "threshold_fixed = 0.4\n",
        "groups = error_df_test.groupby('True_class')\n",
        "fig, ax = plt.subplots()\n",
        "for name, group in groups:\n",
        "    ax.plot(group.index, group.Reconstruction_error, marker='o', ms=3.5, linestyle='',\n",
        "            label= \"Break\" if name == 1 else \"Normal\")\n",
        "ax.hlines(threshold_fixed, ax.get_xlim()[0], ax.get_xlim()[1], colors=\"r\", zorder=100, label='Threshold')\n",
        "ax.legend()\n",
        "plt.title(\"Reconstruction error for different classes\")\n",
        "plt.ylabel(\"Reconstruction error\")\n",
        "plt.xlabel(\"Data point index\")\n",
        "plt.show();\n"
      ],
      "execution_count": 0,
      "outputs": [
        {
          "output_type": "display_data",
          "data": {
            "image/png": "[encoded data removed]",
            "text/plain": [
              "<Figure size 576x432 with 1 Axes>"
            ]
          },
          "metadata": {
            "tags": []
          }
        }
      ]
    },
    {
      "cell_type": "code",
      "metadata": {
        "id": "3g0VzuoAh4PE",
        "colab_type": "code",
        "outputId": "84cb4eb9-7be7-4f6b-f7de-1d0baabbb39c",
        "colab": {
          "base_uri": "https://localhost:8080/",
          "height": 730
        }
      },
      "source": [
        "pred_y = [1 if e > threshold_fixed else 0 for e in error_df.Reconstruction_error.values]\n",
        "conf_matrix = confusion_matrix(error_df.True_class, pred_y)\n",
        "plt.figure(figsize=(12, 12))\n",
        "sns.heatmap(conf_matrix, xticklabels=LABELS, yticklabels=LABELS, annot=True, fmt=\"d\");\n",
        "plt.title(\"Confusion matrix\")\n",
        "plt.ylabel('True class')\n",
        "plt.xlabel('Predicted class')\n",
        "plt.show()"
      ],
      "execution_count": 0,
      "outputs": [
        {
          "output_type": "display_data",
          "data": {
            "image/png": "[encoded data removed]",
            "text/plain": [
              "<Figure size 864x864 with 2 Axes>"
            ]
          },
          "metadata": {
            "tags": []
          }
        }
      ]
    },
    {
      "cell_type": "code",
      "metadata": {
        "id": "txr9KRjWh6iY",
        "colab_type": "code",
        "outputId": "17653abe-1982-44ff-92ae-24d3cce413b1",
        "colab": {
          "base_uri": "https://localhost:8080/",
          "height": 404
        }
      },
      "source": [
        "false_pos_rate, true_pos_rate, thresholds = roc_curve(error_df.True_class, error_df.Reconstruction_error)\n",
        "roc_auc = auc(false_pos_rate, true_pos_rate,)\n",
        "plt.plot(false_pos_rate, true_pos_rate, linewidth=5, label='AUC = %0.3f'% roc_auc)\n",
        "plt.plot([0,1],[0,1], linewidth=5)\n",
        "plt.xlim([-0.01, 1])\n",
        "plt.ylim([0, 1.01])\n",
        "plt.legend(loc='lower right')\n",
        "plt.title('Receiver operating characteristic curve (ROC)')\n",
        "plt.ylabel('True Positive Rate')\n",
        "plt.xlabel('False Positive Rate')\n",
        "plt.show()"
      ],
      "execution_count": 0,
      "outputs": [
        {
          "output_type": "display_data",
          "data": {
            "image/png": "[encoded data removed]",
            "text/plain": [
              "<Figure size 576x432 with 1 Axes>"
            ]
          },
          "metadata": {
            "tags": []
          }
        }
      ]
    },
    {
      "cell_type": "code",
      "metadata": {
        "id": "eWA4Y7tmh9Qs",
        "colab_type": "code",
        "colab": {}
      },
      "source": [
        ""
      ],
      "execution_count": 0,
      "outputs": []
    }
  ]
}